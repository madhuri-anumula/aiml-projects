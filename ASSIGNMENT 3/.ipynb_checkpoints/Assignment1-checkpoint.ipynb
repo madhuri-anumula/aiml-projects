{
 "cells": [
  {
   "cell_type": "markdown",
   "metadata": {},
   "source": [
    "# Assignment- Madhuri A"
   ]
  },
  {
   "cell_type": "markdown",
   "metadata": {},
   "source": [
    "# Part A\n",
    "\n",
    "   "
   ]
  },
  {
   "cell_type": "code",
   "execution_count": 1,
   "metadata": {},
   "outputs": [],
   "source": [
    "%matplotlib inline\n",
    "import numpy as np\n",
    "import pandas as pd\n",
    "from sklearn.tree import DecisionTreeClassifier\n",
    "import numpy as np\n",
    "import pandas as pd\n",
    "import seaborn as sns\n",
    "from matplotlib import pyplot as plt\n",
    "from sklearn.model_selection import train_test_split\n",
    "from sklearn.tree import DecisionTreeClassifier\n",
    "from sklearn import metrics\n",
    "from sklearn.metrics import accuracy_score,f1_score,recall_score,precision_score, confusion_matrix\n",
    "%matplotlib inline\n",
    "from sklearn.model_selection import train_test_split\n",
    "from sklearn.feature_extraction.text import CountVectorizer  #DT does not take strings as input for the model fit step....\n",
    "from sklearn.linear_model import LogisticRegression\n",
    "from sklearn.neighbors import KNeighborsClassifier\n",
    "from sklearn.naive_bayes import GaussianNB\n",
    "\n",
    "\n",
    "import os\n",
    "os.environ['KMP_DUPLICATE_LIB_OK']='True'"
   ]
  },
  {
   "cell_type": "code",
   "execution_count": 2,
   "metadata": {},
   "outputs": [],
   "source": [
    "#pip install xgboost --no-binary xgboost -v"
   ]
  },
  {
   "cell_type": "code",
   "execution_count": 3,
   "metadata": {},
   "outputs": [],
   "source": [
    "## 1. Data Understanding & Exploration:"
   ]
  },
  {
   "cell_type": "code",
   "execution_count": 4,
   "metadata": {},
   "outputs": [],
   "source": [
    "####  A. Read ‘TelcomCustomer-Churn_1.csv’ as a DataFrame and assign it to a variable"
   ]
  },
  {
   "cell_type": "markdown",
   "metadata": {},
   "source": [
    "\n"
   ]
  },
  {
   "cell_type": "code",
   "execution_count": 5,
   "metadata": {},
   "outputs": [
    {
     "name": "stdout",
     "output_type": "stream",
     "text": [
      "(7043, 10)\n"
     ]
    },
    {
     "data": {
      "text/plain": [
       "Index(['customerID', 'gender', 'SeniorCitizen', 'Partner', 'Dependents',\n",
       "       'tenure', 'PhoneService', 'MultipleLines', 'InternetService',\n",
       "       'OnlineSecurity'],\n",
       "      dtype='object')"
      ]
     },
     "execution_count": 5,
     "metadata": {},
     "output_type": "execute_result"
    }
   ],
   "source": [
    "telecom1_df = pd.read_csv('TelcomCustomer-Churn_1.csv',na_values = ' ')\n",
    "print(telecom1_df.shape)\n",
    "telecom1_df.columns\n",
    "#telecom1_df.dtypes"
   ]
  },
  {
   "cell_type": "code",
   "execution_count": 6,
   "metadata": {},
   "outputs": [],
   "source": [
    "#### B. Read ‘TelcomCustomer-Churn_2.csv’ as a DataFrame and assign it to a variable."
   ]
  },
  {
   "cell_type": "code",
   "execution_count": 7,
   "metadata": {},
   "outputs": [
    {
     "name": "stdout",
     "output_type": "stream",
     "text": [
      "(7043, 12)\n"
     ]
    },
    {
     "data": {
      "text/plain": [
       "Index(['customerID', 'OnlineBackup', 'DeviceProtection', 'TechSupport',\n",
       "       'StreamingTV', 'StreamingMovies', 'Contract', 'PaperlessBilling',\n",
       "       'PaymentMethod', 'MonthlyCharges', 'TotalCharges', 'Churn'],\n",
       "      dtype='object')"
      ]
     },
     "execution_count": 7,
     "metadata": {},
     "output_type": "execute_result"
    }
   ],
   "source": [
    "telecom2_df = pd.read_csv('TelcomCustomer-Churn_2.csv',na_values = ' ')\n",
    "print(telecom2_df.shape)\n",
    "telecom2_df.columns\n",
    "#telecom2_df.dtypes\n",
    "#telecom2_df"
   ]
  },
  {
   "cell_type": "code",
   "execution_count": 8,
   "metadata": {},
   "outputs": [],
   "source": [
    "#### C. Merge both the DataFrames on key ‘customerID’ to form a single DataFrame"
   ]
  },
  {
   "cell_type": "code",
   "execution_count": 9,
   "metadata": {},
   "outputs": [
    {
     "data": {
      "text/plain": [
       "Index(['customerID', 'gender', 'SeniorCitizen', 'Partner', 'Dependents',\n",
       "       'tenure', 'PhoneService', 'MultipleLines', 'InternetService',\n",
       "       'OnlineSecurity', 'OnlineBackup', 'DeviceProtection', 'TechSupport',\n",
       "       'StreamingTV', 'StreamingMovies', 'Contract', 'PaperlessBilling',\n",
       "       'PaymentMethod', 'MonthlyCharges', 'TotalCharges', 'Churn'],\n",
       "      dtype='object')"
      ]
     },
     "execution_count": 9,
     "metadata": {},
     "output_type": "execute_result"
    }
   ],
   "source": [
    "Consolidated_telecomdata_df = pd.merge(telecom1_df, telecom2_df, on=[\"customerID\"])\n",
    "\n",
    "Consolidated_telecomdata_df.shape\n",
    "Consolidated_telecomdata_df.columns"
   ]
  },
  {
   "cell_type": "code",
   "execution_count": 10,
   "metadata": {},
   "outputs": [],
   "source": [
    "#### D. Verify if all the columns are incorporated in the merged DataFrame by using simple comparison Operator in Python"
   ]
  },
  {
   "cell_type": "code",
   "execution_count": 11,
   "metadata": {},
   "outputs": [
    {
     "name": "stdout",
     "output_type": "stream",
     "text": [
      "Both the dataframes have same rows \n"
     ]
    }
   ],
   "source": [
    "missing_telecom1 = telecom1_df[~telecom1_df['customerID'].isin(Consolidated_telecomdata_df['customerID'])]\n",
    "missing_telecom2  = telecom2_df[~telecom2_df['customerID'].isin(Consolidated_telecomdata_df['customerID'])]\n",
    "print(\"Both the dataframes have same rows \")"
   ]
  },
  {
   "cell_type": "code",
   "execution_count": 12,
   "metadata": {},
   "outputs": [],
   "source": [
    "## 2.Data Cleaning & Analysis:"
   ]
  },
  {
   "cell_type": "code",
   "execution_count": 13,
   "metadata": {},
   "outputs": [
    {
     "data": {
      "text/html": [
       "<div>\n",
       "<style scoped>\n",
       "    .dataframe tbody tr th:only-of-type {\n",
       "        vertical-align: middle;\n",
       "    }\n",
       "\n",
       "    .dataframe tbody tr th {\n",
       "        vertical-align: top;\n",
       "    }\n",
       "\n",
       "    .dataframe thead th {\n",
       "        text-align: right;\n",
       "    }\n",
       "</style>\n",
       "<table border=\"1\" class=\"dataframe\">\n",
       "  <thead>\n",
       "    <tr style=\"text-align: right;\">\n",
       "      <th></th>\n",
       "      <th>column_name</th>\n",
       "      <th>percent_missing</th>\n",
       "    </tr>\n",
       "  </thead>\n",
       "  <tbody>\n",
       "    <tr>\n",
       "      <th>customerID</th>\n",
       "      <td>customerID</td>\n",
       "      <td>0.000000</td>\n",
       "    </tr>\n",
       "    <tr>\n",
       "      <th>gender</th>\n",
       "      <td>gender</td>\n",
       "      <td>0.000000</td>\n",
       "    </tr>\n",
       "    <tr>\n",
       "      <th>SeniorCitizen</th>\n",
       "      <td>SeniorCitizen</td>\n",
       "      <td>0.000000</td>\n",
       "    </tr>\n",
       "    <tr>\n",
       "      <th>Partner</th>\n",
       "      <td>Partner</td>\n",
       "      <td>0.000000</td>\n",
       "    </tr>\n",
       "    <tr>\n",
       "      <th>Dependents</th>\n",
       "      <td>Dependents</td>\n",
       "      <td>0.000000</td>\n",
       "    </tr>\n",
       "    <tr>\n",
       "      <th>tenure</th>\n",
       "      <td>tenure</td>\n",
       "      <td>0.000000</td>\n",
       "    </tr>\n",
       "    <tr>\n",
       "      <th>PhoneService</th>\n",
       "      <td>PhoneService</td>\n",
       "      <td>0.000000</td>\n",
       "    </tr>\n",
       "    <tr>\n",
       "      <th>MultipleLines</th>\n",
       "      <td>MultipleLines</td>\n",
       "      <td>0.000000</td>\n",
       "    </tr>\n",
       "    <tr>\n",
       "      <th>InternetService</th>\n",
       "      <td>InternetService</td>\n",
       "      <td>0.000000</td>\n",
       "    </tr>\n",
       "    <tr>\n",
       "      <th>OnlineSecurity</th>\n",
       "      <td>OnlineSecurity</td>\n",
       "      <td>0.000000</td>\n",
       "    </tr>\n",
       "    <tr>\n",
       "      <th>OnlineBackup</th>\n",
       "      <td>OnlineBackup</td>\n",
       "      <td>0.000000</td>\n",
       "    </tr>\n",
       "    <tr>\n",
       "      <th>DeviceProtection</th>\n",
       "      <td>DeviceProtection</td>\n",
       "      <td>0.000000</td>\n",
       "    </tr>\n",
       "    <tr>\n",
       "      <th>TechSupport</th>\n",
       "      <td>TechSupport</td>\n",
       "      <td>0.000000</td>\n",
       "    </tr>\n",
       "    <tr>\n",
       "      <th>StreamingTV</th>\n",
       "      <td>StreamingTV</td>\n",
       "      <td>0.000000</td>\n",
       "    </tr>\n",
       "    <tr>\n",
       "      <th>StreamingMovies</th>\n",
       "      <td>StreamingMovies</td>\n",
       "      <td>0.000000</td>\n",
       "    </tr>\n",
       "    <tr>\n",
       "      <th>Contract</th>\n",
       "      <td>Contract</td>\n",
       "      <td>0.000000</td>\n",
       "    </tr>\n",
       "    <tr>\n",
       "      <th>PaperlessBilling</th>\n",
       "      <td>PaperlessBilling</td>\n",
       "      <td>0.000000</td>\n",
       "    </tr>\n",
       "    <tr>\n",
       "      <th>PaymentMethod</th>\n",
       "      <td>PaymentMethod</td>\n",
       "      <td>0.000000</td>\n",
       "    </tr>\n",
       "    <tr>\n",
       "      <th>MonthlyCharges</th>\n",
       "      <td>MonthlyCharges</td>\n",
       "      <td>0.000000</td>\n",
       "    </tr>\n",
       "    <tr>\n",
       "      <th>TotalCharges</th>\n",
       "      <td>TotalCharges</td>\n",
       "      <td>0.156183</td>\n",
       "    </tr>\n",
       "    <tr>\n",
       "      <th>Churn</th>\n",
       "      <td>Churn</td>\n",
       "      <td>0.000000</td>\n",
       "    </tr>\n",
       "  </tbody>\n",
       "</table>\n",
       "</div>"
      ],
      "text/plain": [
       "                       column_name  percent_missing\n",
       "customerID              customerID         0.000000\n",
       "gender                      gender         0.000000\n",
       "SeniorCitizen        SeniorCitizen         0.000000\n",
       "Partner                    Partner         0.000000\n",
       "Dependents              Dependents         0.000000\n",
       "tenure                      tenure         0.000000\n",
       "PhoneService          PhoneService         0.000000\n",
       "MultipleLines        MultipleLines         0.000000\n",
       "InternetService    InternetService         0.000000\n",
       "OnlineSecurity      OnlineSecurity         0.000000\n",
       "OnlineBackup          OnlineBackup         0.000000\n",
       "DeviceProtection  DeviceProtection         0.000000\n",
       "TechSupport            TechSupport         0.000000\n",
       "StreamingTV            StreamingTV         0.000000\n",
       "StreamingMovies    StreamingMovies         0.000000\n",
       "Contract                  Contract         0.000000\n",
       "PaperlessBilling  PaperlessBilling         0.000000\n",
       "PaymentMethod        PaymentMethod         0.000000\n",
       "MonthlyCharges      MonthlyCharges         0.000000\n",
       "TotalCharges          TotalCharges         0.156183\n",
       "Churn                        Churn         0.000000"
      ]
     },
     "execution_count": 13,
     "metadata": {},
     "output_type": "execute_result"
    }
   ],
   "source": [
    "#A. Impute missing/unexpected values in the DataFrame. [2 Marks]\n",
    "\n",
    "percent_feature_missing = Consolidated_telecomdata_df.isnull().sum() * 100 / len(Consolidated_telecomdata_df)\n",
    "missing_data_value_df = pd.DataFrame({'column_name': Consolidated_telecomdata_df.columns,\n",
    "                                 'percent_missing': percent_feature_missing})\n",
    "missing_data_value_df\n",
    "\n",
    "#print(\"No missing data\")"
   ]
  },
  {
   "cell_type": "code",
   "execution_count": 14,
   "metadata": {},
   "outputs": [
    {
     "data": {
      "text/plain": [
       "array([  29.85, 1889.5 ,  108.15, ...,  346.45,  306.6 , 6844.5 ])"
      ]
     },
     "execution_count": 14,
     "metadata": {},
     "output_type": "execute_result"
    }
   ],
   "source": [
    "\n",
    "#Consolidated_telecomdata_df['gender'].unique()\n",
    "## Output----> array(['Female', 'Male'], dtype=object)\n",
    "#Consolidated_telecomdata_df['SeniorCitizen'].unique()\n",
    "## Output----> array([0, 1])\n",
    "#Consolidated_telecomdata_df['Partner'].unique()\n",
    "## Output----> array(['Yes', 'No'], dtype=object)\n",
    "\n",
    "#Consolidated_telecomdata_df['Dependents'].unique()\n",
    "## Output----> array(['Yes', 'No'], dtype=object)\n",
    "\n",
    "#Consolidated_telecomdata_df['tenure'].unique()\n",
    "#pd.to_numeric(Consolidated_telecomdata_df['tenure'], errors='coerce').notnull().all()\n",
    "## Output----> True\n",
    "\n",
    "#Consolidated_telecomdata_df['PhoneService'].unique()\n",
    "## Output----> array(['Yes', 'No'], dtype=object)\n",
    "\n",
    "#Consolidated_telecomdata_df['MultipleLines'].unique()\n",
    "## Output---->array(['No phone service', 'No', 'Yes'], dtype=object)\n",
    "\n",
    "#Consolidated_telecomdata_df['InternetService'].unique()\n",
    "## Output---->array(['DSL', 'Fiber optic', 'No'], dtype=object)\n",
    "\n",
    "#Consolidated_telecomdata_df['OnlineSecurity'].unique()\n",
    "## Output---->array(['No', 'Yes', 'No internet service'], dtype=object)\n",
    "\n",
    "#Consolidated_telecomdata_df['OnlineBackup'].unique()\n",
    "## Output---->array(['Yes', 'No', 'No internet service'], dtype=object)\n",
    "\n",
    "#Consolidated_telecomdata_df['DeviceProtection'].unique()\n",
    "## Output---->array(['Yes', 'No', 'No internet service'], dtype=object)\n",
    "\n",
    "#Consolidated_telecomdata_df['TechSupport'].unique()\n",
    "## Output---->array(['Yes', 'No', 'No internet service'], dtype=object)\n",
    "\n",
    "\n",
    "#Consolidated_telecomdata_df['StreamingTV'].unique()\n",
    "## Output---->array(['Yes', 'No', 'No internet service'], dtype=object)\n",
    "\n",
    "#Consolidated_telecomdata_df['StreamingMovies'].unique()\n",
    "## Output---->array(['Yes', 'No', 'No internet service'], dtype=object)\n",
    "\n",
    "#Consolidated_telecomdata_df['Contract'].unique()\n",
    "## Output---->array(['Month-to-month', 'One year', 'Two year'], dtype=object)\n",
    "\n",
    "#Consolidated_telecomdata_df['PaperlessBilling'].unique()\n",
    "## Output---->array(['Yes', 'No'], dtype=object)\n",
    "\n",
    "\n",
    "#Consolidated_telecomdata_df['PaymentMethod'].unique()\n",
    "# Output---->array(['Electronic check', 'Mailed check', 'Bank transfer (automatic)',\n",
    "#       'Credit card (automatic)'], dtype=object)\n",
    "\n",
    "#Consolidated_telecomdata_df['MonthlyCharges'].unique()\n",
    "#pd.to_numeric(Consolidated_telecomdata_df['MonthlyCharges'], errors='coerce')\n",
    "\n",
    "\n",
    "#Consolidated_telecomdata_df['TotalCharges'].unique()\n",
    "Consolidated_telecomdata_df['TotalCharges'].unique()\n",
    "pd.to_numeric(Consolidated_telecomdata_df['TotalCharges'], errors='coerce')\n",
    "\n",
    "Consolidated_telecomdata_df['TotalCharges'].values\n",
    "#Consolidated_telecomdata_df['Churn'].unique()\n",
    "#outut----> array(['No', 'Yes'], dtype=object)\n",
    "\n",
    "\n",
    "\n",
    "\n"
   ]
  },
  {
   "cell_type": "code",
   "execution_count": 15,
   "metadata": {},
   "outputs": [
    {
     "data": {
      "text/plain": [
       "customerID           object\n",
       "gender               object\n",
       "SeniorCitizen         int64\n",
       "Partner              object\n",
       "Dependents           object\n",
       "tenure                int64\n",
       "PhoneService         object\n",
       "MultipleLines        object\n",
       "InternetService      object\n",
       "OnlineSecurity       object\n",
       "OnlineBackup         object\n",
       "DeviceProtection     object\n",
       "TechSupport          object\n",
       "StreamingTV          object\n",
       "StreamingMovies      object\n",
       "Contract             object\n",
       "PaperlessBilling     object\n",
       "PaymentMethod        object\n",
       "MonthlyCharges      float64\n",
       "TotalCharges        float64\n",
       "Churn                object\n",
       "dtype: object"
      ]
     },
     "execution_count": 15,
     "metadata": {},
     "output_type": "execute_result"
    }
   ],
   "source": [
    "## B. Make sure all the variables with continuous values are of ‘Float’ type. [2 Marks]\n",
    "##[For Example: MonthlyCharges, TotalCharges]\n",
    "\n",
    "Consolidated_telecomdata_df = Consolidated_telecomdata_df.astype({\"MonthlyCharges\": float}, errors='ignore')\n",
    "Consolidated_telecomdata_df = Consolidated_telecomdata_df.astype({\"TotalCharges\": float}, errors='ignore')\n",
    "Consolidated_telecomdata_df.dtypes\n"
   ]
  },
  {
   "cell_type": "code",
   "execution_count": 16,
   "metadata": {},
   "outputs": [
    {
     "data": {
      "text/plain": [
       "customerID           0\n",
       "gender               0\n",
       "SeniorCitizen        0\n",
       "Partner              0\n",
       "Dependents           0\n",
       "tenure               0\n",
       "PhoneService         0\n",
       "MultipleLines        0\n",
       "InternetService      0\n",
       "OnlineSecurity       0\n",
       "OnlineBackup         0\n",
       "DeviceProtection     0\n",
       "TechSupport          0\n",
       "StreamingTV          0\n",
       "StreamingMovies      0\n",
       "Contract             0\n",
       "PaperlessBilling     0\n",
       "PaymentMethod        0\n",
       "MonthlyCharges       0\n",
       "TotalCharges        11\n",
       "Churn                0\n",
       "dtype: int64"
      ]
     },
     "execution_count": 16,
     "metadata": {},
     "output_type": "execute_result"
    }
   ],
   "source": [
    "Consolidated_telecomdata_df.isna().sum()"
   ]
  },
  {
   "cell_type": "code",
   "execution_count": 17,
   "metadata": {},
   "outputs": [
    {
     "data": {
      "text/plain": [
       "customerID           object\n",
       "gender               object\n",
       "SeniorCitizen         int64\n",
       "Partner              object\n",
       "Dependents           object\n",
       "tenure                int64\n",
       "PhoneService         object\n",
       "MultipleLines        object\n",
       "InternetService      object\n",
       "OnlineSecurity       object\n",
       "OnlineBackup         object\n",
       "DeviceProtection     object\n",
       "TechSupport          object\n",
       "StreamingTV          object\n",
       "StreamingMovies      object\n",
       "Contract             object\n",
       "PaperlessBilling     object\n",
       "PaymentMethod        object\n",
       "MonthlyCharges      float64\n",
       "TotalCharges        float64\n",
       "Churn                object\n",
       "dtype: object"
      ]
     },
     "execution_count": 17,
     "metadata": {},
     "output_type": "execute_result"
    }
   ],
   "source": [
    "Consolidated_telecomdata_df.dtypes"
   ]
  },
  {
   "cell_type": "code",
   "execution_count": 18,
   "metadata": {},
   "outputs": [],
   "source": [
    "# Replacing NaN with a custom value\n",
    "Consolidated_telecomdata_df['TotalCharges'].fillna(0, inplace = True)   "
   ]
  },
  {
   "cell_type": "code",
   "execution_count": 19,
   "metadata": {},
   "outputs": [],
   "source": [
    "#dropping customer id \n",
    "Consolidated_telecomdata_df = Consolidated_telecomdata_df.drop('customerID', axis =1 ) "
   ]
  },
  {
   "cell_type": "code",
   "execution_count": 20,
   "metadata": {},
   "outputs": [
    {
     "name": "stdout",
     "output_type": "stream",
     "text": [
      "5\n"
     ]
    },
    {
     "data": {
      "text/plain": [
       "array(['Female', 'Male'], dtype=object)"
      ]
     },
     "execution_count": 20,
     "metadata": {},
     "output_type": "execute_result"
    }
   ],
   "source": [
    "##C. Create a function that will accept a DataFrame as input and return pie-charts for all the appropriate Categorical features. Clearly show percentage\n",
    "##distribution in the pie-chart. [4 Marks]\n",
    "\n",
    "row = int((len(Consolidated_telecomdata_df.columns) / 4) )\n",
    "print(row)\n",
    "Consolidated_telecomdata_df['gender'].unique()"
   ]
  },
  {
   "cell_type": "code",
   "execution_count": 21,
   "metadata": {},
   "outputs": [],
   "source": [
    "def plot_pie(df):\n",
    "\n",
    "     disrow = 0\n",
    "     chartcount = 0   \n",
    "     col=0\n",
    "     fig, axs = plt.subplots(4,4,figsize=(15,15))\n",
    "     for i in df.columns:   \n",
    "        if df[i].dtype.name == 'object':    \n",
    "            \n",
    "            \n",
    "            axs[disrow,col].pie(df.groupby(i).size(),labels=df[i].unique(),autopct='%.0f%%',textprops={'size': 'smaller'},shadow=True, radius=1)\n",
    "            axs[disrow,col].title.set_text(df[i].name)\n",
    "            chartcount = chartcount +1\n",
    "            col=chartcount%4 \n",
    "            if(chartcount%4 ==0):\n",
    "                disrow = disrow + 1\n",
    "            \n",
    "            fig.subplots_adjust(wspace=.5)\n",
    "            plt.subplots_adjust(bottom=0.1, right=0.8, top=0.9)\n",
    "           \n",
    "        else:\n",
    "             pass  \n",
    "        \n",
    "    "
   ]
  },
  {
   "cell_type": "code",
   "execution_count": 22,
   "metadata": {},
   "outputs": [
    {
     "data": {
      "image/png": "[encoded data removed]",
      "text/plain": [
       "<Figure size 1080x1080 with 16 Axes>"
      ]
     },
     "metadata": {},
     "output_type": "display_data"
    }
   ],
   "source": [
    "plot_pie(Consolidated_telecomdata_df)"
   ]
  },
  {
   "cell_type": "code",
   "execution_count": 23,
   "metadata": {},
   "outputs": [
    {
     "name": "stdout",
     "output_type": "stream",
     "text": [
      "Insights from pie graphs:\n",
      "\n",
      "1. Equal male and female customers.\n",
      "\n",
      "2. Most of them have partners.\n",
      "\n",
      "3. Only 30% customers have dependants.\n",
      "\n",
      "4. 90% customers have phone service.42% have multiple lines.\n",
      "\n",
      "5. 78% have internet service either fiber optic or DSL.\n",
      "\n",
      "6. Only 22% have online security and 44% online backup.\n",
      "\n",
      "7. Only 22% customers have opted for device protection and TechSupport.\n",
      "\n",
      "8. Only 22% customers have opted for StreamingTV and streamingMovies.\n",
      "\n",
      "9. Month-to-month contract based customers are 55% ,1-year contract are 21%,and two year contract based are 24%. \n",
      "\n",
      "10. 41% customers have opted for paperlessbilling.\n",
      "\n",
      "11. 34% have opted automatic bank transfer, other Payment menthod customers are almost in equal proportion.\n",
      "\n",
      "12. 73% of customers are with the telecom company only,while 27% have churned.\n",
      "\n"
     ]
    }
   ],
   "source": [
    "#D. Share insights for Q2.c. [2 Marks]\n",
    "\n",
    "print(\"Insights from pie graphs:\\n\")\n",
    "print(\"1. Equal male and female customers.\\n\")\n",
    "print(\"2. Most of them have partners.\\n\")\n",
    "print(\"3. Only 30% customers have dependants.\\n\")\n",
    "print(\"4. 90% customers have phone service.42% have multiple lines.\\n\")\n",
    "print(\"5. 78% have internet service either fiber optic or DSL.\\n\")\n",
    "print(\"6. Only 22% have online security and 44% online backup.\\n\")\n",
    "print(\"7. Only 22% customers have opted for device protection and TechSupport.\\n\")\n",
    "print(\"8. Only 22% customers have opted for StreamingTV and streamingMovies.\\n\")\n",
    "print(\"9. Month-to-month contract based customers are 55% ,1-year contract are 21%,and two year contract based are 24%. \\n\")\n",
    "print(\"10. 41% customers have opted for paperlessbilling.\\n\")\n",
    "print(\"11. 34% have opted automatic bank transfer, other Payment menthod customers are almost in equal proportion.\\n\")\n",
    "print(\"12. 73% of customers are with the telecom company only,while 27% have churned.\\n\")\n"
   ]
  },
  {
   "cell_type": "code",
   "execution_count": null,
   "metadata": {},
   "outputs": [],
   "source": []
  },
  {
   "cell_type": "markdown",
   "metadata": {},
   "source": [
    "E. Encode all the appropriate Categorical features with the best suitable approach. [2 Marks]\n"
   ]
  },
  {
   "cell_type": "code",
   "execution_count": 24,
   "metadata": {},
   "outputs": [
    {
     "data": {
      "text/html": [
       "<div>\n",
       "<style scoped>\n",
       "    .dataframe tbody tr th:only-of-type {\n",
       "        vertical-align: middle;\n",
       "    }\n",
       "\n",
       "    .dataframe tbody tr th {\n",
       "        vertical-align: top;\n",
       "    }\n",
       "\n",
       "    .dataframe thead th {\n",
       "        text-align: right;\n",
       "    }\n",
       "</style>\n",
       "<table border=\"1\" class=\"dataframe\">\n",
       "  <thead>\n",
       "    <tr style=\"text-align: right;\">\n",
       "      <th></th>\n",
       "      <th>gender</th>\n",
       "      <th>SeniorCitizen</th>\n",
       "      <th>Partner</th>\n",
       "      <th>Dependents</th>\n",
       "      <th>tenure</th>\n",
       "      <th>PhoneService</th>\n",
       "      <th>MultipleLines</th>\n",
       "      <th>InternetService</th>\n",
       "      <th>OnlineSecurity</th>\n",
       "      <th>OnlineBackup</th>\n",
       "      <th>DeviceProtection</th>\n",
       "      <th>TechSupport</th>\n",
       "      <th>StreamingTV</th>\n",
       "      <th>StreamingMovies</th>\n",
       "      <th>Contract</th>\n",
       "      <th>PaperlessBilling</th>\n",
       "      <th>PaymentMethod</th>\n",
       "      <th>MonthlyCharges</th>\n",
       "      <th>TotalCharges</th>\n",
       "      <th>Churn</th>\n",
       "    </tr>\n",
       "  </thead>\n",
       "  <tbody>\n",
       "    <tr>\n",
       "      <th>0</th>\n",
       "      <td>Female</td>\n",
       "      <td>0</td>\n",
       "      <td>Yes</td>\n",
       "      <td>No</td>\n",
       "      <td>1</td>\n",
       "      <td>No</td>\n",
       "      <td>No phone service</td>\n",
       "      <td>DSL</td>\n",
       "      <td>No</td>\n",
       "      <td>Yes</td>\n",
       "      <td>No</td>\n",
       "      <td>No</td>\n",
       "      <td>No</td>\n",
       "      <td>No</td>\n",
       "      <td>Month-to-month</td>\n",
       "      <td>Yes</td>\n",
       "      <td>Electronic check</td>\n",
       "      <td>29.85</td>\n",
       "      <td>29.85</td>\n",
       "      <td>No</td>\n",
       "    </tr>\n",
       "    <tr>\n",
       "      <th>1</th>\n",
       "      <td>Male</td>\n",
       "      <td>0</td>\n",
       "      <td>No</td>\n",
       "      <td>No</td>\n",
       "      <td>34</td>\n",
       "      <td>Yes</td>\n",
       "      <td>No</td>\n",
       "      <td>DSL</td>\n",
       "      <td>Yes</td>\n",
       "      <td>No</td>\n",
       "      <td>Yes</td>\n",
       "      <td>No</td>\n",
       "      <td>No</td>\n",
       "      <td>No</td>\n",
       "      <td>One year</td>\n",
       "      <td>No</td>\n",
       "      <td>Mailed check</td>\n",
       "      <td>56.95</td>\n",
       "      <td>1889.50</td>\n",
       "      <td>No</td>\n",
       "    </tr>\n",
       "    <tr>\n",
       "      <th>2</th>\n",
       "      <td>Male</td>\n",
       "      <td>0</td>\n",
       "      <td>No</td>\n",
       "      <td>No</td>\n",
       "      <td>2</td>\n",
       "      <td>Yes</td>\n",
       "      <td>No</td>\n",
       "      <td>DSL</td>\n",
       "      <td>Yes</td>\n",
       "      <td>Yes</td>\n",
       "      <td>No</td>\n",
       "      <td>No</td>\n",
       "      <td>No</td>\n",
       "      <td>No</td>\n",
       "      <td>Month-to-month</td>\n",
       "      <td>Yes</td>\n",
       "      <td>Mailed check</td>\n",
       "      <td>53.85</td>\n",
       "      <td>108.15</td>\n",
       "      <td>Yes</td>\n",
       "    </tr>\n",
       "    <tr>\n",
       "      <th>3</th>\n",
       "      <td>Male</td>\n",
       "      <td>0</td>\n",
       "      <td>No</td>\n",
       "      <td>No</td>\n",
       "      <td>45</td>\n",
       "      <td>No</td>\n",
       "      <td>No phone service</td>\n",
       "      <td>DSL</td>\n",
       "      <td>Yes</td>\n",
       "      <td>No</td>\n",
       "      <td>Yes</td>\n",
       "      <td>Yes</td>\n",
       "      <td>No</td>\n",
       "      <td>No</td>\n",
       "      <td>One year</td>\n",
       "      <td>No</td>\n",
       "      <td>Bank transfer (automatic)</td>\n",
       "      <td>42.30</td>\n",
       "      <td>1840.75</td>\n",
       "      <td>No</td>\n",
       "    </tr>\n",
       "    <tr>\n",
       "      <th>4</th>\n",
       "      <td>Female</td>\n",
       "      <td>0</td>\n",
       "      <td>No</td>\n",
       "      <td>No</td>\n",
       "      <td>2</td>\n",
       "      <td>Yes</td>\n",
       "      <td>No</td>\n",
       "      <td>Fiber optic</td>\n",
       "      <td>No</td>\n",
       "      <td>No</td>\n",
       "      <td>No</td>\n",
       "      <td>No</td>\n",
       "      <td>No</td>\n",
       "      <td>No</td>\n",
       "      <td>Month-to-month</td>\n",
       "      <td>Yes</td>\n",
       "      <td>Electronic check</td>\n",
       "      <td>70.70</td>\n",
       "      <td>151.65</td>\n",
       "      <td>Yes</td>\n",
       "    </tr>\n",
       "    <tr>\n",
       "      <th>5</th>\n",
       "      <td>Female</td>\n",
       "      <td>0</td>\n",
       "      <td>No</td>\n",
       "      <td>No</td>\n",
       "      <td>8</td>\n",
       "      <td>Yes</td>\n",
       "      <td>Yes</td>\n",
       "      <td>Fiber optic</td>\n",
       "      <td>No</td>\n",
       "      <td>No</td>\n",
       "      <td>Yes</td>\n",
       "      <td>No</td>\n",
       "      <td>Yes</td>\n",
       "      <td>Yes</td>\n",
       "      <td>Month-to-month</td>\n",
       "      <td>Yes</td>\n",
       "      <td>Electronic check</td>\n",
       "      <td>99.65</td>\n",
       "      <td>820.50</td>\n",
       "      <td>Yes</td>\n",
       "    </tr>\n",
       "    <tr>\n",
       "      <th>6</th>\n",
       "      <td>Male</td>\n",
       "      <td>0</td>\n",
       "      <td>No</td>\n",
       "      <td>Yes</td>\n",
       "      <td>22</td>\n",
       "      <td>Yes</td>\n",
       "      <td>Yes</td>\n",
       "      <td>Fiber optic</td>\n",
       "      <td>No</td>\n",
       "      <td>Yes</td>\n",
       "      <td>No</td>\n",
       "      <td>No</td>\n",
       "      <td>Yes</td>\n",
       "      <td>No</td>\n",
       "      <td>Month-to-month</td>\n",
       "      <td>Yes</td>\n",
       "      <td>Credit card (automatic)</td>\n",
       "      <td>89.10</td>\n",
       "      <td>1949.40</td>\n",
       "      <td>No</td>\n",
       "    </tr>\n",
       "    <tr>\n",
       "      <th>7</th>\n",
       "      <td>Female</td>\n",
       "      <td>0</td>\n",
       "      <td>No</td>\n",
       "      <td>No</td>\n",
       "      <td>10</td>\n",
       "      <td>No</td>\n",
       "      <td>No phone service</td>\n",
       "      <td>DSL</td>\n",
       "      <td>Yes</td>\n",
       "      <td>No</td>\n",
       "      <td>No</td>\n",
       "      <td>No</td>\n",
       "      <td>No</td>\n",
       "      <td>No</td>\n",
       "      <td>Month-to-month</td>\n",
       "      <td>No</td>\n",
       "      <td>Mailed check</td>\n",
       "      <td>29.75</td>\n",
       "      <td>301.90</td>\n",
       "      <td>No</td>\n",
       "    </tr>\n",
       "    <tr>\n",
       "      <th>8</th>\n",
       "      <td>Female</td>\n",
       "      <td>0</td>\n",
       "      <td>Yes</td>\n",
       "      <td>No</td>\n",
       "      <td>28</td>\n",
       "      <td>Yes</td>\n",
       "      <td>Yes</td>\n",
       "      <td>Fiber optic</td>\n",
       "      <td>No</td>\n",
       "      <td>No</td>\n",
       "      <td>Yes</td>\n",
       "      <td>Yes</td>\n",
       "      <td>Yes</td>\n",
       "      <td>Yes</td>\n",
       "      <td>Month-to-month</td>\n",
       "      <td>Yes</td>\n",
       "      <td>Electronic check</td>\n",
       "      <td>104.80</td>\n",
       "      <td>3046.05</td>\n",
       "      <td>Yes</td>\n",
       "    </tr>\n",
       "    <tr>\n",
       "      <th>9</th>\n",
       "      <td>Male</td>\n",
       "      <td>0</td>\n",
       "      <td>No</td>\n",
       "      <td>Yes</td>\n",
       "      <td>62</td>\n",
       "      <td>Yes</td>\n",
       "      <td>No</td>\n",
       "      <td>DSL</td>\n",
       "      <td>Yes</td>\n",
       "      <td>Yes</td>\n",
       "      <td>No</td>\n",
       "      <td>No</td>\n",
       "      <td>No</td>\n",
       "      <td>No</td>\n",
       "      <td>One year</td>\n",
       "      <td>No</td>\n",
       "      <td>Bank transfer (automatic)</td>\n",
       "      <td>56.15</td>\n",
       "      <td>3487.95</td>\n",
       "      <td>No</td>\n",
       "    </tr>\n",
       "  </tbody>\n",
       "</table>\n",
       "</div>"
      ],
      "text/plain": [
       "   gender  SeniorCitizen Partner Dependents  tenure PhoneService  \\\n",
       "0  Female              0     Yes         No       1           No   \n",
       "1    Male              0      No         No      34          Yes   \n",
       "2    Male              0      No         No       2          Yes   \n",
       "3    Male              0      No         No      45           No   \n",
       "4  Female              0      No         No       2          Yes   \n",
       "5  Female              0      No         No       8          Yes   \n",
       "6    Male              0      No        Yes      22          Yes   \n",
       "7  Female              0      No         No      10           No   \n",
       "8  Female              0     Yes         No      28          Yes   \n",
       "9    Male              0      No        Yes      62          Yes   \n",
       "\n",
       "      MultipleLines InternetService OnlineSecurity OnlineBackup  \\\n",
       "0  No phone service             DSL             No          Yes   \n",
       "1                No             DSL            Yes           No   \n",
       "2                No             DSL            Yes          Yes   \n",
       "3  No phone service             DSL            Yes           No   \n",
       "4                No     Fiber optic             No           No   \n",
       "5               Yes     Fiber optic             No           No   \n",
       "6               Yes     Fiber optic             No          Yes   \n",
       "7  No phone service             DSL            Yes           No   \n",
       "8               Yes     Fiber optic             No           No   \n",
       "9                No             DSL            Yes          Yes   \n",
       "\n",
       "  DeviceProtection TechSupport StreamingTV StreamingMovies        Contract  \\\n",
       "0               No          No          No              No  Month-to-month   \n",
       "1              Yes          No          No              No        One year   \n",
       "2               No          No          No              No  Month-to-month   \n",
       "3              Yes         Yes          No              No        One year   \n",
       "4               No          No          No              No  Month-to-month   \n",
       "5              Yes          No         Yes             Yes  Month-to-month   \n",
       "6               No          No         Yes              No  Month-to-month   \n",
       "7               No          No          No              No  Month-to-month   \n",
       "8              Yes         Yes         Yes             Yes  Month-to-month   \n",
       "9               No          No          No              No        One year   \n",
       "\n",
       "  PaperlessBilling              PaymentMethod  MonthlyCharges  TotalCharges  \\\n",
       "0              Yes           Electronic check           29.85         29.85   \n",
       "1               No               Mailed check           56.95       1889.50   \n",
       "2              Yes               Mailed check           53.85        108.15   \n",
       "3               No  Bank transfer (automatic)           42.30       1840.75   \n",
       "4              Yes           Electronic check           70.70        151.65   \n",
       "5              Yes           Electronic check           99.65        820.50   \n",
       "6              Yes    Credit card (automatic)           89.10       1949.40   \n",
       "7               No               Mailed check           29.75        301.90   \n",
       "8              Yes           Electronic check          104.80       3046.05   \n",
       "9               No  Bank transfer (automatic)           56.15       3487.95   \n",
       "\n",
       "  Churn  \n",
       "0    No  \n",
       "1    No  \n",
       "2   Yes  \n",
       "3    No  \n",
       "4   Yes  \n",
       "5   Yes  \n",
       "6    No  \n",
       "7    No  \n",
       "8   Yes  \n",
       "9    No  "
      ]
     },
     "execution_count": 24,
     "metadata": {},
     "output_type": "execute_result"
    }
   ],
   "source": [
    "for feature in Consolidated_telecomdata_df.columns: # Loop through all columns in the dataframe\n",
    "    if Consolidated_telecomdata_df[feature].dtype == 'object': # Only apply for columns with categorical strings\n",
    "        Consolidated_telecomdata_df[feature] = pd.Categorical(Consolidated_telecomdata_df[feature])# Replace strings with an integer\n",
    "Consolidated_telecomdata_df.head(10)"
   ]
  },
  {
   "cell_type": "code",
   "execution_count": 25,
   "metadata": {},
   "outputs": [
    {
     "name": "stdout",
     "output_type": "stream",
     "text": [
      "0    5901\n",
      "1    1142\n",
      "Name: SeniorCitizen, dtype: int64\n",
      "No     3641\n",
      "Yes    3402\n",
      "Name: Partner, dtype: int64\n",
      "No     4933\n",
      "Yes    2110\n",
      "Name: Dependents, dtype: int64\n",
      "1     613\n",
      "72    362\n",
      "2     238\n",
      "3     200\n",
      "4     176\n",
      "     ... \n",
      "28     57\n",
      "39     56\n",
      "44     51\n",
      "36     50\n",
      "0      11\n",
      "Name: tenure, Length: 73, dtype: int64\n",
      "Yes    6361\n",
      "No      682\n",
      "Name: PhoneService, dtype: int64\n",
      "No                  3390\n",
      "Yes                 2971\n",
      "No phone service     682\n",
      "Name: MultipleLines, dtype: int64\n",
      "Fiber optic    3096\n",
      "DSL            2421\n",
      "No             1526\n",
      "Name: InternetService, dtype: int64\n",
      "No                     3498\n",
      "Yes                    2019\n",
      "No internet service    1526\n",
      "Name: OnlineSecurity, dtype: int64\n",
      "No                     3095\n",
      "Yes                    2422\n",
      "No internet service    1526\n",
      "Name: DeviceProtection, dtype: int64\n",
      "No                     3473\n",
      "Yes                    2044\n",
      "No internet service    1526\n",
      "Name: TechSupport, dtype: int64\n",
      "No                     2810\n",
      "Yes                    2707\n",
      "No internet service    1526\n",
      "Name: StreamingTV, dtype: int64\n",
      "No                     2785\n",
      "Yes                    2732\n",
      "No internet service    1526\n",
      "Name: StreamingMovies, dtype: int64\n",
      "Month-to-month    3875\n",
      "Two year          1695\n",
      "One year          1473\n",
      "Name: Contract, dtype: int64\n",
      "Yes    4171\n",
      "No     2872\n",
      "Name: PaperlessBilling, dtype: int64\n",
      "Electronic check             2365\n",
      "Mailed check                 1612\n",
      "Bank transfer (automatic)    1544\n",
      "Credit card (automatic)      1522\n",
      "Name: PaymentMethod, dtype: int64\n",
      "No     5174\n",
      "Yes    1869\n",
      "Name: Churn, dtype: int64\n"
     ]
    }
   ],
   "source": [
    "\n",
    "print(Consolidated_telecomdata_df.SeniorCitizen.value_counts())\n",
    "print(Consolidated_telecomdata_df.Partner.value_counts())\n",
    "print(Consolidated_telecomdata_df.Dependents.value_counts())\n",
    "print(Consolidated_telecomdata_df.tenure.value_counts())\n",
    "print(Consolidated_telecomdata_df.PhoneService.value_counts())\n",
    "print(Consolidated_telecomdata_df.MultipleLines.value_counts())\n",
    "print(Consolidated_telecomdata_df.InternetService.value_counts())\n",
    "print(Consolidated_telecomdata_df.OnlineSecurity.value_counts())\n",
    "print(Consolidated_telecomdata_df.DeviceProtection.value_counts())\n",
    "print(Consolidated_telecomdata_df.TechSupport.value_counts())\n",
    "print(Consolidated_telecomdata_df.StreamingTV.value_counts())\n",
    "print(Consolidated_telecomdata_df.StreamingMovies.value_counts())\n",
    "print(Consolidated_telecomdata_df.Contract.value_counts())\n",
    "print(Consolidated_telecomdata_df.PaperlessBilling.value_counts())\n",
    "print(Consolidated_telecomdata_df.PaymentMethod.value_counts())\n",
    "print(Consolidated_telecomdata_df.Churn.value_counts())"
   ]
  },
  {
   "cell_type": "code",
   "execution_count": 26,
   "metadata": {},
   "outputs": [],
   "source": [
    "replaceStruct = {   \n",
    "                \"Partner\":     {\"No\": 0, \"Yes\": 1 },\n",
    "                \"gender\":     {\"Female\": 0, \"Male\": 1 },\n",
    "                \"Dependents\":     {\"No\": 0, \"Yes\": 1 },\n",
    "                \"PaperlessBilling\":     {\"No\": 0, \"Yes\": 1 },\n",
    "                \"Churn\":     {\"No\": 0, \"Yes\": 1 },\n",
    "    }\n",
    "oneHotCols=[\"Contract\",\"PaymentMethod\",\"InternetService\",\"PhoneService\",\"MultipleLines\",\"OnlineBackup\",\"OnlineSecurity\",\"DeviceProtection\",\"TechSupport\",\"StreamingTV\",\"StreamingMovies\"]\n",
    "    \n",
    "    "
   ]
  },
  {
   "cell_type": "code",
   "execution_count": 27,
   "metadata": {},
   "outputs": [
    {
     "data": {
      "text/html": [
       "<div>\n",
       "<style scoped>\n",
       "    .dataframe tbody tr th:only-of-type {\n",
       "        vertical-align: middle;\n",
       "    }\n",
       "\n",
       "    .dataframe tbody tr th {\n",
       "        vertical-align: top;\n",
       "    }\n",
       "\n",
       "    .dataframe thead th {\n",
       "        text-align: right;\n",
       "    }\n",
       "</style>\n",
       "<table border=\"1\" class=\"dataframe\">\n",
       "  <thead>\n",
       "    <tr style=\"text-align: right;\">\n",
       "      <th></th>\n",
       "      <th>gender</th>\n",
       "      <th>SeniorCitizen</th>\n",
       "      <th>Partner</th>\n",
       "      <th>Dependents</th>\n",
       "      <th>tenure</th>\n",
       "      <th>PaperlessBilling</th>\n",
       "      <th>MonthlyCharges</th>\n",
       "      <th>TotalCharges</th>\n",
       "      <th>Churn</th>\n",
       "      <th>Contract_Month-to-month</th>\n",
       "      <th>...</th>\n",
       "      <th>DeviceProtection_Yes</th>\n",
       "      <th>TechSupport_No</th>\n",
       "      <th>TechSupport_No internet service</th>\n",
       "      <th>TechSupport_Yes</th>\n",
       "      <th>StreamingTV_No</th>\n",
       "      <th>StreamingTV_No internet service</th>\n",
       "      <th>StreamingTV_Yes</th>\n",
       "      <th>StreamingMovies_No</th>\n",
       "      <th>StreamingMovies_No internet service</th>\n",
       "      <th>StreamingMovies_Yes</th>\n",
       "    </tr>\n",
       "  </thead>\n",
       "  <tbody>\n",
       "    <tr>\n",
       "      <th>0</th>\n",
       "      <td>0</td>\n",
       "      <td>0</td>\n",
       "      <td>1</td>\n",
       "      <td>0</td>\n",
       "      <td>1</td>\n",
       "      <td>1</td>\n",
       "      <td>29.85</td>\n",
       "      <td>29.85</td>\n",
       "      <td>0</td>\n",
       "      <td>1</td>\n",
       "      <td>...</td>\n",
       "      <td>0</td>\n",
       "      <td>1</td>\n",
       "      <td>0</td>\n",
       "      <td>0</td>\n",
       "      <td>1</td>\n",
       "      <td>0</td>\n",
       "      <td>0</td>\n",
       "      <td>1</td>\n",
       "      <td>0</td>\n",
       "      <td>0</td>\n",
       "    </tr>\n",
       "    <tr>\n",
       "      <th>1</th>\n",
       "      <td>1</td>\n",
       "      <td>0</td>\n",
       "      <td>0</td>\n",
       "      <td>0</td>\n",
       "      <td>34</td>\n",
       "      <td>0</td>\n",
       "      <td>56.95</td>\n",
       "      <td>1889.50</td>\n",
       "      <td>0</td>\n",
       "      <td>0</td>\n",
       "      <td>...</td>\n",
       "      <td>1</td>\n",
       "      <td>1</td>\n",
       "      <td>0</td>\n",
       "      <td>0</td>\n",
       "      <td>1</td>\n",
       "      <td>0</td>\n",
       "      <td>0</td>\n",
       "      <td>1</td>\n",
       "      <td>0</td>\n",
       "      <td>0</td>\n",
       "    </tr>\n",
       "    <tr>\n",
       "      <th>2</th>\n",
       "      <td>1</td>\n",
       "      <td>0</td>\n",
       "      <td>0</td>\n",
       "      <td>0</td>\n",
       "      <td>2</td>\n",
       "      <td>1</td>\n",
       "      <td>53.85</td>\n",
       "      <td>108.15</td>\n",
       "      <td>1</td>\n",
       "      <td>1</td>\n",
       "      <td>...</td>\n",
       "      <td>0</td>\n",
       "      <td>1</td>\n",
       "      <td>0</td>\n",
       "      <td>0</td>\n",
       "      <td>1</td>\n",
       "      <td>0</td>\n",
       "      <td>0</td>\n",
       "      <td>1</td>\n",
       "      <td>0</td>\n",
       "      <td>0</td>\n",
       "    </tr>\n",
       "    <tr>\n",
       "      <th>3</th>\n",
       "      <td>1</td>\n",
       "      <td>0</td>\n",
       "      <td>0</td>\n",
       "      <td>0</td>\n",
       "      <td>45</td>\n",
       "      <td>0</td>\n",
       "      <td>42.30</td>\n",
       "      <td>1840.75</td>\n",
       "      <td>0</td>\n",
       "      <td>0</td>\n",
       "      <td>...</td>\n",
       "      <td>1</td>\n",
       "      <td>0</td>\n",
       "      <td>0</td>\n",
       "      <td>1</td>\n",
       "      <td>1</td>\n",
       "      <td>0</td>\n",
       "      <td>0</td>\n",
       "      <td>1</td>\n",
       "      <td>0</td>\n",
       "      <td>0</td>\n",
       "    </tr>\n",
       "    <tr>\n",
       "      <th>4</th>\n",
       "      <td>0</td>\n",
       "      <td>0</td>\n",
       "      <td>0</td>\n",
       "      <td>0</td>\n",
       "      <td>2</td>\n",
       "      <td>1</td>\n",
       "      <td>70.70</td>\n",
       "      <td>151.65</td>\n",
       "      <td>1</td>\n",
       "      <td>1</td>\n",
       "      <td>...</td>\n",
       "      <td>0</td>\n",
       "      <td>1</td>\n",
       "      <td>0</td>\n",
       "      <td>0</td>\n",
       "      <td>1</td>\n",
       "      <td>0</td>\n",
       "      <td>0</td>\n",
       "      <td>1</td>\n",
       "      <td>0</td>\n",
       "      <td>0</td>\n",
       "    </tr>\n",
       "    <tr>\n",
       "      <th>5</th>\n",
       "      <td>0</td>\n",
       "      <td>0</td>\n",
       "      <td>0</td>\n",
       "      <td>0</td>\n",
       "      <td>8</td>\n",
       "      <td>1</td>\n",
       "      <td>99.65</td>\n",
       "      <td>820.50</td>\n",
       "      <td>1</td>\n",
       "      <td>1</td>\n",
       "      <td>...</td>\n",
       "      <td>1</td>\n",
       "      <td>1</td>\n",
       "      <td>0</td>\n",
       "      <td>0</td>\n",
       "      <td>0</td>\n",
       "      <td>0</td>\n",
       "      <td>1</td>\n",
       "      <td>0</td>\n",
       "      <td>0</td>\n",
       "      <td>1</td>\n",
       "    </tr>\n",
       "    <tr>\n",
       "      <th>6</th>\n",
       "      <td>1</td>\n",
       "      <td>0</td>\n",
       "      <td>0</td>\n",
       "      <td>1</td>\n",
       "      <td>22</td>\n",
       "      <td>1</td>\n",
       "      <td>89.10</td>\n",
       "      <td>1949.40</td>\n",
       "      <td>0</td>\n",
       "      <td>1</td>\n",
       "      <td>...</td>\n",
       "      <td>0</td>\n",
       "      <td>1</td>\n",
       "      <td>0</td>\n",
       "      <td>0</td>\n",
       "      <td>0</td>\n",
       "      <td>0</td>\n",
       "      <td>1</td>\n",
       "      <td>1</td>\n",
       "      <td>0</td>\n",
       "      <td>0</td>\n",
       "    </tr>\n",
       "    <tr>\n",
       "      <th>7</th>\n",
       "      <td>0</td>\n",
       "      <td>0</td>\n",
       "      <td>0</td>\n",
       "      <td>0</td>\n",
       "      <td>10</td>\n",
       "      <td>0</td>\n",
       "      <td>29.75</td>\n",
       "      <td>301.90</td>\n",
       "      <td>0</td>\n",
       "      <td>1</td>\n",
       "      <td>...</td>\n",
       "      <td>0</td>\n",
       "      <td>1</td>\n",
       "      <td>0</td>\n",
       "      <td>0</td>\n",
       "      <td>1</td>\n",
       "      <td>0</td>\n",
       "      <td>0</td>\n",
       "      <td>1</td>\n",
       "      <td>0</td>\n",
       "      <td>0</td>\n",
       "    </tr>\n",
       "    <tr>\n",
       "      <th>8</th>\n",
       "      <td>0</td>\n",
       "      <td>0</td>\n",
       "      <td>1</td>\n",
       "      <td>0</td>\n",
       "      <td>28</td>\n",
       "      <td>1</td>\n",
       "      <td>104.80</td>\n",
       "      <td>3046.05</td>\n",
       "      <td>1</td>\n",
       "      <td>1</td>\n",
       "      <td>...</td>\n",
       "      <td>1</td>\n",
       "      <td>0</td>\n",
       "      <td>0</td>\n",
       "      <td>1</td>\n",
       "      <td>0</td>\n",
       "      <td>0</td>\n",
       "      <td>1</td>\n",
       "      <td>0</td>\n",
       "      <td>0</td>\n",
       "      <td>1</td>\n",
       "    </tr>\n",
       "    <tr>\n",
       "      <th>9</th>\n",
       "      <td>1</td>\n",
       "      <td>0</td>\n",
       "      <td>0</td>\n",
       "      <td>1</td>\n",
       "      <td>62</td>\n",
       "      <td>0</td>\n",
       "      <td>56.15</td>\n",
       "      <td>3487.95</td>\n",
       "      <td>0</td>\n",
       "      <td>0</td>\n",
       "      <td>...</td>\n",
       "      <td>0</td>\n",
       "      <td>1</td>\n",
       "      <td>0</td>\n",
       "      <td>0</td>\n",
       "      <td>1</td>\n",
       "      <td>0</td>\n",
       "      <td>0</td>\n",
       "      <td>1</td>\n",
       "      <td>0</td>\n",
       "      <td>0</td>\n",
       "    </tr>\n",
       "  </tbody>\n",
       "</table>\n",
       "<p>10 rows × 42 columns</p>\n",
       "</div>"
      ],
      "text/plain": [
       "   gender  SeniorCitizen  Partner  Dependents  tenure  PaperlessBilling  \\\n",
       "0       0              0        1           0       1                 1   \n",
       "1       1              0        0           0      34                 0   \n",
       "2       1              0        0           0       2                 1   \n",
       "3       1              0        0           0      45                 0   \n",
       "4       0              0        0           0       2                 1   \n",
       "5       0              0        0           0       8                 1   \n",
       "6       1              0        0           1      22                 1   \n",
       "7       0              0        0           0      10                 0   \n",
       "8       0              0        1           0      28                 1   \n",
       "9       1              0        0           1      62                 0   \n",
       "\n",
       "   MonthlyCharges  TotalCharges  Churn  Contract_Month-to-month  ...  \\\n",
       "0           29.85         29.85      0                        1  ...   \n",
       "1           56.95       1889.50      0                        0  ...   \n",
       "2           53.85        108.15      1                        1  ...   \n",
       "3           42.30       1840.75      0                        0  ...   \n",
       "4           70.70        151.65      1                        1  ...   \n",
       "5           99.65        820.50      1                        1  ...   \n",
       "6           89.10       1949.40      0                        1  ...   \n",
       "7           29.75        301.90      0                        1  ...   \n",
       "8          104.80       3046.05      1                        1  ...   \n",
       "9           56.15       3487.95      0                        0  ...   \n",
       "\n",
       "   DeviceProtection_Yes  TechSupport_No  TechSupport_No internet service  \\\n",
       "0                     0               1                                0   \n",
       "1                     1               1                                0   \n",
       "2                     0               1                                0   \n",
       "3                     1               0                                0   \n",
       "4                     0               1                                0   \n",
       "5                     1               1                                0   \n",
       "6                     0               1                                0   \n",
       "7                     0               1                                0   \n",
       "8                     1               0                                0   \n",
       "9                     0               1                                0   \n",
       "\n",
       "   TechSupport_Yes  StreamingTV_No  StreamingTV_No internet service  \\\n",
       "0                0               1                                0   \n",
       "1                0               1                                0   \n",
       "2                0               1                                0   \n",
       "3                1               1                                0   \n",
       "4                0               1                                0   \n",
       "5                0               0                                0   \n",
       "6                0               0                                0   \n",
       "7                0               1                                0   \n",
       "8                1               0                                0   \n",
       "9                0               1                                0   \n",
       "\n",
       "   StreamingTV_Yes  StreamingMovies_No  StreamingMovies_No internet service  \\\n",
       "0                0                   1                                    0   \n",
       "1                0                   1                                    0   \n",
       "2                0                   1                                    0   \n",
       "3                0                   1                                    0   \n",
       "4                0                   1                                    0   \n",
       "5                1                   0                                    0   \n",
       "6                1                   1                                    0   \n",
       "7                0                   1                                    0   \n",
       "8                1                   0                                    0   \n",
       "9                0                   1                                    0   \n",
       "\n",
       "   StreamingMovies_Yes  \n",
       "0                    0  \n",
       "1                    0  \n",
       "2                    0  \n",
       "3                    0  \n",
       "4                    0  \n",
       "5                    1  \n",
       "6                    0  \n",
       "7                    0  \n",
       "8                    1  \n",
       "9                    0  \n",
       "\n",
       "[10 rows x 42 columns]"
      ]
     },
     "execution_count": 27,
     "metadata": {},
     "output_type": "execute_result"
    }
   ],
   "source": [
    "Consolidated_telecomdata_df=Consolidated_telecomdata_df.replace(replaceStruct)\n",
    "Consolidated_telecomdata_df=pd.get_dummies(Consolidated_telecomdata_df, columns=oneHotCols)\n",
    "Consolidated_telecomdata_df.head(10)"
   ]
  },
  {
   "cell_type": "code",
   "execution_count": 28,
   "metadata": {},
   "outputs": [
    {
     "data": {
      "text/plain": [
       "(7043, 42)"
      ]
     },
     "execution_count": 28,
     "metadata": {},
     "output_type": "execute_result"
    }
   ],
   "source": [
    "Consolidated_telecomdata_df.shape"
   ]
  },
  {
   "cell_type": "code",
   "execution_count": 29,
   "metadata": {},
   "outputs": [
    {
     "name": "stdout",
     "output_type": "stream",
     "text": [
      "<class 'pandas.core.frame.DataFrame'>\n",
      "Int64Index: 7043 entries, 0 to 7042\n",
      "Data columns (total 42 columns):\n",
      " #   Column                                   Non-Null Count  Dtype  \n",
      "---  ------                                   --------------  -----  \n",
      " 0   gender                                   7043 non-null   int64  \n",
      " 1   SeniorCitizen                            7043 non-null   int64  \n",
      " 2   Partner                                  7043 non-null   int64  \n",
      " 3   Dependents                               7043 non-null   int64  \n",
      " 4   tenure                                   7043 non-null   int64  \n",
      " 5   PaperlessBilling                         7043 non-null   int64  \n",
      " 6   MonthlyCharges                           7043 non-null   float64\n",
      " 7   TotalCharges                             7043 non-null   float64\n",
      " 8   Churn                                    7043 non-null   int64  \n",
      " 9   Contract_Month-to-month                  7043 non-null   uint8  \n",
      " 10  Contract_One year                        7043 non-null   uint8  \n",
      " 11  Contract_Two year                        7043 non-null   uint8  \n",
      " 12  PaymentMethod_Bank transfer (automatic)  7043 non-null   uint8  \n",
      " 13  PaymentMethod_Credit card (automatic)    7043 non-null   uint8  \n",
      " 14  PaymentMethod_Electronic check           7043 non-null   uint8  \n",
      " 15  PaymentMethod_Mailed check               7043 non-null   uint8  \n",
      " 16  InternetService_DSL                      7043 non-null   uint8  \n",
      " 17  InternetService_Fiber optic              7043 non-null   uint8  \n",
      " 18  InternetService_No                       7043 non-null   uint8  \n",
      " 19  PhoneService_No                          7043 non-null   uint8  \n",
      " 20  PhoneService_Yes                         7043 non-null   uint8  \n",
      " 21  MultipleLines_No                         7043 non-null   uint8  \n",
      " 22  MultipleLines_No phone service           7043 non-null   uint8  \n",
      " 23  MultipleLines_Yes                        7043 non-null   uint8  \n",
      " 24  OnlineBackup_No                          7043 non-null   uint8  \n",
      " 25  OnlineBackup_No internet service         7043 non-null   uint8  \n",
      " 26  OnlineBackup_Yes                         7043 non-null   uint8  \n",
      " 27  OnlineSecurity_No                        7043 non-null   uint8  \n",
      " 28  OnlineSecurity_No internet service       7043 non-null   uint8  \n",
      " 29  OnlineSecurity_Yes                       7043 non-null   uint8  \n",
      " 30  DeviceProtection_No                      7043 non-null   uint8  \n",
      " 31  DeviceProtection_No internet service     7043 non-null   uint8  \n",
      " 32  DeviceProtection_Yes                     7043 non-null   uint8  \n",
      " 33  TechSupport_No                           7043 non-null   uint8  \n",
      " 34  TechSupport_No internet service          7043 non-null   uint8  \n",
      " 35  TechSupport_Yes                          7043 non-null   uint8  \n",
      " 36  StreamingTV_No                           7043 non-null   uint8  \n",
      " 37  StreamingTV_No internet service          7043 non-null   uint8  \n",
      " 38  StreamingTV_Yes                          7043 non-null   uint8  \n",
      " 39  StreamingMovies_No                       7043 non-null   uint8  \n",
      " 40  StreamingMovies_No internet service      7043 non-null   uint8  \n",
      " 41  StreamingMovies_Yes                      7043 non-null   uint8  \n",
      "dtypes: float64(2), int64(7), uint8(33)\n",
      "memory usage: 777.2 KB\n"
     ]
    }
   ],
   "source": [
    "Consolidated_telecomdata_df.info()"
   ]
  },
  {
   "cell_type": "code",
   "execution_count": 30,
   "metadata": {},
   "outputs": [],
   "source": [
    "##F. Split the data into 80% train and 20% test. [1 Marks]\n"
   ]
  },
  {
   "cell_type": "code",
   "execution_count": 31,
   "metadata": {},
   "outputs": [],
   "source": [
    "X = Consolidated_telecomdata_df.drop(columns= ['Churn'])\n",
    "y = Consolidated_telecomdata_df.Churn"
   ]
  },
  {
   "cell_type": "code",
   "execution_count": 32,
   "metadata": {},
   "outputs": [],
   "source": [
    "X_train, X_test, y_train, y_test = train_test_split(X,y,test_size=0.20, random_state = 1)"
   ]
  },
  {
   "cell_type": "code",
   "execution_count": 33,
   "metadata": {},
   "outputs": [],
   "source": [
    "##G. Normalize/Standardize the data with the best suitable approach. [2 Marks]"
   ]
  },
  {
   "cell_type": "code",
   "execution_count": 34,
   "metadata": {},
   "outputs": [
    {
     "data": {
      "text/plain": [
       "StandardScaler()"
      ]
     },
     "execution_count": 34,
     "metadata": {},
     "output_type": "execute_result"
    }
   ],
   "source": [
    "from sklearn.preprocessing import StandardScaler\n",
    "\n",
    "std_scale = StandardScaler()\n",
    "\n",
    "std_scale"
   ]
  },
  {
   "cell_type": "code",
   "execution_count": 35,
   "metadata": {},
   "outputs": [
    {
     "data": {
      "text/plain": [
       "0   -1.160323\n",
       "1   -0.259629\n",
       "2   -0.362660\n",
       "3   -0.746535\n",
       "4    0.197365\n",
       "Name: MonthlyCharges_Stdscale, dtype: float64"
      ]
     },
     "execution_count": 35,
     "metadata": {},
     "output_type": "execute_result"
    }
   ],
   "source": [
    "Consolidated_telecomdata_df['MonthlyCharges_Stdscale'] = std_scale.fit_transform(Consolidated_telecomdata_df[['MonthlyCharges']])\n",
    "# returns z-scores of the values of the attribute\n",
    "Consolidated_telecomdata_df['MonthlyCharges_Stdscale'].head()"
   ]
  },
  {
   "cell_type": "code",
   "execution_count": null,
   "metadata": {},
   "outputs": [],
   "source": []
  },
  {
   "cell_type": "code",
   "execution_count": 36,
   "metadata": {},
   "outputs": [
    {
     "data": {
      "text/plain": [
       "0   -0.992611\n",
       "1   -0.172165\n",
       "2   -0.958066\n",
       "3   -0.193672\n",
       "4   -0.938874\n",
       "Name: TotalCharges_Stdscale, dtype: float64"
      ]
     },
     "execution_count": 36,
     "metadata": {},
     "output_type": "execute_result"
    }
   ],
   "source": [
    "Consolidated_telecomdata_df['TotalCharges_Stdscale'] = std_scale.fit_transform(Consolidated_telecomdata_df[['TotalCharges']])\n",
    "# returns z-scores of the values of the attribute\n",
    "Consolidated_telecomdata_df['TotalCharges_Stdscale'].head()"
   ]
  },
  {
   "cell_type": "code",
   "execution_count": 37,
   "metadata": {},
   "outputs": [],
   "source": [
    "## 3. Model building and Improvement: "
   ]
  },
  {
   "cell_type": "code",
   "execution_count": 38,
   "metadata": {},
   "outputs": [],
   "source": [
    "#A. Train a model using XGBoost. Also print best performing parameters along with train and test performance. [5 Marks]\n"
   ]
  },
  {
   "cell_type": "code",
   "execution_count": 39,
   "metadata": {},
   "outputs": [],
   "source": [
    "#pip install xgboost --no-binary xgboost -v\n",
    "#!brew install libomp\n"
   ]
  },
  {
   "cell_type": "code",
   "execution_count": 40,
   "metadata": {},
   "outputs": [
    {
     "name": "stderr",
     "output_type": "stream",
     "text": [
      "/Users/madhuri/opt/anaconda3/lib/python3.9/site-packages/xgboost/sklearn.py:1224: UserWarning: The use of label encoder in XGBClassifier is deprecated and will be removed in a future release. To remove this warning, do the following: 1) Pass option use_label_encoder=False when constructing XGBClassifier object; and 2) Encode your labels (y) as integers starting with 0, i.e. 0, 1, 2, ..., [num_class - 1].\n",
      "  warnings.warn(label_encoder_deprecation_msg, UserWarning)\n"
     ]
    },
    {
     "name": "stdout",
     "output_type": "stream",
     "text": [
      "[01:16:41] WARNING: /Users/runner/miniforge3/conda-bld/xgboost-split_1645117948562/work/src/learner.cc:1115: Starting in XGBoost 1.3.0, the default evaluation metric used with the objective 'binary:logistic' was changed from 'error' to 'logloss'. Explicitly set eval_metric if you'd like to restore the old behavior.\n",
      "[[915 146]\n",
      " [153 195]]\n"
     ]
    }
   ],
   "source": [
    "import xgboost as xgb\n",
    "\n",
    "#base model - Model 1\n",
    "xgb_model = xgb.XGBClassifier(objective=\"binary:logistic\", random_state=22)\n",
    "xgb_model.fit(X_train, y_train)\n",
    "\n",
    "y_pred = xgb_model.predict(X_test)\n",
    "\n",
    "print(confusion_matrix(y_test, y_pred))\n"
   ]
  },
  {
   "cell_type": "code",
   "execution_count": 41,
   "metadata": {},
   "outputs": [],
   "source": [
    "#B. Improve performance of the XGBoost as much as possible. Also print best performing parameters along with train and test performance. [5 Marks]"
   ]
  },
  {
   "cell_type": "code",
   "execution_count": 42,
   "metadata": {},
   "outputs": [
    {
     "data": {
      "text/plain": [
       "XGBClassifier(base_score=0.5, booster='gbtree', colsample_bylevel=1,\n",
       "              colsample_bynode=1, colsample_bytree=1, enable_categorical=False,\n",
       "              gamma=0, gpu_id=-1, importance_type=None,\n",
       "              interaction_constraints='', learning_rate=0.300000012,\n",
       "              max_delta_step=0, max_depth=6, min_child_weight=1, missing=nan,\n",
       "              monotone_constraints='()', n_estimators=100, n_jobs=4,\n",
       "              num_parallel_tree=1, predictor='auto', random_state=22,\n",
       "              reg_alpha=0, reg_lambda=1, scale_pos_weight=1, subsample=1,\n",
       "              tree_method='exact', validate_parameters=1, verbosity=None)"
      ]
     },
     "execution_count": 42,
     "metadata": {},
     "output_type": "execute_result"
    }
   ],
   "source": [
    "xgb_model"
   ]
  },
  {
   "cell_type": "code",
   "execution_count": 43,
   "metadata": {},
   "outputs": [
    {
     "name": "stdout",
     "output_type": "stream",
     "text": [
      "[01:16:44] WARNING: /Users/runner/miniforge3/conda-bld/xgboost-split_1645117948562/work/src/objective/regression_obj.cu:188: reg:linear is now deprecated in favor of reg:squarederror.\n"
     ]
    },
    {
     "name": "stderr",
     "output_type": "stream",
     "text": [
      "/Users/madhuri/opt/anaconda3/lib/python3.9/site-packages/xgboost/sklearn.py:1224: UserWarning: The use of label encoder in XGBClassifier is deprecated and will be removed in a future release. To remove this warning, do the following: 1) Pass option use_label_encoder=False when constructing XGBClassifier object; and 2) Encode your labels (y) as integers starting with 0, i.e. 0, 1, 2, ..., [num_class - 1].\n",
      "  warnings.warn(label_encoder_deprecation_msg, UserWarning)\n"
     ]
    },
    {
     "name": "stdout",
     "output_type": "stream",
     "text": [
      "[[955 106]\n",
      " [148 200]]\n"
     ]
    }
   ],
   "source": [
    "\n",
    "## Tuning the base model- Model 2\n",
    "xgb_model = xgb.XGBClassifier(objective=\"reg:linear\",colsample_bytree= 0.3,learning_rate= 0.1,max_depth= 5, alpha= 10, random_state=22)\n",
    "xgb_model.fit(X_train, y_train)\n",
    "\n",
    "y_pred = xgb_model.predict(X_test)\n",
    "\n",
    "print(confusion_matrix(y_test, y_pred))"
   ]
  },
  {
   "cell_type": "code",
   "execution_count": 44,
   "metadata": {},
   "outputs": [
    {
     "data": {
      "text/plain": [
       "XGBClassifier(alpha=10, base_score=0.5, booster='gbtree', colsample_bylevel=1,\n",
       "              colsample_bynode=1, colsample_bytree=0.3,\n",
       "              enable_categorical=False, gamma=0, gpu_id=-1,\n",
       "              importance_type=None, interaction_constraints='',\n",
       "              learning_rate=0.1, max_delta_step=0, max_depth=5,\n",
       "              min_child_weight=1, missing=nan, monotone_constraints='()',\n",
       "              n_estimators=100, n_jobs=4, num_parallel_tree=1,\n",
       "              objective='reg:linear', predictor='auto', random_state=22,\n",
       "              reg_alpha=10, reg_lambda=1, scale_pos_weight=1, subsample=1,\n",
       "              tree_method='exact', validate_parameters=1, verbosity=None)"
      ]
     },
     "execution_count": 44,
     "metadata": {},
     "output_type": "execute_result"
    }
   ],
   "source": [
    "xgb_model"
   ]
  },
  {
   "cell_type": "code",
   "execution_count": 45,
   "metadata": {},
   "outputs": [
    {
     "name": "stdout",
     "output_type": "stream",
     "text": [
      "[01:16:45] WARNING: /Users/runner/miniforge3/conda-bld/xgboost-split_1645117948562/work/src/objective/regression_obj.cu:188: reg:linear is now deprecated in favor of reg:squarederror.\n"
     ]
    },
    {
     "name": "stderr",
     "output_type": "stream",
     "text": [
      "/Users/madhuri/opt/anaconda3/lib/python3.9/site-packages/xgboost/sklearn.py:1224: UserWarning: The use of label encoder in XGBClassifier is deprecated and will be removed in a future release. To remove this warning, do the following: 1) Pass option use_label_encoder=False when constructing XGBClassifier object; and 2) Encode your labels (y) as integers starting with 0, i.e. 0, 1, 2, ..., [num_class - 1].\n",
      "  warnings.warn(label_encoder_deprecation_msg, UserWarning)\n"
     ]
    },
    {
     "name": "stdout",
     "output_type": "stream",
     "text": [
      "[[950 111]\n",
      " [152 196]]\n"
     ]
    }
   ],
   "source": [
    "\n",
    "## Tuning the base model again - Model 3\n",
    "\n",
    "xgb_model = xgb.XGBClassifier(objective=\"reg:linear\",colsample_bytree= 0.3,learning_rate= 0.1,max_depth= 7, alpha= 8, random_state=22)\n",
    "xgb_model.fit(X_train, y_train)\n",
    "\n",
    "y_pred = xgb_model.predict(X_test)\n",
    "\n",
    "print(confusion_matrix(y_test, y_pred))"
   ]
  },
  {
   "cell_type": "code",
   "execution_count": 46,
   "metadata": {},
   "outputs": [
    {
     "data": {
      "text/plain": [
       "XGBClassifier(alpha=8, base_score=0.5, booster='gbtree', colsample_bylevel=1,\n",
       "              colsample_bynode=1, colsample_bytree=0.3,\n",
       "              enable_categorical=False, gamma=0, gpu_id=-1,\n",
       "              importance_type=None, interaction_constraints='',\n",
       "              learning_rate=0.1, max_delta_step=0, max_depth=7,\n",
       "              min_child_weight=1, missing=nan, monotone_constraints='()',\n",
       "              n_estimators=100, n_jobs=4, num_parallel_tree=1,\n",
       "              objective='reg:linear', predictor='auto', random_state=22,\n",
       "              reg_alpha=8, reg_lambda=1, scale_pos_weight=1, subsample=1,\n",
       "              tree_method='exact', validate_parameters=1, verbosity=None)"
      ]
     },
     "execution_count": 46,
     "metadata": {},
     "output_type": "execute_result"
    }
   ],
   "source": [
    "xgb_model"
   ]
  },
  {
   "cell_type": "code",
   "execution_count": 47,
   "metadata": {},
   "outputs": [
    {
     "name": "stdout",
     "output_type": "stream",
     "text": [
      "In above XGB models tuning the hyper parameters  -Model 1, Model 2 and Model 3. Model 2 has optimum performance\n"
     ]
    }
   ],
   "source": [
    "print(\"In above XGB models tuning the hyper parameters  -Model 1, Model 2 and Model 3. Model 2 has optimum performance\")"
   ]
  },
  {
   "cell_type": "code",
   "execution_count": null,
   "metadata": {},
   "outputs": [],
   "source": []
  },
  {
   "cell_type": "code",
   "execution_count": 48,
   "metadata": {},
   "outputs": [
    {
     "name": "stdout",
     "output_type": "stream",
     "text": [
      "[01:16:47] WARNING: /Users/runner/miniforge3/conda-bld/xgboost-split_1645117948562/work/src/objective/regression_obj.cu:188: reg:linear is now deprecated in favor of reg:squarederror.\n",
      "[01:16:47] WARNING: /Users/runner/miniforge3/conda-bld/xgboost-split_1645117948562/work/src/objective/regression_obj.cu:188: reg:linear is now deprecated in favor of reg:squarederror.\n",
      "[01:16:47] WARNING: /Users/runner/miniforge3/conda-bld/xgboost-split_1645117948562/work/src/objective/regression_obj.cu:188: reg:linear is now deprecated in favor of reg:squarederror.\n"
     ]
    }
   ],
   "source": [
    "# Using Dmatrix in XGBoost, as it supports and gives it acclaimed performance and efficiency gains.\n",
    "data_dmatrix = xgb.DMatrix(data=X_train,label=y_train)\n",
    "\n",
    "#building a 3-fold cross validation model by invoking XGBoost's cv() method and store the results in a cv_results DataFrame.\n",
    "params = {\"objective\":\"reg:linear\",'colsample_bytree': 0.3,'learning_rate': 0.1,\n",
    "                'max_depth': 5, 'alpha': 10}\n",
    "\n",
    "cv_results = xgb.cv(dtrain=data_dmatrix, params=params, nfold=3,\n",
    "                    num_boost_round=50,early_stopping_rounds=10,metrics=\"rmse\", as_pandas=True, seed=123)\n"
   ]
  },
  {
   "cell_type": "code",
   "execution_count": null,
   "metadata": {},
   "outputs": [],
   "source": []
  },
  {
   "cell_type": "code",
   "execution_count": 49,
   "metadata": {},
   "outputs": [
    {
     "data": {
      "text/html": [
       "<div>\n",
       "<style scoped>\n",
       "    .dataframe tbody tr th:only-of-type {\n",
       "        vertical-align: middle;\n",
       "    }\n",
       "\n",
       "    .dataframe tbody tr th {\n",
       "        vertical-align: top;\n",
       "    }\n",
       "\n",
       "    .dataframe thead th {\n",
       "        text-align: right;\n",
       "    }\n",
       "</style>\n",
       "<table border=\"1\" class=\"dataframe\">\n",
       "  <thead>\n",
       "    <tr style=\"text-align: right;\">\n",
       "      <th></th>\n",
       "      <th>train-rmse-mean</th>\n",
       "      <th>train-rmse-std</th>\n",
       "      <th>test-rmse-mean</th>\n",
       "      <th>test-rmse-std</th>\n",
       "    </tr>\n",
       "  </thead>\n",
       "  <tbody>\n",
       "    <tr>\n",
       "      <th>0</th>\n",
       "      <td>0.483976</td>\n",
       "      <td>0.000409</td>\n",
       "      <td>0.484120</td>\n",
       "      <td>0.000260</td>\n",
       "    </tr>\n",
       "    <tr>\n",
       "      <th>1</th>\n",
       "      <td>0.470654</td>\n",
       "      <td>0.000409</td>\n",
       "      <td>0.470769</td>\n",
       "      <td>0.000999</td>\n",
       "    </tr>\n",
       "    <tr>\n",
       "      <th>2</th>\n",
       "      <td>0.456192</td>\n",
       "      <td>0.001385</td>\n",
       "      <td>0.456990</td>\n",
       "      <td>0.000477</td>\n",
       "    </tr>\n",
       "    <tr>\n",
       "      <th>3</th>\n",
       "      <td>0.443991</td>\n",
       "      <td>0.003020</td>\n",
       "      <td>0.445374</td>\n",
       "      <td>0.000816</td>\n",
       "    </tr>\n",
       "    <tr>\n",
       "      <th>4</th>\n",
       "      <td>0.433587</td>\n",
       "      <td>0.001794</td>\n",
       "      <td>0.435227</td>\n",
       "      <td>0.001459</td>\n",
       "    </tr>\n",
       "  </tbody>\n",
       "</table>\n",
       "</div>"
      ],
      "text/plain": [
       "   train-rmse-mean  train-rmse-std  test-rmse-mean  test-rmse-std\n",
       "0         0.483976        0.000409        0.484120       0.000260\n",
       "1         0.470654        0.000409        0.470769       0.000999\n",
       "2         0.456192        0.001385        0.456990       0.000477\n",
       "3         0.443991        0.003020        0.445374       0.000816\n",
       "4         0.433587        0.001794        0.435227       0.001459"
      ]
     },
     "execution_count": 49,
     "metadata": {},
     "output_type": "execute_result"
    }
   ],
   "source": [
    "cv_results.head()"
   ]
  },
  {
   "cell_type": "code",
   "execution_count": 50,
   "metadata": {},
   "outputs": [
    {
     "name": "stdout",
     "output_type": "stream",
     "text": [
      "49    0.370593\n",
      "Name: test-rmse-mean, dtype: float64\n"
     ]
    }
   ],
   "source": [
    "#Extract and print the final boosting round metric.\n",
    "print((cv_results[\"test-rmse-mean\"]).tail(1))"
   ]
  },
  {
   "cell_type": "markdown",
   "metadata": {},
   "source": [
    "# Part B\n",
    "\n",
    "   "
   ]
  },
  {
   "cell_type": "markdown",
   "metadata": {},
   "source": [
    "STEPS AND TASK [30 Marks]:\n",
    "1. Build a simple ML workflow which will accept a single ‘.csv’ file as input and return a trained base model that can be used for predictions. You can use\n",
    "1 Dataset from Part 1 (single/merged).\n",
    "2. Create separate functions for various purposes.\n",
    "3. Various base models should be trained to select the best performing model.\n",
    "4. Pickle file should be saved for the best performing model.\n",
    "Include best coding practices in the code:\n",
    "• Modularization\n",
    "• Maintainability\n",
    "• Well commented code etc"
   ]
  },
  {
   "cell_type": "markdown",
   "metadata": {},
   "source": [
    "Create separate function fo every step individually.\n",
    "For Example: Separate function to remove null values, separate function for normalization etc.\n",
    "On top of it, if you could build some rule based logic, you’ll gain better experience.\n",
    "2. Once you are done with building smaller functions, you can group similar functions into another function to proceed with.\n",
    "For Example: create a function ‘preprocessing_’ and call all the preprocessing related functions within that function.\n",
    "3. Once done with this, Stack all the functions sequentially within ‘main’ function to conclude.\n",
    "4. Here, knowledge and skills required are of Supervised Learning and Python module only.\n",
    "5. By building function modules in workflows, you will start gaining industry best practices as you go further in the AIML program else only marks are gained with\n",
    "traditional approach of programming.\n",
    "6. If this project is solved by traditional approach, evaluation will be done out of 20 Marks. And if industry approach is followed successfully, bonus of 10 marks\n",
    "will awarded and evaluation will be done out of 30"
   ]
  },
  {
   "cell_type": "code",
   "execution_count": 51,
   "metadata": {},
   "outputs": [],
   "source": [
    "def remove_null(df):\n",
    "       df.dropna(inplace=True)  # Drops all the rows that have atleast one missing values\n",
    "       return df\n"
   ]
  },
  {
   "cell_type": "code",
   "execution_count": 52,
   "metadata": {},
   "outputs": [],
   "source": [
    "def missing_vales(df):\n",
    "    \n",
    "    choice = 1 #input(\"Enter \\n 1.Delete rows with missing values\\n\n",
    "   # choice = 2.Impute values median \\n \")\n",
    "   \n",
    "    if(int(choice)==1):\n",
    "             df.dropna(axis=0,inplace= True)\n",
    "            \n",
    "    else:\n",
    "             df.fillna(df.median())\n",
    "  \n",
    "    return df\n",
    "  "
   ]
  },
  {
   "cell_type": "code",
   "execution_count": 53,
   "metadata": {},
   "outputs": [],
   "source": [
    "def handle_category_columns(dataframe,binary_catcol_list,onehot_catcol_list):\n",
    "    \n",
    "    replaceStruct = {}\n",
    "    for feature in dataframe.columns: # Loop through all columns in the dataframe\n",
    "        if dataframe[feature].dtype == 'object': # Only apply for columns with categorical strings\n",
    "            dataframe[feature] = pd.Categorical(dataframe[feature])# Replace strings with an integer\n",
    "\n",
    "    for col in binary_catcol_list:\n",
    "       replaceStruct.update({ col: {\"No\": 0, \"Yes\": 1} })        \n",
    "            \n",
    "    dataframe=dataframe.replace(replaceStruct)\n",
    "    dataframe=pd.get_dummies(dataframe, columns=onehot_catcol_list)\n",
    "    return dataframe\n",
    "   "
   ]
  },
  {
   "cell_type": "code",
   "execution_count": 54,
   "metadata": {},
   "outputs": [],
   "source": [
    "def handle_nummericdata(dataframe,float_col_list):\n",
    "    \n",
    "    for col in float_col_list:\n",
    "        dataframe = dataframe.astype({col: float}, errors='ignore')\n",
    "        dataframe[col].fillna(0, inplace = True)  \n",
    "    \n",
    "    return dataframe"
   ]
  },
  {
   "cell_type": "code",
   "execution_count": 55,
   "metadata": {},
   "outputs": [],
   "source": [
    "def data_preprocessing(dataframe):\n",
    "              \n",
    "               #creating separate column lists for float data type and category data types\n",
    "               float_col_list = [\"MonthlyCharges\",\"TotalCharges\"]\n",
    "               binary_catcol_list = [\"PaperlessBilling\",\"Churn\"]\n",
    "               onehot_catcol_list=[\"Contract\",\"PaymentMethod\",\"OnlineBackup\",\"DeviceProtection\",\"TechSupport\",\"StreamingTV\",\"StreamingMovies\"]\n",
    "    \n",
    "               dataframe = remove_null(dataframe)\n",
    "               dataframe = missing_vales(dataframe)\n",
    "               dataframe = handle_nummericdata(dataframe,float_col_list)\n",
    "               dataframe = handle_category_columns(dataframe,binary_catcol_list,onehot_catcol_list)\n",
    "               \n",
    "               return dataframe                  "
   ]
  },
  {
   "cell_type": "code",
   "execution_count": 56,
   "metadata": {},
   "outputs": [],
   "source": [
    "\n",
    "def evaluate_model(model, y_test,pred_test):\n",
    "#evaluating the model\n",
    "            print(\"Evaluating the model........\\n\")\n",
    "            accuracy=accuracy_score(y_test, pred_test)\n",
    "            if(int(model) == 1):\n",
    "                print('Logistic Regression Accuracy: ',np.round(accuracy,2))\n",
    "            elif(int(model) == 2):\n",
    "                print('KNN Accuracy: ',np.round(accuracy,2))\n",
    "            else:\n",
    "                print('NaiveBayes Accuracy: ',np.round(accuracy,2))\n",
    "                \n",
    "            print(\"***************************************\\n\")\n",
    "            \n",
    "           \n"
   ]
  },
  {
   "cell_type": "code",
   "execution_count": 57,
   "metadata": {},
   "outputs": [],
   "source": [
    "def reading_csv(filename):\n",
    "                    dataframe = pd.read_csv(filename,na_values = ' ')\n",
    "                    #print(dataframe.shape)\n",
    "                    return dataframe"
   ]
  },
  {
   "cell_type": "code",
   "execution_count": 58,
   "metadata": {},
   "outputs": [],
   "source": [
    "def main_workflow(filename):\n",
    "                    \n",
    "                    \n",
    "                    #reading csv\n",
    "                    dataframe = reading_csv(filename)\n",
    "                    \n",
    "                    #dropping ID column\n",
    "                    dataframe = dataframe.drop('customerID', axis =1 ) \n",
    "                    \n",
    "                    #preprocessing the data\n",
    "                    dataframe = data_preprocessing(dataframe)\n",
    "                    \n",
    "                    \n",
    "                    X = dataframe.drop(columns= ['Churn'])\n",
    "                    y = dataframe.Churn\n",
    "                    \n",
    "                    ##Split into training and test set\n",
    "                    X_train, X_test, y_train, y_test = train_test_split(X, y, test_size=0.30,random_state=42)\n",
    "\n",
    "\n",
    "                    choice = \"1\"\n",
    "                        \n",
    "                    while choice in (\"1\",\"2\",\"3\",\"4\"):\n",
    "                          \n",
    "                            choice = input(\"Enter \\n 1.LogisticRegression\\n 2.KNN\\n 3.Naive Baiye \\n 4.None\\n\")\n",
    "                            \n",
    "                            if int(choice) == 1: \n",
    "                                        logreg = LogisticRegression(random_state=1,max_iter=10000)\n",
    "                                        logreg.fit(X_train, y_train)\n",
    "                                        #predict on test\n",
    "                                        y_predict = logreg.predict(X_test)\n",
    "                                        model_score = logreg.score(X_test, y_test)\n",
    "                                        print(logreg)\n",
    "                                        evaluate_model(\"1\",y_test,y_predict)\n",
    "                                        continue\n",
    "\n",
    "                            elif (int(choice) == 2):\n",
    "                                        NNH = KNeighborsClassifier(n_neighbors= 3 , weights = 'distance' )\n",
    "                                        # Call Nearest Neighbour algorithm\n",
    "                                        NNH.fit(X_train, y_train)\n",
    "                                        predicted_labels = NNH.predict(X_test)\n",
    "                                        print(NNH)\n",
    "                                        evaluate_model(\"2\",y_test,predicted_labels)\n",
    "                                        continue\n",
    "                                        \n",
    "                            elif (int(choice) == 3):\n",
    "                                        NB_model = GaussianNB()\n",
    "                                        NB_model.fit(X_train, y_train.ravel())\n",
    "                                        predicted_labels = NB_model.predict(X_test)\n",
    "                                        print(NB_model)\n",
    "                                        evaluate_model(\"3\",y_test,predicted_labels)\n",
    "                                        continue\n",
    "\n",
    "                            else:\n",
    "                                        break\n",
    "                     \n",
    "                    else:\n",
    "                        print(\"Enter valid input\")\n",
    "                        \n",
    "\n",
    "                   "
   ]
  },
  {
   "cell_type": "code",
   "execution_count": null,
   "metadata": {},
   "outputs": [],
   "source": []
  },
  {
   "cell_type": "code",
   "execution_count": 59,
   "metadata": {},
   "outputs": [
    {
     "name": "stdout",
     "output_type": "stream",
     "text": [
      "Enter \n",
      " 1.LogisticRegression\n",
      " 2.KNN\n",
      " 3.Naive Baiye \n",
      " 4.None\n",
      "1\n",
      "LogisticRegression(max_iter=10000, random_state=1)\n",
      "Evaluating the model........\n",
      "\n",
      "Logistic Regression Accuracy:  0.78\n",
      "***************************************\n",
      "\n",
      "Enter \n",
      " 1.LogisticRegression\n",
      " 2.KNN\n",
      " 3.Naive Baiye \n",
      " 4.None\n",
      "2\n",
      "KNeighborsClassifier(n_neighbors=3, weights='distance')\n",
      "Evaluating the model........\n",
      "\n",
      "KNN Accuracy:  0.74\n",
      "***************************************\n",
      "\n",
      "Enter \n",
      " 1.LogisticRegression\n",
      " 2.KNN\n",
      " 3.Naive Baiye \n",
      " 4.None\n",
      "3\n",
      "GaussianNB()\n",
      "Evaluating the model........\n",
      "\n",
      "NaiveBayes Accuracy:  0.68\n",
      "***************************************\n",
      "\n",
      "Enter \n",
      " 1.LogisticRegression\n",
      " 2.KNN\n",
      " 3.Naive Baiye \n",
      " 4.None\n",
      "4\n"
     ]
    }
   ],
   "source": [
    "#below method is the start point for ML workflow.\n",
    "main_workflow('TelcomCustomer-Churn_2.csv')"
   ]
  },
  {
   "cell_type": "code",
   "execution_count": null,
   "metadata": {},
   "outputs": [],
   "source": []
  },
  {
   "cell_type": "code",
   "execution_count": null,
   "metadata": {},
   "outputs": [],
   "source": []
  }
 ],
 "metadata": {
  "kernelspec": {
   "display_name": "Python 3 (ipykernel)",
   "language": "python",
   "name": "python3"
  },
  "language_info": {
   "codemirror_mode": {
    "name": "ipython",
    "version": 3
   },
   "file_extension": ".py",
   "mimetype": "text/x-python",
   "name": "python",
   "nbconvert_exporter": "python",
   "pygments_lexer": "ipython3",
   "version": "3.9.7"
  }
 },
 "nbformat": 4,
 "nbformat_minor": 2
}
