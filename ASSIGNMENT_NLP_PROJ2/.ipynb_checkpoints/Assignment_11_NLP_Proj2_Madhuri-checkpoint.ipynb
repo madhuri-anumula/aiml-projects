{
 "cells": [
  {
   "cell_type": "code",
   "execution_count": null,
   "metadata": {
    "id": "w__S-pdKbp07"
   },
   "outputs": [],
   "source": []
  },
  {
   "cell_type": "markdown",
   "metadata": {
    "id": "fkJAQRptbvf5"
   },
   "source": [
    "\n",
    "# **Assignment_NLP_Proj2_Madhuri.A**"
   ]
  },
  {
   "cell_type": "markdown",
   "metadata": {
    "id": "1gKXpUID3m4G"
   },
   "source": []
  },
  {
   "cell_type": "code",
   "execution_count": null,
   "metadata": {
    "id": "9i590L387cO2"
   },
   "outputs": [],
   "source": [
    "## PART A"
   ]
  },
  {
   "cell_type": "code",
   "execution_count": 63,
   "metadata": {
    "colab": {
     "base_uri": "https://localhost:8080/"
    },
    "id": "lvYXb_apmbeF",
    "outputId": "0037af40-f0a0-4ff2-96a5-b83cb243749a"
   },
   "outputs": [
    {
     "name": "stderr",
     "output_type": "stream",
     "text": [
      "[nltk_data] Downloading collection 'all'\n",
      "[nltk_data]    | \n",
      "[nltk_data]    | Downloading package abc to /root/nltk_data...\n",
      "[nltk_data]    |   Package abc is already up-to-date!\n",
      "[nltk_data]    | Downloading package alpino to /root/nltk_data...\n",
      "[nltk_data]    |   Package alpino is already up-to-date!\n",
      "[nltk_data]    | Downloading package averaged_perceptron_tagger to\n",
      "[nltk_data]    |     /root/nltk_data...\n",
      "[nltk_data]    |   Package averaged_perceptron_tagger is already up-\n",
      "[nltk_data]    |       to-date!\n",
      "[nltk_data]    | Downloading package averaged_perceptron_tagger_ru to\n",
      "[nltk_data]    |     /root/nltk_data...\n",
      "[nltk_data]    |   Package averaged_perceptron_tagger_ru is already\n",
      "[nltk_data]    |       up-to-date!\n",
      "[nltk_data]    | Downloading package basque_grammars to\n",
      "[nltk_data]    |     /root/nltk_data...\n",
      "[nltk_data]    |   Package basque_grammars is already up-to-date!\n",
      "[nltk_data]    | Downloading package biocreative_ppi to\n",
      "[nltk_data]    |     /root/nltk_data...\n",
      "[nltk_data]    |   Package biocreative_ppi is already up-to-date!\n",
      "[nltk_data]    | Downloading package bllip_wsj_no_aux to\n",
      "[nltk_data]    |     /root/nltk_data...\n",
      "[nltk_data]    |   Package bllip_wsj_no_aux is already up-to-date!\n",
      "[nltk_data]    | Downloading package book_grammars to\n",
      "[nltk_data]    |     /root/nltk_data...\n",
      "[nltk_data]    |   Package book_grammars is already up-to-date!\n",
      "[nltk_data]    | Downloading package brown to /root/nltk_data...\n",
      "[nltk_data]    |   Package brown is already up-to-date!\n",
      "[nltk_data]    | Downloading package brown_tei to /root/nltk_data...\n",
      "[nltk_data]    |   Package brown_tei is already up-to-date!\n",
      "[nltk_data]    | Downloading package cess_cat to /root/nltk_data...\n",
      "[nltk_data]    |   Package cess_cat is already up-to-date!\n",
      "[nltk_data]    | Downloading package cess_esp to /root/nltk_data...\n",
      "[nltk_data]    |   Package cess_esp is already up-to-date!\n",
      "[nltk_data]    | Downloading package chat80 to /root/nltk_data...\n",
      "[nltk_data]    |   Package chat80 is already up-to-date!\n",
      "[nltk_data]    | Downloading package city_database to\n",
      "[nltk_data]    |     /root/nltk_data...\n",
      "[nltk_data]    |   Package city_database is already up-to-date!\n",
      "[nltk_data]    | Downloading package cmudict to /root/nltk_data...\n",
      "[nltk_data]    |   Package cmudict is already up-to-date!\n",
      "[nltk_data]    | Downloading package comparative_sentences to\n",
      "[nltk_data]    |     /root/nltk_data...\n",
      "[nltk_data]    |   Package comparative_sentences is already up-to-\n",
      "[nltk_data]    |       date!\n",
      "[nltk_data]    | Downloading package comtrans to /root/nltk_data...\n",
      "[nltk_data]    |   Package comtrans is already up-to-date!\n",
      "[nltk_data]    | Downloading package conll2000 to /root/nltk_data...\n",
      "[nltk_data]    |   Package conll2000 is already up-to-date!\n",
      "[nltk_data]    | Downloading package conll2002 to /root/nltk_data...\n",
      "[nltk_data]    |   Package conll2002 is already up-to-date!\n",
      "[nltk_data]    | Downloading package conll2007 to /root/nltk_data...\n",
      "[nltk_data]    |   Package conll2007 is already up-to-date!\n",
      "[nltk_data]    | Downloading package crubadan to /root/nltk_data...\n",
      "[nltk_data]    |   Package crubadan is already up-to-date!\n",
      "[nltk_data]    | Downloading package dependency_treebank to\n",
      "[nltk_data]    |     /root/nltk_data...\n",
      "[nltk_data]    |   Package dependency_treebank is already up-to-date!\n",
      "[nltk_data]    | Downloading package dolch to /root/nltk_data...\n",
      "[nltk_data]    |   Package dolch is already up-to-date!\n",
      "[nltk_data]    | Downloading package europarl_raw to\n",
      "[nltk_data]    |     /root/nltk_data...\n",
      "[nltk_data]    |   Package europarl_raw is already up-to-date!\n",
      "[nltk_data]    | Downloading package extended_omw to\n",
      "[nltk_data]    |     /root/nltk_data...\n",
      "[nltk_data]    |   Package extended_omw is already up-to-date!\n",
      "[nltk_data]    | Downloading package floresta to /root/nltk_data...\n",
      "[nltk_data]    |   Package floresta is already up-to-date!\n",
      "[nltk_data]    | Downloading package framenet_v15 to\n",
      "[nltk_data]    |     /root/nltk_data...\n",
      "[nltk_data]    |   Package framenet_v15 is already up-to-date!\n",
      "[nltk_data]    | Downloading package framenet_v17 to\n",
      "[nltk_data]    |     /root/nltk_data...\n",
      "[nltk_data]    |   Package framenet_v17 is already up-to-date!\n",
      "[nltk_data]    | Downloading package gazetteers to /root/nltk_data...\n",
      "[nltk_data]    |   Package gazetteers is already up-to-date!\n",
      "[nltk_data]    | Downloading package genesis to /root/nltk_data...\n",
      "[nltk_data]    |   Package genesis is already up-to-date!\n",
      "[nltk_data]    | Downloading package gutenberg to /root/nltk_data...\n",
      "[nltk_data]    |   Package gutenberg is already up-to-date!\n",
      "[nltk_data]    | Downloading package ieer to /root/nltk_data...\n",
      "[nltk_data]    |   Package ieer is already up-to-date!\n",
      "[nltk_data]    | Downloading package inaugural to /root/nltk_data...\n",
      "[nltk_data]    |   Package inaugural is already up-to-date!\n",
      "[nltk_data]    | Downloading package indian to /root/nltk_data...\n",
      "[nltk_data]    |   Package indian is already up-to-date!\n",
      "[nltk_data]    | Downloading package jeita to /root/nltk_data...\n",
      "[nltk_data]    |   Package jeita is already up-to-date!\n",
      "[nltk_data]    | Downloading package kimmo to /root/nltk_data...\n",
      "[nltk_data]    |   Package kimmo is already up-to-date!\n",
      "[nltk_data]    | Downloading package knbc to /root/nltk_data...\n",
      "[nltk_data]    |   Package knbc is already up-to-date!\n",
      "[nltk_data]    | Downloading package large_grammars to\n",
      "[nltk_data]    |     /root/nltk_data...\n",
      "[nltk_data]    |   Package large_grammars is already up-to-date!\n",
      "[nltk_data]    | Downloading package lin_thesaurus to\n",
      "[nltk_data]    |     /root/nltk_data...\n",
      "[nltk_data]    |   Package lin_thesaurus is already up-to-date!\n",
      "[nltk_data]    | Downloading package mac_morpho to /root/nltk_data...\n",
      "[nltk_data]    |   Package mac_morpho is already up-to-date!\n",
      "[nltk_data]    | Downloading package machado to /root/nltk_data...\n",
      "[nltk_data]    |   Package machado is already up-to-date!\n",
      "[nltk_data]    | Downloading package masc_tagged to /root/nltk_data...\n",
      "[nltk_data]    |   Package masc_tagged is already up-to-date!\n",
      "[nltk_data]    | Downloading package maxent_ne_chunker to\n",
      "[nltk_data]    |     /root/nltk_data...\n",
      "[nltk_data]    |   Package maxent_ne_chunker is already up-to-date!\n",
      "[nltk_data]    | Downloading package maxent_treebank_pos_tagger to\n",
      "[nltk_data]    |     /root/nltk_data...\n",
      "[nltk_data]    |   Package maxent_treebank_pos_tagger is already up-\n",
      "[nltk_data]    |       to-date!\n",
      "[nltk_data]    | Downloading package moses_sample to\n",
      "[nltk_data]    |     /root/nltk_data...\n",
      "[nltk_data]    |   Package moses_sample is already up-to-date!\n",
      "[nltk_data]    | Downloading package movie_reviews to\n",
      "[nltk_data]    |     /root/nltk_data...\n",
      "[nltk_data]    |   Package movie_reviews is already up-to-date!\n",
      "[nltk_data]    | Downloading package mte_teip5 to /root/nltk_data...\n",
      "[nltk_data]    |   Package mte_teip5 is already up-to-date!\n",
      "[nltk_data]    | Downloading package mwa_ppdb to /root/nltk_data...\n",
      "[nltk_data]    |   Package mwa_ppdb is already up-to-date!\n",
      "[nltk_data]    | Downloading package names to /root/nltk_data...\n",
      "[nltk_data]    |   Package names is already up-to-date!\n",
      "[nltk_data]    | Downloading package nombank.1.0 to /root/nltk_data...\n",
      "[nltk_data]    |   Package nombank.1.0 is already up-to-date!\n",
      "[nltk_data]    | Downloading package nonbreaking_prefixes to\n",
      "[nltk_data]    |     /root/nltk_data...\n",
      "[nltk_data]    |   Package nonbreaking_prefixes is already up-to-date!\n",
      "[nltk_data]    | Downloading package nps_chat to /root/nltk_data...\n",
      "[nltk_data]    |   Package nps_chat is already up-to-date!\n",
      "[nltk_data]    | Downloading package omw to /root/nltk_data...\n",
      "[nltk_data]    |   Package omw is already up-to-date!\n",
      "[nltk_data]    | Downloading package omw-1.4 to /root/nltk_data...\n",
      "[nltk_data]    |   Package omw-1.4 is already up-to-date!\n",
      "[nltk_data]    | Downloading package opinion_lexicon to\n",
      "[nltk_data]    |     /root/nltk_data...\n",
      "[nltk_data]    |   Package opinion_lexicon is already up-to-date!\n",
      "[nltk_data]    | Downloading package panlex_swadesh to\n",
      "[nltk_data]    |     /root/nltk_data...\n",
      "[nltk_data]    |   Package panlex_swadesh is already up-to-date!\n",
      "[nltk_data]    | Downloading package paradigms to /root/nltk_data...\n",
      "[nltk_data]    |   Package paradigms is already up-to-date!\n",
      "[nltk_data]    | Downloading package pe08 to /root/nltk_data...\n",
      "[nltk_data]    |   Package pe08 is already up-to-date!\n",
      "[nltk_data]    | Downloading package perluniprops to\n",
      "[nltk_data]    |     /root/nltk_data...\n",
      "[nltk_data]    |   Package perluniprops is already up-to-date!\n",
      "[nltk_data]    | Downloading package pil to /root/nltk_data...\n",
      "[nltk_data]    |   Package pil is already up-to-date!\n",
      "[nltk_data]    | Downloading package pl196x to /root/nltk_data...\n",
      "[nltk_data]    |   Package pl196x is already up-to-date!\n",
      "[nltk_data]    | Downloading package porter_test to /root/nltk_data...\n",
      "[nltk_data]    |   Package porter_test is already up-to-date!\n",
      "[nltk_data]    | Downloading package ppattach to /root/nltk_data...\n",
      "[nltk_data]    |   Package ppattach is already up-to-date!\n",
      "[nltk_data]    | Downloading package problem_reports to\n",
      "[nltk_data]    |     /root/nltk_data...\n",
      "[nltk_data]    |   Package problem_reports is already up-to-date!\n",
      "[nltk_data]    | Downloading package product_reviews_1 to\n",
      "[nltk_data]    |     /root/nltk_data...\n",
      "[nltk_data]    |   Package product_reviews_1 is already up-to-date!\n",
      "[nltk_data]    | Downloading package product_reviews_2 to\n",
      "[nltk_data]    |     /root/nltk_data...\n",
      "[nltk_data]    |   Package product_reviews_2 is already up-to-date!\n",
      "[nltk_data]    | Downloading package propbank to /root/nltk_data...\n",
      "[nltk_data]    |   Package propbank is already up-to-date!\n",
      "[nltk_data]    | Downloading package pros_cons to /root/nltk_data...\n",
      "[nltk_data]    |   Package pros_cons is already up-to-date!\n",
      "[nltk_data]    | Downloading package ptb to /root/nltk_data...\n",
      "[nltk_data]    |   Package ptb is already up-to-date!\n",
      "[nltk_data]    | Downloading package punkt to /root/nltk_data...\n",
      "[nltk_data]    |   Package punkt is already up-to-date!\n",
      "[nltk_data]    | Downloading package qc to /root/nltk_data...\n",
      "[nltk_data]    |   Package qc is already up-to-date!\n",
      "[nltk_data]    | Downloading package reuters to /root/nltk_data...\n",
      "[nltk_data]    |   Package reuters is already up-to-date!\n",
      "[nltk_data]    | Downloading package rslp to /root/nltk_data...\n",
      "[nltk_data]    |   Package rslp is already up-to-date!\n",
      "[nltk_data]    | Downloading package rte to /root/nltk_data...\n",
      "[nltk_data]    |   Package rte is already up-to-date!\n",
      "[nltk_data]    | Downloading package sample_grammars to\n",
      "[nltk_data]    |     /root/nltk_data...\n",
      "[nltk_data]    |   Package sample_grammars is already up-to-date!\n",
      "[nltk_data]    | Downloading package semcor to /root/nltk_data...\n",
      "[nltk_data]    |   Package semcor is already up-to-date!\n",
      "[nltk_data]    | Downloading package senseval to /root/nltk_data...\n",
      "[nltk_data]    |   Package senseval is already up-to-date!\n",
      "[nltk_data]    | Downloading package sentence_polarity to\n",
      "[nltk_data]    |     /root/nltk_data...\n",
      "[nltk_data]    |   Package sentence_polarity is already up-to-date!\n",
      "[nltk_data]    | Downloading package sentiwordnet to\n",
      "[nltk_data]    |     /root/nltk_data...\n",
      "[nltk_data]    |   Package sentiwordnet is already up-to-date!\n",
      "[nltk_data]    | Downloading package shakespeare to /root/nltk_data...\n",
      "[nltk_data]    |   Package shakespeare is already up-to-date!\n",
      "[nltk_data]    | Downloading package sinica_treebank to\n",
      "[nltk_data]    |     /root/nltk_data...\n",
      "[nltk_data]    |   Package sinica_treebank is already up-to-date!\n",
      "[nltk_data]    | Downloading package smultron to /root/nltk_data...\n",
      "[nltk_data]    |   Package smultron is already up-to-date!\n",
      "[nltk_data]    | Downloading package snowball_data to\n",
      "[nltk_data]    |     /root/nltk_data...\n",
      "[nltk_data]    |   Package snowball_data is already up-to-date!\n",
      "[nltk_data]    | Downloading package spanish_grammars to\n",
      "[nltk_data]    |     /root/nltk_data...\n",
      "[nltk_data]    |   Package spanish_grammars is already up-to-date!\n",
      "[nltk_data]    | Downloading package state_union to /root/nltk_data...\n",
      "[nltk_data]    |   Package state_union is already up-to-date!\n",
      "[nltk_data]    | Downloading package stopwords to /root/nltk_data...\n",
      "[nltk_data]    |   Package stopwords is already up-to-date!\n",
      "[nltk_data]    | Downloading package subjectivity to\n",
      "[nltk_data]    |     /root/nltk_data...\n",
      "[nltk_data]    |   Package subjectivity is already up-to-date!\n",
      "[nltk_data]    | Downloading package swadesh to /root/nltk_data...\n",
      "[nltk_data]    |   Package swadesh is already up-to-date!\n",
      "[nltk_data]    | Downloading package switchboard to /root/nltk_data...\n",
      "[nltk_data]    |   Package switchboard is already up-to-date!\n",
      "[nltk_data]    | Downloading package tagsets to /root/nltk_data...\n",
      "[nltk_data]    |   Package tagsets is already up-to-date!\n",
      "[nltk_data]    | Downloading package timit to /root/nltk_data...\n",
      "[nltk_data]    |   Package timit is already up-to-date!\n",
      "[nltk_data]    | Downloading package toolbox to /root/nltk_data...\n",
      "[nltk_data]    |   Package toolbox is already up-to-date!\n",
      "[nltk_data]    | Downloading package treebank to /root/nltk_data...\n",
      "[nltk_data]    |   Package treebank is already up-to-date!\n",
      "[nltk_data]    | Downloading package twitter_samples to\n",
      "[nltk_data]    |     /root/nltk_data...\n",
      "[nltk_data]    |   Package twitter_samples is already up-to-date!\n",
      "[nltk_data]    | Downloading package udhr to /root/nltk_data...\n",
      "[nltk_data]    |   Package udhr is already up-to-date!\n",
      "[nltk_data]    | Downloading package udhr2 to /root/nltk_data...\n",
      "[nltk_data]    |   Package udhr2 is already up-to-date!\n",
      "[nltk_data]    | Downloading package unicode_samples to\n",
      "[nltk_data]    |     /root/nltk_data...\n",
      "[nltk_data]    |   Package unicode_samples is already up-to-date!\n",
      "[nltk_data]    | Downloading package universal_tagset to\n",
      "[nltk_data]    |     /root/nltk_data...\n",
      "[nltk_data]    |   Package universal_tagset is already up-to-date!\n",
      "[nltk_data]    | Downloading package universal_treebanks_v20 to\n",
      "[nltk_data]    |     /root/nltk_data...\n",
      "[nltk_data]    |   Package universal_treebanks_v20 is already up-to-\n",
      "[nltk_data]    |       date!\n",
      "[nltk_data]    | Downloading package vader_lexicon to\n",
      "[nltk_data]    |     /root/nltk_data...\n",
      "[nltk_data]    |   Package vader_lexicon is already up-to-date!\n",
      "[nltk_data]    | Downloading package verbnet to /root/nltk_data...\n",
      "[nltk_data]    |   Package verbnet is already up-to-date!\n",
      "[nltk_data]    | Downloading package verbnet3 to /root/nltk_data...\n",
      "[nltk_data]    |   Package verbnet3 is already up-to-date!\n",
      "[nltk_data]    | Downloading package webtext to /root/nltk_data...\n",
      "[nltk_data]    |   Package webtext is already up-to-date!\n",
      "[nltk_data]    | Downloading package wmt15_eval to /root/nltk_data...\n",
      "[nltk_data]    |   Package wmt15_eval is already up-to-date!\n",
      "[nltk_data]    | Downloading package word2vec_sample to\n",
      "[nltk_data]    |     /root/nltk_data...\n",
      "[nltk_data]    |   Package word2vec_sample is already up-to-date!\n",
      "[nltk_data]    | Downloading package wordnet to /root/nltk_data...\n",
      "[nltk_data]    |   Package wordnet is already up-to-date!\n",
      "[nltk_data]    | Downloading package wordnet2021 to /root/nltk_data...\n",
      "[nltk_data]    |   Package wordnet2021 is already up-to-date!\n",
      "[nltk_data]    | Downloading package wordnet31 to /root/nltk_data...\n",
      "[nltk_data]    |   Package wordnet31 is already up-to-date!\n",
      "[nltk_data]    | Downloading package wordnet_ic to /root/nltk_data...\n",
      "[nltk_data]    |   Package wordnet_ic is already up-to-date!\n",
      "[nltk_data]    | Downloading package words to /root/nltk_data...\n",
      "[nltk_data]    |   Package words is already up-to-date!\n",
      "[nltk_data]    | Downloading package ycoe to /root/nltk_data...\n",
      "[nltk_data]    |   Package ycoe is already up-to-date!\n",
      "[nltk_data]    | \n",
      "[nltk_data]  Done downloading collection all\n"
     ]
    }
   ],
   "source": [
    "import pandas as pd\n",
    "import re\n",
    "import nltk\n",
    "import string\n",
    "import numpy as np\n",
    "\n",
    "import os\n",
    "import matplotlib.pyplot as plt\n",
    "import seaborn as sns\n",
    "%matplotlib inline\n",
    "\n",
    "nltk.download('all')\n",
    "from nltk.stem.wordnet import WordNetLemmatizer\n",
    "from nltk.stem import WordNetLemmatizer \n",
    "from nltk.tokenize import RegexpTokenizer\n",
    "from nltk.corpus import stopwords\n",
    "from sklearn.model_selection import train_test_split\n",
    "from sklearn.feature_extraction.text import CountVectorizer\n",
    "from sklearn.feature_extraction.text import TfidfVectorizer\n",
    "\n",
    "\n",
    "import random\n",
    "import bs4 as bs\n",
    "import urllib.request\n",
    "\n",
    "import tensorflow as tensorF \n",
    "from tensorflow import keras \n",
    "from tensorflow.keras.datasets import imdb\n",
    "\n",
    "from sklearn.model_selection import train_test_split\n",
    "from sklearn.tree import DecisionTreeClassifier\n",
    "from sklearn import metrics\n",
    "\n",
    "from sklearn.svm import SVC\n",
    "from sklearn.metrics import accuracy_score,f1_score,recall_score,precision_score, confusion_matrix\n",
    "from tensorflow.keras.initializers import Constant\n",
    "from sklearn.model_selection import train_test_split\n",
    "from tensorflow.keras.preprocessing import sequence\n",
    "\n",
    "import tensorflow as tf\n",
    "from tensorflow.keras.models import Sequential\n",
    "from tensorflow.keras.layers import Dense, Dropout, Embedding, Flatten\n",
    "from tensorflow.keras.callbacks import EarlyStopping\n",
    "from tensorflow.keras.models import Sequential\n",
    "from tensorflow.keras.layers import LSTM, Dense, Bidirectional, Embedding, Flatten, SpatialDropout1D\n",
    "import warnings\n",
    "warnings.filterwarnings(\"ignore\")"
   ]
  },
  {
   "cell_type": "code",
   "execution_count": 50,
   "metadata": {
    "colab": {
     "base_uri": "https://localhost:8080/"
    },
    "id": "KNUSu1oIsE2-",
    "outputId": "a8ccfefa-bd5a-43f8-fecf-d7fb46618630"
   },
   "outputs": [
    {
     "data": {
      "text/plain": [
       "True"
      ]
     },
     "execution_count": 50,
     "metadata": {},
     "output_type": "execute_result"
    }
   ],
   "source": [
    "# nltk downloaded (run only once)\n",
    "nltk.download('stopwords',quiet=True) # stopword library\n",
    "nltk.download('wordnet', quiet=True) # wordnet library\n",
    "nltk.download('words', quiet=True) # words library\n",
    "nltk.download('punkt', quiet=True) # tokenize library"
   ]
  },
  {
   "cell_type": "code",
   "execution_count": 51,
   "metadata": {
    "id": "aV55hOWlf63V"
   },
   "outputs": [],
   "source": [
    "#pip install tensorflow-gpu==2.0.0 "
   ]
  },
  {
   "cell_type": "code",
   "execution_count": null,
   "metadata": {
    "id": "3XUoIQQ-fvCa"
   },
   "outputs": [],
   "source": []
  },
  {
   "cell_type": "code",
   "execution_count": null,
   "metadata": {
    "id": "JChkbI04Opp2"
   },
   "outputs": [],
   "source": [
    "#PART A"
   ]
  },
  {
   "cell_type": "code",
   "execution_count": null,
   "metadata": {
    "id": "h_zjzKv9Ops6"
   },
   "outputs": [],
   "source": [
    "#1.Import and analyse the data set. [5 Marks] Hint: - Use `imdb.load_data()` method       -  Get train and test set          - Take 10000 most frequent words\n"
   ]
  },
  {
   "cell_type": "code",
   "execution_count": 53,
   "metadata": {
    "id": "K08aoSKkTWA6"
   },
   "outputs": [],
   "source": [
    "#1. Use the default parameters to keras.datasets.imdb.load_data\n",
    "top_words = 10000\n",
    "(x_train, y_train), (x_test, y_test) = imdb.load_data(num_words=top_words)"
   ]
  },
  {
   "cell_type": "code",
   "execution_count": null,
   "metadata": {
    "id": "JXpMwUk2ggMI"
   },
   "outputs": [],
   "source": []
  },
  {
   "cell_type": "code",
   "execution_count": null,
   "metadata": {
    "id": "jRF3yKykOpv4"
   },
   "outputs": [],
   "source": [
    "#2.Perform relevant sequence adding on the data. [5 Marks]\n"
   ]
  },
  {
   "cell_type": "code",
   "execution_count": 54,
   "metadata": {
    "colab": {
     "base_uri": "https://localhost:8080/"
    },
    "id": "Jh0s9iX9h8fi",
    "outputId": "eeda4718-9acd-4523-f720-d75d32e8f9ed"
   },
   "outputs": [
    {
     "name": "stdout",
     "output_type": "stream",
     "text": [
      "> this film was just brilliant casting location scenery story direction everyone's really suited the part they played and you could just imagine being there robert ? is an amazing actor and now the same being director ? father came from the same scottish island as myself so i loved the fact there was a real connection with this film the witty remarks throughout the film were great it was just brilliant so much that i bought the film as soon as it was released for ? and would recommend it to everyone to watch and the fly fishing was amazing really cried at the end it was so sad and you know what they say if you cry at a film it must have been good and this definitely was also ? to the two little boy's that played the ? of norman and paul they were just brilliant children are often left out of the ? list i think because the stars that play them all grown up are such a big profile for the whole film but these children are amazing and should be praised for what they have done don't you think the whole story was so lovely because it was true and was someone's life after all that was shared with us all\n"
     ]
    }
   ],
   "source": [
    "word_dict = imdb.get_word_index()\n",
    "word_dict = { key:(value + 3) for key, value in word_dict.items() }\n",
    "word_dict[''] = 0                                                    # Padding\n",
    "word_dict['>'] = 1                                                   # Start\n",
    "word_dict['?'] = 2                                                   # Unknown word\n",
    "reverse_word_dict = { value:key for key, value in word_dict.items() }\n",
    "print(' '.join(reverse_word_dict[id] for id in x_train[0]))"
   ]
  },
  {
   "cell_type": "code",
   "execution_count": 55,
   "metadata": {
    "id": "qiOi8705iCLl"
   },
   "outputs": [],
   "source": [
    "max_review_length = 500\n",
    "x_train =sequence.pad_sequences(x_train, maxlen=max_review_length)\n",
    "x_test = sequence.pad_sequences(x_test, maxlen=max_review_length)"
   ]
  },
  {
   "cell_type": "code",
   "execution_count": null,
   "metadata": {
    "id": "AtzoEmyDghQB"
   },
   "outputs": [],
   "source": []
  },
  {
   "cell_type": "code",
   "execution_count": null,
   "metadata": {
    "id": "mkRhC86cOpyk"
   },
   "outputs": [],
   "source": [
    "#3.Perform following data analysis: [5 Marks]\n",
    "#•Print shape of features and labels\n",
    "#•Print value of any one feature and it's label\n"
   ]
  },
  {
   "cell_type": "code",
   "execution_count": 56,
   "metadata": {
    "colab": {
     "base_uri": "https://localhost:8080/"
    },
    "id": "qbdvvpR-qs1I",
    "outputId": "c4345f41-b4ec-41b4-91a7-93b233097d6f"
   },
   "outputs": [
    {
     "name": "stdout",
     "output_type": "stream",
     "text": [
      "x_train shape- (25000, 500)\n",
      "y_train shape (25000,)\n",
      "x_test shape-  (25000, 500)\n",
      "y_test.shape (25000,)\n"
     ]
    }
   ],
   "source": [
    "print(\"x_train shape-\",x_train.shape)\n",
    "print(\"y_train shape\", y_train.shape)\n",
    "print(\"x_test shape- \", x_test.shape)\n",
    "print(\"y_test.shape\", y_test.shape)"
   ]
  },
  {
   "cell_type": "code",
   "execution_count": 57,
   "metadata": {
    "colab": {
     "base_uri": "https://localhost:8080/"
    },
    "id": "ZZCw2aMNw2zS",
    "outputId": "314b1b4b-b4ee-4f0f-b762-0ee6cb2a57d0"
   },
   "outputs": [
    {
     "name": "stdout",
     "output_type": "stream",
     "text": [
      "sample x_train[0] [   0    0    0    0    0    0    0    0    0    0    0    0    0    0\n",
      "    0    0    0    0    0    0    0    0    0    0    0    0    0    0\n",
      "    0    0    0    0    0    0    0    0    0    0    0    0    0    0\n",
      "    0    0    0    0    0    0    0    0    0    0    0    0    0    0\n",
      "    0    0    0    0    0    0    0    0    0    0    0    0    0    0\n",
      "    0    0    0    0    0    0    0    0    0    0    0    0    0    0\n",
      "    0    0    0    0    0    0    0    0    0    0    0    0    0    0\n",
      "    0    0    0    0    0    0    0    0    0    0    0    0    0    0\n",
      "    0    0    0    0    0    0    0    0    0    0    0    0    0    0\n",
      "    0    0    0    0    0    0    0    0    0    0    0    0    0    0\n",
      "    0    0    0    0    0    0    0    0    0    0    0    0    0    0\n",
      "    0    0    0    0    0    0    0    0    0    0    0    0    0    0\n",
      "    0    0    0    0    0    0    0    0    0    0    0    0    0    0\n",
      "    0    0    0    0    0    0    0    0    0    0    0    0    0    0\n",
      "    0    0    0    0    0    0    0    0    0    0    0    0    0    0\n",
      "    0    0    0    0    0    0    0    0    0    0    0    0    0    0\n",
      "    0    0    0    0    0    0    0    0    0    0    0    0    0    0\n",
      "    0    0    0    0    0    0    0    0    0    0    0    0    0    0\n",
      "    0    0    0    0    0    0    0    0    0    0    0    0    0    0\n",
      "    0    0    0    0    0    0    0    0    0    0    0    0    0    0\n",
      "    0    0    1   14   22   16   43  530  973 1622 1385   65  458 4468\n",
      "   66 3941    4  173   36  256    5   25  100   43  838  112   50  670\n",
      "    2    9   35  480  284    5  150    4  172  112  167    2  336  385\n",
      "   39    4  172 4536 1111   17  546   38   13  447    4  192   50   16\n",
      "    6  147 2025   19   14   22    4 1920 4613  469    4   22   71   87\n",
      "   12   16   43  530   38   76   15   13 1247    4   22   17  515   17\n",
      "   12   16  626   18    2    5   62  386   12    8  316    8  106    5\n",
      "    4 2223 5244   16  480   66 3785   33    4  130   12   16   38  619\n",
      "    5   25  124   51   36  135   48   25 1415   33    6   22   12  215\n",
      "   28   77   52    5   14  407   16   82    2    8    4  107  117 5952\n",
      "   15  256    4    2    7 3766    5  723   36   71   43  530  476   26\n",
      "  400  317   46    7    4    2 1029   13  104   88    4  381   15  297\n",
      "   98   32 2071   56   26  141    6  194 7486   18    4  226   22   21\n",
      "  134  476   26  480    5  144   30 5535   18   51   36   28  224   92\n",
      "   25  104    4  226   65   16   38 1334   88   12   16  283    5   16\n",
      " 4472  113  103   32   15   16 5345   19  178   32] Label= 1\n"
     ]
    }
   ],
   "source": [
    "print(\"sample x_train[0]\",x_train[0], \"Label=\",y_train[0])"
   ]
  },
  {
   "cell_type": "code",
   "execution_count": null,
   "metadata": {
    "id": "RmRjPndWj1uv"
   },
   "outputs": [],
   "source": [
    "#Summary of the dataset"
   ]
  },
  {
   "cell_type": "code",
   "execution_count": null,
   "metadata": {
    "id": "VyU6TCZAcy_S"
   },
   "outputs": [],
   "source": [
    "print(\"IMDB dataset having 50K movie reviews for natural language processing or Text analytics. \")\n",
    "print(\"It has review comment and sentiment(positive or negitive) associated with it. Used as benchmark dataset for sentiment analysis.\")"
   ]
  },
  {
   "cell_type": "code",
   "execution_count": null,
   "metadata": {
    "id": "hiu0JjqngkmE"
   },
   "outputs": [],
   "source": []
  },
  {
   "cell_type": "code",
   "execution_count": null,
   "metadata": {
    "id": "-QxRBuTbOp1Q"
   },
   "outputs": [],
   "source": [
    "#4.Decode the feature value to get original sentence [5 Marks]\n"
   ]
  },
  {
   "cell_type": "code",
   "execution_count": 59,
   "metadata": {
    "colab": {
     "base_uri": "https://localhost:8080/"
    },
    "id": "1ByJAQArsJ16",
    "outputId": "9c5f3657-74a8-4e4b-c7d8-a0fc242b1669"
   },
   "outputs": [
    {
     "name": "stdout",
     "output_type": "stream",
     "text": [
      "<PAD> <PAD> <PAD> <PAD> <PAD> <PAD> <PAD> <PAD> <PAD> <PAD> <PAD> <PAD> <PAD> <PAD> <PAD> <PAD> <PAD> <PAD> <PAD> <PAD> <PAD> <PAD> <PAD> <PAD> <PAD> <PAD> <PAD> <PAD> <PAD> <PAD> <PAD> <PAD> <PAD> <PAD> <PAD> <PAD> <PAD> <PAD> <PAD> <PAD> <PAD> <PAD> <PAD> <PAD> <PAD> <PAD> <PAD> <PAD> <PAD> <PAD> <PAD> <PAD> <PAD> <PAD> <PAD> <PAD> <PAD> <PAD> <PAD> <PAD> <PAD> <PAD> <PAD> <PAD> <PAD> <PAD> <PAD> <PAD> <PAD> <PAD> <PAD> <PAD> <PAD> <PAD> <PAD> <PAD> <PAD> <PAD> <PAD> <PAD> <PAD> <PAD> <PAD> <PAD> <PAD> <PAD> <PAD> <PAD> <PAD> <PAD> <PAD> <PAD> <PAD> <PAD> <PAD> <PAD> <PAD> <PAD> <PAD> <PAD> <PAD> <PAD> <PAD> <PAD> <PAD> <PAD> <PAD> <PAD> <PAD> <PAD> <PAD> <PAD> <PAD> <PAD> <PAD> <PAD> <PAD> <PAD> <PAD> <PAD> <PAD> <PAD> <PAD> <PAD> <PAD> <PAD> <PAD> <PAD> <PAD> <PAD> <PAD> <PAD> <PAD> <PAD> <PAD> <PAD> <PAD> <PAD> <PAD> <PAD> <PAD> <PAD> <PAD> <PAD> <PAD> <PAD> <PAD> <PAD> <PAD> <PAD> <PAD> <PAD> <PAD> <PAD> <PAD> <PAD> <PAD> <PAD> <PAD> <PAD> <PAD> <PAD> <PAD> <PAD> <PAD> <PAD> <PAD> <PAD> <PAD> <PAD> <PAD> <PAD> <PAD> <PAD> <PAD> <PAD> <PAD> <PAD> <PAD> <PAD> <PAD> <PAD> <PAD> <PAD> <PAD> <PAD> <PAD> <PAD> <PAD> <PAD> <PAD> <PAD> <PAD> <PAD> <PAD> <PAD> <PAD> <PAD> <PAD> <PAD> <PAD> <PAD> <PAD> <PAD> <PAD> <PAD> <PAD> <PAD> <PAD> <PAD> <PAD> <PAD> <PAD> <PAD> <PAD> <PAD> <PAD> <PAD> <PAD> <PAD> <PAD> <PAD> <PAD> <PAD> <PAD> <PAD> <PAD> <PAD> <PAD> <PAD> <PAD> <PAD> <PAD> <PAD> <PAD> <PAD> <PAD> <PAD> <PAD> <PAD> <PAD> <PAD> <PAD> <PAD> <PAD> <PAD> <PAD> <PAD> <PAD> <PAD> <PAD> <PAD> <PAD> <PAD> <PAD> <PAD> <PAD> <PAD> <PAD> <PAD> <PAD> <PAD> <PAD> <PAD> <PAD> <PAD> <PAD> <PAD> <PAD> <PAD> <PAD> <PAD> <PAD> <PAD> <PAD> <PAD> <PAD> <PAD> <PAD> <PAD> <PAD> <PAD> <START> this film was just brilliant casting location scenery story direction everyone's really suited the part they played and you could just imagine being there robert <UNK> is an amazing actor and now the same being director <UNK> father came from the same scottish island as myself so i loved the fact there was a real connection with this film the witty remarks throughout the film were great it was just brilliant so much that i bought the film as soon as it was released for <UNK> and would recommend it to everyone to watch and the fly fishing was amazing really cried at the end it was so sad and you know what they say if you cry at a film it must have been good and this definitely was also <UNK> to the two little boy's that played the <UNK> of norman and paul they were just brilliant children are often left out of the <UNK> list i think because the stars that play them all grown up are such a big profile for the whole film but these children are amazing and should be praised for what they have done don't you think the whole story was so lovely because it was true and was someone's life after all that was shared with us all\n"
     ]
    }
   ],
   "source": [
    "INDEX_FROM=3 \n",
    "word_to_id = keras.datasets.imdb.get_word_index()\n",
    "\n",
    "word_to_id = {k:(v+INDEX_FROM) for k,v in word_to_id.items()}\n",
    "\n",
    "word_to_id[\"<PAD>\"] = 0\n",
    "\n",
    "word_to_id[\"<START>\"] = 1\n",
    "\n",
    "word_to_id[\"<UNK>\"] = 2\n",
    "\n",
    "id_to_word = {value:key for key,value in word_to_id.items()}\n",
    "\n",
    "print(' '.join(id_to_word[id] for id in x_train[0] ))"
   ]
  },
  {
   "cell_type": "code",
   "execution_count": null,
   "metadata": {
    "id": "lxffkVuGrrir"
   },
   "outputs": [],
   "source": []
  },
  {
   "cell_type": "code",
   "execution_count": null,
   "metadata": {
    "id": "EuiRNMOIOp4N"
   },
   "outputs": [],
   "source": [
    "#5.Design, train, tune and test a sequential model. [5 Marks]\n",
    "#Hint: The aim here Is to import the text, process it such a way that it can be taken as an inout to the ML/NN classifiers. \n",
    "#Be analytical and experimental here in trying new approaches to design the best model.\n"
   ]
  },
  {
   "cell_type": "code",
   "execution_count": 60,
   "metadata": {
    "colab": {
     "base_uri": "https://localhost:8080/"
    },
    "id": "mhyzh_Xxi4Rm",
    "outputId": "89fc8676-4add-4315-c8cc-f310004afd1d"
   },
   "outputs": [
    {
     "name": "stdout",
     "output_type": "stream",
     "text": [
      "Model: \"sequential_2\"\n",
      "_________________________________________________________________\n",
      " Layer (type)                Output Shape              Param #   \n",
      "=================================================================\n",
      " embedding_2 (Embedding)     (None, 500, 32)           320000    \n",
      "                                                                 \n",
      " flatten_2 (Flatten)         (None, 16000)             0         \n",
      "                                                                 \n",
      " dense_2 (Dense)             (None, 16)                256016    \n",
      "                                                                 \n",
      " dense_3 (Dense)             (None, 16)                272       \n",
      "                                                                 \n",
      " dense_4 (Dense)             (None, 1)                 17        \n",
      "                                                                 \n",
      "=================================================================\n",
      "Total params: 576,305\n",
      "Trainable params: 576,305\n",
      "Non-trainable params: 0\n",
      "_________________________________________________________________\n",
      "None\n"
     ]
    }
   ],
   "source": [
    "embedding_vector_length = 32\n",
    "model = Sequential()\n",
    "model.add(Embedding(top_words, embedding_vector_length, input_length=max_review_length))\n",
    "model.add(Flatten())\n",
    "model.add(Dense(16, activation='relu'))\n",
    "model.add(Dense(16, activation='relu'))\n",
    "model.add(Dense(1, activation='sigmoid'))\n",
    "model.compile(loss='binary_crossentropy', optimizer='adam', metrics=['accuracy'])\n",
    "print(model.summary())"
   ]
  },
  {
   "cell_type": "code",
   "execution_count": null,
   "metadata": {
    "id": "iC2FDopb7EzK"
   },
   "outputs": [],
   "source": []
  },
  {
   "cell_type": "code",
   "execution_count": null,
   "metadata": {
    "id": "EWMXSQMwOp6-"
   },
   "outputs": [],
   "source": [
    "#6.Use the designed model to print the prediction on any one sample. [5 Marks]"
   ]
  },
  {
   "cell_type": "code",
   "execution_count": 61,
   "metadata": {
    "colab": {
     "base_uri": "https://localhost:8080/"
    },
    "id": "C5X46MpsOp-Y",
    "outputId": "e150cdb5-d8ab-45d6-fbb6-f17f3b5339e0"
   },
   "outputs": [
    {
     "name": "stderr",
     "output_type": "stream",
     "text": [
      "WARNING:tensorflow:AutoGraph could not transform <function Model.make_train_function.<locals>.train_function at 0x7f01f0524d40> and will run it as-is.\n",
      "Please report this to the TensorFlow team. When filing the bug, set the verbosity to 10 (on Linux, `export AUTOGRAPH_VERBOSITY=10`) and attach the full output.\n",
      "Cause: 'arguments' object has no attribute 'posonlyargs'\n",
      "To silence this warning, decorate the function with @tf.autograph.experimental.do_not_convert\n"
     ]
    },
    {
     "name": "stdout",
     "output_type": "stream",
     "text": [
      "WARNING: AutoGraph could not transform <function Model.make_train_function.<locals>.train_function at 0x7f01f0524d40> and will run it as-is.\n",
      "Please report this to the TensorFlow team. When filing the bug, set the verbosity to 10 (on Linux, `export AUTOGRAPH_VERBOSITY=10`) and attach the full output.\n",
      "Cause: 'arguments' object has no attribute 'posonlyargs'\n",
      "To silence this warning, decorate the function with @tf.autograph.experimental.do_not_convert\n"
     ]
    },
    {
     "name": "stderr",
     "output_type": "stream",
     "text": [
      "WARNING:tensorflow:AutoGraph could not transform <function Model.make_test_function.<locals>.test_function at 0x7f01ed17cd40> and will run it as-is.\n",
      "Please report this to the TensorFlow team. When filing the bug, set the verbosity to 10 (on Linux, `export AUTOGRAPH_VERBOSITY=10`) and attach the full output.\n",
      "Cause: 'arguments' object has no attribute 'posonlyargs'\n",
      "To silence this warning, decorate the function with @tf.autograph.experimental.do_not_convert\n"
     ]
    },
    {
     "name": "stdout",
     "output_type": "stream",
     "text": [
      "WARNING: AutoGraph could not transform <function Model.make_test_function.<locals>.test_function at 0x7f01ed17cd40> and will run it as-is.\n",
      "Please report this to the TensorFlow team. When filing the bug, set the verbosity to 10 (on Linux, `export AUTOGRAPH_VERBOSITY=10`) and attach the full output.\n",
      "Cause: 'arguments' object has no attribute 'posonlyargs'\n",
      "To silence this warning, decorate the function with @tf.autograph.experimental.do_not_convert\n",
      "Epoch 102: early stopping\n",
      "782/782 [==============================] - 3s 4ms/step - loss: 2.1471e-09 - accuracy: 1.0000\n",
      "782/782 [==============================] - 3s 4ms/step - loss: 1.4044 - accuracy: 0.8681\n",
      "Train: 1.000, Test: 0.868\n"
     ]
    }
   ],
   "source": [
    "es = EarlyStopping(monitor='val_loss', verbose=1, mode='min', patience=100)\n",
    "hist = model.fit(x_train, y_train, validation_data=(x_test, y_test), epochs=1000, batch_size=128, callbacks=[es], verbose=0)\n",
    "\n",
    "_, train_acc = model.evaluate(x_train, y_train, verbose=1)\n",
    "_, test_acc = model.evaluate(x_test, y_test, verbose=1)\n",
    "print('Train: %.3f, Test: %.3f' % (train_acc, test_acc))"
   ]
  },
  {
   "cell_type": "code",
   "execution_count": 62,
   "metadata": {
    "colab": {
     "base_uri": "https://localhost:8080/"
    },
    "id": "EzOGoGeCpvGh",
    "outputId": "dd8ad492-842f-42ef-b49a-b995f0a92dc2"
   },
   "outputs": [
    {
     "name": "stderr",
     "output_type": "stream",
     "text": [
      "WARNING:tensorflow:AutoGraph could not transform <function Model.make_predict_function.<locals>.predict_function at 0x7f01f046ab00> and will run it as-is.\n",
      "Please report this to the TensorFlow team. When filing the bug, set the verbosity to 10 (on Linux, `export AUTOGRAPH_VERBOSITY=10`) and attach the full output.\n",
      "Cause: 'arguments' object has no attribute 'posonlyargs'\n",
      "To silence this warning, decorate the function with @tf.autograph.experimental.do_not_convert\n"
     ]
    },
    {
     "name": "stdout",
     "output_type": "stream",
     "text": [
      "WARNING: AutoGraph could not transform <function Model.make_predict_function.<locals>.predict_function at 0x7f01f046ab00> and will run it as-is.\n",
      "Please report this to the TensorFlow team. When filing the bug, set the verbosity to 10 (on Linux, `export AUTOGRAPH_VERBOSITY=10`) and attach the full output.\n",
      "Cause: 'arguments' object has no attribute 'posonlyargs'\n",
      "To silence this warning, decorate the function with @tf.autograph.experimental.do_not_convert\n",
      "1/1 [==============================] - 0s 127ms/step\n"
     ]
    },
    {
     "data": {
      "text/plain": [
       "array([[1.7823854e-09],\n",
       "       [1.0000000e+00]], dtype=float32)"
      ]
     },
     "execution_count": 62,
     "metadata": {},
     "output_type": "execute_result"
    }
   ],
   "source": [
    "#Predicting using the model for samples\n",
    "label_predictions = model.predict(x_test[:2])\n",
    "label_predictions\n"
   ]
  },
  {
   "cell_type": "code",
   "execution_count": null,
   "metadata": {
    "id": "f2s4PU9POqBm"
   },
   "outputs": [],
   "source": []
  },
  {
   "cell_type": "code",
   "execution_count": null,
   "metadata": {
    "id": "zu34SKnGAyzn"
   },
   "outputs": [],
   "source": []
  },
  {
   "cell_type": "code",
   "execution_count": null,
   "metadata": {
    "id": "s52oLXuBgw_G"
   },
   "outputs": [],
   "source": []
  },
  {
   "cell_type": "code",
   "execution_count": null,
   "metadata": {
    "id": "irNO23RSN0iu"
   },
   "outputs": [],
   "source": [
    "#PART B"
   ]
  },
  {
   "cell_type": "code",
   "execution_count": null,
   "metadata": {
    "id": "Yy4dGdCxN0vL"
   },
   "outputs": [],
   "source": [
    "#1.Read and explore the data [3 Marks]"
   ]
  },
  {
   "cell_type": "code",
   "execution_count": 47,
   "metadata": {
    "colab": {
     "base_uri": "https://localhost:8080/"
    },
    "id": "o70j35egrgh9",
    "outputId": "37f2e391-eba9-40b0-d021-55fe4bc492b2"
   },
   "outputs": [
    {
     "name": "stdout",
     "output_type": "stream",
     "text": [
      "Looking in indexes: https://pypi.org/simple, https://us-python.pkg.dev/colab-wheels/public/simple/\n",
      "Requirement already satisfied: beautifulsoup4 in /usr/local/lib/python3.7/dist-packages (4.6.3)\n"
     ]
    }
   ],
   "source": [
    "#pip install beautifulsoup4"
   ]
  },
  {
   "cell_type": "code",
   "execution_count": 7,
   "metadata": {
    "id": "foALeeC0vtlK"
   },
   "outputs": [],
   "source": [
    "from google.colab import drive"
   ]
  },
  {
   "cell_type": "code",
   "execution_count": 8,
   "metadata": {
    "colab": {
     "base_uri": "https://localhost:8080/"
    },
    "id": "2ol_F4axvyGy",
    "outputId": "156a0f34-4af2-4a5b-9d55-18d02fdda5e6"
   },
   "outputs": [
    {
     "name": "stdout",
     "output_type": "stream",
     "text": [
      "Mounted at /content/drive\n"
     ]
    }
   ],
   "source": [
    "drive.mount('/content/drive',force_remount=True)"
   ]
  },
  {
   "cell_type": "code",
   "execution_count": 9,
   "metadata": {
    "id": "dZ7c8ItmrpUI"
   },
   "outputs": [],
   "source": [
    "df_sarcasm_hd = pd.read_json(\"/content/drive/My Drive/Colab Notebooks/Sarcasm_Headlines_Dataset.json\", lines=True)"
   ]
  },
  {
   "cell_type": "code",
   "execution_count": 52,
   "metadata": {
    "colab": {
     "base_uri": "https://localhost:8080/"
    },
    "id": "JdsLT_niv-Wm",
    "outputId": "6eb0b2dd-2947-4800-d5a2-f78d492b10cf"
   },
   "outputs": [
    {
     "name": "stdout",
     "output_type": "stream",
     "text": [
      "<class 'pandas.core.frame.DataFrame'>\n",
      "RangeIndex: 28619 entries, 0 to 28618\n",
      "Data columns (total 3 columns):\n",
      " #   Column        Non-Null Count  Dtype \n",
      "---  ------        --------------  ----- \n",
      " 0   is_sarcastic  28619 non-null  int64 \n",
      " 1   headline      28619 non-null  object\n",
      " 2   article_link  28619 non-null  object\n",
      "dtypes: int64(1), object(2)\n",
      "memory usage: 670.9+ KB\n"
     ]
    }
   ],
   "source": [
    "df_sarcasm_hd.info()"
   ]
  },
  {
   "cell_type": "code",
   "execution_count": 10,
   "metadata": {
    "colab": {
     "base_uri": "https://localhost:8080/",
     "height": 298
    },
    "id": "O6f72PypxIyW",
    "outputId": "961d00c0-ca6a-4722-fadf-13b03dac37f1"
   },
   "outputs": [
    {
     "data": {
      "text/plain": [
       "<matplotlib.axes._subplots.AxesSubplot at 0x7f0202395950>"
      ]
     },
     "execution_count": 10,
     "metadata": {},
     "output_type": "execute_result"
    },
    {
     "data": {
      "image/png": "[encoded data removed]",
      "text/plain": [
       "<Figure size 432x288 with 1 Axes>"
      ]
     },
     "metadata": {
      "needs_background": "light"
     },
     "output_type": "display_data"
    }
   ],
   "source": [
    "sns.countplot(x='is_sarcastic',data=df_sarcasm_hd)"
   ]
  },
  {
   "cell_type": "code",
   "execution_count": null,
   "metadata": {
    "id": "N4DJHrx7gv-J"
   },
   "outputs": [],
   "source": []
  },
  {
   "cell_type": "code",
   "execution_count": null,
   "metadata": {
    "id": "Naig_SD2N0zZ"
   },
   "outputs": [],
   "source": [
    "#2.Retain relevant columns [3 Marks]\n"
   ]
  },
  {
   "cell_type": "code",
   "execution_count": 11,
   "metadata": {
    "colab": {
     "base_uri": "https://localhost:8080/"
    },
    "id": "iuZJoRgexgJM",
    "outputId": "11ba5304-b40f-4316-b6fe-42594465cd93"
   },
   "outputs": [
    {
     "data": {
      "text/plain": [
       "is_sarcastic    0\n",
       "headline        0\n",
       "article_link    0\n",
       "dtype: int64"
      ]
     },
     "execution_count": 11,
     "metadata": {},
     "output_type": "execute_result"
    }
   ],
   "source": [
    "df_sarcasm_hd.isna().sum() #no null values found"
   ]
  },
  {
   "cell_type": "code",
   "execution_count": 12,
   "metadata": {
    "id": "7flteE6YxaoC"
   },
   "outputs": [],
   "source": [
    "\n",
    " #Deleting link column not needed\n",
    "del df_sarcasm_hd['article_link']"
   ]
  },
  {
   "cell_type": "code",
   "execution_count": null,
   "metadata": {
    "id": "JIgXNeMWgzZe"
   },
   "outputs": [],
   "source": []
  },
  {
   "cell_type": "code",
   "execution_count": null,
   "metadata": {
    "id": "tH4s6Mn2N03a"
   },
   "outputs": [],
   "source": [
    "#3.Get length of each sentence [3 Marks]\n"
   ]
  },
  {
   "cell_type": "code",
   "execution_count": 13,
   "metadata": {
    "id": "rytYpgIfzIS9"
   },
   "outputs": [],
   "source": [
    "df_sarcasm_hd[\"headline_len\"] = df_sarcasm_hd[\"headline\"].str.len()"
   ]
  },
  {
   "cell_type": "code",
   "execution_count": 14,
   "metadata": {
    "colab": {
     "base_uri": "https://localhost:8080/",
     "height": 206
    },
    "id": "A3RpsuVBzPAA",
    "outputId": "954f5fce-0b1a-40bf-c124-1899aea1a51b"
   },
   "outputs": [
    {
     "data": {
      "text/html": [
       "\n",
       "  <div id=\"df-d90f30e2-269f-491a-8dc2-95272ba850b2\">\n",
       "    <div class=\"colab-df-container\">\n",
       "      <div>\n",
       "<style scoped>\n",
       "    .dataframe tbody tr th:only-of-type {\n",
       "        vertical-align: middle;\n",
       "    }\n",
       "\n",
       "    .dataframe tbody tr th {\n",
       "        vertical-align: top;\n",
       "    }\n",
       "\n",
       "    .dataframe thead th {\n",
       "        text-align: right;\n",
       "    }\n",
       "</style>\n",
       "<table border=\"1\" class=\"dataframe\">\n",
       "  <thead>\n",
       "    <tr style=\"text-align: right;\">\n",
       "      <th></th>\n",
       "      <th>is_sarcastic</th>\n",
       "      <th>headline</th>\n",
       "      <th>headline_len</th>\n",
       "    </tr>\n",
       "  </thead>\n",
       "  <tbody>\n",
       "    <tr>\n",
       "      <th>0</th>\n",
       "      <td>1</td>\n",
       "      <td>thirtysomething scientists unveil doomsday clo...</td>\n",
       "      <td>61</td>\n",
       "    </tr>\n",
       "    <tr>\n",
       "      <th>1</th>\n",
       "      <td>0</td>\n",
       "      <td>dem rep. totally nails why congress is falling...</td>\n",
       "      <td>79</td>\n",
       "    </tr>\n",
       "    <tr>\n",
       "      <th>2</th>\n",
       "      <td>0</td>\n",
       "      <td>eat your veggies: 9 deliciously different recipes</td>\n",
       "      <td>49</td>\n",
       "    </tr>\n",
       "    <tr>\n",
       "      <th>3</th>\n",
       "      <td>1</td>\n",
       "      <td>inclement weather prevents liar from getting t...</td>\n",
       "      <td>52</td>\n",
       "    </tr>\n",
       "    <tr>\n",
       "      <th>4</th>\n",
       "      <td>1</td>\n",
       "      <td>mother comes pretty close to using word 'strea...</td>\n",
       "      <td>61</td>\n",
       "    </tr>\n",
       "  </tbody>\n",
       "</table>\n",
       "</div>\n",
       "      <button class=\"colab-df-convert\" onclick=\"convertToInteractive('df-d90f30e2-269f-491a-8dc2-95272ba850b2')\"\n",
       "              title=\"Convert this dataframe to an interactive table.\"\n",
       "              style=\"display:none;\">\n",
       "        \n",
       "  <svg xmlns=\"http://www.w3.org/2000/svg\" height=\"24px\"viewBox=\"0 0 24 24\"\n",
       "       width=\"24px\">\n",
       "    <path d=\"M0 0h24v24H0V0z\" fill=\"none\"/>\n",
       "    <path d=\"M18.56 5.44l.94 2.06.94-2.06 2.06-.94-2.06-.94-.94-2.06-.94 2.06-2.06.94zm-11 1L8.5 8.5l.94-2.06 2.06-.94-2.06-.94L8.5 2.5l-.94 2.06-2.06.94zm10 10l.94 2.06.94-2.06 2.06-.94-2.06-.94-.94-2.06-.94 2.06-2.06.94z\"/><path d=\"M17.41 7.96l-1.37-1.37c-.4-.4-.92-.59-1.43-.59-.52 0-1.04.2-1.43.59L10.3 9.45l-7.72 7.72c-.78.78-.78 2.05 0 2.83L4 21.41c.39.39.9.59 1.41.59.51 0 1.02-.2 1.41-.59l7.78-7.78 2.81-2.81c.8-.78.8-2.07 0-2.86zM5.41 20L4 18.59l7.72-7.72 1.47 1.35L5.41 20z\"/>\n",
       "  </svg>\n",
       "      </button>\n",
       "      \n",
       "  <style>\n",
       "    .colab-df-container {\n",
       "      display:flex;\n",
       "      flex-wrap:wrap;\n",
       "      gap: 12px;\n",
       "    }\n",
       "\n",
       "    .colab-df-convert {\n",
       "      background-color: #E8F0FE;\n",
       "      border: none;\n",
       "      border-radius: 50%;\n",
       "      cursor: pointer;\n",
       "      display: none;\n",
       "      fill: #1967D2;\n",
       "      height: 32px;\n",
       "      padding: 0 0 0 0;\n",
       "      width: 32px;\n",
       "    }\n",
       "\n",
       "    .colab-df-convert:hover {\n",
       "      background-color: #E2EBFA;\n",
       "      box-shadow: 0px 1px 2px rgba(60, 64, 67, 0.3), 0px 1px 3px 1px rgba(60, 64, 67, 0.15);\n",
       "      fill: #174EA6;\n",
       "    }\n",
       "\n",
       "    [theme=dark] .colab-df-convert {\n",
       "      background-color: #3B4455;\n",
       "      fill: #D2E3FC;\n",
       "    }\n",
       "\n",
       "    [theme=dark] .colab-df-convert:hover {\n",
       "      background-color: #434B5C;\n",
       "      box-shadow: 0px 1px 3px 1px rgba(0, 0, 0, 0.15);\n",
       "      filter: drop-shadow(0px 1px 2px rgba(0, 0, 0, 0.3));\n",
       "      fill: #FFFFFF;\n",
       "    }\n",
       "  </style>\n",
       "\n",
       "      <script>\n",
       "        const buttonEl =\n",
       "          document.querySelector('#df-d90f30e2-269f-491a-8dc2-95272ba850b2 button.colab-df-convert');\n",
       "        buttonEl.style.display =\n",
       "          google.colab.kernel.accessAllowed ? 'block' : 'none';\n",
       "\n",
       "        async function convertToInteractive(key) {\n",
       "          const element = document.querySelector('#df-d90f30e2-269f-491a-8dc2-95272ba850b2');\n",
       "          const dataTable =\n",
       "            await google.colab.kernel.invokeFunction('convertToInteractive',\n",
       "                                                     [key], {});\n",
       "          if (!dataTable) return;\n",
       "\n",
       "          const docLinkHtml = 'Like what you see? Visit the ' +\n",
       "            '<a target=\"_blank\" href=https://colab.research.google.com/notebooks/data_table.ipynb>data table notebook</a>'\n",
       "            + ' to learn more about interactive tables.';\n",
       "          element.innerHTML = '';\n",
       "          dataTable['output_type'] = 'display_data';\n",
       "          await google.colab.output.renderOutput(dataTable, element);\n",
       "          const docLink = document.createElement('div');\n",
       "          docLink.innerHTML = docLinkHtml;\n",
       "          element.appendChild(docLink);\n",
       "        }\n",
       "      </script>\n",
       "    </div>\n",
       "  </div>\n",
       "  "
      ],
      "text/plain": [
       "   is_sarcastic                                           headline  \\\n",
       "0             1  thirtysomething scientists unveil doomsday clo...   \n",
       "1             0  dem rep. totally nails why congress is falling...   \n",
       "2             0  eat your veggies: 9 deliciously different recipes   \n",
       "3             1  inclement weather prevents liar from getting t...   \n",
       "4             1  mother comes pretty close to using word 'strea...   \n",
       "\n",
       "   headline_len  \n",
       "0            61  \n",
       "1            79  \n",
       "2            49  \n",
       "3            52  \n",
       "4            61  "
      ]
     },
     "execution_count": 14,
     "metadata": {},
     "output_type": "execute_result"
    }
   ],
   "source": [
    "df_sarcasm_hd.head(5)"
   ]
  },
  {
   "cell_type": "code",
   "execution_count": 18,
   "metadata": {
    "colab": {
     "base_uri": "https://localhost:8080/",
     "height": 356
    },
    "id": "vU3tqyh4x2OA",
    "outputId": "027d5aaf-1eb3-4ff3-d899-787c869fc527"
   },
   "outputs": [
    {
     "data": {
      "image/png": "[encoded data removed]",
      "text/plain": [
       "<Figure size 720x360 with 2 Axes>"
      ]
     },
     "metadata": {
      "needs_background": "light"
     },
     "output_type": "display_data"
    }
   ],
   "source": [
    "#printing characters in the headlines\n",
    "fig,(ax1,ax2) = plt.subplots(1,2,figsize=(10,5))\n",
    "\n",
    "text_len=df_sarcasm_hd[df_sarcasm_hd['is_sarcastic']==1]['headline'].str.len()\n",
    "ax1.hist(text_len)\n",
    "ax1.set_title('Sarcastic text')\n",
    "\n",
    "text_len=df_sarcasm_hd[df_sarcasm_hd['is_sarcastic']==0]['headline'].str.len()\n",
    "ax2.hist(text_len, color='green')\n",
    "ax2.set_title('Not Sarcastic text')\n",
    "\n",
    "fig.suptitle('Characters in texts')\n",
    "plt.show()"
   ]
  },
  {
   "cell_type": "code",
   "execution_count": 19,
   "metadata": {
    "colab": {
     "base_uri": "https://localhost:8080/",
     "height": 356
    },
    "id": "VY9h7Hk2x_D1",
    "outputId": "caf40bfc-5597-4ff4-b1ea-4cfb02ddd864"
   },
   "outputs": [
    {
     "data": {
      "image/png": "[encoded data removed]",
      "text/plain": [
       "<Figure size 720x360 with 2 Axes>"
      ]
     },
     "metadata": {
      "needs_background": "light"
     },
     "output_type": "display_data"
    }
   ],
   "source": [
    "#printing words in the headline\n",
    "fig,(ax1,ax2)=plt.subplots(1,2,figsize=(10,5))\n",
    "text_len=df_sarcasm_hd[df_sarcasm_hd['is_sarcastic']==1]['headline'].str.split().map(lambda x: len(x))\n",
    "ax1.hist(text_len)\n",
    "ax1.set_title('Sarcastic text')\n",
    "\n",
    "text_len=df_sarcasm_hd[df_sarcasm_hd['is_sarcastic']==0]['headline'].str.split().map(lambda x: len(x))\n",
    "ax2.hist(text_len,color='green')\n",
    "ax2.set_title('Not Sarcastic text')\n",
    "\n",
    "fig.suptitle('Words in texts')\n",
    "plt.show()"
   ]
  },
  {
   "cell_type": "code",
   "execution_count": 20,
   "metadata": {
    "colab": {
     "base_uri": "https://localhost:8080/",
     "height": 479
    },
    "id": "fDpnybKWyGJt",
    "outputId": "55b7f236-ee79-4d95-9b7a-92d197dbc0b8"
   },
   "outputs": [
    {
     "name": "stderr",
     "output_type": "stream",
     "text": [
      "/usr/local/lib/python3.7/dist-packages/seaborn/distributions.py:2619: FutureWarning: `distplot` is a deprecated function and will be removed in a future version. Please adapt your code to use either `displot` (a figure-level function with similar flexibility) or `histplot` (an axes-level function for histograms).\n",
      "  warnings.warn(msg, FutureWarning)\n",
      "/usr/local/lib/python3.7/dist-packages/seaborn/distributions.py:2619: FutureWarning: `distplot` is a deprecated function and will be removed in a future version. Please adapt your code to use either `displot` (a figure-level function with similar flexibility) or `histplot` (an axes-level function for histograms).\n",
      "  warnings.warn(msg, FutureWarning)\n"
     ]
    },
    {
     "data": {
      "text/plain": [
       "Text(0.5, 0.98, 'Average word length in each text')"
      ]
     },
     "execution_count": 20,
     "metadata": {},
     "output_type": "execute_result"
    },
    {
     "data": {
      "image/png": "[encoded data removed]",
      "text/plain": [
       "<Figure size 720x360 with 2 Axes>"
      ]
     },
     "metadata": {
      "needs_background": "light"
     },
     "output_type": "display_data"
    }
   ],
   "source": [
    "#printing average word lenght in each text\n",
    "fig,(ax1,ax2)=plt.subplots(1,2,figsize=(10,5))\n",
    "word=df_sarcasm_hd[df_sarcasm_hd['is_sarcastic']==1]['headline'].str.split().apply(lambda x : [len(i) for i in x])\n",
    "sns.distplot(word.map(lambda x: np.mean(x)),ax=ax1)\n",
    "ax1.set_title('Sarcastic text')\n",
    "\n",
    "word=df_sarcasm_hd[df_sarcasm_hd['is_sarcastic']==0]['headline'].str.split().apply(lambda x : [len(i) for i in x])\n",
    "sns.distplot(word.map(lambda x: np.mean(x)),ax=ax2,color='green')\n",
    "ax2.set_title('Not Sarcastic text')\n",
    "\n",
    "fig.suptitle('Average word length in each text')"
   ]
  },
  {
   "cell_type": "code",
   "execution_count": null,
   "metadata": {
    "id": "0LrM4AXRg1_4"
   },
   "outputs": [],
   "source": []
  },
  {
   "cell_type": "code",
   "execution_count": null,
   "metadata": {
    "id": "IbAoN-PuOV2W"
   },
   "outputs": [],
   "source": [
    "#4.Define parameters [3 Marks]\n"
   ]
  },
  {
   "cell_type": "code",
   "execution_count": 64,
   "metadata": {
    "id": "qPMiJiChzcZU"
   },
   "outputs": [],
   "source": [
    "top_k_words = 10000\n",
    "max_len = 25\n",
    "embedding_size = 200"
   ]
  },
  {
   "cell_type": "code",
   "execution_count": null,
   "metadata": {
    "id": "DyBWlFJ7OXQu"
   },
   "outputs": [],
   "source": [
    "#5.Get indices for words [3 Marks]\n"
   ]
  },
  {
   "cell_type": "code",
   "execution_count": 65,
   "metadata": {
    "id": "EsCoAwIEzhKu"
   },
   "outputs": [],
   "source": [
    "\n",
    "wrd_tokenizer = tf.keras.preprocessing.text.Tokenizer(num_words=top_k_words,\n",
    "                                                  oov_token=\"<unk>\",\n",
    "                                                  filters='!\"#$%&()*+.,-/:;=?@[\\]^_`{|}~ ')\n",
    "wrd_tokenizer.fit_on_texts(df_sarcasm_hd['headline'])"
   ]
  },
  {
   "cell_type": "code",
   "execution_count": 23,
   "metadata": {
    "id": "Vq2j78I1zme4"
   },
   "outputs": [],
   "source": [
    "wrd_tokenizer.word_index['<pad>'] = 0\n",
    "wrd_tokenizer.index_word[0] = '<pad>'"
   ]
  },
  {
   "cell_type": "code",
   "execution_count": 24,
   "metadata": {
    "id": "wsGeSfD2zrg3"
   },
   "outputs": [],
   "source": [
    "# Create the tokenized vectors\n",
    "train_sequences = wrd_tokenizer.texts_to_sequences(df_sarcasm_hd['headline'])"
   ]
  },
  {
   "cell_type": "code",
   "execution_count": null,
   "metadata": {
    "id": "uqfshOqWOYyq"
   },
   "outputs": [],
   "source": [
    "#6.Create features and labels [3 Marks]\n"
   ]
  },
  {
   "cell_type": "code",
   "execution_count": 25,
   "metadata": {
    "id": "wI8TspMYz23f"
   },
   "outputs": [],
   "source": [
    "X = tf.keras.preprocessing.sequence.pad_sequences(train_sequences, padding='post',maxlen=max_len)"
   ]
  },
  {
   "cell_type": "code",
   "execution_count": 26,
   "metadata": {
    "id": "LTh4llLgz6Qq"
   },
   "outputs": [],
   "source": [
    "Y = df_sarcasm_hd[\"is_sarcastic\"].values"
   ]
  },
  {
   "cell_type": "code",
   "execution_count": 27,
   "metadata": {
    "colab": {
     "base_uri": "https://localhost:8080/",
     "height": 280
    },
    "id": "fUXiANTw0EJ8",
    "outputId": "19d32aac-da94-4229-bc40-70f3d9b67c5c"
   },
   "outputs": [
    {
     "data": {
      "image/png": "[encoded data removed]",
      "text/plain": [
       "<Figure size 432x288 with 1 Axes>"
      ]
     },
     "metadata": {
      "needs_background": "light"
     },
     "output_type": "display_data"
    }
   ],
   "source": [
    "sns.countplot(x='is_sarcastic',data=df_sarcasm_hd);"
   ]
  },
  {
   "cell_type": "code",
   "execution_count": null,
   "metadata": {
    "id": "lVu-rttahDs2"
   },
   "outputs": [],
   "source": []
  },
  {
   "cell_type": "code",
   "execution_count": null,
   "metadata": {
    "id": "x5A1qqYhOabi"
   },
   "outputs": [],
   "source": [
    "#7.Get vocabulary size [3 Marks]\n"
   ]
  },
  {
   "cell_type": "code",
   "execution_count": 28,
   "metadata": {
    "colab": {
     "base_uri": "https://localhost:8080/"
    },
    "id": "GoPjdGoF0L8h",
    "outputId": "2cfd983a-b57b-4adb-c476-c919c4b81edf"
   },
   "outputs": [
    {
     "data": {
      "text/plain": [
       "{'<unk>': 1,\n",
       " 'to': 2,\n",
       " 'of': 3,\n",
       " 'the': 4,\n",
       " 'in': 5,\n",
       " 'for': 6,\n",
       " 'a': 7,\n",
       " 'on': 8,\n",
       " 'and': 9,\n",
       " 'with': 10,\n",
       " 'is': 11,\n",
       " 'new': 12,\n",
       " 'trump': 13,\n",
       " 'man': 14,\n",
       " 'at': 15,\n",
       " 'from': 16,\n",
       " 'about': 17,\n",
       " 'by': 18,\n",
       " 'after': 19,\n",
       " 'you': 20,\n",
       " 'this': 21,\n",
       " 'out': 22,\n",
       " 'up': 23,\n",
       " 'be': 24,\n",
       " 'as': 25,\n",
       " 'that': 26,\n",
       " 'it': 27,\n",
       " 'how': 28,\n",
       " 'not': 29,\n",
       " 'he': 30,\n",
       " 'his': 31,\n",
       " 'are': 32,\n",
       " 'your': 33,\n",
       " 'just': 34,\n",
       " 'what': 35,\n",
       " 'all': 36,\n",
       " 'who': 37,\n",
       " 'has': 38,\n",
       " 'will': 39,\n",
       " 'report': 40,\n",
       " 'into': 41,\n",
       " 'more': 42,\n",
       " 'one': 43,\n",
       " 'have': 44,\n",
       " 'year': 45,\n",
       " 'over': 46,\n",
       " 'why': 47,\n",
       " 'day': 48,\n",
       " 'u': 49,\n",
       " 'area': 50,\n",
       " 'woman': 51,\n",
       " 'can': 52,\n",
       " 's': 53,\n",
       " 'says': 54,\n",
       " 'donald': 55,\n",
       " 'time': 56,\n",
       " 'first': 57,\n",
       " 'like': 58,\n",
       " 'no': 59,\n",
       " 'her': 60,\n",
       " 'get': 61,\n",
       " 'off': 62,\n",
       " 'old': 63,\n",
       " \"trump's\": 64,\n",
       " 'life': 65,\n",
       " 'now': 66,\n",
       " 'people': 67,\n",
       " \"'\": 68,\n",
       " 'an': 69,\n",
       " 'house': 70,\n",
       " 'still': 71,\n",
       " 'obama': 72,\n",
       " 'white': 73,\n",
       " 'back': 74,\n",
       " 'make': 75,\n",
       " 'was': 76,\n",
       " 'than': 77,\n",
       " 'women': 78,\n",
       " 'if': 79,\n",
       " 'down': 80,\n",
       " 'when': 81,\n",
       " 'i': 82,\n",
       " 'my': 83,\n",
       " '5': 84,\n",
       " 'clinton': 85,\n",
       " 'could': 86,\n",
       " 'they': 87,\n",
       " 'their': 88,\n",
       " 'before': 89,\n",
       " 'world': 90,\n",
       " 'him': 91,\n",
       " 'way': 92,\n",
       " 'americans': 93,\n",
       " 'family': 94,\n",
       " 'we': 95,\n",
       " 'study': 96,\n",
       " 'do': 97,\n",
       " 'would': 98,\n",
       " 'only': 99,\n",
       " 'most': 100,\n",
       " 'school': 101,\n",
       " 'gop': 102,\n",
       " 'being': 103,\n",
       " 'black': 104,\n",
       " 'years': 105,\n",
       " 'bill': 106,\n",
       " \"it's\": 107,\n",
       " 'so': 108,\n",
       " 'finds': 109,\n",
       " 'really': 110,\n",
       " 'american': 111,\n",
       " 'best': 112,\n",
       " '3': 113,\n",
       " 'last': 114,\n",
       " 'know': 115,\n",
       " 'but': 116,\n",
       " 'she': 117,\n",
       " 'should': 118,\n",
       " 'police': 119,\n",
       " 'nation': 120,\n",
       " \"can't\": 121,\n",
       " '10': 122,\n",
       " 'going': 123,\n",
       " 'watch': 124,\n",
       " 'during': 125,\n",
       " 'state': 126,\n",
       " 'death': 127,\n",
       " 'video': 128,\n",
       " 'or': 129,\n",
       " 'home': 130,\n",
       " 'president': 131,\n",
       " 'good': 132,\n",
       " 'every': 133,\n",
       " 'say': 134,\n",
       " 'show': 135,\n",
       " 'campaign': 136,\n",
       " \"'the\": 137,\n",
       " 'health': 138,\n",
       " 'too': 139,\n",
       " 'big': 140,\n",
       " 'things': 141,\n",
       " 'mom': 142,\n",
       " 'getting': 143,\n",
       " '2': 144,\n",
       " 'against': 145,\n",
       " 'may': 146,\n",
       " '000': 147,\n",
       " 'right': 148,\n",
       " 'hillary': 149,\n",
       " 'love': 150,\n",
       " 'party': 151,\n",
       " 'work': 152,\n",
       " 'gets': 153,\n",
       " 'while': 154,\n",
       " 'some': 155,\n",
       " 'self': 156,\n",
       " 'need': 157,\n",
       " 'high': 158,\n",
       " 'little': 159,\n",
       " 'parents': 160,\n",
       " 'where': 161,\n",
       " 'never': 162,\n",
       " 'take': 163,\n",
       " 'kids': 164,\n",
       " 'through': 165,\n",
       " \"doesn't\": 166,\n",
       " 'court': 167,\n",
       " 'makes': 168,\n",
       " 'john': 169,\n",
       " 'child': 170,\n",
       " 'change': 171,\n",
       " 'these': 172,\n",
       " 'other': 173,\n",
       " 'own': 174,\n",
       " 'news': 175,\n",
       " 'calls': 176,\n",
       " 'dead': 177,\n",
       " 'stop': 178,\n",
       " 'look': 179,\n",
       " \"he's\": 180,\n",
       " 'want': 181,\n",
       " 'election': 182,\n",
       " 'next': 183,\n",
       " 'our': 184,\n",
       " 'gay': 185,\n",
       " 'local': 186,\n",
       " \"don't\": 187,\n",
       " 'even': 188,\n",
       " '4': 189,\n",
       " 'see': 190,\n",
       " 'go': 191,\n",
       " 'around': 192,\n",
       " 'america': 193,\n",
       " 'real': 194,\n",
       " 'takes': 195,\n",
       " 'war': 196,\n",
       " 'its': 197,\n",
       " '7': 198,\n",
       " \"here's\": 199,\n",
       " 'baby': 200,\n",
       " 'sex': 201,\n",
       " \"nation's\": 202,\n",
       " 'them': 203,\n",
       " 'million': 204,\n",
       " 'again': 205,\n",
       " 'plan': 206,\n",
       " 'bush': 207,\n",
       " 'made': 208,\n",
       " 'two': 209,\n",
       " 'another': 210,\n",
       " '6': 211,\n",
       " 'guy': 212,\n",
       " 'college': 213,\n",
       " 'dog': 214,\n",
       " 'office': 215,\n",
       " 'announces': 216,\n",
       " 'dad': 217,\n",
       " 'ever': 218,\n",
       " 'finally': 219,\n",
       " 'debate': 220,\n",
       " 'got': 221,\n",
       " 'week': 222,\n",
       " 'wants': 223,\n",
       " 'been': 224,\n",
       " 'long': 225,\n",
       " 'help': 226,\n",
       " 'much': 227,\n",
       " 'job': 228,\n",
       " '1': 229,\n",
       " 'thing': 230,\n",
       " 'under': 231,\n",
       " 'there': 232,\n",
       " 'gun': 233,\n",
       " 'reveals': 234,\n",
       " 'night': 235,\n",
       " 'care': 236,\n",
       " 'actually': 237,\n",
       " 'couple': 238,\n",
       " 'congress': 239,\n",
       " 'live': 240,\n",
       " 'us': 241,\n",
       " 'north': 242,\n",
       " 'sexual': 243,\n",
       " 'trying': 244,\n",
       " 'money': 245,\n",
       " 'national': 246,\n",
       " 'shows': 247,\n",
       " 'god': 248,\n",
       " \"man's\": 249,\n",
       " 'climate': 250,\n",
       " 'senate': 251,\n",
       " 'better': 252,\n",
       " \"won't\": 253,\n",
       " 'star': 254,\n",
       " 'face': 255,\n",
       " 'without': 256,\n",
       " '8': 257,\n",
       " 'had': 258,\n",
       " 'away': 259,\n",
       " 'food': 260,\n",
       " 'everyone': 261,\n",
       " '9': 262,\n",
       " 'game': 263,\n",
       " 'season': 264,\n",
       " 'enough': 265,\n",
       " 'facebook': 266,\n",
       " 'anti': 267,\n",
       " 'give': 268,\n",
       " 'top': 269,\n",
       " '20': 270,\n",
       " 'media': 271,\n",
       " 'paul': 272,\n",
       " 'making': 273,\n",
       " 'any': 274,\n",
       " 'law': 275,\n",
       " 'me': 276,\n",
       " 'bad': 277,\n",
       " 'teen': 278,\n",
       " 'shooting': 279,\n",
       " 'ways': 280,\n",
       " 'york': 281,\n",
       " 'end': 282,\n",
       " 'supreme': 283,\n",
       " 'movie': 284,\n",
       " 'free': 285,\n",
       " 'entire': 286,\n",
       " 'men': 287,\n",
       " 'history': 288,\n",
       " 'students': 289,\n",
       " 'children': 290,\n",
       " 'pope': 291,\n",
       " 'government': 292,\n",
       " 'single': 293,\n",
       " 'introduces': 294,\n",
       " 'business': 295,\n",
       " 'tell': 296,\n",
       " 'part': 297,\n",
       " 'body': 298,\n",
       " 'attack': 299,\n",
       " 'fight': 300,\n",
       " 'already': 301,\n",
       " 'think': 302,\n",
       " 'city': 303,\n",
       " 'tv': 304,\n",
       " 'story': 305,\n",
       " 'friends': 306,\n",
       " 'son': 307,\n",
       " 'deal': 308,\n",
       " 'fire': 309,\n",
       " 'same': 310,\n",
       " 'friend': 311,\n",
       " 'releases': 312,\n",
       " 'great': 313,\n",
       " 'must': 314,\n",
       " 'sanders': 315,\n",
       " 'line': 316,\n",
       " 'find': 317,\n",
       " 'found': 318,\n",
       " '11': 319,\n",
       " 'book': 320,\n",
       " 'call': 321,\n",
       " 'pretty': 322,\n",
       " 'does': 323,\n",
       " 'former': 324,\n",
       " 'second': 325,\n",
       " 'car': 326,\n",
       " 'film': 327,\n",
       " 'company': 328,\n",
       " 'having': 329,\n",
       " 'come': 330,\n",
       " 'unveils': 331,\n",
       " 'use': 332,\n",
       " 'public': 333,\n",
       " 'support': 334,\n",
       " 'speech': 335,\n",
       " 'social': 336,\n",
       " 'wedding': 337,\n",
       " 'power': 338,\n",
       " 'presidential': 339,\n",
       " \"didn't\": 340,\n",
       " 'middle': 341,\n",
       " 'keep': 342,\n",
       " 'behind': 343,\n",
       " 'run': 344,\n",
       " 'name': 345,\n",
       " 'case': 346,\n",
       " 'talk': 347,\n",
       " 'doing': 348,\n",
       " 'republican': 349,\n",
       " 'open': 350,\n",
       " 'coming': 351,\n",
       " 'girl': 352,\n",
       " 'photos': 353,\n",
       " 'fans': 354,\n",
       " 'scientists': 355,\n",
       " 'room': 356,\n",
       " 'looking': 357,\n",
       " 'security': 358,\n",
       " 'between': 359,\n",
       " 'human': 360,\n",
       " 'something': 361,\n",
       " 'morning': 362,\n",
       " 'full': 363,\n",
       " 'thinks': 364,\n",
       " 'fucking': 365,\n",
       " 'james': 366,\n",
       " 'voters': 367,\n",
       " 'rights': 368,\n",
       " 'asks': 369,\n",
       " 'republicans': 370,\n",
       " 'once': 371,\n",
       " 'might': 372,\n",
       " 'claims': 373,\n",
       " 'future': 374,\n",
       " 'used': 375,\n",
       " 'christmas': 376,\n",
       " 'tax': 377,\n",
       " 'email': 378,\n",
       " 'ceo': 379,\n",
       " 'student': 380,\n",
       " 'win': 381,\n",
       " 'forced': 382,\n",
       " 'admits': 383,\n",
       " 'goes': 384,\n",
       " 'group': 385,\n",
       " 'secret': 386,\n",
       " 'vote': 387,\n",
       " '2016': 388,\n",
       " \"world's\": 389,\n",
       " 'michael': 390,\n",
       " 'marriage': 391,\n",
       " 'because': 392,\n",
       " 'violence': 393,\n",
       " 'democrats': 394,\n",
       " 'poll': 395,\n",
       " 'killed': 396,\n",
       " 'team': 397,\n",
       " 'control': 398,\n",
       " 'ad': 399,\n",
       " 'country': 400,\n",
       " '12': 401,\n",
       " 'sure': 402,\n",
       " 'department': 403,\n",
       " 'plans': 404,\n",
       " 'female': 405,\n",
       " 'ban': 406,\n",
       " 'many': 407,\n",
       " 'bernie': 408,\n",
       " 'teacher': 409,\n",
       " 'inside': 410,\n",
       " 'person': 411,\n",
       " 'post': 412,\n",
       " 'until': 413,\n",
       " 'wife': 414,\n",
       " 'ryan': 415,\n",
       " 'put': 416,\n",
       " 'always': 417,\n",
       " 'twitter': 418,\n",
       " 'super': 419,\n",
       " 'political': 420,\n",
       " 'water': 421,\n",
       " 'running': 422,\n",
       " 'hot': 423,\n",
       " 'dies': 424,\n",
       " 'meet': 425,\n",
       " 'father': 426,\n",
       " 'warns': 427,\n",
       " 'each': 428,\n",
       " 'head': 429,\n",
       " 'photo': 430,\n",
       " '30': 431,\n",
       " 'eating': 432,\n",
       " 'boy': 433,\n",
       " 'reports': 434,\n",
       " 'minutes': 435,\n",
       " 'race': 436,\n",
       " 'judge': 437,\n",
       " 'red': 438,\n",
       " 'days': 439,\n",
       " 'music': 440,\n",
       " 'employee': 441,\n",
       " 'let': 442,\n",
       " 'perfect': 443,\n",
       " 'record': 444,\n",
       " 'tells': 445,\n",
       " 'taking': 446,\n",
       " 'candidate': 447,\n",
       " 'past': 448,\n",
       " 'everything': 449,\n",
       " 'art': 450,\n",
       " 'idea': 451,\n",
       " 'living': 452,\n",
       " 'list': 453,\n",
       " 'class': 454,\n",
       " 'summer': 455,\n",
       " 'month': 456,\n",
       " 'three': 457,\n",
       " 'missing': 458,\n",
       " 'wall': 459,\n",
       " 'were': 460,\n",
       " '15': 461,\n",
       " 'working': 462,\n",
       " 'did': 463,\n",
       " 'here': 464,\n",
       " 'needs': 465,\n",
       " 'states': 466,\n",
       " 'secretary': 467,\n",
       " 'very': 468,\n",
       " 'looks': 469,\n",
       " 'save': 470,\n",
       " 'thousands': 471,\n",
       " 'mother': 472,\n",
       " 'service': 473,\n",
       " 'town': 474,\n",
       " 'mike': 475,\n",
       " 'pay': 476,\n",
       " 'russia': 477,\n",
       " 'george': 478,\n",
       " 'times': 479,\n",
       " 'left': 480,\n",
       " 'shot': 481,\n",
       " 'thought': 482,\n",
       " 'california': 483,\n",
       " 'phone': 484,\n",
       " \"'i\": 485,\n",
       " 'heart': 486,\n",
       " 'start': 487,\n",
       " 'lives': 488,\n",
       " 'hours': 489,\n",
       " 'set': 490,\n",
       " 'place': 491,\n",
       " 'age': 492,\n",
       " 'wrong': 493,\n",
       " 'gives': 494,\n",
       " 'comes': 495,\n",
       " 'together': 496,\n",
       " 'cruz': 497,\n",
       " 'meeting': 498,\n",
       " 'shit': 499,\n",
       " 'ready': 500,\n",
       " 'officials': 501,\n",
       " 'justice': 502,\n",
       " 'ice': 503,\n",
       " 'cancer': 504,\n",
       " 'believe': 505,\n",
       " \"you're\": 506,\n",
       " 'obamacare': 507,\n",
       " 'young': 508,\n",
       " 'probably': 509,\n",
       " 'texas': 510,\n",
       " 'someone': 511,\n",
       " 'talks': 512,\n",
       " 'wearing': 513,\n",
       " 'half': 514,\n",
       " 'breaking': 515,\n",
       " '50': 516,\n",
       " 'giving': 517,\n",
       " 'street': 518,\n",
       " 'kill': 519,\n",
       " 'lost': 520,\n",
       " 'yet': 521,\n",
       " 'ex': 522,\n",
       " 'king': 523,\n",
       " 'chief': 524,\n",
       " 'korea': 525,\n",
       " 'watching': 526,\n",
       " 'few': 527,\n",
       " 'kim': 528,\n",
       " 'small': 529,\n",
       " 'drug': 530,\n",
       " 'air': 531,\n",
       " 'owner': 532,\n",
       " 'prison': 533,\n",
       " \"women's\": 534,\n",
       " 'iran': 535,\n",
       " 'daughter': 536,\n",
       " 'leave': 537,\n",
       " 'isis': 538,\n",
       " 'restaurant': 539,\n",
       " 'fbi': 540,\n",
       " 'today': 541,\n",
       " 'dream': 542,\n",
       " 'fan': 543,\n",
       " 'feel': 544,\n",
       " 'ted': 545,\n",
       " 'crisis': 546,\n",
       " 'sleep': 547,\n",
       " 'letter': 548,\n",
       " 'mark': 549,\n",
       " 'word': 550,\n",
       " 'cat': 551,\n",
       " \"i'm\": 552,\n",
       " 'wins': 553,\n",
       " 'administration': 554,\n",
       " 'south': 555,\n",
       " 'director': 556,\n",
       " \"she's\": 557,\n",
       " 'biden': 558,\n",
       " 'hard': 559,\n",
       " 'earth': 560,\n",
       " 'hour': 561,\n",
       " 'tips': 562,\n",
       " 'education': 563,\n",
       " 'washington': 564,\n",
       " 'third': 565,\n",
       " 'military': 566,\n",
       " 'personal': 567,\n",
       " 'community': 568,\n",
       " 'nothing': 569,\n",
       " 'attacks': 570,\n",
       " 'outside': 571,\n",
       " 'using': 572,\n",
       " 'less': 573,\n",
       " 'chris': 574,\n",
       " 'talking': 575,\n",
       " 'democratic': 576,\n",
       " 'bar': 577,\n",
       " 'system': 578,\n",
       " 'rock': 579,\n",
       " 'internet': 580,\n",
       " 'questions': 581,\n",
       " 'francis': 582,\n",
       " 'nuclear': 583,\n",
       " 'months': 584,\n",
       " 'leaves': 585,\n",
       " 'kind': 586,\n",
       " 'federal': 587,\n",
       " 'romney': 588,\n",
       " 'those': 589,\n",
       " 'move': 590,\n",
       " 't': 591,\n",
       " 'well': 592,\n",
       " 'following': 593,\n",
       " 'percent': 594,\n",
       " 'online': 595,\n",
       " 'latest': 596,\n",
       " 'majority': 597,\n",
       " 'order': 598,\n",
       " 'birthday': 599,\n",
       " 'issues': 600,\n",
       " 'march': 601,\n",
       " 'tweets': 602,\n",
       " 'girlfriend': 603,\n",
       " 'fun': 604,\n",
       " 'fox': 605,\n",
       " \"what's\": 606,\n",
       " 'assault': 607,\n",
       " 'since': 608,\n",
       " 'excited': 609,\n",
       " 'gift': 610,\n",
       " 'investigation': 611,\n",
       " 'knows': 612,\n",
       " 'congressman': 613,\n",
       " 'abortion': 614,\n",
       " 'lot': 615,\n",
       " 'florida': 616,\n",
       " 'series': 617,\n",
       " 'buy': 618,\n",
       " 'store': 619,\n",
       " 'straight': 620,\n",
       " 'minute': 621,\n",
       " 'rules': 622,\n",
       " 'guide': 623,\n",
       " 'hit': 624,\n",
       " 'read': 625,\n",
       " 'special': 626,\n",
       " 'cover': 627,\n",
       " 'mueller': 628,\n",
       " 'beautiful': 629,\n",
       " 'holiday': 630,\n",
       " 'waiting': 631,\n",
       " 'happy': 632,\n",
       " 'spends': 633,\n",
       " '100': 634,\n",
       " 'stephen': 635,\n",
       " 'called': 636,\n",
       " 'reason': 637,\n",
       " 'huge': 638,\n",
       " 'travel': 639,\n",
       " 'muslim': 640,\n",
       " 'trip': 641,\n",
       " 'ask': 642,\n",
       " 'problem': 643,\n",
       " 'offers': 644,\n",
       " 'kid': 645,\n",
       " 'leaders': 646,\n",
       " 'different': 647,\n",
       " 'told': 648,\n",
       " \"isn't\": 649,\n",
       " 'whole': 650,\n",
       " 'visit': 651,\n",
       " 'russian': 652,\n",
       " 'break': 653,\n",
       " 'scott': 654,\n",
       " 'hollywood': 655,\n",
       " 'front': 656,\n",
       " 'favorite': 657,\n",
       " 'rise': 658,\n",
       " 'relationship': 659,\n",
       " 'worried': 660,\n",
       " 'hair': 661,\n",
       " 'david': 662,\n",
       " 'cop': 663,\n",
       " 'non': 664,\n",
       " 'chinese': 665,\n",
       " 'millions': 666,\n",
       " 'thinking': 667,\n",
       " 'trailer': 668,\n",
       " '2015': 669,\n",
       " 'box': 670,\n",
       " 'celebrates': 671,\n",
       " 'girls': 672,\n",
       " 'anything': 673,\n",
       " 'play': 674,\n",
       " 'date': 675,\n",
       " 'immigration': 676,\n",
       " 'hate': 677,\n",
       " 'protest': 678,\n",
       " 'al': 679,\n",
       " \"america's\": 680,\n",
       " 'late': 681,\n",
       " 'early': 682,\n",
       " 'career': 683,\n",
       " 'die': 684,\n",
       " 'response': 685,\n",
       " 'himself': 686,\n",
       " \"obama's\": 687,\n",
       " 'taylor': 688,\n",
       " 'union': 689,\n",
       " 'stars': 690,\n",
       " 'china': 691,\n",
       " 'drunk': 692,\n",
       " 'fall': 693,\n",
       " 'birth': 694,\n",
       " 'struggling': 695,\n",
       " 'reasons': 696,\n",
       " 'billion': 697,\n",
       " 'united': 698,\n",
       " 'message': 699,\n",
       " 'massive': 700,\n",
       " 'weekend': 701,\n",
       " '40': 702,\n",
       " 'candidates': 703,\n",
       " 'politics': 704,\n",
       " 'accused': 705,\n",
       " 'opens': 706,\n",
       " 'become': 707,\n",
       " 'least': 708,\n",
       " 'starting': 709,\n",
       " 'killing': 710,\n",
       " 'huffpost': 711,\n",
       " 'senator': 712,\n",
       " 'bring': 713,\n",
       " 'hands': 714,\n",
       " 'mass': 715,\n",
       " 'feels': 716,\n",
       " 'interview': 717,\n",
       " 'vows': 718,\n",
       " 'hope': 719,\n",
       " 'victims': 720,\n",
       " 'experts': 721,\n",
       " 'light': 722,\n",
       " 'moment': 723,\n",
       " 'discover': 724,\n",
       " 'turn': 725,\n",
       " 'returns': 726,\n",
       " 'leader': 727,\n",
       " 'words': 728,\n",
       " 'pence': 729,\n",
       " 'point': 730,\n",
       " 'c': 731,\n",
       " 'jimmy': 732,\n",
       " 'clearly': 733,\n",
       " 'turns': 734,\n",
       " 'far': 735,\n",
       " 'driving': 736,\n",
       " 'center': 737,\n",
       " 'dating': 738,\n",
       " 'key': 739,\n",
       " 'employees': 740,\n",
       " 'sports': 741,\n",
       " 'policy': 742,\n",
       " 'lessons': 743,\n",
       " 'tom': 744,\n",
       " 'sick': 745,\n",
       " 'wishes': 746,\n",
       " 'apple': 747,\n",
       " 'conversation': 748,\n",
       " 'host': 749,\n",
       " 'sign': 750,\n",
       " 'whether': 751,\n",
       " \"they're\": 752,\n",
       " 'completely': 753,\n",
       " 'murder': 754,\n",
       " 'fashion': 755,\n",
       " 'adds': 756,\n",
       " 'adorable': 757,\n",
       " 'totally': 758,\n",
       " 'learned': 759,\n",
       " 'signs': 760,\n",
       " 'hoping': 761,\n",
       " 'prince': 762,\n",
       " 'fuck': 763,\n",
       " 'role': 764,\n",
       " 'stage': 765,\n",
       " 'j': 766,\n",
       " 'oil': 767,\n",
       " 'powerful': 768,\n",
       " 'k': 769,\n",
       " 'breaks': 770,\n",
       " 'abuse': 771,\n",
       " 'song': 772,\n",
       " 'across': 773,\n",
       " 'reality': 774,\n",
       " 'moving': 775,\n",
       " 'decision': 776,\n",
       " 'global': 777,\n",
       " 'keeps': 778,\n",
       " 'experience': 779,\n",
       " 'seen': 780,\n",
       " 'syrian': 781,\n",
       " 'announce': 782,\n",
       " 'true': 783,\n",
       " 'risk': 784,\n",
       " 'iraq': 785,\n",
       " 'joe': 786,\n",
       " 'bus': 787,\n",
       " 'begins': 788,\n",
       " 'jr': 789,\n",
       " 'syria': 790,\n",
       " 'hand': 791,\n",
       " 'puts': 792,\n",
       " 'dance': 793,\n",
       " '13': 794,\n",
       " 'final': 795,\n",
       " 'check': 796,\n",
       " 'cops': 797,\n",
       " 'dinner': 798,\n",
       " 'stand': 799,\n",
       " 'apartment': 800,\n",
       " 'cut': 801,\n",
       " 'almost': 802,\n",
       " 'playing': 803,\n",
       " 'names': 804,\n",
       " 'coffee': 805,\n",
       " 'weird': 806,\n",
       " 'longer': 807,\n",
       " 'hurricane': 808,\n",
       " 'schools': 809,\n",
       " 'kills': 810,\n",
       " \"there's\": 811,\n",
       " 'lose': 812,\n",
       " 'amazon': 813,\n",
       " 'awards': 814,\n",
       " 'un': 815,\n",
       " 'low': 816,\n",
       " 'press': 817,\n",
       " 'robert': 818,\n",
       " 'mind': 819,\n",
       " 'number': 820,\n",
       " 'lead': 821,\n",
       " 'west': 822,\n",
       " 'd': 823,\n",
       " 'worth': 824,\n",
       " 'anniversary': 825,\n",
       " 'surprise': 826,\n",
       " 'oscar': 827,\n",
       " 'feeling': 828,\n",
       " 'anyone': 829,\n",
       " 'crash': 830,\n",
       " 'mental': 831,\n",
       " 'trans': 832,\n",
       " 'test': 833,\n",
       " 'lgbt': 834,\n",
       " 'worst': 835,\n",
       " 'band': 836,\n",
       " 'hall': 837,\n",
       " 'space': 838,\n",
       " 'return': 839,\n",
       " 'official': 840,\n",
       " 'which': 841,\n",
       " 'audience': 842,\n",
       " 'queer': 843,\n",
       " 'shop': 844,\n",
       " 'hits': 845,\n",
       " 'demands': 846,\n",
       " 'oscars': 847,\n",
       " 'data': 848,\n",
       " 'workers': 849,\n",
       " 'university': 850,\n",
       " 'iowa': 851,\n",
       " 'side': 852,\n",
       " 'apologizes': 853,\n",
       " 'road': 854,\n",
       " 'cool': 855,\n",
       " 'industry': 856,\n",
       " 'suspect': 857,\n",
       " 'planned': 858,\n",
       " 'plane': 859,\n",
       " 'nfl': 860,\n",
       " 'evidence': 861,\n",
       " 'steve': 862,\n",
       " 'eat': 863,\n",
       " 'program': 864,\n",
       " 'door': 865,\n",
       " 'table': 866,\n",
       " 'governor': 867,\n",
       " 'remember': 868,\n",
       " 'try': 869,\n",
       " 'important': 870,\n",
       " 'chance': 871,\n",
       " 'transgender': 872,\n",
       " 'defense': 873,\n",
       " 'reportedly': 874,\n",
       " 'urges': 875,\n",
       " 'near': 876,\n",
       " 'church': 877,\n",
       " 'chicago': 878,\n",
       " 'halloween': 879,\n",
       " 'users': 880,\n",
       " 'possible': 881,\n",
       " 'general': 882,\n",
       " 'doctor': 883,\n",
       " '2014': 884,\n",
       " 'hear': 885,\n",
       " 'style': 886,\n",
       " 'spot': 887,\n",
       " 'supporters': 888,\n",
       " 'five': 889,\n",
       " 'rubio': 890,\n",
       " 'reveal': 891,\n",
       " 'kardashian': 892,\n",
       " 'advice': 893,\n",
       " 'coworker': 894,\n",
       " 'given': 895,\n",
       " 'voter': 896,\n",
       " 'brings': 897,\n",
       " 'picture': 898,\n",
       " 'dying': 899,\n",
       " 'success': 900,\n",
       " 'blood': 901,\n",
       " 'executive': 902,\n",
       " 'finding': 903,\n",
       " 'suicide': 904,\n",
       " 'tour': 905,\n",
       " 'biggest': 906,\n",
       " '2017': 907,\n",
       " 'allegations': 908,\n",
       " 'accidentally': 909,\n",
       " 'easy': 910,\n",
       " 'boys': 911,\n",
       " 'football': 912,\n",
       " 'protesters': 913,\n",
       " 'bathroom': 914,\n",
       " 'fighting': 915,\n",
       " 'demand': 916,\n",
       " 'michelle': 917,\n",
       " 'peace': 918,\n",
       " 'push': 919,\n",
       " 'reform': 920,\n",
       " 'paris': 921,\n",
       " 'close': 922,\n",
       " 'avoid': 923,\n",
       " 'elizabeth': 924,\n",
       " 'israel': 925,\n",
       " 'homeless': 926,\n",
       " 'poor': 927,\n",
       " 'fear': 928,\n",
       " 'cnn': 929,\n",
       " 'quietly': 930,\n",
       " 'reminds': 931,\n",
       " 'teens': 932,\n",
       " 'nyc': 933,\n",
       " 'address': 934,\n",
       " 'learn': 935,\n",
       " 'board': 936,\n",
       " 'bowl': 937,\n",
       " 'uses': 938,\n",
       " 'apparently': 939,\n",
       " 'building': 940,\n",
       " 'act': 941,\n",
       " 'staff': 942,\n",
       " 'rest': 943,\n",
       " 'pro': 944,\n",
       " 'major': 945,\n",
       " 'carolina': 946,\n",
       " 'train': 947,\n",
       " 'force': 948,\n",
       " 'voice': 949,\n",
       " 'pregnant': 950,\n",
       " 'weight': 951,\n",
       " 'officer': 952,\n",
       " 'suggests': 953,\n",
       " 'walking': 954,\n",
       " 'google': 955,\n",
       " 'members': 956,\n",
       " 'rally': 957,\n",
       " 'economy': 958,\n",
       " 'ideas': 959,\n",
       " 'lets': 960,\n",
       " 'died': 961,\n",
       " 'celebrate': 962,\n",
       " 'card': 963,\n",
       " 'website': 964,\n",
       " 'park': 965,\n",
       " 'ben': 966,\n",
       " 'performance': 967,\n",
       " 'prevent': 968,\n",
       " 'williams': 969,\n",
       " 'moore': 970,\n",
       " 'moms': 971,\n",
       " '18': 972,\n",
       " 'green': 973,\n",
       " 'ferguson': 974,\n",
       " 'saudi': 975,\n",
       " 'asking': 976,\n",
       " 'artist': 977,\n",
       " 'leading': 978,\n",
       " 'pick': 979,\n",
       " 'passes': 980,\n",
       " 'opening': 981,\n",
       " 'said': 982,\n",
       " 'christian': 983,\n",
       " 'album': 984,\n",
       " 'happens': 985,\n",
       " 'netflix': 986,\n",
       " 'culture': 987,\n",
       " 'magazine': 988,\n",
       " 'throws': 989,\n",
       " 'leads': 990,\n",
       " 'eyes': 991,\n",
       " 'humans': 992,\n",
       " 'chicken': 993,\n",
       " 'beauty': 994,\n",
       " 'crime': 995,\n",
       " 'recalls': 996,\n",
       " 'energy': 997,\n",
       " 'voting': 998,\n",
       " 'question': 999,\n",
       " 'episode': 1000,\n",
       " ...}"
      ]
     },
     "execution_count": 28,
     "metadata": {},
     "output_type": "execute_result"
    }
   ],
   "source": [
    "wrd_tokenizer.word_index"
   ]
  },
  {
   "cell_type": "code",
   "execution_count": null,
   "metadata": {
    "id": "qBItofyZhLJZ"
   },
   "outputs": [],
   "source": []
  },
  {
   "cell_type": "code",
   "execution_count": null,
   "metadata": {
    "id": "jcexXwPuObys"
   },
   "outputs": [],
   "source": [
    "#8.Create a weight matrix using GloVe embeddings [3 Marks]\n"
   ]
  },
  {
   "cell_type": "code",
   "execution_count": 29,
   "metadata": {
    "colab": {
     "base_uri": "https://localhost:8080/"
    },
    "id": "XkMext4L1VIQ",
    "outputId": "1479b6aa-f11d-401a-f690-2da23dec1c02"
   },
   "outputs": [
    {
     "name": "stdout",
     "output_type": "stream",
     "text": [
      "30888\n"
     ]
    }
   ],
   "source": [
    "num_words = len(wrd_tokenizer.word_index) + 1\n",
    "print(num_words)"
   ]
  },
  {
   "cell_type": "code",
   "execution_count": 30,
   "metadata": {
    "id": "PcguI9w90Xhk"
   },
   "outputs": [],
   "source": [
    "\n",
    "import os\n",
    "glove_path = '/content/drive/My Drive/Colab Notebooks/glove.6B.200d.txt'\n",
    "embeddings = {}\n",
    "for o in open(glove_path):\n",
    "    word = o.split(\" \")[0]\n",
    "    # print(word)\n",
    "    embd = o.split(\" \")[1:]\n",
    "    embd = np.asarray(embd, dtype='float32')\n",
    "    # print(embd)\n",
    "    embeddings[word] = embd\n",
    "\n",
    "# create a weight matrix for words in training docs\n",
    "embedding_matrix = np.zeros((num_words, 200))\n",
    "\n",
    "for word, i in wrd_tokenizer.word_index.items():\n",
    "\tembedding_vector = embeddings.get(word)\n",
    "\tif embedding_vector is not None:\n",
    "\t\tembedding_matrix[i] = embedding_vector"
   ]
  },
  {
   "cell_type": "code",
   "execution_count": null,
   "metadata": {
    "id": "wsJ9Lt5ihM47"
   },
   "outputs": [],
   "source": []
  },
  {
   "cell_type": "code",
   "execution_count": null,
   "metadata": {
    "id": "ZXARAhI_Odt0"
   },
   "outputs": [],
   "source": [
    "#9.Define and compile a Bidirectional LSTM model. [3 Marks]\n",
    "#Hint: Be analytical and experimental here in trying new approaches to design the best model."
   ]
  },
  {
   "cell_type": "code",
   "execution_count": 32,
   "metadata": {
    "id": "QZBlcTzs1dN3"
   },
   "outputs": [],
   "source": [
    "lstm_out = 196\n",
    "\n",
    "# define the model\n",
    "lstm_model = Sequential()\n",
    "lstm_model.add(Embedding(num_words,\n",
    "                    embedding_size,\n",
    "                    embeddings_initializer=Constant(embedding_matrix),\n",
    "                    input_length=max_len,\n",
    "                    trainable=False))\n",
    "lstm_model.add(SpatialDropout1D(0.4))\n",
    "lstm_model.add(Bidirectional(LSTM(lstm_out, dropout=0.2, recurrent_dropout=0.2)))\n",
    "lstm_model.add(Flatten())\n",
    "lstm_model.add(Dense(1, activation='sigmoid'))"
   ]
  },
  {
   "cell_type": "code",
   "execution_count": 34,
   "metadata": {
    "colab": {
     "base_uri": "https://localhost:8080/"
    },
    "id": "LqHgAOTZOtCk",
    "outputId": "b3429b2b-46f5-4479-a4a2-a8f6e3e358ee"
   },
   "outputs": [
    {
     "name": "stdout",
     "output_type": "stream",
     "text": [
      "Model: \"sequential_1\"\n",
      "_________________________________________________________________\n",
      " Layer (type)                Output Shape              Param #   \n",
      "=================================================================\n",
      " embedding_1 (Embedding)     (None, 25, 200)           6177600   \n",
      "                                                                 \n",
      " spatial_dropout1d_1 (Spatia  (None, 25, 200)          0         \n",
      " lDropout1D)                                                     \n",
      "                                                                 \n",
      " bidirectional_1 (Bidirectio  (None, 392)              622496    \n",
      " nal)                                                            \n",
      "                                                                 \n",
      " flatten_1 (Flatten)         (None, 392)               0         \n",
      "                                                                 \n",
      " dense_1 (Dense)             (None, 1)                 393       \n",
      "                                                                 \n",
      "=================================================================\n",
      "Total params: 6,800,489\n",
      "Trainable params: 622,889\n",
      "Non-trainable params: 6,177,600\n",
      "_________________________________________________________________\n",
      "None\n"
     ]
    }
   ],
   "source": [
    "# compile the model\n",
    "lstm_model.compile(optimizer='adam', loss='binary_crossentropy', metrics=['accuracy'])\n",
    "# summarize the model\n",
    "print(lstm_model.summary())"
   ]
  },
  {
   "cell_type": "code",
   "execution_count": 39,
   "metadata": {
    "colab": {
     "base_uri": "https://localhost:8080/"
    },
    "id": "y1pFYqxP3vrq",
    "outputId": "aa8bdc71-0a38-4c04-c8d2-4703e38fa10a"
   },
   "outputs": [
    {
     "name": "stdout",
     "output_type": "stream",
     "text": [
      "(22895, 25) (22895,)\n",
      "(5724, 25) (5724,)\n"
     ]
    }
   ],
   "source": [
    "#printing test and train\n",
    "X_train, X_test, Y_train, Y_test = train_test_split(X,Y, test_size = 0.20, random_state = 42)\n",
    "print(X_train.shape,Y_train.shape)\n",
    "print(X_test.shape,Y_test.shape)"
   ]
  },
  {
   "cell_type": "code",
   "execution_count": null,
   "metadata": {
    "id": "5JTgMWxXhOTJ"
   },
   "outputs": [],
   "source": []
  },
  {
   "cell_type": "code",
   "execution_count": null,
   "metadata": {
    "id": "ABMkrfaLOfXT"
   },
   "outputs": [],
   "source": [
    "\n",
    "#10. Fit the model and check the validation accuracy [3 Marks]"
   ]
  },
  {
   "cell_type": "code",
   "execution_count": 40,
   "metadata": {
    "colab": {
     "base_uri": "https://localhost:8080/"
    },
    "id": "MniiCJcMOtQY",
    "outputId": "6f7a8d49-1d6e-47e1-e379-d68c8a77e1c6"
   },
   "outputs": [
    {
     "name": "stdout",
     "output_type": "stream",
     "text": [
      "Epoch 1/10\n",
      "322/322 [==============================] - ETA: 0s - loss: 0.4718 - accuracy: 0.7719"
     ]
    },
    {
     "name": "stderr",
     "output_type": "stream",
     "text": [
      "WARNING:tensorflow:AutoGraph could not transform <function Model.make_test_function.<locals>.test_function at 0x7f01f0546830> and will run it as-is.\n",
      "Please report this to the TensorFlow team. When filing the bug, set the verbosity to 10 (on Linux, `export AUTOGRAPH_VERBOSITY=10`) and attach the full output.\n",
      "Cause: 'arguments' object has no attribute 'posonlyargs'\n",
      "To silence this warning, decorate the function with @tf.autograph.experimental.do_not_convert\n"
     ]
    },
    {
     "name": "stdout",
     "output_type": "stream",
     "text": [
      "WARNING: AutoGraph could not transform <function Model.make_test_function.<locals>.test_function at 0x7f01f0546830> and will run it as-is.\n",
      "Please report this to the TensorFlow team. When filing the bug, set the verbosity to 10 (on Linux, `export AUTOGRAPH_VERBOSITY=10`) and attach the full output.\n",
      "Cause: 'arguments' object has no attribute 'posonlyargs'\n",
      "To silence this warning, decorate the function with @tf.autograph.experimental.do_not_convert\n",
      "322/322 [==============================] - 174s 541ms/step - loss: 0.4718 - accuracy: 0.7719 - val_loss: 0.3727 - val_accuracy: 0.8323\n",
      "Epoch 2/10\n",
      "322/322 [==============================] - 172s 535ms/step - loss: 0.3990 - accuracy: 0.8114 - val_loss: 0.3428 - val_accuracy: 0.8563\n",
      "Epoch 3/10\n",
      "322/322 [==============================] - 178s 554ms/step - loss: 0.3636 - accuracy: 0.8349 - val_loss: 0.3234 - val_accuracy: 0.8576\n",
      "Epoch 4/10\n",
      "322/322 [==============================] - 177s 550ms/step - loss: 0.3369 - accuracy: 0.8507 - val_loss: 0.3018 - val_accuracy: 0.8703\n",
      "Epoch 5/10\n",
      "322/322 [==============================] - 175s 542ms/step - loss: 0.3144 - accuracy: 0.8601 - val_loss: 0.3025 - val_accuracy: 0.8664\n",
      "Epoch 6/10\n",
      "322/322 [==============================] - 177s 549ms/step - loss: 0.2894 - accuracy: 0.8742 - val_loss: 0.2978 - val_accuracy: 0.8668\n",
      "Epoch 7/10\n",
      "322/322 [==============================] - 180s 559ms/step - loss: 0.2744 - accuracy: 0.8793 - val_loss: 0.2964 - val_accuracy: 0.8725\n",
      "Epoch 8/10\n",
      "322/322 [==============================] - 176s 546ms/step - loss: 0.2575 - accuracy: 0.8921 - val_loss: 0.3036 - val_accuracy: 0.8668\n",
      "Epoch 9/10\n",
      "322/322 [==============================] - 176s 548ms/step - loss: 0.2478 - accuracy: 0.8929 - val_loss: 0.3006 - val_accuracy: 0.8738\n",
      "Epoch 10/10\n",
      "322/322 [==============================] - 172s 533ms/step - loss: 0.2289 - accuracy: 0.9042 - val_loss: 0.3090 - val_accuracy: 0.8703\n"
     ]
    }
   ],
   "source": [
    "batch_size = 64\n",
    "history = lstm_model.fit(X_train, Y_train, epochs = 10, batch_size=batch_size, \n",
    "                    verbose = 1, validation_split=0.1)"
   ]
  },
  {
   "cell_type": "code",
   "execution_count": 43,
   "metadata": {
    "colab": {
     "base_uri": "https://localhost:8080/",
     "height": 295
    },
    "id": "sY8YW65HOtTb",
    "outputId": "7ed77282-e63a-45cf-b06e-667511f369f5"
   },
   "outputs": [
    {
     "data": {
      "image/png": "[encoded data removed]",
      "text/plain": [
       "<Figure size 432x288 with 1 Axes>"
      ]
     },
     "metadata": {
      "needs_background": "light"
     },
     "output_type": "display_data"
    }
   ],
   "source": [
    "# summarize history for accuracy\n",
    "plt.plot(history.history['accuracy'])\n",
    "plt.plot(history.history['val_accuracy'])\n",
    "\n",
    "plt.title('Model Accuracy')\n",
    "plt.ylabel('Accuracy')\n",
    "plt.xlabel('Epoch')\n",
    "plt.legend(['Train', 'Validation'], loc='upper left')\n",
    "plt.show();"
   ]
  },
  {
   "cell_type": "code",
   "execution_count": 45,
   "metadata": {
    "colab": {
     "base_uri": "https://localhost:8080/"
    },
    "id": "F1-TG6Ke40lw",
    "outputId": "e2744af2-3681-4d8d-cc47-e7abf4ff40ca"
   },
   "outputs": [
    {
     "name": "stdout",
     "output_type": "stream",
     "text": [
      "179/179 [==============================] - 10s 54ms/step - loss: 0.3038 - accuracy: 0.8768\n"
     ]
    }
   ],
   "source": [
    "loss, accuracy = lstm_model.evaluate(X_test, Y_test)"
   ]
  },
  {
   "cell_type": "code",
   "execution_count": 46,
   "metadata": {
    "colab": {
     "base_uri": "https://localhost:8080/"
    },
    "id": "oK02GquqOtW_",
    "outputId": "b50c5a97-1301-48ef-c269-cb4f942207e8"
   },
   "outputs": [
    {
     "name": "stdout",
     "output_type": "stream",
     "text": [
      " Test loss: 30.379%   Test accuracy: 87.683%\n"
     ]
    }
   ],
   "source": [
    "print(f' Test loss: {loss*100:.3f}%   Test accuracy: {accuracy*100:.3f}%')"
   ]
  },
  {
   "cell_type": "code",
   "execution_count": null,
   "metadata": {
    "id": "ivGrfzlC44Ty"
   },
   "outputs": [],
   "source": []
  },
  {
   "cell_type": "code",
   "execution_count": null,
   "metadata": {
    "id": "XIjJFHyY44aJ"
   },
   "outputs": [],
   "source": []
  },
  {
   "cell_type": "code",
   "execution_count": null,
   "metadata": {
    "id": "112UvLsZ44dI"
   },
   "outputs": [],
   "source": []
  },
  {
   "cell_type": "code",
   "execution_count": null,
   "metadata": {
    "id": "FSxUAXvICf_-"
   },
   "outputs": [],
   "source": []
  },
  {
   "cell_type": "code",
   "execution_count": 45,
   "metadata": {
    "id": "iuB9LwPQCgDz"
   },
   "outputs": [],
   "source": []
  },
  {
   "cell_type": "code",
   "execution_count": null,
   "metadata": {
    "id": "KhQvigslCgIR"
   },
   "outputs": [],
   "source": []
  },
  {
   "cell_type": "code",
   "execution_count": null,
   "metadata": {
    "id": "mEx1BvuZCgMj"
   },
   "outputs": [],
   "source": []
  },
  {
   "cell_type": "code",
   "execution_count": null,
   "metadata": {
    "id": "7LWD4YIRCdA9"
   },
   "outputs": [],
   "source": []
  },
  {
   "cell_type": "code",
   "execution_count": null,
   "metadata": {
    "id": "omahWr5fCdMA"
   },
   "outputs": [],
   "source": []
  },
  {
   "cell_type": "markdown",
   "metadata": {
    "id": "EeB4CQhP_OV1"
   },
   "source": []
  },
  {
   "cell_type": "code",
   "execution_count": null,
   "metadata": {
    "id": "Sa7ZNaOy3Nzx"
   },
   "outputs": [],
   "source": []
  },
  {
   "cell_type": "markdown",
   "metadata": {
    "id": "Bfj8_oDM3Hud"
   },
   "source": []
  }
 ],
 "metadata": {
  "colab": {
   "provenance": []
  },
  "kernelspec": {
   "display_name": "Python 3 (ipykernel)",
   "language": "python",
   "name": "python3"
  },
  "language_info": {
   "codemirror_mode": {
    "name": "ipython",
    "version": 3
   },
   "file_extension": ".py",
   "mimetype": "text/x-python",
   "name": "python",
   "nbconvert_exporter": "python",
   "pygments_lexer": "ipython3",
   "version": "3.9.7"
  }
 },
 "nbformat": 4,
 "nbformat_minor": 1
}
