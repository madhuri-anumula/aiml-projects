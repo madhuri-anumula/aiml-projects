{
 "cells": [
  {
   "cell_type": "markdown",
   "metadata": {},
   "source": [
    "# Assignment- Madhuri A"
   ]
  },
  {
   "cell_type": "markdown",
   "metadata": {},
   "source": [
    "# Part A\n",
    "\n",
    "   "
   ]
  },
  {
   "cell_type": "code",
   "execution_count": 501,
   "metadata": {},
   "outputs": [],
   "source": [
    "%matplotlib inline\n",
    "import numpy as np\n",
    "import pandas as pd\n",
    "from sklearn.tree import DecisionTreeClassifier\n",
    "import numpy as np\n",
    "import pandas as pd\n",
    "import json\n",
    "from sklearn.svm import SVC\n",
    "from sklearn.cluster import KMeans \n",
    "from sklearn.metrics import silhouette_samples, silhouette_score\n",
    "import seaborn as sns\n",
    "from matplotlib import pyplot as plt\n",
    "from sklearn.model_selection import train_test_split\n",
    "from sklearn import metrics\n",
    "from sklearn.metrics import accuracy_score,f1_score,recall_score,precision_score, confusion_matrix\n",
    "%matplotlib inline\n",
    "\n"
   ]
  },
  {
   "cell_type": "code",
   "execution_count": 502,
   "metadata": {},
   "outputs": [],
   "source": [
    "## 1. Data Understanding & Exploration:"
   ]
  },
  {
   "cell_type": "code",
   "execution_count": 503,
   "metadata": {},
   "outputs": [],
   "source": [
    "#1. Import the necessary libraries and read the provided CSVs as a data frame and perform the below steps. [15 Marks]\n"
   ]
  },
  {
   "cell_type": "code",
   "execution_count": 504,
   "metadata": {},
   "outputs": [],
   "source": [
    "#A. Merge all the provided CSVs into one dataFrame. [2 Marks]\n"
   ]
  },
  {
   "cell_type": "code",
   "execution_count": 505,
   "metadata": {},
   "outputs": [
    {
     "name": "stdout",
     "output_type": "stream",
     "text": [
      "(374910, 11)\n"
     ]
    },
    {
     "data": {
      "text/html": [
       "<div>\n",
       "<style scoped>\n",
       "    .dataframe tbody tr th:only-of-type {\n",
       "        vertical-align: middle;\n",
       "    }\n",
       "\n",
       "    .dataframe tbody tr th {\n",
       "        vertical-align: top;\n",
       "    }\n",
       "\n",
       "    .dataframe thead th {\n",
       "        text-align: right;\n",
       "    }\n",
       "</style>\n",
       "<table border=\"1\" class=\"dataframe\">\n",
       "  <thead>\n",
       "    <tr style=\"text-align: right;\">\n",
       "      <th></th>\n",
       "      <th>phone_url</th>\n",
       "      <th>date</th>\n",
       "      <th>lang</th>\n",
       "      <th>country</th>\n",
       "      <th>source</th>\n",
       "      <th>domain</th>\n",
       "      <th>score</th>\n",
       "      <th>score_max</th>\n",
       "      <th>extract</th>\n",
       "      <th>author</th>\n",
       "      <th>product</th>\n",
       "    </tr>\n",
       "  </thead>\n",
       "  <tbody>\n",
       "    <tr>\n",
       "      <th>0</th>\n",
       "      <td>/cellphones/samsung-galaxy-s8/</td>\n",
       "      <td>5/2/2017</td>\n",
       "      <td>en</td>\n",
       "      <td>us</td>\n",
       "      <td>Verizon Wireless</td>\n",
       "      <td>verizonwireless.com</td>\n",
       "      <td>10.0</td>\n",
       "      <td>10.0</td>\n",
       "      <td>As a diehard Samsung fan who has had every Sam...</td>\n",
       "      <td>CarolAnn35</td>\n",
       "      <td>Samsung Galaxy S8</td>\n",
       "    </tr>\n",
       "    <tr>\n",
       "      <th>1</th>\n",
       "      <td>/cellphones/samsung-galaxy-s8/</td>\n",
       "      <td>4/28/2017</td>\n",
       "      <td>en</td>\n",
       "      <td>us</td>\n",
       "      <td>Phone Arena</td>\n",
       "      <td>phonearena.com</td>\n",
       "      <td>10.0</td>\n",
       "      <td>10.0</td>\n",
       "      <td>Love the phone. the phone is sleek and smooth ...</td>\n",
       "      <td>james0923</td>\n",
       "      <td>Samsung Galaxy S8</td>\n",
       "    </tr>\n",
       "    <tr>\n",
       "      <th>2</th>\n",
       "      <td>/cellphones/samsung-galaxy-s8/</td>\n",
       "      <td>5/4/2017</td>\n",
       "      <td>en</td>\n",
       "      <td>us</td>\n",
       "      <td>Amazon</td>\n",
       "      <td>amazon.com</td>\n",
       "      <td>6.0</td>\n",
       "      <td>10.0</td>\n",
       "      <td>Adequate feel. Nice heft. Processor's still sl...</td>\n",
       "      <td>R. Craig</td>\n",
       "      <td>Samsung Galaxy S8 (64GB) G950U 5.8\" 4G LTE Unl...</td>\n",
       "    </tr>\n",
       "    <tr>\n",
       "      <th>3</th>\n",
       "      <td>/cellphones/samsung-galaxy-s8/</td>\n",
       "      <td>5/2/2017</td>\n",
       "      <td>en</td>\n",
       "      <td>us</td>\n",
       "      <td>Samsung</td>\n",
       "      <td>samsung.com</td>\n",
       "      <td>9.2</td>\n",
       "      <td>10.0</td>\n",
       "      <td>Never disappointed. One of the reasons I've be...</td>\n",
       "      <td>Buster2020</td>\n",
       "      <td>Samsung Galaxy S8 64GB (AT&amp;T)</td>\n",
       "    </tr>\n",
       "    <tr>\n",
       "      <th>4</th>\n",
       "      <td>/cellphones/samsung-galaxy-s8/</td>\n",
       "      <td>5/11/2017</td>\n",
       "      <td>en</td>\n",
       "      <td>us</td>\n",
       "      <td>Verizon Wireless</td>\n",
       "      <td>verizonwireless.com</td>\n",
       "      <td>4.0</td>\n",
       "      <td>10.0</td>\n",
       "      <td>I've now found that i'm in a group of people t...</td>\n",
       "      <td>S Ate Mine</td>\n",
       "      <td>Samsung Galaxy S8</td>\n",
       "    </tr>\n",
       "  </tbody>\n",
       "</table>\n",
       "</div>"
      ],
      "text/plain": [
       "                        phone_url       date lang country            source  \\\n",
       "0  /cellphones/samsung-galaxy-s8/   5/2/2017   en      us  Verizon Wireless   \n",
       "1  /cellphones/samsung-galaxy-s8/  4/28/2017   en      us       Phone Arena   \n",
       "2  /cellphones/samsung-galaxy-s8/   5/4/2017   en      us            Amazon   \n",
       "3  /cellphones/samsung-galaxy-s8/   5/2/2017   en      us           Samsung   \n",
       "4  /cellphones/samsung-galaxy-s8/  5/11/2017   en      us  Verizon Wireless   \n",
       "\n",
       "                domain  score  score_max  \\\n",
       "0  verizonwireless.com   10.0       10.0   \n",
       "1       phonearena.com   10.0       10.0   \n",
       "2           amazon.com    6.0       10.0   \n",
       "3          samsung.com    9.2       10.0   \n",
       "4  verizonwireless.com    4.0       10.0   \n",
       "\n",
       "                                             extract       author  \\\n",
       "0  As a diehard Samsung fan who has had every Sam...   CarolAnn35   \n",
       "1  Love the phone. the phone is sleek and smooth ...    james0923   \n",
       "2  Adequate feel. Nice heft. Processor's still sl...     R. Craig   \n",
       "3  Never disappointed. One of the reasons I've be...  Buster2020    \n",
       "4  I've now found that i'm in a group of people t...   S Ate Mine   \n",
       "\n",
       "                                             product  \n",
       "0                                  Samsung Galaxy S8  \n",
       "1                                  Samsung Galaxy S8  \n",
       "2  Samsung Galaxy S8 (64GB) G950U 5.8\" 4G LTE Unl...  \n",
       "3                      Samsung Galaxy S8 64GB (AT&T)  \n",
       "4                                  Samsung Galaxy S8  "
      ]
     },
     "execution_count": 505,
     "metadata": {},
     "output_type": "execute_result"
    }
   ],
   "source": [
    "phone_user_review_1_df = pd.read_csv('phone_user_review_file_1.csv',na_values = ' ',encoding='latin-1')\n",
    "print(phone_user_review_1_df.shape)\n",
    "phone_user_review_1_df.columns\n",
    "phone_user_review_1_df.dtypes\n",
    "phone_user_review_1_df.head(5)"
   ]
  },
  {
   "cell_type": "code",
   "execution_count": 506,
   "metadata": {},
   "outputs": [
    {
     "name": "stdout",
     "output_type": "stream",
     "text": [
      "(114925, 11)\n"
     ]
    },
    {
     "data": {
      "text/html": [
       "<div>\n",
       "<style scoped>\n",
       "    .dataframe tbody tr th:only-of-type {\n",
       "        vertical-align: middle;\n",
       "    }\n",
       "\n",
       "    .dataframe tbody tr th {\n",
       "        vertical-align: top;\n",
       "    }\n",
       "\n",
       "    .dataframe thead th {\n",
       "        text-align: right;\n",
       "    }\n",
       "</style>\n",
       "<table border=\"1\" class=\"dataframe\">\n",
       "  <thead>\n",
       "    <tr style=\"text-align: right;\">\n",
       "      <th></th>\n",
       "      <th>phone_url</th>\n",
       "      <th>date</th>\n",
       "      <th>lang</th>\n",
       "      <th>country</th>\n",
       "      <th>source</th>\n",
       "      <th>domain</th>\n",
       "      <th>score</th>\n",
       "      <th>score_max</th>\n",
       "      <th>extract</th>\n",
       "      <th>author</th>\n",
       "      <th>product</th>\n",
       "    </tr>\n",
       "  </thead>\n",
       "  <tbody>\n",
       "    <tr>\n",
       "      <th>0</th>\n",
       "      <td>/cellphones/leagoo-lead-7/</td>\n",
       "      <td>4/15/2015</td>\n",
       "      <td>en</td>\n",
       "      <td>us</td>\n",
       "      <td>Amazon</td>\n",
       "      <td>amazon.com</td>\n",
       "      <td>2.0</td>\n",
       "      <td>10.0</td>\n",
       "      <td>The telephone headset is of poor quality , not...</td>\n",
       "      <td>luis</td>\n",
       "      <td>Leagoo Lead7 5.0 Inch HD JDI LTPS Screen 3G Sm...</td>\n",
       "    </tr>\n",
       "    <tr>\n",
       "      <th>1</th>\n",
       "      <td>/cellphones/leagoo-lead-7/</td>\n",
       "      <td>5/23/2015</td>\n",
       "      <td>en</td>\n",
       "      <td>gb</td>\n",
       "      <td>Amazon</td>\n",
       "      <td>amazon.co.uk</td>\n",
       "      <td>10.0</td>\n",
       "      <td>10.0</td>\n",
       "      <td>This is my first smartphone so I have nothing ...</td>\n",
       "      <td>Mark Lavin</td>\n",
       "      <td>Leagoo Lead 7 Lead7 MTK6582 Quad core 1GB RAM ...</td>\n",
       "    </tr>\n",
       "    <tr>\n",
       "      <th>2</th>\n",
       "      <td>/cellphones/leagoo-lead-7/</td>\n",
       "      <td>4/27/2015</td>\n",
       "      <td>en</td>\n",
       "      <td>gb</td>\n",
       "      <td>Amazon</td>\n",
       "      <td>amazon.co.uk</td>\n",
       "      <td>8.0</td>\n",
       "      <td>10.0</td>\n",
       "      <td>Great phone. Battery life not great but seems ...</td>\n",
       "      <td>tracey</td>\n",
       "      <td>Leagoo Lead 7 Lead7 MTK6582 Quad core 1GB RAM ...</td>\n",
       "    </tr>\n",
       "    <tr>\n",
       "      <th>3</th>\n",
       "      <td>/cellphones/leagoo-lead-7/</td>\n",
       "      <td>4/22/2015</td>\n",
       "      <td>en</td>\n",
       "      <td>gb</td>\n",
       "      <td>Amazon</td>\n",
       "      <td>amazon.co.uk</td>\n",
       "      <td>10.0</td>\n",
       "      <td>10.0</td>\n",
       "      <td>Best 90 quid I've ever spent on a smart phone</td>\n",
       "      <td>Reuben Ingram</td>\n",
       "      <td>Leagoo Lead 7 Lead7 MTK6582 Quad core 1GB RAM ...</td>\n",
       "    </tr>\n",
       "    <tr>\n",
       "      <th>4</th>\n",
       "      <td>/cellphones/leagoo-lead-7/</td>\n",
       "      <td>4/18/2015</td>\n",
       "      <td>en</td>\n",
       "      <td>gb</td>\n",
       "      <td>Amazon</td>\n",
       "      <td>amazon.co.uk</td>\n",
       "      <td>10.0</td>\n",
       "      <td>10.0</td>\n",
       "      <td>I m happy with this phone.it s very good.thx team</td>\n",
       "      <td>viorel</td>\n",
       "      <td>Leagoo Lead 7 Lead7 MTK6582 Quad core 1GB RAM ...</td>\n",
       "    </tr>\n",
       "  </tbody>\n",
       "</table>\n",
       "</div>"
      ],
      "text/plain": [
       "                    phone_url       date lang country  source        domain  \\\n",
       "0  /cellphones/leagoo-lead-7/  4/15/2015   en      us  Amazon    amazon.com   \n",
       "1  /cellphones/leagoo-lead-7/  5/23/2015   en      gb  Amazon  amazon.co.uk   \n",
       "2  /cellphones/leagoo-lead-7/  4/27/2015   en      gb  Amazon  amazon.co.uk   \n",
       "3  /cellphones/leagoo-lead-7/  4/22/2015   en      gb  Amazon  amazon.co.uk   \n",
       "4  /cellphones/leagoo-lead-7/  4/18/2015   en      gb  Amazon  amazon.co.uk   \n",
       "\n",
       "   score  score_max                                            extract  \\\n",
       "0    2.0       10.0  The telephone headset is of poor quality , not...   \n",
       "1   10.0       10.0  This is my first smartphone so I have nothing ...   \n",
       "2    8.0       10.0  Great phone. Battery life not great but seems ...   \n",
       "3   10.0       10.0      Best 90 quid I've ever spent on a smart phone   \n",
       "4   10.0       10.0  I m happy with this phone.it s very good.thx team   \n",
       "\n",
       "          author                                            product  \n",
       "0           luis  Leagoo Lead7 5.0 Inch HD JDI LTPS Screen 3G Sm...  \n",
       "1     Mark Lavin  Leagoo Lead 7 Lead7 MTK6582 Quad core 1GB RAM ...  \n",
       "2         tracey  Leagoo Lead 7 Lead7 MTK6582 Quad core 1GB RAM ...  \n",
       "3  Reuben Ingram  Leagoo Lead 7 Lead7 MTK6582 Quad core 1GB RAM ...  \n",
       "4         viorel  Leagoo Lead 7 Lead7 MTK6582 Quad core 1GB RAM ...  "
      ]
     },
     "execution_count": 506,
     "metadata": {},
     "output_type": "execute_result"
    }
   ],
   "source": [
    "phone_user_review_2_df = pd.read_csv('phone_user_review_file_2.csv',na_values = ' ',encoding='latin-1')\n",
    "print(phone_user_review_2_df.shape)\n",
    "phone_user_review_2_df.columns\n",
    "phone_user_review_2_df.dtypes\n",
    "phone_user_review_2_df.head(5)"
   ]
  },
  {
   "cell_type": "code",
   "execution_count": 507,
   "metadata": {},
   "outputs": [
    {
     "name": "stdout",
     "output_type": "stream",
     "text": [
      "(312961, 11)\n"
     ]
    },
    {
     "data": {
      "text/html": [
       "<div>\n",
       "<style scoped>\n",
       "    .dataframe tbody tr th:only-of-type {\n",
       "        vertical-align: middle;\n",
       "    }\n",
       "\n",
       "    .dataframe tbody tr th {\n",
       "        vertical-align: top;\n",
       "    }\n",
       "\n",
       "    .dataframe thead th {\n",
       "        text-align: right;\n",
       "    }\n",
       "</style>\n",
       "<table border=\"1\" class=\"dataframe\">\n",
       "  <thead>\n",
       "    <tr style=\"text-align: right;\">\n",
       "      <th></th>\n",
       "      <th>phone_url</th>\n",
       "      <th>date</th>\n",
       "      <th>lang</th>\n",
       "      <th>country</th>\n",
       "      <th>source</th>\n",
       "      <th>domain</th>\n",
       "      <th>score</th>\n",
       "      <th>score_max</th>\n",
       "      <th>extract</th>\n",
       "      <th>author</th>\n",
       "      <th>product</th>\n",
       "    </tr>\n",
       "  </thead>\n",
       "  <tbody>\n",
       "    <tr>\n",
       "      <th>0</th>\n",
       "      <td>/cellphones/samsung-galaxy-s-iii-slim-sm-g3812/</td>\n",
       "      <td>11/7/2015</td>\n",
       "      <td>pt</td>\n",
       "      <td>br</td>\n",
       "      <td>Submarino</td>\n",
       "      <td>submarino.com.br</td>\n",
       "      <td>6.0</td>\n",
       "      <td>10.0</td>\n",
       "      <td>recomendo, eu comprei um, a um ano, e agora co...</td>\n",
       "      <td>herlington tesch</td>\n",
       "      <td>Samsung Smartphone Samsung Galaxy S3 Slim G381...</td>\n",
       "    </tr>\n",
       "    <tr>\n",
       "      <th>1</th>\n",
       "      <td>/cellphones/samsung-galaxy-s-iii-slim-sm-g3812/</td>\n",
       "      <td>10/2/2015</td>\n",
       "      <td>pt</td>\n",
       "      <td>br</td>\n",
       "      <td>Submarino</td>\n",
       "      <td>submarino.com.br</td>\n",
       "      <td>10.0</td>\n",
       "      <td>10.0</td>\n",
       "      <td>Comprei um pouco desconfiada do site e do celu...</td>\n",
       "      <td>Luisa Silva Marieta</td>\n",
       "      <td>Samsung Smartphone Samsung Galaxy S3 Slim G381...</td>\n",
       "    </tr>\n",
       "    <tr>\n",
       "      <th>2</th>\n",
       "      <td>/cellphones/samsung-galaxy-s-iii-slim-sm-g3812/</td>\n",
       "      <td>9/2/2015</td>\n",
       "      <td>pt</td>\n",
       "      <td>br</td>\n",
       "      <td>Submarino</td>\n",
       "      <td>submarino.com.br</td>\n",
       "      <td>10.0</td>\n",
       "      <td>10.0</td>\n",
       "      <td>Muito bom o produto, obvio que tem versÃµes me...</td>\n",
       "      <td>Cyrus</td>\n",
       "      <td>Samsung Smartphone Samsung Galaxy S3 Slim G381...</td>\n",
       "    </tr>\n",
       "    <tr>\n",
       "      <th>3</th>\n",
       "      <td>/cellphones/samsung-galaxy-s-iii-slim-sm-g3812/</td>\n",
       "      <td>9/2/2015</td>\n",
       "      <td>pt</td>\n",
       "      <td>br</td>\n",
       "      <td>Submarino</td>\n",
       "      <td>submarino.com.br</td>\n",
       "      <td>8.0</td>\n",
       "      <td>10.0</td>\n",
       "      <td>Unica ressalva fica para a camera que poderia ...</td>\n",
       "      <td>Marcela Santa Clara Brito</td>\n",
       "      <td>Samsung Smartphone Samsung Galaxy S3 Slim G381...</td>\n",
       "    </tr>\n",
       "    <tr>\n",
       "      <th>4</th>\n",
       "      <td>/cellphones/samsung-galaxy-s-iii-slim-sm-g3812/</td>\n",
       "      <td>9/1/2015</td>\n",
       "      <td>pt</td>\n",
       "      <td>br</td>\n",
       "      <td>Colombo</td>\n",
       "      <td>colombo.com.br</td>\n",
       "      <td>8.0</td>\n",
       "      <td>10.0</td>\n",
       "      <td>Rapidez e atenÃ§Ã£o na entrega. O aparelho Ã© ...</td>\n",
       "      <td>Claudine Maria Kuhn Walendorff</td>\n",
       "      <td>Smartphone Samsung Galaxy S3 Slim, Dual Chip, ...</td>\n",
       "    </tr>\n",
       "  </tbody>\n",
       "</table>\n",
       "</div>"
      ],
      "text/plain": [
       "                                         phone_url       date lang country  \\\n",
       "0  /cellphones/samsung-galaxy-s-iii-slim-sm-g3812/  11/7/2015   pt      br   \n",
       "1  /cellphones/samsung-galaxy-s-iii-slim-sm-g3812/  10/2/2015   pt      br   \n",
       "2  /cellphones/samsung-galaxy-s-iii-slim-sm-g3812/   9/2/2015   pt      br   \n",
       "3  /cellphones/samsung-galaxy-s-iii-slim-sm-g3812/   9/2/2015   pt      br   \n",
       "4  /cellphones/samsung-galaxy-s-iii-slim-sm-g3812/   9/1/2015   pt      br   \n",
       "\n",
       "      source            domain  score  score_max  \\\n",
       "0  Submarino  submarino.com.br    6.0       10.0   \n",
       "1  Submarino  submarino.com.br   10.0       10.0   \n",
       "2  Submarino  submarino.com.br   10.0       10.0   \n",
       "3  Submarino  submarino.com.br    8.0       10.0   \n",
       "4    Colombo    colombo.com.br    8.0       10.0   \n",
       "\n",
       "                                             extract  \\\n",
       "0  recomendo, eu comprei um, a um ano, e agora co...   \n",
       "1  Comprei um pouco desconfiada do site e do celu...   \n",
       "2  Muito bom o produto, obvio que tem versÃµes me...   \n",
       "3  Unica ressalva fica para a camera que poderia ...   \n",
       "4  Rapidez e atenÃ§Ã£o na entrega. O aparelho Ã© ...   \n",
       "\n",
       "                           author  \\\n",
       "0                herlington tesch   \n",
       "1             Luisa Silva Marieta   \n",
       "2                           Cyrus   \n",
       "3       Marcela Santa Clara Brito   \n",
       "4  Claudine Maria Kuhn Walendorff   \n",
       "\n",
       "                                             product  \n",
       "0  Samsung Smartphone Samsung Galaxy S3 Slim G381...  \n",
       "1  Samsung Smartphone Samsung Galaxy S3 Slim G381...  \n",
       "2  Samsung Smartphone Samsung Galaxy S3 Slim G381...  \n",
       "3  Samsung Smartphone Samsung Galaxy S3 Slim G381...  \n",
       "4  Smartphone Samsung Galaxy S3 Slim, Dual Chip, ...  "
      ]
     },
     "execution_count": 507,
     "metadata": {},
     "output_type": "execute_result"
    }
   ],
   "source": [
    "phone_user_review_3_df = pd.read_csv('phone_user_review_file_3.csv',na_values = ' ',encoding='latin-1')\n",
    "print(phone_user_review_3_df.shape)\n",
    "phone_user_review_3_df.columns\n",
    "phone_user_review_3_df.dtypes\n",
    "phone_user_review_3_df.head(5)"
   ]
  },
  {
   "cell_type": "code",
   "execution_count": 508,
   "metadata": {},
   "outputs": [
    {
     "name": "stdout",
     "output_type": "stream",
     "text": [
      "(98284, 11)\n"
     ]
    },
    {
     "data": {
      "text/html": [
       "<div>\n",
       "<style scoped>\n",
       "    .dataframe tbody tr th:only-of-type {\n",
       "        vertical-align: middle;\n",
       "    }\n",
       "\n",
       "    .dataframe tbody tr th {\n",
       "        vertical-align: top;\n",
       "    }\n",
       "\n",
       "    .dataframe thead th {\n",
       "        text-align: right;\n",
       "    }\n",
       "</style>\n",
       "<table border=\"1\" class=\"dataframe\">\n",
       "  <thead>\n",
       "    <tr style=\"text-align: right;\">\n",
       "      <th></th>\n",
       "      <th>phone_url</th>\n",
       "      <th>date</th>\n",
       "      <th>lang</th>\n",
       "      <th>country</th>\n",
       "      <th>source</th>\n",
       "      <th>domain</th>\n",
       "      <th>score</th>\n",
       "      <th>score_max</th>\n",
       "      <th>extract</th>\n",
       "      <th>author</th>\n",
       "      <th>product</th>\n",
       "    </tr>\n",
       "  </thead>\n",
       "  <tbody>\n",
       "    <tr>\n",
       "      <th>0</th>\n",
       "      <td>/cellphones/samsung-s7262-duos-galaxy-ace/</td>\n",
       "      <td>3/11/2015</td>\n",
       "      <td>en</td>\n",
       "      <td>us</td>\n",
       "      <td>Amazon</td>\n",
       "      <td>amazon.com</td>\n",
       "      <td>2.0</td>\n",
       "      <td>10.0</td>\n",
       "      <td>was not conpatable with my phone as stated. I ...</td>\n",
       "      <td>Frances DeSimone</td>\n",
       "      <td>Samsung Galaxy Star Pro DUOS S7262 Unlocked Ce...</td>\n",
       "    </tr>\n",
       "    <tr>\n",
       "      <th>1</th>\n",
       "      <td>/cellphones/samsung-s7262-duos-galaxy-ace/</td>\n",
       "      <td>17/11/2015</td>\n",
       "      <td>en</td>\n",
       "      <td>in</td>\n",
       "      <td>Zopper</td>\n",
       "      <td>zopper.com</td>\n",
       "      <td>10.0</td>\n",
       "      <td>10.0</td>\n",
       "      <td>Decent Functions and Easy to Operate Pros:- Th...</td>\n",
       "      <td>Expert Review</td>\n",
       "      <td>Samsung Galaxy Star Pro S7262 Black</td>\n",
       "    </tr>\n",
       "    <tr>\n",
       "      <th>2</th>\n",
       "      <td>/cellphones/samsung-s7262-duos-galaxy-ace/</td>\n",
       "      <td>29/10/2015</td>\n",
       "      <td>en</td>\n",
       "      <td>in</td>\n",
       "      <td>Amazon</td>\n",
       "      <td>amazon.in</td>\n",
       "      <td>4.0</td>\n",
       "      <td>10.0</td>\n",
       "      <td>Not Good Phone such price. Hang too much and v...</td>\n",
       "      <td>Amazon Customer</td>\n",
       "      <td>Samsung Galaxy Star Pro GT-S7262 (Midnight Black)</td>\n",
       "    </tr>\n",
       "    <tr>\n",
       "      <th>3</th>\n",
       "      <td>/cellphones/samsung-s7262-duos-galaxy-ace/</td>\n",
       "      <td>29/10/2015</td>\n",
       "      <td>en</td>\n",
       "      <td>in</td>\n",
       "      <td>Amazon</td>\n",
       "      <td>amazon.in</td>\n",
       "      <td>6.0</td>\n",
       "      <td>10.0</td>\n",
       "      <td>not bad for features</td>\n",
       "      <td>Amazon Customer</td>\n",
       "      <td>Samsung Galaxy Star Pro GT-S7262 (Midnight Black)</td>\n",
       "    </tr>\n",
       "    <tr>\n",
       "      <th>4</th>\n",
       "      <td>/cellphones/samsung-s7262-duos-galaxy-ace/</td>\n",
       "      <td>29/10/2015</td>\n",
       "      <td>en</td>\n",
       "      <td>in</td>\n",
       "      <td>Amazon</td>\n",
       "      <td>amazon.in</td>\n",
       "      <td>10.0</td>\n",
       "      <td>10.0</td>\n",
       "      <td>Excellent product</td>\n",
       "      <td>NHK</td>\n",
       "      <td>Samsung Galaxy Star Pro GT-S7262 (Midnight Black)</td>\n",
       "    </tr>\n",
       "  </tbody>\n",
       "</table>\n",
       "</div>"
      ],
      "text/plain": [
       "                                    phone_url        date lang country  \\\n",
       "0  /cellphones/samsung-s7262-duos-galaxy-ace/   3/11/2015   en      us   \n",
       "1  /cellphones/samsung-s7262-duos-galaxy-ace/  17/11/2015   en      in   \n",
       "2  /cellphones/samsung-s7262-duos-galaxy-ace/  29/10/2015   en      in   \n",
       "3  /cellphones/samsung-s7262-duos-galaxy-ace/  29/10/2015   en      in   \n",
       "4  /cellphones/samsung-s7262-duos-galaxy-ace/  29/10/2015   en      in   \n",
       "\n",
       "   source      domain  score  score_max  \\\n",
       "0  Amazon  amazon.com    2.0       10.0   \n",
       "1  Zopper  zopper.com   10.0       10.0   \n",
       "2  Amazon   amazon.in    4.0       10.0   \n",
       "3  Amazon   amazon.in    6.0       10.0   \n",
       "4  Amazon   amazon.in   10.0       10.0   \n",
       "\n",
       "                                             extract            author  \\\n",
       "0  was not conpatable with my phone as stated. I ...  Frances DeSimone   \n",
       "1  Decent Functions and Easy to Operate Pros:- Th...     Expert Review   \n",
       "2  Not Good Phone such price. Hang too much and v...   Amazon Customer   \n",
       "3                               not bad for features   Amazon Customer   \n",
       "4                                  Excellent product               NHK   \n",
       "\n",
       "                                             product  \n",
       "0  Samsung Galaxy Star Pro DUOS S7262 Unlocked Ce...  \n",
       "1                Samsung Galaxy Star Pro S7262 Black  \n",
       "2  Samsung Galaxy Star Pro GT-S7262 (Midnight Black)  \n",
       "3  Samsung Galaxy Star Pro GT-S7262 (Midnight Black)  \n",
       "4  Samsung Galaxy Star Pro GT-S7262 (Midnight Black)  "
      ]
     },
     "execution_count": 508,
     "metadata": {},
     "output_type": "execute_result"
    }
   ],
   "source": [
    "phone_user_review_4_df = pd.read_csv('phone_user_review_file_4.csv',na_values = ' ',encoding='latin-1')\n",
    "print(phone_user_review_4_df.shape)\n",
    "phone_user_review_4_df.columns\n",
    "phone_user_review_4_df.dtypes\n",
    "phone_user_review_4_df.head(5)"
   ]
  },
  {
   "cell_type": "code",
   "execution_count": 509,
   "metadata": {},
   "outputs": [
    {
     "name": "stdout",
     "output_type": "stream",
     "text": [
      "(350216, 11)\n"
     ]
    },
    {
     "data": {
      "text/html": [
       "<div>\n",
       "<style scoped>\n",
       "    .dataframe tbody tr th:only-of-type {\n",
       "        vertical-align: middle;\n",
       "    }\n",
       "\n",
       "    .dataframe tbody tr th {\n",
       "        vertical-align: top;\n",
       "    }\n",
       "\n",
       "    .dataframe thead th {\n",
       "        text-align: right;\n",
       "    }\n",
       "</style>\n",
       "<table border=\"1\" class=\"dataframe\">\n",
       "  <thead>\n",
       "    <tr style=\"text-align: right;\">\n",
       "      <th></th>\n",
       "      <th>phone_url</th>\n",
       "      <th>date</th>\n",
       "      <th>lang</th>\n",
       "      <th>country</th>\n",
       "      <th>source</th>\n",
       "      <th>domain</th>\n",
       "      <th>score</th>\n",
       "      <th>score_max</th>\n",
       "      <th>extract</th>\n",
       "      <th>author</th>\n",
       "      <th>product</th>\n",
       "    </tr>\n",
       "  </thead>\n",
       "  <tbody>\n",
       "    <tr>\n",
       "      <th>0</th>\n",
       "      <td>/cellphones/karbonn-k1616/</td>\n",
       "      <td>7/13/2016</td>\n",
       "      <td>en</td>\n",
       "      <td>in</td>\n",
       "      <td>91 Mobiles</td>\n",
       "      <td>91mobiles.com</td>\n",
       "      <td>2.0</td>\n",
       "      <td>10.0</td>\n",
       "      <td>I bought 1 month before. currently speaker is ...</td>\n",
       "      <td>venkatesh</td>\n",
       "      <td>Karbonn K1616</td>\n",
       "    </tr>\n",
       "    <tr>\n",
       "      <th>1</th>\n",
       "      <td>/cellphones/karbonn-k1616/</td>\n",
       "      <td>7/13/2016</td>\n",
       "      <td>en</td>\n",
       "      <td>in</td>\n",
       "      <td>91 Mobiles</td>\n",
       "      <td>91mobiles.com</td>\n",
       "      <td>6.0</td>\n",
       "      <td>10.0</td>\n",
       "      <td>I just bought one week back, I have Airtel con...</td>\n",
       "      <td>Venkat</td>\n",
       "      <td>Karbonn K1616</td>\n",
       "    </tr>\n",
       "    <tr>\n",
       "      <th>2</th>\n",
       "      <td>/cellphones/karbonn-k1616/</td>\n",
       "      <td>7/13/2016</td>\n",
       "      <td>en</td>\n",
       "      <td>in</td>\n",
       "      <td>91 Mobiles</td>\n",
       "      <td>91mobiles.com</td>\n",
       "      <td>4.0</td>\n",
       "      <td>10.0</td>\n",
       "      <td>one problem in this handset opera is not worki...</td>\n",
       "      <td>krrish</td>\n",
       "      <td>Karbonn K1616</td>\n",
       "    </tr>\n",
       "    <tr>\n",
       "      <th>3</th>\n",
       "      <td>/cellphones/karbonn-k1616/</td>\n",
       "      <td>4/25/2014</td>\n",
       "      <td>en</td>\n",
       "      <td>in</td>\n",
       "      <td>Naaptol</td>\n",
       "      <td>naaptol.com</td>\n",
       "      <td>10.0</td>\n",
       "      <td>10.0</td>\n",
       "      <td>here Karbonn comes up with an another excellen...</td>\n",
       "      <td>BRIJESH CHAUHAN</td>\n",
       "      <td>Karbonn K1616 - Black</td>\n",
       "    </tr>\n",
       "    <tr>\n",
       "      <th>4</th>\n",
       "      <td>/cellphones/karbonn-k1616/</td>\n",
       "      <td>4/23/2013</td>\n",
       "      <td>en</td>\n",
       "      <td>in</td>\n",
       "      <td>Naaptol</td>\n",
       "      <td>naaptol.com</td>\n",
       "      <td>10.0</td>\n",
       "      <td>10.0</td>\n",
       "      <td>What a phone, all so on Naaptol my god 23% off...</td>\n",
       "      <td>Suraj CHAUHAN</td>\n",
       "      <td>Karbonn K1616 - Black</td>\n",
       "    </tr>\n",
       "  </tbody>\n",
       "</table>\n",
       "</div>"
      ],
      "text/plain": [
       "                    phone_url       date lang country      source  \\\n",
       "0  /cellphones/karbonn-k1616/  7/13/2016   en      in  91 Mobiles   \n",
       "1  /cellphones/karbonn-k1616/  7/13/2016   en      in  91 Mobiles   \n",
       "2  /cellphones/karbonn-k1616/  7/13/2016   en      in  91 Mobiles   \n",
       "3  /cellphones/karbonn-k1616/  4/25/2014   en      in     Naaptol   \n",
       "4  /cellphones/karbonn-k1616/  4/23/2013   en      in     Naaptol   \n",
       "\n",
       "          domain  score  score_max  \\\n",
       "0  91mobiles.com    2.0       10.0   \n",
       "1  91mobiles.com    6.0       10.0   \n",
       "2  91mobiles.com    4.0       10.0   \n",
       "3    naaptol.com   10.0       10.0   \n",
       "4    naaptol.com   10.0       10.0   \n",
       "\n",
       "                                             extract           author  \\\n",
       "0  I bought 1 month before. currently speaker is ...        venkatesh   \n",
       "1  I just bought one week back, I have Airtel con...           Venkat   \n",
       "2  one problem in this handset opera is not worki...           krrish   \n",
       "3  here Karbonn comes up with an another excellen...  BRIJESH CHAUHAN   \n",
       "4  What a phone, all so on Naaptol my god 23% off...    Suraj CHAUHAN   \n",
       "\n",
       "                 product  \n",
       "0          Karbonn K1616  \n",
       "1          Karbonn K1616  \n",
       "2          Karbonn K1616  \n",
       "3  Karbonn K1616 - Black  \n",
       "4  Karbonn K1616 - Black  "
      ]
     },
     "execution_count": 509,
     "metadata": {},
     "output_type": "execute_result"
    }
   ],
   "source": [
    "phone_user_review_5_df = pd.read_csv('phone_user_review_file_5.csv',na_values = ' ',encoding='latin-1')\n",
    "print(phone_user_review_5_df.shape)\n",
    "phone_user_review_5_df.columns\n",
    "phone_user_review_5_df.dtypes\n",
    "phone_user_review_5_df.head(5)"
   ]
  },
  {
   "cell_type": "code",
   "execution_count": 510,
   "metadata": {},
   "outputs": [
    {
     "name": "stdout",
     "output_type": "stream",
     "text": [
      "(163837, 11)\n"
     ]
    },
    {
     "data": {
      "text/html": [
       "<div>\n",
       "<style scoped>\n",
       "    .dataframe tbody tr th:only-of-type {\n",
       "        vertical-align: middle;\n",
       "    }\n",
       "\n",
       "    .dataframe tbody tr th {\n",
       "        vertical-align: top;\n",
       "    }\n",
       "\n",
       "    .dataframe thead th {\n",
       "        text-align: right;\n",
       "    }\n",
       "</style>\n",
       "<table border=\"1\" class=\"dataframe\">\n",
       "  <thead>\n",
       "    <tr style=\"text-align: right;\">\n",
       "      <th></th>\n",
       "      <th>phone_url</th>\n",
       "      <th>date</th>\n",
       "      <th>lang</th>\n",
       "      <th>country</th>\n",
       "      <th>source</th>\n",
       "      <th>domain</th>\n",
       "      <th>score</th>\n",
       "      <th>score_max</th>\n",
       "      <th>extract</th>\n",
       "      <th>author</th>\n",
       "      <th>product</th>\n",
       "    </tr>\n",
       "  </thead>\n",
       "  <tbody>\n",
       "    <tr>\n",
       "      <th>0</th>\n",
       "      <td>/cellphones/samsung-instinct-sph-m800/</td>\n",
       "      <td>9/16/2011</td>\n",
       "      <td>en</td>\n",
       "      <td>us</td>\n",
       "      <td>Phone Arena</td>\n",
       "      <td>phonearena.com</td>\n",
       "      <td>8.0</td>\n",
       "      <td>10.0</td>\n",
       "      <td>I've had the phone for awhile and it's a prett...</td>\n",
       "      <td>ajabrams95</td>\n",
       "      <td>Samsung Instinct HD</td>\n",
       "    </tr>\n",
       "    <tr>\n",
       "      <th>1</th>\n",
       "      <td>/cellphones/samsung-instinct-sph-m800/</td>\n",
       "      <td>2/13/2014</td>\n",
       "      <td>en</td>\n",
       "      <td>us</td>\n",
       "      <td>Amazon</td>\n",
       "      <td>amazon.com</td>\n",
       "      <td>6.0</td>\n",
       "      <td>10.0</td>\n",
       "      <td>to be clear it is not the sellers fault that t...</td>\n",
       "      <td>Stephanie</td>\n",
       "      <td>Samsung SPH M800 Instinct</td>\n",
       "    </tr>\n",
       "    <tr>\n",
       "      <th>2</th>\n",
       "      <td>/cellphones/samsung-instinct-sph-m800/</td>\n",
       "      <td>12/30/2011</td>\n",
       "      <td>en</td>\n",
       "      <td>us</td>\n",
       "      <td>Phone Scoop</td>\n",
       "      <td>phonescoop.com</td>\n",
       "      <td>9.0</td>\n",
       "      <td>10.0</td>\n",
       "      <td>Well i love this phone. i have had ton of phon...</td>\n",
       "      <td>snickers</td>\n",
       "      <td>Instinct M800</td>\n",
       "    </tr>\n",
       "    <tr>\n",
       "      <th>3</th>\n",
       "      <td>/cellphones/samsung-instinct-sph-m800/</td>\n",
       "      <td>10/18/2008</td>\n",
       "      <td>en</td>\n",
       "      <td>us</td>\n",
       "      <td>HandCellPhone</td>\n",
       "      <td>handcellphone.com</td>\n",
       "      <td>4.0</td>\n",
       "      <td>10.0</td>\n",
       "      <td>I have had my Instinct for several months now ...</td>\n",
       "      <td>A4C</td>\n",
       "      <td>Samsung Instinct</td>\n",
       "    </tr>\n",
       "    <tr>\n",
       "      <th>4</th>\n",
       "      <td>/cellphones/samsung-instinct-sph-m800/</td>\n",
       "      <td>9/6/2008</td>\n",
       "      <td>en</td>\n",
       "      <td>us</td>\n",
       "      <td>Reviewed.com</td>\n",
       "      <td>reviewed.com</td>\n",
       "      <td>6.0</td>\n",
       "      <td>10.0</td>\n",
       "      <td>i have had this instinct phone for about two m...</td>\n",
       "      <td>betaBgood</td>\n",
       "      <td>Samsung Instinct</td>\n",
       "    </tr>\n",
       "  </tbody>\n",
       "</table>\n",
       "</div>"
      ],
      "text/plain": [
       "                                phone_url        date lang country  \\\n",
       "0  /cellphones/samsung-instinct-sph-m800/   9/16/2011   en      us   \n",
       "1  /cellphones/samsung-instinct-sph-m800/   2/13/2014   en      us   \n",
       "2  /cellphones/samsung-instinct-sph-m800/  12/30/2011   en      us   \n",
       "3  /cellphones/samsung-instinct-sph-m800/  10/18/2008   en      us   \n",
       "4  /cellphones/samsung-instinct-sph-m800/    9/6/2008   en      us   \n",
       "\n",
       "          source             domain  score  score_max  \\\n",
       "0    Phone Arena     phonearena.com    8.0       10.0   \n",
       "1         Amazon         amazon.com    6.0       10.0   \n",
       "2    Phone Scoop     phonescoop.com    9.0       10.0   \n",
       "3  HandCellPhone  handcellphone.com    4.0       10.0   \n",
       "4   Reviewed.com       reviewed.com    6.0       10.0   \n",
       "\n",
       "                                             extract      author  \\\n",
       "0  I've had the phone for awhile and it's a prett...  ajabrams95   \n",
       "1  to be clear it is not the sellers fault that t...   Stephanie   \n",
       "2  Well i love this phone. i have had ton of phon...    snickers   \n",
       "3  I have had my Instinct for several months now ...         A4C   \n",
       "4  i have had this instinct phone for about two m...   betaBgood   \n",
       "\n",
       "                     product  \n",
       "0        Samsung Instinct HD  \n",
       "1  Samsung SPH M800 Instinct  \n",
       "2              Instinct M800  \n",
       "3           Samsung Instinct  \n",
       "4           Samsung Instinct  "
      ]
     },
     "execution_count": 510,
     "metadata": {},
     "output_type": "execute_result"
    }
   ],
   "source": [
    "phone_user_review_6_df = pd.read_csv('phone_user_review_file_6.csv',na_values = ' ',encoding='latin-1')\n",
    "print(phone_user_review_6_df.shape)\n",
    "phone_user_review_6_df.columns\n",
    "phone_user_review_6_df.dtypes\n",
    "phone_user_review_6_df.head(5)"
   ]
  },
  {
   "cell_type": "code",
   "execution_count": 511,
   "metadata": {},
   "outputs": [
    {
     "data": {
      "text/plain": [
       "<bound method Series.unique of 0         us\n",
       "1         us\n",
       "2         us\n",
       "3         us\n",
       "4         us\n",
       "          ..\n",
       "163832    de\n",
       "163833    de\n",
       "163834    de\n",
       "163835    de\n",
       "163836    de\n",
       "Name: country, Length: 1415133, dtype: object>"
      ]
     },
     "execution_count": 511,
     "metadata": {},
     "output_type": "execute_result"
    }
   ],
   "source": [
    "# using a .concat() method\n",
    "frames = [phone_user_review_1_df, phone_user_review_2_df,phone_user_review_3_df,phone_user_review_4_df,phone_user_review_5_df,phone_user_review_6_df]\n",
    " \n",
    "consolidated_phone_review_df = pd.concat(frames)\n",
    "consolidated_phone_review_df.shape\n",
    "\n",
    "consolidated_phone_review_df[\"country\"].unique"
   ]
  },
  {
   "cell_type": "code",
   "execution_count": null,
   "metadata": {},
   "outputs": [],
   "source": []
  },
  {
   "cell_type": "code",
   "execution_count": 512,
   "metadata": {},
   "outputs": [],
   "source": [
    "#B. Explore, understand the Data and share at least 2 observations. [2 Marks]\n"
   ]
  },
  {
   "cell_type": "code",
   "execution_count": 513,
   "metadata": {},
   "outputs": [
    {
     "name": "stdout",
     "output_type": "stream",
     "text": [
      "This consolidated CSV file contains phone reviews for mobiles from different websites like Amazon,HandCellPhone along with author details,score etc.\n"
     ]
    }
   ],
   "source": [
    "print(\"This consolidated CSV file contains phone reviews for mobiles from different websites like Amazon,HandCellPhone along with author details,score etc.\")"
   ]
  },
  {
   "cell_type": "code",
   "execution_count": 514,
   "metadata": {},
   "outputs": [
    {
     "name": "stdout",
     "output_type": "stream",
     "text": [
      "Maximum score given to a mobile phone is 10.0. Single user/author has given rating to multiple products.\n"
     ]
    }
   ],
   "source": [
    "print(\"Maximum score given to a mobile phone is 10.0. Single user/author has given rating to multiple products.\")"
   ]
  },
  {
   "cell_type": "code",
   "execution_count": null,
   "metadata": {},
   "outputs": [],
   "source": []
  },
  {
   "cell_type": "code",
   "execution_count": 515,
   "metadata": {},
   "outputs": [],
   "source": [
    "#C. Round off scores to the nearest integers. [3 Marks]\n"
   ]
  },
  {
   "cell_type": "code",
   "execution_count": 516,
   "metadata": {},
   "outputs": [],
   "source": [
    "consolidated_phone_review_df.score = consolidated_phone_review_df.score.round()"
   ]
  },
  {
   "cell_type": "code",
   "execution_count": 517,
   "metadata": {},
   "outputs": [],
   "source": [
    "#D. Check for missing values. Impute the missing values, if any. [2 Marks]"
   ]
  },
  {
   "cell_type": "code",
   "execution_count": 518,
   "metadata": {},
   "outputs": [
    {
     "data": {
      "text/html": [
       "<div>\n",
       "<style scoped>\n",
       "    .dataframe tbody tr th:only-of-type {\n",
       "        vertical-align: middle;\n",
       "    }\n",
       "\n",
       "    .dataframe tbody tr th {\n",
       "        vertical-align: top;\n",
       "    }\n",
       "\n",
       "    .dataframe thead th {\n",
       "        text-align: right;\n",
       "    }\n",
       "</style>\n",
       "<table border=\"1\" class=\"dataframe\">\n",
       "  <thead>\n",
       "    <tr style=\"text-align: right;\">\n",
       "      <th></th>\n",
       "      <th>column_name</th>\n",
       "      <th>percent_missing</th>\n",
       "    </tr>\n",
       "  </thead>\n",
       "  <tbody>\n",
       "    <tr>\n",
       "      <th>phone_url</th>\n",
       "      <td>phone_url</td>\n",
       "      <td>0.000000</td>\n",
       "    </tr>\n",
       "    <tr>\n",
       "      <th>date</th>\n",
       "      <td>date</td>\n",
       "      <td>0.000000</td>\n",
       "    </tr>\n",
       "    <tr>\n",
       "      <th>lang</th>\n",
       "      <td>lang</td>\n",
       "      <td>0.000000</td>\n",
       "    </tr>\n",
       "    <tr>\n",
       "      <th>country</th>\n",
       "      <td>country</td>\n",
       "      <td>0.000000</td>\n",
       "    </tr>\n",
       "    <tr>\n",
       "      <th>source</th>\n",
       "      <td>source</td>\n",
       "      <td>0.000000</td>\n",
       "    </tr>\n",
       "    <tr>\n",
       "      <th>domain</th>\n",
       "      <td>domain</td>\n",
       "      <td>0.000000</td>\n",
       "    </tr>\n",
       "    <tr>\n",
       "      <th>score</th>\n",
       "      <td>score</td>\n",
       "      <td>4.486433</td>\n",
       "    </tr>\n",
       "    <tr>\n",
       "      <th>score_max</th>\n",
       "      <td>score_max</td>\n",
       "      <td>4.486433</td>\n",
       "    </tr>\n",
       "    <tr>\n",
       "      <th>extract</th>\n",
       "      <td>extract</td>\n",
       "      <td>1.368140</td>\n",
       "    </tr>\n",
       "    <tr>\n",
       "      <th>author</th>\n",
       "      <td>author</td>\n",
       "      <td>4.466153</td>\n",
       "    </tr>\n",
       "    <tr>\n",
       "      <th>product</th>\n",
       "      <td>product</td>\n",
       "      <td>0.000071</td>\n",
       "    </tr>\n",
       "  </tbody>\n",
       "</table>\n",
       "</div>"
      ],
      "text/plain": [
       "          column_name  percent_missing\n",
       "phone_url   phone_url         0.000000\n",
       "date             date         0.000000\n",
       "lang             lang         0.000000\n",
       "country       country         0.000000\n",
       "source         source         0.000000\n",
       "domain         domain         0.000000\n",
       "score           score         4.486433\n",
       "score_max   score_max         4.486433\n",
       "extract       extract         1.368140\n",
       "author         author         4.466153\n",
       "product       product         0.000071"
      ]
     },
     "execution_count": 518,
     "metadata": {},
     "output_type": "execute_result"
    }
   ],
   "source": [
    "percent_feature_missing = consolidated_phone_review_df.isnull().sum() * 100 / len(consolidated_phone_review_df)\n",
    "missing_data_value_df = pd.DataFrame({'column_name': consolidated_phone_review_df.columns,\n",
    "                                 'percent_missing': percent_feature_missing})\n",
    "missing_data_value_df\n",
    "\n",
    "#print(\"No missing data\")"
   ]
  },
  {
   "cell_type": "code",
   "execution_count": 519,
   "metadata": {},
   "outputs": [],
   "source": [
    "#Percentage of missing value is maximum 4.486%, for score we are imputing with 0.\n",
    "consolidated_phone_review_df['score'].fillna(0,inplace=True)\n",
    "consolidated_phone_review_df['score_max'].fillna(10.0,inplace=True)\n",
    "#other columns dropping the rows\n",
    "consolidated_phone_review_df.dropna(inplace=True)"
   ]
  },
  {
   "cell_type": "code",
   "execution_count": 520,
   "metadata": {},
   "outputs": [
    {
     "data": {
      "text/plain": [
       "phone_url    0\n",
       "date         0\n",
       "lang         0\n",
       "country      0\n",
       "source       0\n",
       "domain       0\n",
       "score        0\n",
       "score_max    0\n",
       "extract      0\n",
       "author       0\n",
       "product      0\n",
       "dtype: int64"
      ]
     },
     "execution_count": 520,
     "metadata": {},
     "output_type": "execute_result"
    }
   ],
   "source": [
    "consolidated_phone_review_df.isnull().sum()"
   ]
  },
  {
   "cell_type": "code",
   "execution_count": null,
   "metadata": {},
   "outputs": [],
   "source": []
  },
  {
   "cell_type": "code",
   "execution_count": 521,
   "metadata": {},
   "outputs": [],
   "source": [
    "#E. Check for duplicate values and remove them, if any. [2 Marks]\n"
   ]
  },
  {
   "cell_type": "code",
   "execution_count": 522,
   "metadata": {},
   "outputs": [
    {
     "name": "stdout",
     "output_type": "stream",
     "text": [
      "Duplicate exists in Dataframe\n"
     ]
    }
   ],
   "source": [
    "\n",
    "has_duplicates= consolidated_phone_review_df.duplicated()\n",
    "\n",
    "if True in has_duplicates.values:\n",
    "    print('Duplicate exists in Dataframe')\n",
    "else:\n",
    "    print('No Duplicate exists in Dataframe')"
   ]
  },
  {
   "cell_type": "code",
   "execution_count": 523,
   "metadata": {},
   "outputs": [],
   "source": [
    "consolidated_phone_review_df.drop_duplicates(inplace=True)"
   ]
  },
  {
   "cell_type": "code",
   "execution_count": 524,
   "metadata": {},
   "outputs": [
    {
     "data": {
      "text/plain": [
       "(1331593, 11)"
      ]
     },
     "execution_count": 524,
     "metadata": {},
     "output_type": "execute_result"
    }
   ],
   "source": [
    "consolidated_phone_review_df.shape"
   ]
  },
  {
   "cell_type": "code",
   "execution_count": null,
   "metadata": {},
   "outputs": [],
   "source": []
  },
  {
   "cell_type": "code",
   "execution_count": 525,
   "metadata": {},
   "outputs": [],
   "source": [
    "#F. Keep only 1 Million data samples. Use random state=612. [2 Marks]\n"
   ]
  },
  {
   "cell_type": "code",
   "execution_count": 526,
   "metadata": {},
   "outputs": [],
   "source": [
    "df_sampled_phone_reviews = consolidated_phone_review_df.sample(n=1000000,random_state=612)"
   ]
  },
  {
   "cell_type": "code",
   "execution_count": null,
   "metadata": {},
   "outputs": [],
   "source": []
  },
  {
   "cell_type": "code",
   "execution_count": 527,
   "metadata": {},
   "outputs": [],
   "source": [
    "#G. Drop irrelevant features. Keep features like Author, Product, and Score. [2 Marks]"
   ]
  },
  {
   "cell_type": "code",
   "execution_count": 528,
   "metadata": {},
   "outputs": [
    {
     "data": {
      "text/plain": [
       "Index(['phone_url', 'date', 'lang', 'country', 'source', 'domain', 'score',\n",
       "       'score_max', 'extract', 'author', 'product'],\n",
       "      dtype='object')"
      ]
     },
     "execution_count": 528,
     "metadata": {},
     "output_type": "execute_result"
    }
   ],
   "source": [
    "df_sampled_phone_reviews.columns"
   ]
  },
  {
   "cell_type": "code",
   "execution_count": 529,
   "metadata": {},
   "outputs": [],
   "source": [
    "df_sampled_phone_reviews.drop(['phone_url', 'date','lang','country','domain','source','score_max','extract'], axis = 1,inplace=True)"
   ]
  },
  {
   "cell_type": "code",
   "execution_count": null,
   "metadata": {},
   "outputs": [],
   "source": []
  },
  {
   "cell_type": "markdown",
   "metadata": {},
   "source": [
    "\n"
   ]
  },
  {
   "cell_type": "markdown",
   "metadata": {},
   "source": [
    "###2. Answer the following questions. \n"
   ]
  },
  {
   "cell_type": "code",
   "execution_count": 530,
   "metadata": {},
   "outputs": [],
   "source": [
    "#A. Identify the most rated products. [3 Marks]\n"
   ]
  },
  {
   "cell_type": "code",
   "execution_count": 531,
   "metadata": {},
   "outputs": [
    {
     "data": {
      "text/html": [
       "<div>\n",
       "<style scoped>\n",
       "    .dataframe tbody tr th:only-of-type {\n",
       "        vertical-align: middle;\n",
       "    }\n",
       "\n",
       "    .dataframe tbody tr th {\n",
       "        vertical-align: top;\n",
       "    }\n",
       "\n",
       "    .dataframe thead th {\n",
       "        text-align: right;\n",
       "    }\n",
       "</style>\n",
       "<table border=\"1\" class=\"dataframe\">\n",
       "  <thead>\n",
       "    <tr style=\"text-align: right;\">\n",
       "      <th></th>\n",
       "      <th>product</th>\n",
       "      <th>score</th>\n",
       "    </tr>\n",
       "  </thead>\n",
       "  <tbody>\n",
       "    <tr>\n",
       "      <th>0</th>\n",
       "      <td>Lenovo Vibe K4 Note (White,16GB)</td>\n",
       "      <td>28010.0</td>\n",
       "    </tr>\n",
       "    <tr>\n",
       "      <th>1</th>\n",
       "      <td>OnePlus 3 (Graphite, 64 GB)</td>\n",
       "      <td>27176.0</td>\n",
       "    </tr>\n",
       "    <tr>\n",
       "      <th>2</th>\n",
       "      <td>Lenovo Vibe K4 Note (Black, 16GB)</td>\n",
       "      <td>23138.0</td>\n",
       "    </tr>\n",
       "    <tr>\n",
       "      <th>3</th>\n",
       "      <td>OnePlus 3 (Soft Gold, 64 GB)</td>\n",
       "      <td>22474.0</td>\n",
       "    </tr>\n",
       "    <tr>\n",
       "      <th>4</th>\n",
       "      <td>Huawei P8lite zwart / 16 GB</td>\n",
       "      <td>16881.0</td>\n",
       "    </tr>\n",
       "    <tr>\n",
       "      <th>5</th>\n",
       "      <td>Samsung Galaxy S6 zwart / 32 GB</td>\n",
       "      <td>15546.0</td>\n",
       "    </tr>\n",
       "    <tr>\n",
       "      <th>6</th>\n",
       "      <td>Lenovo Vibe K5 (Gold, VoLTE update)</td>\n",
       "      <td>12746.0</td>\n",
       "    </tr>\n",
       "    <tr>\n",
       "      <th>7</th>\n",
       "      <td>Samsung Galaxy S7 edge 32GB (Verizon)</td>\n",
       "      <td>12610.0</td>\n",
       "    </tr>\n",
       "    <tr>\n",
       "      <th>8</th>\n",
       "      <td>Samsung Galaxy J3 (8GB)</td>\n",
       "      <td>12414.0</td>\n",
       "    </tr>\n",
       "    <tr>\n",
       "      <th>9</th>\n",
       "      <td>OnePlus 3T (Gunmetal, 6GB RAM + 64GB memory)</td>\n",
       "      <td>12172.0</td>\n",
       "    </tr>\n",
       "  </tbody>\n",
       "</table>\n",
       "</div>"
      ],
      "text/plain": [
       "                                        product    score\n",
       "0              Lenovo Vibe K4 Note (White,16GB)  28010.0\n",
       "1                   OnePlus 3 (Graphite, 64 GB)  27176.0\n",
       "2             Lenovo Vibe K4 Note (Black, 16GB)  23138.0\n",
       "3                  OnePlus 3 (Soft Gold, 64 GB)  22474.0\n",
       "4                   Huawei P8lite zwart / 16 GB  16881.0\n",
       "5               Samsung Galaxy S6 zwart / 32 GB  15546.0\n",
       "6           Lenovo Vibe K5 (Gold, VoLTE update)  12746.0\n",
       "7         Samsung Galaxy S7 edge 32GB (Verizon)  12610.0\n",
       "8                       Samsung Galaxy J3 (8GB)  12414.0\n",
       "9  OnePlus 3T (Gunmetal, 6GB RAM + 64GB memory)  12172.0"
      ]
     },
     "execution_count": 531,
     "metadata": {},
     "output_type": "execute_result"
    }
   ],
   "source": [
    "#Computes the most popular items\n",
    "phone_popularity_df = df_sampled_phone_reviews.groupby('product')['score'].sum().sort_values(ascending=False).reset_index()\n",
    "phone_popularity_df.head(10)"
   ]
  },
  {
   "cell_type": "code",
   "execution_count": null,
   "metadata": {},
   "outputs": [],
   "source": []
  },
  {
   "cell_type": "code",
   "execution_count": 532,
   "metadata": {},
   "outputs": [],
   "source": [
    "#B. Identify the users with most number of reviews. [3 Marks]\n"
   ]
  },
  {
   "cell_type": "code",
   "execution_count": 533,
   "metadata": {},
   "outputs": [
    {
     "data": {
      "text/html": [
       "<div>\n",
       "<style scoped>\n",
       "    .dataframe tbody tr th:only-of-type {\n",
       "        vertical-align: middle;\n",
       "    }\n",
       "\n",
       "    .dataframe tbody tr th {\n",
       "        vertical-align: top;\n",
       "    }\n",
       "\n",
       "    .dataframe thead th {\n",
       "        text-align: right;\n",
       "    }\n",
       "</style>\n",
       "<table border=\"1\" class=\"dataframe\">\n",
       "  <thead>\n",
       "    <tr style=\"text-align: right;\">\n",
       "      <th></th>\n",
       "      <th>author</th>\n",
       "      <th>score</th>\n",
       "    </tr>\n",
       "  </thead>\n",
       "  <tbody>\n",
       "    <tr>\n",
       "      <th>0</th>\n",
       "      <td>Amazon Customer</td>\n",
       "      <td>408184.0</td>\n",
       "    </tr>\n",
       "    <tr>\n",
       "      <th>1</th>\n",
       "      <td>Cliente Amazon</td>\n",
       "      <td>117194.0</td>\n",
       "    </tr>\n",
       "    <tr>\n",
       "      <th>2</th>\n",
       "      <td>e-bit</td>\n",
       "      <td>55556.0</td>\n",
       "    </tr>\n",
       "    <tr>\n",
       "      <th>3</th>\n",
       "      <td>Client d'Amazon</td>\n",
       "      <td>41508.0</td>\n",
       "    </tr>\n",
       "    <tr>\n",
       "      <th>4</th>\n",
       "      <td>Amazon Kunde</td>\n",
       "      <td>26170.0</td>\n",
       "    </tr>\n",
       "    <tr>\n",
       "      <th>5</th>\n",
       "      <td>einer Kundin</td>\n",
       "      <td>18452.0</td>\n",
       "    </tr>\n",
       "    <tr>\n",
       "      <th>6</th>\n",
       "      <td>Anonymous</td>\n",
       "      <td>14945.0</td>\n",
       "    </tr>\n",
       "    <tr>\n",
       "      <th>7</th>\n",
       "      <td>einem Kunden</td>\n",
       "      <td>13560.0</td>\n",
       "    </tr>\n",
       "    <tr>\n",
       "      <th>8</th>\n",
       "      <td>unknown</td>\n",
       "      <td>11199.0</td>\n",
       "    </tr>\n",
       "    <tr>\n",
       "      <th>9</th>\n",
       "      <td>Anonymous</td>\n",
       "      <td>10181.0</td>\n",
       "    </tr>\n",
       "  </tbody>\n",
       "</table>\n",
       "</div>"
      ],
      "text/plain": [
       "            author     score\n",
       "0  Amazon Customer  408184.0\n",
       "1   Cliente Amazon  117194.0\n",
       "2            e-bit   55556.0\n",
       "3  Client d'Amazon   41508.0\n",
       "4     Amazon Kunde   26170.0\n",
       "5     einer Kundin   18452.0\n",
       "6        Anonymous   14945.0\n",
       "7     einem Kunden   13560.0\n",
       "8          unknown   11199.0\n",
       "9       Anonymous    10181.0"
      ]
     },
     "execution_count": 533,
     "metadata": {},
     "output_type": "execute_result"
    }
   ],
   "source": [
    "#Computes the most popular items\n",
    "frequent_user_df = df_sampled_phone_reviews.groupby('author')['score'].sum().sort_values(ascending=False).reset_index()\n",
    "frequent_user_df.head(10)"
   ]
  },
  {
   "cell_type": "code",
   "execution_count": null,
   "metadata": {},
   "outputs": [],
   "source": []
  },
  {
   "cell_type": "code",
   "execution_count": 534,
   "metadata": {},
   "outputs": [],
   "source": [
    "#C. Select the data with products having more than 50 ratings and users who have given more than 50 ratings. Report the shape of the final\n",
    "#dataset. [4 Marks]"
   ]
  },
  {
   "cell_type": "code",
   "execution_count": 535,
   "metadata": {},
   "outputs": [],
   "source": [
    "#retrieving products having more than 50 ratings\n",
    "filter_products= df_sampled_phone_reviews['product'].value_counts() > 50\n",
    "filter_products = filter_products[filter_products].index.tolist()\n"
   ]
  },
  {
   "cell_type": "code",
   "execution_count": 536,
   "metadata": {},
   "outputs": [],
   "source": [
    "#users who have given more than 50 ratings\n",
    "filter_authors = df_sampled_phone_reviews['author'].value_counts() > 50\n",
    "filter_authors = filter_authors[filter_authors].index.tolist()\n"
   ]
  },
  {
   "cell_type": "code",
   "execution_count": 537,
   "metadata": {},
   "outputs": [],
   "source": [
    "df_final_reviews = df_sampled_phone_reviews[(df_sampled_phone_reviews['product'].isin(filter_products)) & (df_sampled_phone_reviews['author'].isin(filter_authors))]"
   ]
  },
  {
   "cell_type": "code",
   "execution_count": 538,
   "metadata": {},
   "outputs": [
    {
     "data": {
      "text/plain": [
       "(109237, 3)"
      ]
     },
     "execution_count": 538,
     "metadata": {},
     "output_type": "execute_result"
    }
   ],
   "source": [
    "df_final_reviews.shape"
   ]
  },
  {
   "cell_type": "code",
   "execution_count": null,
   "metadata": {},
   "outputs": [],
   "source": []
  },
  {
   "cell_type": "code",
   "execution_count": 539,
   "metadata": {},
   "outputs": [],
   "source": [
    "#3. Build a popularity based model and recommend top 5 mobile phones. [5 Marks]"
   ]
  },
  {
   "cell_type": "code",
   "execution_count": 540,
   "metadata": {},
   "outputs": [],
   "source": [
    "#pip install scikit-surprise==1.0.4"
   ]
  },
  {
   "cell_type": "code",
   "execution_count": 541,
   "metadata": {},
   "outputs": [
    {
     "data": {
      "text/html": [
       "<div>\n",
       "<style scoped>\n",
       "    .dataframe tbody tr th:only-of-type {\n",
       "        vertical-align: middle;\n",
       "    }\n",
       "\n",
       "    .dataframe tbody tr th {\n",
       "        vertical-align: top;\n",
       "    }\n",
       "\n",
       "    .dataframe thead th {\n",
       "        text-align: right;\n",
       "    }\n",
       "</style>\n",
       "<table border=\"1\" class=\"dataframe\">\n",
       "  <thead>\n",
       "    <tr style=\"text-align: right;\">\n",
       "      <th></th>\n",
       "      <th>score</th>\n",
       "      <th>author</th>\n",
       "      <th>product</th>\n",
       "    </tr>\n",
       "  </thead>\n",
       "  <tbody>\n",
       "    <tr>\n",
       "      <th>175196</th>\n",
       "      <td>8.0</td>\n",
       "      <td>paolo</td>\n",
       "      <td>Huawei P8 Lite Smartphone, Display 5\" IPS, Pro...</td>\n",
       "    </tr>\n",
       "    <tr>\n",
       "      <th>253517</th>\n",
       "      <td>10.0</td>\n",
       "      <td>Amazon Customer</td>\n",
       "      <td>Asus ZenFone 3 Laser 5.5-inch Glacier Silver [...</td>\n",
       "    </tr>\n",
       "    <tr>\n",
       "      <th>36233</th>\n",
       "      <td>9.0</td>\n",
       "      <td>Karen</td>\n",
       "      <td>Samsung Galaxy S7 goud, roze / 32 GB</td>\n",
       "    </tr>\n",
       "    <tr>\n",
       "      <th>270189</th>\n",
       "      <td>10.0</td>\n",
       "      <td>Cliente Amazon</td>\n",
       "      <td>Nokia Lumia 735 Smartphone, 8 GB, Grigio [Italia]</td>\n",
       "    </tr>\n",
       "    <tr>\n",
       "      <th>50307</th>\n",
       "      <td>10.0</td>\n",
       "      <td>Amazon Customer</td>\n",
       "      <td>Lenovo Vibe K4 Note (White,16GB)</td>\n",
       "    </tr>\n",
       "  </tbody>\n",
       "</table>\n",
       "</div>"
      ],
      "text/plain": [
       "        score           author  \\\n",
       "175196    8.0            paolo   \n",
       "253517   10.0  Amazon Customer   \n",
       "36233     9.0            Karen   \n",
       "270189   10.0   Cliente Amazon   \n",
       "50307    10.0  Amazon Customer   \n",
       "\n",
       "                                                  product  \n",
       "175196  Huawei P8 Lite Smartphone, Display 5\" IPS, Pro...  \n",
       "253517  Asus ZenFone 3 Laser 5.5-inch Glacier Silver [...  \n",
       "36233                Samsung Galaxy S7 goud, roze / 32 GB  \n",
       "270189  Nokia Lumia 735 Smartphone, 8 GB, Grigio [Italia]  \n",
       "50307                    Lenovo Vibe K4 Note (White,16GB)  "
      ]
     },
     "execution_count": 541,
     "metadata": {},
     "output_type": "execute_result"
    }
   ],
   "source": [
    "train_data, test_data = train_test_split(df_final_reviews, test_size = 0.3, random_state=0)\n",
    "train_data.head()"
   ]
  },
  {
   "cell_type": "code",
   "execution_count": 542,
   "metadata": {},
   "outputs": [
    {
     "data": {
      "text/plain": [
       "(32772, 3)"
      ]
     },
     "execution_count": 542,
     "metadata": {},
     "output_type": "execute_result"
    }
   ],
   "source": [
    "train_data.shape\n",
    "test_data.shape"
   ]
  },
  {
   "cell_type": "code",
   "execution_count": 543,
   "metadata": {},
   "outputs": [
    {
     "data": {
      "text/html": [
       "<div>\n",
       "<style scoped>\n",
       "    .dataframe tbody tr th:only-of-type {\n",
       "        vertical-align: middle;\n",
       "    }\n",
       "\n",
       "    .dataframe tbody tr th {\n",
       "        vertical-align: top;\n",
       "    }\n",
       "\n",
       "    .dataframe thead th {\n",
       "        text-align: right;\n",
       "    }\n",
       "</style>\n",
       "<table border=\"1\" class=\"dataframe\">\n",
       "  <thead>\n",
       "    <tr style=\"text-align: right;\">\n",
       "      <th></th>\n",
       "      <th>product</th>\n",
       "      <th>score</th>\n",
       "    </tr>\n",
       "  </thead>\n",
       "  <tbody>\n",
       "    <tr>\n",
       "      <th>0</th>\n",
       "      <td>3220</td>\n",
       "      <td>1</td>\n",
       "    </tr>\n",
       "    <tr>\n",
       "      <th>1</th>\n",
       "      <td>5.5-Inch Unlocked Lenovo A850 3G Smartphone-(9...</td>\n",
       "      <td>4</td>\n",
       "    </tr>\n",
       "    <tr>\n",
       "      <th>2</th>\n",
       "      <td>AICEK Coque ASUS ZenFone 2 ZE550ML/ZE551ML, AI...</td>\n",
       "      <td>18</td>\n",
       "    </tr>\n",
       "    <tr>\n",
       "      <th>3</th>\n",
       "      <td>AICEK Coque ASUS ZenFone 3 ZE520KL, AICEK Etui...</td>\n",
       "      <td>11</td>\n",
       "    </tr>\n",
       "    <tr>\n",
       "      <th>4</th>\n",
       "      <td>AICEK Coque Samsung Galaxy A3 2016, AICEK Etui...</td>\n",
       "      <td>49</td>\n",
       "    </tr>\n",
       "  </tbody>\n",
       "</table>\n",
       "</div>"
      ],
      "text/plain": [
       "                                             product  score\n",
       "0                                               3220      1\n",
       "1  5.5-Inch Unlocked Lenovo A850 3G Smartphone-(9...      4\n",
       "2  AICEK Coque ASUS ZenFone 2 ZE550ML/ZE551ML, AI...     18\n",
       "3  AICEK Coque ASUS ZenFone 3 ZE520KL, AICEK Etui...     11\n",
       "4  AICEK Coque Samsung Galaxy A3 2016, AICEK Etui...     49"
      ]
     },
     "execution_count": 543,
     "metadata": {},
     "output_type": "execute_result"
    }
   ],
   "source": [
    "#Count of user_id for each unique product as recommendation score \n",
    "train_data_grouped = train_data.groupby('product').agg({'author': 'count'}).reset_index()\n",
    "train_data_grouped.rename(columns = {'author': 'score'},inplace=True)\n",
    "train_data_grouped.head()\n"
   ]
  },
  {
   "cell_type": "code",
   "execution_count": 544,
   "metadata": {},
   "outputs": [
    {
     "data": {
      "text/html": [
       "<div>\n",
       "<style scoped>\n",
       "    .dataframe tbody tr th:only-of-type {\n",
       "        vertical-align: middle;\n",
       "    }\n",
       "\n",
       "    .dataframe tbody tr th {\n",
       "        vertical-align: top;\n",
       "    }\n",
       "\n",
       "    .dataframe thead th {\n",
       "        text-align: right;\n",
       "    }\n",
       "</style>\n",
       "<table border=\"1\" class=\"dataframe\">\n",
       "  <thead>\n",
       "    <tr style=\"text-align: right;\">\n",
       "      <th></th>\n",
       "      <th>product</th>\n",
       "      <th>score</th>\n",
       "      <th>Rank</th>\n",
       "    </tr>\n",
       "  </thead>\n",
       "  <tbody>\n",
       "    <tr>\n",
       "      <th>1491</th>\n",
       "      <td>Lenovo Vibe K4 Note (White,16GB)</td>\n",
       "      <td>1640</td>\n",
       "      <td>1.0</td>\n",
       "    </tr>\n",
       "    <tr>\n",
       "      <th>1490</th>\n",
       "      <td>Lenovo Vibe K4 Note (Black, 16GB)</td>\n",
       "      <td>1337</td>\n",
       "      <td>2.0</td>\n",
       "    </tr>\n",
       "    <tr>\n",
       "      <th>2324</th>\n",
       "      <td>OnePlus 3 (Graphite, 64 GB)</td>\n",
       "      <td>1014</td>\n",
       "      <td>3.0</td>\n",
       "    </tr>\n",
       "    <tr>\n",
       "      <th>2325</th>\n",
       "      <td>OnePlus 3 (Soft Gold, 64 GB)</td>\n",
       "      <td>920</td>\n",
       "      <td>4.0</td>\n",
       "    </tr>\n",
       "    <tr>\n",
       "      <th>1492</th>\n",
       "      <td>Lenovo Vibe K5 (Gold, VoLTE update)</td>\n",
       "      <td>832</td>\n",
       "      <td>5.0</td>\n",
       "    </tr>\n",
       "  </tbody>\n",
       "</table>\n",
       "</div>"
      ],
      "text/plain": [
       "                                  product  score  Rank\n",
       "1491     Lenovo Vibe K4 Note (White,16GB)   1640   1.0\n",
       "1490    Lenovo Vibe K4 Note (Black, 16GB)   1337   2.0\n",
       "2324          OnePlus 3 (Graphite, 64 GB)   1014   3.0\n",
       "2325         OnePlus 3 (Soft Gold, 64 GB)    920   4.0\n",
       "1492  Lenovo Vibe K5 (Gold, VoLTE update)    832   5.0"
      ]
     },
     "execution_count": 544,
     "metadata": {},
     "output_type": "execute_result"
    }
   ],
   "source": [
    "#Sort the products on recommendation score \n",
    "train_data_sort = train_data_grouped.sort_values(['score', 'product'], ascending = [0,1]) \n",
    "      \n",
    "#Generate a recommendation rank based upon score \n",
    "train_data_sort['Rank'] = train_data_sort['score'].rank(ascending=0, method='first') \n",
    "          \n",
    "#Getting the top 5 recommendations for items\n",
    "popularity_recommendations = train_data_sort.head(5) \n",
    "popularity_recommendations "
   ]
  },
  {
   "cell_type": "code",
   "execution_count": null,
   "metadata": {},
   "outputs": [],
   "source": []
  },
  {
   "cell_type": "code",
   "execution_count": 545,
   "metadata": {},
   "outputs": [],
   "source": [
    "##4. Build a collaborative filtering model using SVD. You can use SVD from surprise or build it from scratch(Note: Incase you’re building it from scratch you\n",
    "#can limit your data points to 5000 samples if you face memory issues). Build a collaborative filtering model using kNNWithMeans from surprise. You\n",
    "#can try both user-based and item-based model. [10 Marks]"
   ]
  },
  {
   "cell_type": "code",
   "execution_count": 546,
   "metadata": {},
   "outputs": [],
   "source": [
    "#SVD Based Recommendation System- from surprise\n",
    "from surprise import Dataset,Reader\n",
    "from surprise import SVD, KNNWithMeans\n",
    "from surprise import accuracy\n",
    "\n",
    "#reducing the sameple size for memory issues.\n",
    "df_final_reviews_small= df_final_reviews.sample(n=5000,random_state=12)\n",
    "\n",
    "reader = Reader(rating_scale=(1, 10))\n",
    "data = Dataset.load_from_df(df_final_reviews_small[['author', 'product', 'score']], reader)"
   ]
  },
  {
   "cell_type": "code",
   "execution_count": 547,
   "metadata": {},
   "outputs": [],
   "source": [
    "# Split data to train and test\n",
    "from surprise.model_selection import train_test_split\n",
    "trainset, testset = train_test_split(data, test_size=.25,random_state=123)\n"
   ]
  },
  {
   "cell_type": "code",
   "execution_count": 548,
   "metadata": {},
   "outputs": [
    {
     "data": {
      "text/plain": [
       "<generator object Trainset.all_ratings at 0x7fee6e63df20>"
      ]
     },
     "execution_count": 548,
     "metadata": {},
     "output_type": "execute_result"
    }
   ],
   "source": [
    "trainset.all_ratings()"
   ]
  },
  {
   "cell_type": "code",
   "execution_count": 549,
   "metadata": {},
   "outputs": [
    {
     "name": "stdout",
     "output_type": "stream",
     "text": [
      "Petra\n"
     ]
    }
   ],
   "source": [
    "# raw ids can be obatined as follows\n",
    "print(trainset.to_raw_uid(0))\n"
   ]
  },
  {
   "cell_type": "code",
   "execution_count": 550,
   "metadata": {},
   "outputs": [
    {
     "data": {
      "text/plain": [
       "<surprise.prediction_algorithms.matrix_factorization.SVD at 0x7fee6bc08cd0>"
      ]
     },
     "execution_count": 550,
     "metadata": {},
     "output_type": "execute_result"
    }
   ],
   "source": [
    "#creating SVD model\n",
    "svd_model = SVD(n_factors=5,biased=False)\n",
    "svd_model.fit(trainset)"
   ]
  },
  {
   "cell_type": "code",
   "execution_count": 551,
   "metadata": {},
   "outputs": [],
   "source": [
    "test_pred = svd_model.test(testset)"
   ]
  },
  {
   "cell_type": "code",
   "execution_count": 552,
   "metadata": {},
   "outputs": [
    {
     "data": {
      "text/plain": [
       "('Amazon Customer', 'LG Nexus 5X LG-H791 (16GB, Ice Blue)', 8.0)"
      ]
     },
     "execution_count": 552,
     "metadata": {},
     "output_type": "execute_result"
    }
   ],
   "source": [
    "#printing a test set user\n",
    "testset[2]"
   ]
  },
  {
   "cell_type": "code",
   "execution_count": null,
   "metadata": {},
   "outputs": [],
   "source": []
  },
  {
   "cell_type": "code",
   "execution_count": 553,
   "metadata": {},
   "outputs": [],
   "source": [
    "## with KNNwithmeans algorithm in surprise"
   ]
  },
  {
   "cell_type": "code",
   "execution_count": 554,
   "metadata": {},
   "outputs": [
    {
     "name": "stdout",
     "output_type": "stream",
     "text": [
      "Computing the msd similarity matrix...\n",
      "Done computing similarity matrix.\n"
     ]
    },
    {
     "data": {
      "text/plain": [
       "<surprise.prediction_algorithms.knns.KNNWithMeans at 0x7fee6c11f880>"
      ]
     },
     "execution_count": 554,
     "metadata": {},
     "output_type": "execute_result"
    }
   ],
   "source": [
    "#item based Collaborative Filtering\n",
    "from surprise import KNNWithMeans\n",
    "from surprise import accuracy\n",
    "\n",
    "algo_i = KNNWithMeans(k=10, sim_options={ 'user_based': False})\n",
    "\n",
    "algo_i.fit(trainset)"
   ]
  },
  {
   "cell_type": "code",
   "execution_count": 555,
   "metadata": {},
   "outputs": [
    {
     "name": "stdout",
     "output_type": "stream",
     "text": [
      "RMSE: 3.3288\n",
      "3.3288122584367636\n"
     ]
    }
   ],
   "source": [
    "test_pred_item_knn=algo_i.test(testset)\n",
    "print(accuracy.rmse(test_pred_item_knn))"
   ]
  },
  {
   "cell_type": "code",
   "execution_count": 556,
   "metadata": {},
   "outputs": [
    {
     "name": "stdout",
     "output_type": "stream",
     "text": [
      "Computing the msd similarity matrix...\n",
      "Done computing similarity matrix.\n"
     ]
    },
    {
     "data": {
      "text/plain": [
       "<surprise.prediction_algorithms.knns.KNNWithMeans at 0x7fee6c11f5b0>"
      ]
     },
     "execution_count": 556,
     "metadata": {},
     "output_type": "execute_result"
    }
   ],
   "source": [
    "#user based Collaborative Filtering\n",
    "\n",
    "from surprise import KNNWithMeans\n",
    "from surprise import accuracy\n",
    "\n",
    "algo_i_user = KNNWithMeans(k=10, sim_options={ 'user_based': True})\n",
    "\n",
    "algo_i_user.fit(trainset)"
   ]
  },
  {
   "cell_type": "code",
   "execution_count": 557,
   "metadata": {},
   "outputs": [
    {
     "name": "stdout",
     "output_type": "stream",
     "text": [
      "RMSE: 3.3297\n",
      "3.3296750753236646\n"
     ]
    }
   ],
   "source": [
    "test_pred_user_knn=algo_i_user.test(testset)\n",
    "print(accuracy.rmse(test_pred_user_knn))"
   ]
  },
  {
   "cell_type": "code",
   "execution_count": null,
   "metadata": {},
   "outputs": [],
   "source": []
  },
  {
   "cell_type": "code",
   "execution_count": 558,
   "metadata": {},
   "outputs": [],
   "source": [
    "#5. Evaluate the collaborative model. Print RMSE value. [2 Marks]"
   ]
  },
  {
   "cell_type": "code",
   "execution_count": 559,
   "metadata": {},
   "outputs": [
    {
     "name": "stdout",
     "output_type": "stream",
     "text": [
      "RMSE: 4.3673\n"
     ]
    },
    {
     "data": {
      "text/plain": [
       "4.367306111923836"
      ]
     },
     "execution_count": 559,
     "metadata": {},
     "output_type": "execute_result"
    }
   ],
   "source": [
    "# compute RMSE\n",
    "accuracy.rmse(test_pred)"
   ]
  },
  {
   "cell_type": "code",
   "execution_count": 560,
   "metadata": {},
   "outputs": [
    {
     "name": "stdout",
     "output_type": "stream",
     "text": [
      "RMSE: 3.3288\n"
     ]
    },
    {
     "data": {
      "text/plain": [
       "3.3288122584367636"
      ]
     },
     "execution_count": 560,
     "metadata": {},
     "output_type": "execute_result"
    }
   ],
   "source": [
    "# compute RMSE\n",
    "accuracy.rmse(test_pred_item_knn)"
   ]
  },
  {
   "cell_type": "code",
   "execution_count": 561,
   "metadata": {},
   "outputs": [
    {
     "name": "stdout",
     "output_type": "stream",
     "text": [
      "RMSE: 3.3297\n"
     ]
    },
    {
     "data": {
      "text/plain": [
       "3.3296750753236646"
      ]
     },
     "execution_count": 561,
     "metadata": {},
     "output_type": "execute_result"
    }
   ],
   "source": [
    "# compute RMSE\n",
    "accuracy.rmse(test_pred_user_knn)"
   ]
  },
  {
   "cell_type": "code",
   "execution_count": null,
   "metadata": {},
   "outputs": [],
   "source": []
  },
  {
   "cell_type": "code",
   "execution_count": 562,
   "metadata": {},
   "outputs": [],
   "source": [
    "#6. Predict score (average rating) for test users. [2 Marks]"
   ]
  },
  {
   "cell_type": "code",
   "execution_count": 563,
   "metadata": {},
   "outputs": [
    {
     "data": {
      "text/plain": [
       "7.4168"
      ]
     },
     "execution_count": 563,
     "metadata": {},
     "output_type": "execute_result"
    }
   ],
   "source": [
    "test_pred = svd_model.test(testset)\n",
    "test_pd= pd.DataFrame(test_pred)\n",
    "test_pd.columns\n",
    "#printing avg rating\n",
    "test_pd.r_ui.mean()"
   ]
  },
  {
   "cell_type": "code",
   "execution_count": null,
   "metadata": {},
   "outputs": [],
   "source": []
  },
  {
   "cell_type": "code",
   "execution_count": 564,
   "metadata": {},
   "outputs": [],
   "source": [
    "#7. Report your findings and inferences. [2 Marks]"
   ]
  },
  {
   "cell_type": "code",
   "execution_count": 565,
   "metadata": {},
   "outputs": [
    {
     "name": "stdout",
     "output_type": "stream",
     "text": [
      "RMSE improved with KNNWithMeans algorithm on test data from 4.3 to 3.3 value for user based recommendations.\n"
     ]
    }
   ],
   "source": [
    "print(\"RMSE improved with KNNWithMeans algorithm on test data from 4.3 to 3.3 value for user based recommendations.\")"
   ]
  },
  {
   "cell_type": "code",
   "execution_count": 566,
   "metadata": {},
   "outputs": [
    {
     "name": "stdout",
     "output_type": "stream",
     "text": [
      "Using surprise library has helped in running SVD over the given data and calculating required matrix factorizations.\n"
     ]
    }
   ],
   "source": [
    "print(\"Using surprise library has helped in running SVD over the given data and calculating required matrix factorizations.\")"
   ]
  },
  {
   "cell_type": "code",
   "execution_count": null,
   "metadata": {},
   "outputs": [],
   "source": []
  },
  {
   "cell_type": "code",
   "execution_count": 567,
   "metadata": {},
   "outputs": [],
   "source": [
    "#8. Try and recommend top 5 products for test users. [5 Marks]\n"
   ]
  },
  {
   "cell_type": "code",
   "execution_count": 568,
   "metadata": {},
   "outputs": [
    {
     "data": {
      "text/html": [
       "<div>\n",
       "<style scoped>\n",
       "    .dataframe tbody tr th:only-of-type {\n",
       "        vertical-align: middle;\n",
       "    }\n",
       "\n",
       "    .dataframe tbody tr th {\n",
       "        vertical-align: top;\n",
       "    }\n",
       "\n",
       "    .dataframe thead th {\n",
       "        text-align: right;\n",
       "    }\n",
       "</style>\n",
       "<table border=\"1\" class=\"dataframe\">\n",
       "  <thead>\n",
       "    <tr style=\"text-align: right;\">\n",
       "      <th></th>\n",
       "      <th>iid</th>\n",
       "      <th>r_ui</th>\n",
       "      <th>est</th>\n",
       "    </tr>\n",
       "  </thead>\n",
       "  <tbody>\n",
       "    <tr>\n",
       "      <th>607</th>\n",
       "      <td>Smartphone Samsung Galaxy Note 4 SM-N910C</td>\n",
       "      <td>10.0</td>\n",
       "      <td>7.577600</td>\n",
       "    </tr>\n",
       "    <tr>\n",
       "      <th>338</th>\n",
       "      <td>Smartphone Samsung Galaxy J2 SM-J200M</td>\n",
       "      <td>10.0</td>\n",
       "      <td>8.310857</td>\n",
       "    </tr>\n",
       "    <tr>\n",
       "      <th>777</th>\n",
       "      <td>Smartphone LG G3 D855</td>\n",
       "      <td>10.0</td>\n",
       "      <td>8.988600</td>\n",
       "    </tr>\n",
       "    <tr>\n",
       "      <th>775</th>\n",
       "      <td>Smartphone Samsung Galaxy J7 Prime SM-G610M</td>\n",
       "      <td>10.0</td>\n",
       "      <td>9.906750</td>\n",
       "    </tr>\n",
       "    <tr>\n",
       "      <th>772</th>\n",
       "      <td>Smartphone Samsung Galaxy S5 SM-G900</td>\n",
       "      <td>10.0</td>\n",
       "      <td>8.635252</td>\n",
       "    </tr>\n",
       "  </tbody>\n",
       "</table>\n",
       "</div>"
      ],
      "text/plain": [
       "                                             iid  r_ui       est\n",
       "607    Smartphone Samsung Galaxy Note 4 SM-N910C  10.0  7.577600\n",
       "338        Smartphone Samsung Galaxy J2 SM-J200M  10.0  8.310857\n",
       "777                        Smartphone LG G3 D855  10.0  8.988600\n",
       "775  Smartphone Samsung Galaxy J7 Prime SM-G610M  10.0  9.906750\n",
       "772         Smartphone Samsung Galaxy S5 SM-G900  10.0  8.635252"
      ]
     },
     "execution_count": 568,
     "metadata": {},
     "output_type": "execute_result"
    }
   ],
   "source": [
    "# A test user -- e-bit\n",
    "pred = pd.DataFrame(test_pred)\n",
    "pred[pred['uid'] == 'e-bit'][['iid', 'r_ui','est']].sort_values(by = 'r_ui',ascending = False).head(5)"
   ]
  },
  {
   "cell_type": "code",
   "execution_count": null,
   "metadata": {},
   "outputs": [],
   "source": []
  },
  {
   "cell_type": "code",
   "execution_count": 569,
   "metadata": {},
   "outputs": [],
   "source": [
    "#9. Try other techniques (Example: cross validation) to get better results. [3 Marks]"
   ]
  },
  {
   "cell_type": "code",
   "execution_count": 570,
   "metadata": {},
   "outputs": [
    {
     "name": "stdout",
     "output_type": "stream",
     "text": [
      "Computing the msd similarity matrix...\n",
      "Done computing similarity matrix.\n",
      "Computing the msd similarity matrix...\n",
      "Done computing similarity matrix.\n",
      "Computing the msd similarity matrix...\n",
      "Done computing similarity matrix.\n",
      "Computing the msd similarity matrix...\n",
      "Done computing similarity matrix.\n",
      "Computing the msd similarity matrix...\n",
      "Done computing similarity matrix.\n",
      "Computing the msd similarity matrix...\n",
      "Done computing similarity matrix.\n",
      "Evaluating RMSE, MAE of algorithm KNNWithMeans on 6 split(s).\n",
      "\n",
      "                  Fold 1  Fold 2  Fold 3  Fold 4  Fold 5  Fold 6  Mean    Std     \n",
      "RMSE (testset)    3.1610  3.3959  3.1911  3.2614  3.2746  3.2697  3.2589  0.0745  \n",
      "MAE (testset)     2.3870  2.6070  2.4936  2.4427  2.4922  2.5117  2.4890  0.0671  \n",
      "Fit time          0.21    0.27    0.20    0.26    0.28    0.17    0.23    0.04    \n",
      "Test time         0.33    0.37    0.33    0.27    0.31    0.27    0.31    0.04    \n"
     ]
    },
    {
     "data": {
      "text/plain": [
       "{'test_rmse': array([3.1610252 , 3.39592379, 3.19107592, 3.26137243, 3.27458798,\n",
       "        3.26967948]),\n",
       " 'test_mae': array([2.38698618, 2.60695428, 2.49359001, 2.44268096, 2.49220887,\n",
       "        2.51165955]),\n",
       " 'fit_time': (0.21282482147216797,\n",
       "  0.27440476417541504,\n",
       "  0.2009878158569336,\n",
       "  0.25592803955078125,\n",
       "  0.27684903144836426,\n",
       "  0.1740710735321045),\n",
       " 'test_time': (0.33095407485961914,\n",
       "  0.36559104919433594,\n",
       "  0.33069586753845215,\n",
       "  0.26877880096435547,\n",
       "  0.30536699295043945,\n",
       "  0.2651357650756836)}"
      ]
     },
     "execution_count": 570,
     "metadata": {},
     "output_type": "execute_result"
    }
   ],
   "source": [
    "\n",
    "from surprise.model_selection import cross_validate\n",
    "#no of folds=6\n",
    "cross_validate(algo_i, data, measures=['RMSE', 'MAE'], cv=6, verbose=True)"
   ]
  },
  {
   "cell_type": "code",
   "execution_count": null,
   "metadata": {},
   "outputs": [],
   "source": []
  },
  {
   "cell_type": "code",
   "execution_count": 571,
   "metadata": {},
   "outputs": [],
   "source": [
    "#10. In what business scenario you should use popularity based Recommendation Systems ? [2 Marks]"
   ]
  },
  {
   "cell_type": "code",
   "execution_count": 572,
   "metadata": {},
   "outputs": [
    {
     "name": "stdout",
     "output_type": "stream",
     "text": [
      "Popularity based recommendation system identifies most popular items from avaliable list of items.\n",
      "It uses these items which are best selling and recommends them to new/existing users.\n",
      "We do not need to maintain separate user profiles to make recommendations. \n",
      "No cold start problem i.e new user recommendations can be managed.\n",
      "These recommendations suits well for items that can be generally recommended to all users. No personalization.\n",
      "Eg: Best Detergent powder,Best selling book of year etc\n"
     ]
    }
   ],
   "source": [
    "print(\"Popularity based recommendation system identifies most popular items from avaliable list of items.\")\n",
    "print(\"It uses these items which are best selling and recommends them to new/existing users.\")\n",
    "print(\"We do not need to maintain separate user profiles to make recommendations. \")\n",
    "print(\"No cold start problem i.e new user recommendations can be managed.\")\n",
    "print(\"These recommendations suits well for items that can be generally recommended to all users. No personalization.\")\n",
    "print(\"Eg: Best Detergent powder,Best selling book of year etc\")\n",
    "\n",
    "      "
   ]
  },
  {
   "cell_type": "code",
   "execution_count": null,
   "metadata": {},
   "outputs": [],
   "source": []
  },
  {
   "cell_type": "code",
   "execution_count": 573,
   "metadata": {},
   "outputs": [],
   "source": [
    "#11. In what business scenario you should use CF based Recommendation Systems ? [2 Marks]"
   ]
  },
  {
   "cell_type": "code",
   "execution_count": 574,
   "metadata": {},
   "outputs": [
    {
     "name": "stdout",
     "output_type": "stream",
     "text": [
      "With many customers coming in and leaving in ecommerce websites, online ecommerce platforms like Amazon,Flipkart etc use collaborative filter based recommendation systems.\n",
      "In Collaborative Filtering,there are no item features maintained for making recommendations.Here similar users get similar recommendations.\n",
      "Here we identify the users and put them in similar groups, and recommend each user accordingly to similarity/preferences identifed within the group.\n"
     ]
    }
   ],
   "source": [
    "print(\"With many customers coming in and leaving in ecommerce websites, online ecommerce platforms like Amazon,Flipkart etc use collaborative filter based recommendation systems.\")\n",
    "print(\"In Collaborative Filtering,there are no item features maintained for making recommendations.Here similar users get similar recommendations.\")\n",
    "print(\"Here we identify the users and put them in similar groups, and recommend each user accordingly to similarity/preferences identifed within the group.\") "
   ]
  },
  {
   "cell_type": "code",
   "execution_count": null,
   "metadata": {},
   "outputs": [],
   "source": []
  },
  {
   "cell_type": "code",
   "execution_count": 575,
   "metadata": {},
   "outputs": [],
   "source": [
    "#12. What other possible methods can you think of which can further improve the recommendation for different users ? [2 Marks]"
   ]
  },
  {
   "cell_type": "code",
   "execution_count": 576,
   "metadata": {},
   "outputs": [
    {
     "name": "stdout",
     "output_type": "stream",
     "text": [
      "\n",
      "\n",
      "1. Demographic based Recommender system\n",
      "This system gives preferences to products and users using demographic attributes for making recommendations.\n",
      "In this recommender system a proper market research in the specified region is taken up and then a short survey to gather data for categorization.\n",
      "Attributes like Location,Local staples, Language spoken,Mother tongue etc are used to characterise the users and their preferences.\n",
      "\n",
      "\n",
      "2.Utility based recommendation system\n",
      "Utility-based recommender systems build multi-attribute utility function of users and  recommend the highest utility item for user.\n",
      "It calculates user utility for an item.\n",
      "Best performing items are maintained and recommended to the user base.\n"
     ]
    }
   ],
   "source": [
    "print(\"\\n\")\n",
    "print(\"1. Demographic based Recommender system\")\n",
    "print(\"This system gives preferences to products and users using demographic attributes for making recommendations.\")\n",
    "print(\"In this recommender system a proper market research in the specified region is taken up and then a short survey to gather data for categorization.\")\n",
    "print(\"Attributes like Location,Local staples, Language spoken,Mother tongue etc are used to characterise the users and their preferences.\")\n",
    "\n",
    "print(\"\\n\")\n",
    "print(\"2.Utility based recommendation system\")\n",
    "print(\"Utility-based recommender systems build multi-attribute utility function of users and  recommend the highest utility item for user.\")\n",
    "print(\"It calculates user utility for an item.\") \n",
    "print(\"Best performing items are maintained and recommended to the user base.\")"
   ]
  },
  {
   "cell_type": "code",
   "execution_count": null,
   "metadata": {},
   "outputs": [],
   "source": []
  },
  {
   "cell_type": "code",
   "execution_count": null,
   "metadata": {},
   "outputs": [],
   "source": []
  },
  {
   "cell_type": "code",
   "execution_count": null,
   "metadata": {},
   "outputs": [],
   "source": []
  }
 ],
 "metadata": {
  "kernelspec": {
   "display_name": "Python 3 (ipykernel)",
   "language": "python",
   "name": "python3"
  },
  "language_info": {
   "codemirror_mode": {
    "name": "ipython",
    "version": 3
   },
   "file_extension": ".py",
   "mimetype": "text/x-python",
   "name": "python",
   "nbconvert_exporter": "python",
   "pygments_lexer": "ipython3",
   "version": "3.9.7"
  }
 },
 "nbformat": 4,
 "nbformat_minor": 2
}
