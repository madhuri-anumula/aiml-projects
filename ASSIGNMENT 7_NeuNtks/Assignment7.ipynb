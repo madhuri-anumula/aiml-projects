{
  "cells": [
    {
      "cell_type": "markdown",
      "metadata": {
        "id": "Jjd3yvLdKorU"
      },
      "source": [
        "# Assignment_NeuralNetworks- Madhuri A"
      ]
    },
    {
      "cell_type": "markdown",
      "metadata": {
        "id": "UTfNq1a3Kora"
      },
      "source": [
        "# Part A\n",
        "\n",
        "   "
      ]
    },
    {
      "cell_type": "code",
      "execution_count": 98,
      "metadata": {
        "id": "V78m2WBMKord"
      },
      "outputs": [],
      "source": [
        "import pandas as pd\n",
        "import numpy as np\n",
        "from sklearn.model_selection import train_test_split\n",
        "import tensorflow as tf\n",
        "from sklearn import preprocessing\n",
        "from tensorflow.keras.models import Sequential\n",
        "from tensorflow.keras.layers import Dense, Dropout, BatchNormalization\n",
        "from sklearn.metrics import accuracy_score, confusion_matrix, precision_score, recall_score, f1_score, precision_recall_curve, auc\n",
        "import matplotlib.pyplot as plt\n",
        "from tensorflow.keras import optimizers\n",
        "import seaborn as sns\n",
        "from tensorflow.keras.utils import to_categorical"
      ]
    },
    {
      "cell_type": "code",
      "source": [
        "from google.colab import drive"
      ],
      "metadata": {
        "id": "FyOu1LjweSqq"
      },
      "execution_count": 99,
      "outputs": []
    },
    {
      "cell_type": "code",
      "source": [
        "drive.mount('/content/drive')"
      ],
      "metadata": {
        "colab": {
          "base_uri": "https://localhost:8080/"
        },
        "id": "JCXrcGuyeXOa",
        "outputId": "faf2ced0-db65-4730-bd62-8cbd8647e8fc"
      },
      "execution_count": 100,
      "outputs": [
        {
          "output_type": "stream",
          "name": "stdout",
          "text": [
            "Drive already mounted at /content/drive; to attempt to forcibly remount, call drive.mount(\"/content/drive\", force_remount=True).\n"
          ]
        }
      ]
    },
    {
      "cell_type": "code",
      "execution_count": 101,
      "metadata": {
        "id": "zfhv8YWeKorf"
      },
      "outputs": [],
      "source": [
        "## 1.  Data import and Understanding [10 Marks]"
      ]
    },
    {
      "cell_type": "code",
      "execution_count": 6,
      "metadata": {
        "id": "QyHW5y37Korf"
      },
      "outputs": [],
      "source": [
        "## A. Read the ‘Signals.csv’ as DataFrame and import required libraries. [2 Marks]\n"
      ]
    },
    {
      "cell_type": "code",
      "execution_count": 102,
      "metadata": {
        "colab": {
          "base_uri": "https://localhost:8080/",
          "height": 285
        },
        "id": "WHPOaEkQKorj",
        "outputId": "6d1550e6-9809-4361-addd-f985ac198f51"
      },
      "outputs": [
        {
          "output_type": "stream",
          "name": "stdout",
          "text": [
            "(1599, 12)\n"
          ]
        },
        {
          "output_type": "execute_result",
          "data": {
            "text/plain": [
              "   Parameter 1  Parameter 2  Parameter 3  Parameter 4  Parameter 5  \\\n",
              "0          7.4         0.70         0.00          1.9        0.076   \n",
              "1          7.8         0.88         0.00          2.6        0.098   \n",
              "2          7.8         0.76         0.04          2.3        0.092   \n",
              "3         11.2         0.28         0.56          1.9        0.075   \n",
              "4          7.4         0.70         0.00          1.9        0.076   \n",
              "\n",
              "   Parameter 6  Parameter 7  Parameter 8  Parameter 9  Parameter 10  \\\n",
              "0         11.0         34.0       0.9978         3.51          0.56   \n",
              "1         25.0         67.0       0.9968         3.20          0.68   \n",
              "2         15.0         54.0       0.9970         3.26          0.65   \n",
              "3         17.0         60.0       0.9980         3.16          0.58   \n",
              "4         11.0         34.0       0.9978         3.51          0.56   \n",
              "\n",
              "   Parameter 11  Signal_Strength  \n",
              "0           9.4                5  \n",
              "1           9.8                5  \n",
              "2           9.8                5  \n",
              "3           9.8                6  \n",
              "4           9.4                5  "
            ],
            "text/html": [
              "\n",
              "  <div id=\"df-18fa152f-dc8d-48be-9ce2-9867ea41ae0b\">\n",
              "    <div class=\"colab-df-container\">\n",
              "      <div>\n",
              "<style scoped>\n",
              "    .dataframe tbody tr th:only-of-type {\n",
              "        vertical-align: middle;\n",
              "    }\n",
              "\n",
              "    .dataframe tbody tr th {\n",
              "        vertical-align: top;\n",
              "    }\n",
              "\n",
              "    .dataframe thead th {\n",
              "        text-align: right;\n",
              "    }\n",
              "</style>\n",
              "<table border=\"1\" class=\"dataframe\">\n",
              "  <thead>\n",
              "    <tr style=\"text-align: right;\">\n",
              "      <th></th>\n",
              "      <th>Parameter 1</th>\n",
              "      <th>Parameter 2</th>\n",
              "      <th>Parameter 3</th>\n",
              "      <th>Parameter 4</th>\n",
              "      <th>Parameter 5</th>\n",
              "      <th>Parameter 6</th>\n",
              "      <th>Parameter 7</th>\n",
              "      <th>Parameter 8</th>\n",
              "      <th>Parameter 9</th>\n",
              "      <th>Parameter 10</th>\n",
              "      <th>Parameter 11</th>\n",
              "      <th>Signal_Strength</th>\n",
              "    </tr>\n",
              "  </thead>\n",
              "  <tbody>\n",
              "    <tr>\n",
              "      <th>0</th>\n",
              "      <td>7.4</td>\n",
              "      <td>0.70</td>\n",
              "      <td>0.00</td>\n",
              "      <td>1.9</td>\n",
              "      <td>0.076</td>\n",
              "      <td>11.0</td>\n",
              "      <td>34.0</td>\n",
              "      <td>0.9978</td>\n",
              "      <td>3.51</td>\n",
              "      <td>0.56</td>\n",
              "      <td>9.4</td>\n",
              "      <td>5</td>\n",
              "    </tr>\n",
              "    <tr>\n",
              "      <th>1</th>\n",
              "      <td>7.8</td>\n",
              "      <td>0.88</td>\n",
              "      <td>0.00</td>\n",
              "      <td>2.6</td>\n",
              "      <td>0.098</td>\n",
              "      <td>25.0</td>\n",
              "      <td>67.0</td>\n",
              "      <td>0.9968</td>\n",
              "      <td>3.20</td>\n",
              "      <td>0.68</td>\n",
              "      <td>9.8</td>\n",
              "      <td>5</td>\n",
              "    </tr>\n",
              "    <tr>\n",
              "      <th>2</th>\n",
              "      <td>7.8</td>\n",
              "      <td>0.76</td>\n",
              "      <td>0.04</td>\n",
              "      <td>2.3</td>\n",
              "      <td>0.092</td>\n",
              "      <td>15.0</td>\n",
              "      <td>54.0</td>\n",
              "      <td>0.9970</td>\n",
              "      <td>3.26</td>\n",
              "      <td>0.65</td>\n",
              "      <td>9.8</td>\n",
              "      <td>5</td>\n",
              "    </tr>\n",
              "    <tr>\n",
              "      <th>3</th>\n",
              "      <td>11.2</td>\n",
              "      <td>0.28</td>\n",
              "      <td>0.56</td>\n",
              "      <td>1.9</td>\n",
              "      <td>0.075</td>\n",
              "      <td>17.0</td>\n",
              "      <td>60.0</td>\n",
              "      <td>0.9980</td>\n",
              "      <td>3.16</td>\n",
              "      <td>0.58</td>\n",
              "      <td>9.8</td>\n",
              "      <td>6</td>\n",
              "    </tr>\n",
              "    <tr>\n",
              "      <th>4</th>\n",
              "      <td>7.4</td>\n",
              "      <td>0.70</td>\n",
              "      <td>0.00</td>\n",
              "      <td>1.9</td>\n",
              "      <td>0.076</td>\n",
              "      <td>11.0</td>\n",
              "      <td>34.0</td>\n",
              "      <td>0.9978</td>\n",
              "      <td>3.51</td>\n",
              "      <td>0.56</td>\n",
              "      <td>9.4</td>\n",
              "      <td>5</td>\n",
              "    </tr>\n",
              "  </tbody>\n",
              "</table>\n",
              "</div>\n",
              "      <button class=\"colab-df-convert\" onclick=\"convertToInteractive('df-18fa152f-dc8d-48be-9ce2-9867ea41ae0b')\"\n",
              "              title=\"Convert this dataframe to an interactive table.\"\n",
              "              style=\"display:none;\">\n",
              "        \n",
              "  <svg xmlns=\"http://www.w3.org/2000/svg\" height=\"24px\"viewBox=\"0 0 24 24\"\n",
              "       width=\"24px\">\n",
              "    <path d=\"M0 0h24v24H0V0z\" fill=\"none\"/>\n",
              "    <path d=\"M18.56 5.44l.94 2.06.94-2.06 2.06-.94-2.06-.94-.94-2.06-.94 2.06-2.06.94zm-11 1L8.5 8.5l.94-2.06 2.06-.94-2.06-.94L8.5 2.5l-.94 2.06-2.06.94zm10 10l.94 2.06.94-2.06 2.06-.94-2.06-.94-.94-2.06-.94 2.06-2.06.94z\"/><path d=\"M17.41 7.96l-1.37-1.37c-.4-.4-.92-.59-1.43-.59-.52 0-1.04.2-1.43.59L10.3 9.45l-7.72 7.72c-.78.78-.78 2.05 0 2.83L4 21.41c.39.39.9.59 1.41.59.51 0 1.02-.2 1.41-.59l7.78-7.78 2.81-2.81c.8-.78.8-2.07 0-2.86zM5.41 20L4 18.59l7.72-7.72 1.47 1.35L5.41 20z\"/>\n",
              "  </svg>\n",
              "      </button>\n",
              "      \n",
              "  <style>\n",
              "    .colab-df-container {\n",
              "      display:flex;\n",
              "      flex-wrap:wrap;\n",
              "      gap: 12px;\n",
              "    }\n",
              "\n",
              "    .colab-df-convert {\n",
              "      background-color: #E8F0FE;\n",
              "      border: none;\n",
              "      border-radius: 50%;\n",
              "      cursor: pointer;\n",
              "      display: none;\n",
              "      fill: #1967D2;\n",
              "      height: 32px;\n",
              "      padding: 0 0 0 0;\n",
              "      width: 32px;\n",
              "    }\n",
              "\n",
              "    .colab-df-convert:hover {\n",
              "      background-color: #E2EBFA;\n",
              "      box-shadow: 0px 1px 2px rgba(60, 64, 67, 0.3), 0px 1px 3px 1px rgba(60, 64, 67, 0.15);\n",
              "      fill: #174EA6;\n",
              "    }\n",
              "\n",
              "    [theme=dark] .colab-df-convert {\n",
              "      background-color: #3B4455;\n",
              "      fill: #D2E3FC;\n",
              "    }\n",
              "\n",
              "    [theme=dark] .colab-df-convert:hover {\n",
              "      background-color: #434B5C;\n",
              "      box-shadow: 0px 1px 3px 1px rgba(0, 0, 0, 0.15);\n",
              "      filter: drop-shadow(0px 1px 2px rgba(0, 0, 0, 0.3));\n",
              "      fill: #FFFFFF;\n",
              "    }\n",
              "  </style>\n",
              "\n",
              "      <script>\n",
              "        const buttonEl =\n",
              "          document.querySelector('#df-18fa152f-dc8d-48be-9ce2-9867ea41ae0b button.colab-df-convert');\n",
              "        buttonEl.style.display =\n",
              "          google.colab.kernel.accessAllowed ? 'block' : 'none';\n",
              "\n",
              "        async function convertToInteractive(key) {\n",
              "          const element = document.querySelector('#df-18fa152f-dc8d-48be-9ce2-9867ea41ae0b');\n",
              "          const dataTable =\n",
              "            await google.colab.kernel.invokeFunction('convertToInteractive',\n",
              "                                                     [key], {});\n",
              "          if (!dataTable) return;\n",
              "\n",
              "          const docLinkHtml = 'Like what you see? Visit the ' +\n",
              "            '<a target=\"_blank\" href=https://colab.research.google.com/notebooks/data_table.ipynb>data table notebook</a>'\n",
              "            + ' to learn more about interactive tables.';\n",
              "          element.innerHTML = '';\n",
              "          dataTable['output_type'] = 'display_data';\n",
              "          await google.colab.output.renderOutput(dataTable, element);\n",
              "          const docLink = document.createElement('div');\n",
              "          docLink.innerHTML = docLinkHtml;\n",
              "          element.appendChild(docLink);\n",
              "        }\n",
              "      </script>\n",
              "    </div>\n",
              "  </div>\n",
              "  "
            ]
          },
          "metadata": {},
          "execution_count": 102
        }
      ],
      "source": [
        "\n",
        "project_path = ''\n",
        "dataset_file = project_path + '/content/drive/My Drive/Colab Notebooks/Signals.csv'\n",
        "data_file  = '/content/drive/My Drive/Colab Notebooks/Signals.csv'\n",
        "signals_df = pd.read_csv(dataset_file)\n",
        "signals_df\n",
        "print(signals_df.shape)\n",
        "signals_df.columns\n",
        "signals_df.dtypes\n",
        "signals_df.head(5)"
      ]
    },
    {
      "cell_type": "code",
      "execution_count": 103,
      "metadata": {
        "colab": {
          "base_uri": "https://localhost:8080/"
        },
        "id": "WF_2tzjdKork",
        "outputId": "ccb6a172-acc2-442b-e7ef-e895b93930d1"
      },
      "outputs": [
        {
          "output_type": "execute_result",
          "data": {
            "text/plain": [
              "Parameter 1        float64\n",
              "Parameter 2        float64\n",
              "Parameter 3        float64\n",
              "Parameter 4        float64\n",
              "Parameter 5        float64\n",
              "Parameter 6        float64\n",
              "Parameter 7        float64\n",
              "Parameter 8        float64\n",
              "Parameter 9        float64\n",
              "Parameter 10       float64\n",
              "Parameter 11       float64\n",
              "Signal_Strength      int64\n",
              "dtype: object"
            ]
          },
          "metadata": {},
          "execution_count": 103
        }
      ],
      "source": [
        "signals_df.dtypes"
      ]
    },
    {
      "cell_type": "code",
      "execution_count": null,
      "metadata": {
        "id": "lJfClwzZKorl"
      },
      "outputs": [],
      "source": [
        ""
      ]
    },
    {
      "cell_type": "code",
      "execution_count": 104,
      "metadata": {
        "id": "S9Tz_hSWKorm"
      },
      "outputs": [],
      "source": [
        "## B. Check for missing values and print percentage for each attribute. [2 Marks]\n"
      ]
    },
    {
      "cell_type": "code",
      "execution_count": 106,
      "metadata": {
        "colab": {
          "base_uri": "https://localhost:8080/",
          "height": 426
        },
        "id": "7IQ9GvB1Korn",
        "outputId": "da99eccb-0e65-4604-a0f5-13e79a6e628e"
      },
      "outputs": [
        {
          "output_type": "execute_result",
          "data": {
            "text/plain": [
              "                     column_name  percent_missing\n",
              "Parameter 1          Parameter 1              0.0\n",
              "Parameter 2          Parameter 2              0.0\n",
              "Parameter 3          Parameter 3              0.0\n",
              "Parameter 4          Parameter 4              0.0\n",
              "Parameter 5          Parameter 5              0.0\n",
              "Parameter 6          Parameter 6              0.0\n",
              "Parameter 7          Parameter 7              0.0\n",
              "Parameter 8          Parameter 8              0.0\n",
              "Parameter 9          Parameter 9              0.0\n",
              "Parameter 10        Parameter 10              0.0\n",
              "Parameter 11        Parameter 11              0.0\n",
              "Signal_Strength  Signal_Strength              0.0"
            ],
            "text/html": [
              "\n",
              "  <div id=\"df-864e8202-de8c-4e41-a6db-5e6c5f3078cf\">\n",
              "    <div class=\"colab-df-container\">\n",
              "      <div>\n",
              "<style scoped>\n",
              "    .dataframe tbody tr th:only-of-type {\n",
              "        vertical-align: middle;\n",
              "    }\n",
              "\n",
              "    .dataframe tbody tr th {\n",
              "        vertical-align: top;\n",
              "    }\n",
              "\n",
              "    .dataframe thead th {\n",
              "        text-align: right;\n",
              "    }\n",
              "</style>\n",
              "<table border=\"1\" class=\"dataframe\">\n",
              "  <thead>\n",
              "    <tr style=\"text-align: right;\">\n",
              "      <th></th>\n",
              "      <th>column_name</th>\n",
              "      <th>percent_missing</th>\n",
              "    </tr>\n",
              "  </thead>\n",
              "  <tbody>\n",
              "    <tr>\n",
              "      <th>Parameter 1</th>\n",
              "      <td>Parameter 1</td>\n",
              "      <td>0.0</td>\n",
              "    </tr>\n",
              "    <tr>\n",
              "      <th>Parameter 2</th>\n",
              "      <td>Parameter 2</td>\n",
              "      <td>0.0</td>\n",
              "    </tr>\n",
              "    <tr>\n",
              "      <th>Parameter 3</th>\n",
              "      <td>Parameter 3</td>\n",
              "      <td>0.0</td>\n",
              "    </tr>\n",
              "    <tr>\n",
              "      <th>Parameter 4</th>\n",
              "      <td>Parameter 4</td>\n",
              "      <td>0.0</td>\n",
              "    </tr>\n",
              "    <tr>\n",
              "      <th>Parameter 5</th>\n",
              "      <td>Parameter 5</td>\n",
              "      <td>0.0</td>\n",
              "    </tr>\n",
              "    <tr>\n",
              "      <th>Parameter 6</th>\n",
              "      <td>Parameter 6</td>\n",
              "      <td>0.0</td>\n",
              "    </tr>\n",
              "    <tr>\n",
              "      <th>Parameter 7</th>\n",
              "      <td>Parameter 7</td>\n",
              "      <td>0.0</td>\n",
              "    </tr>\n",
              "    <tr>\n",
              "      <th>Parameter 8</th>\n",
              "      <td>Parameter 8</td>\n",
              "      <td>0.0</td>\n",
              "    </tr>\n",
              "    <tr>\n",
              "      <th>Parameter 9</th>\n",
              "      <td>Parameter 9</td>\n",
              "      <td>0.0</td>\n",
              "    </tr>\n",
              "    <tr>\n",
              "      <th>Parameter 10</th>\n",
              "      <td>Parameter 10</td>\n",
              "      <td>0.0</td>\n",
              "    </tr>\n",
              "    <tr>\n",
              "      <th>Parameter 11</th>\n",
              "      <td>Parameter 11</td>\n",
              "      <td>0.0</td>\n",
              "    </tr>\n",
              "    <tr>\n",
              "      <th>Signal_Strength</th>\n",
              "      <td>Signal_Strength</td>\n",
              "      <td>0.0</td>\n",
              "    </tr>\n",
              "  </tbody>\n",
              "</table>\n",
              "</div>\n",
              "      <button class=\"colab-df-convert\" onclick=\"convertToInteractive('df-864e8202-de8c-4e41-a6db-5e6c5f3078cf')\"\n",
              "              title=\"Convert this dataframe to an interactive table.\"\n",
              "              style=\"display:none;\">\n",
              "        \n",
              "  <svg xmlns=\"http://www.w3.org/2000/svg\" height=\"24px\"viewBox=\"0 0 24 24\"\n",
              "       width=\"24px\">\n",
              "    <path d=\"M0 0h24v24H0V0z\" fill=\"none\"/>\n",
              "    <path d=\"M18.56 5.44l.94 2.06.94-2.06 2.06-.94-2.06-.94-.94-2.06-.94 2.06-2.06.94zm-11 1L8.5 8.5l.94-2.06 2.06-.94-2.06-.94L8.5 2.5l-.94 2.06-2.06.94zm10 10l.94 2.06.94-2.06 2.06-.94-2.06-.94-.94-2.06-.94 2.06-2.06.94z\"/><path d=\"M17.41 7.96l-1.37-1.37c-.4-.4-.92-.59-1.43-.59-.52 0-1.04.2-1.43.59L10.3 9.45l-7.72 7.72c-.78.78-.78 2.05 0 2.83L4 21.41c.39.39.9.59 1.41.59.51 0 1.02-.2 1.41-.59l7.78-7.78 2.81-2.81c.8-.78.8-2.07 0-2.86zM5.41 20L4 18.59l7.72-7.72 1.47 1.35L5.41 20z\"/>\n",
              "  </svg>\n",
              "      </button>\n",
              "      \n",
              "  <style>\n",
              "    .colab-df-container {\n",
              "      display:flex;\n",
              "      flex-wrap:wrap;\n",
              "      gap: 12px;\n",
              "    }\n",
              "\n",
              "    .colab-df-convert {\n",
              "      background-color: #E8F0FE;\n",
              "      border: none;\n",
              "      border-radius: 50%;\n",
              "      cursor: pointer;\n",
              "      display: none;\n",
              "      fill: #1967D2;\n",
              "      height: 32px;\n",
              "      padding: 0 0 0 0;\n",
              "      width: 32px;\n",
              "    }\n",
              "\n",
              "    .colab-df-convert:hover {\n",
              "      background-color: #E2EBFA;\n",
              "      box-shadow: 0px 1px 2px rgba(60, 64, 67, 0.3), 0px 1px 3px 1px rgba(60, 64, 67, 0.15);\n",
              "      fill: #174EA6;\n",
              "    }\n",
              "\n",
              "    [theme=dark] .colab-df-convert {\n",
              "      background-color: #3B4455;\n",
              "      fill: #D2E3FC;\n",
              "    }\n",
              "\n",
              "    [theme=dark] .colab-df-convert:hover {\n",
              "      background-color: #434B5C;\n",
              "      box-shadow: 0px 1px 3px 1px rgba(0, 0, 0, 0.15);\n",
              "      filter: drop-shadow(0px 1px 2px rgba(0, 0, 0, 0.3));\n",
              "      fill: #FFFFFF;\n",
              "    }\n",
              "  </style>\n",
              "\n",
              "      <script>\n",
              "        const buttonEl =\n",
              "          document.querySelector('#df-864e8202-de8c-4e41-a6db-5e6c5f3078cf button.colab-df-convert');\n",
              "        buttonEl.style.display =\n",
              "          google.colab.kernel.accessAllowed ? 'block' : 'none';\n",
              "\n",
              "        async function convertToInteractive(key) {\n",
              "          const element = document.querySelector('#df-864e8202-de8c-4e41-a6db-5e6c5f3078cf');\n",
              "          const dataTable =\n",
              "            await google.colab.kernel.invokeFunction('convertToInteractive',\n",
              "                                                     [key], {});\n",
              "          if (!dataTable) return;\n",
              "\n",
              "          const docLinkHtml = 'Like what you see? Visit the ' +\n",
              "            '<a target=\"_blank\" href=https://colab.research.google.com/notebooks/data_table.ipynb>data table notebook</a>'\n",
              "            + ' to learn more about interactive tables.';\n",
              "          element.innerHTML = '';\n",
              "          dataTable['output_type'] = 'display_data';\n",
              "          await google.colab.output.renderOutput(dataTable, element);\n",
              "          const docLink = document.createElement('div');\n",
              "          docLink.innerHTML = docLinkHtml;\n",
              "          element.appendChild(docLink);\n",
              "        }\n",
              "      </script>\n",
              "    </div>\n",
              "  </div>\n",
              "  "
            ]
          },
          "metadata": {},
          "execution_count": 106
        }
      ],
      "source": [
        "percent_feature_missing = signals_df.isnull().sum() * 100 / len(signals_df)\n",
        "missing_data_value_df = pd.DataFrame({'column_name': signals_df.columns,\n",
        "                                 'percent_missing': percent_feature_missing})\n",
        "missing_data_value_df\n",
        "\n"
      ]
    },
    {
      "cell_type": "markdown",
      "source": [
        "No missing data."
      ],
      "metadata": {
        "id": "AgdvhuQqM6O7"
      }
    },
    {
      "cell_type": "code",
      "execution_count": 11,
      "metadata": {
        "id": "de98gLXkKorn"
      },
      "outputs": [],
      "source": [
        "## C. Check for presence of duplicate records in the dataset and impute with appropriate method. [2 Marks]\n"
      ]
    },
    {
      "cell_type": "code",
      "execution_count": 107,
      "metadata": {
        "colab": {
          "base_uri": "https://localhost:8080/"
        },
        "id": "6vFtaBhwKorq",
        "outputId": "f7f177bb-7014-4e82-fe33-d3e4870ac843"
      },
      "outputs": [
        {
          "output_type": "stream",
          "name": "stdout",
          "text": [
            "Duplicate exists in Dataframe\n"
          ]
        }
      ],
      "source": [
        "\n",
        "has_duplicates= signals_df.duplicated()\n",
        "\n",
        "if True in has_duplicates.values:\n",
        "    print('Duplicate exists in Dataframe')\n",
        "else:\n",
        "    print('No Duplicate exists in Dataframe')"
      ]
    },
    {
      "cell_type": "code",
      "source": [
        "signals_df['Signal_Strength'].unique()"
      ],
      "metadata": {
        "colab": {
          "base_uri": "https://localhost:8080/"
        },
        "id": "xozCCso2hiKU",
        "outputId": "8a054354-aafe-48e3-8878-e4b86abf3079"
      },
      "execution_count": 14,
      "outputs": [
        {
          "output_type": "execute_result",
          "data": {
            "text/plain": [
              "array([5, 6, 7, 4, 8, 3])"
            ]
          },
          "metadata": {},
          "execution_count": 14
        }
      ]
    },
    {
      "cell_type": "code",
      "execution_count": 110,
      "metadata": {
        "id": "XRWXmYQdKorr"
      },
      "outputs": [],
      "source": [
        "#dropping duplicates\n",
        "signals_df.drop_duplicates(inplace=True)"
      ]
    },
    {
      "cell_type": "code",
      "execution_count": 111,
      "metadata": {
        "colab": {
          "base_uri": "https://localhost:8080/"
        },
        "id": "gsBD59pxKorr",
        "outputId": "83c247f6-7695-489d-ad30-54f7ae41ef31"
      },
      "outputs": [
        {
          "output_type": "execute_result",
          "data": {
            "text/plain": [
              "(1359, 12)"
            ]
          },
          "metadata": {},
          "execution_count": 111
        }
      ],
      "source": [
        "signals_df.shape"
      ]
    },
    {
      "cell_type": "code",
      "execution_count": 17,
      "metadata": {
        "id": "tlODU5u5Korr"
      },
      "outputs": [],
      "source": [
        "## D. Visualise distribution of the target variable. [2 Marks]\n"
      ]
    },
    {
      "cell_type": "code",
      "execution_count": 112,
      "metadata": {
        "colab": {
          "base_uri": "https://localhost:8080/",
          "height": 498
        },
        "id": "HDxQCmYMKors",
        "outputId": "f9ad0878-82a9-4b81-9cd1-6babfd07a332"
      },
      "outputs": [
        {
          "output_type": "display_data",
          "data": {
            "text/plain": [
              "<Figure size 864x576 with 1 Axes>"
            ],
            "image/png": "[encoded data removed]"
          },
          "metadata": {
            "needs_background": "light"
          }
        }
      ],
      "source": [
        "f, ax = plt.subplots(figsize=(12,8))\n",
        "ax = sns.countplot(x=\"Signal_Strength\", data=signals_df)\n",
        "plt.show()"
      ]
    },
    {
      "cell_type": "code",
      "source": [
        "signals_df.info()"
      ],
      "metadata": {
        "colab": {
          "base_uri": "https://localhost:8080/"
        },
        "id": "X2eKRRRpMUt_",
        "outputId": "7270bb98-6fc7-4b89-e859-0e2b5412f24b"
      },
      "execution_count": 113,
      "outputs": [
        {
          "output_type": "stream",
          "name": "stdout",
          "text": [
            "<class 'pandas.core.frame.DataFrame'>\n",
            "Int64Index: 1359 entries, 0 to 1598\n",
            "Data columns (total 12 columns):\n",
            " #   Column           Non-Null Count  Dtype  \n",
            "---  ------           --------------  -----  \n",
            " 0   Parameter 1      1359 non-null   float64\n",
            " 1   Parameter 2      1359 non-null   float64\n",
            " 2   Parameter 3      1359 non-null   float64\n",
            " 3   Parameter 4      1359 non-null   float64\n",
            " 4   Parameter 5      1359 non-null   float64\n",
            " 5   Parameter 6      1359 non-null   float64\n",
            " 6   Parameter 7      1359 non-null   float64\n",
            " 7   Parameter 8      1359 non-null   float64\n",
            " 8   Parameter 9      1359 non-null   float64\n",
            " 9   Parameter 10     1359 non-null   float64\n",
            " 10  Parameter 11     1359 non-null   float64\n",
            " 11  Signal_Strength  1359 non-null   int64  \n",
            "dtypes: float64(11), int64(1)\n",
            "memory usage: 170.3 KB\n"
          ]
        }
      ]
    },
    {
      "cell_type": "code",
      "execution_count": null,
      "metadata": {
        "id": "PxNLBEgSKors"
      },
      "outputs": [],
      "source": [
        "## E. Share insights from the initial data analysis (at least 2). [2 Marks]"
      ]
    },
    {
      "cell_type": "code",
      "execution_count": 20,
      "metadata": {
        "colab": {
          "base_uri": "https://localhost:8080/"
        },
        "id": "Hgt4CR5dKors",
        "outputId": "06bebce0-ebdb-45e6-a38d-0f7ef9e4c3e8"
      },
      "outputs": [
        {
          "output_type": "stream",
          "name": "stdout",
          "text": [
            "1. Signal strength is divided into 6 units/classes.\n",
            "2. Most of the signals have 5 or 6 signal strenghth.\n"
          ]
        }
      ],
      "source": [
        "print(\"1. Signal strength is divided into 6 units/classes.\")\n",
        "print(\"2. Most of the signals have 5 or 6 signal strenghth.\")"
      ]
    },
    {
      "cell_type": "code",
      "source": [
        ""
      ],
      "metadata": {
        "id": "S3zPEaW_G4hh"
      },
      "execution_count": null,
      "outputs": []
    },
    {
      "cell_type": "code",
      "source": [
        ""
      ],
      "metadata": {
        "id": "h5x-XcJQG4tf"
      },
      "execution_count": 20,
      "outputs": []
    },
    {
      "cell_type": "code",
      "execution_count": 21,
      "metadata": {
        "id": "yMXP0vN_Kort"
      },
      "outputs": [],
      "source": [
        "##2. Data preprocessing [7 Marks]\n"
      ]
    },
    {
      "cell_type": "code",
      "execution_count": null,
      "metadata": {
        "id": "C1c9Bf93Kort"
      },
      "outputs": [],
      "source": [
        "##A. Split the data into X & Y. [1 Marks]\n"
      ]
    },
    {
      "cell_type": "code",
      "execution_count": 114,
      "metadata": {
        "id": "nojYJVrdKort"
      },
      "outputs": [],
      "source": [
        "X = signals_df.values[:,:11]  ## Features\n",
        "y = signals_df.values[:,11] \n",
        "\n"
      ]
    },
    {
      "cell_type": "code",
      "execution_count": 23,
      "metadata": {
        "id": "vaILRfa7Koru"
      },
      "outputs": [],
      "source": [
        "##B. Split the data into train & test with 70:30 proportion.[1 Marks]\n"
      ]
    },
    {
      "cell_type": "code",
      "execution_count": 115,
      "metadata": {
        "id": "KiH9aS8PKoru"
      },
      "outputs": [],
      "source": [
        "#splitting the data in test and train sets\n",
        "from sklearn.model_selection import train_test_split\n",
        "X_train, X_test, y_train, y_test = train_test_split(X,y, test_size = 0.3, random_state = 1)\n"
      ]
    },
    {
      "cell_type": "code",
      "execution_count": 25,
      "metadata": {
        "id": "tyJHy_ffKoru"
      },
      "outputs": [],
      "source": [
        "##C. Print shape of all the 4 variables and verify if train and test data is in sync. [1 Marks]\n"
      ]
    },
    {
      "cell_type": "code",
      "execution_count": 116,
      "metadata": {
        "colab": {
          "base_uri": "https://localhost:8080/"
        },
        "id": "6b6g9Ux3Korv",
        "outputId": "79e86166-a5f0-434a-b1a2-655c126dbc8e"
      },
      "outputs": [
        {
          "output_type": "stream",
          "name": "stdout",
          "text": [
            "(951, 11)\n",
            "(408, 11)\n",
            "(951,)\n",
            "(408,)\n"
          ]
        }
      ],
      "source": [
        "print(X_train.shape)\n",
        "print(X_test.shape)\n",
        "print(y_train.shape)\n",
        "print(y_test.shape)"
      ]
    },
    {
      "cell_type": "code",
      "execution_count": null,
      "metadata": {
        "id": "w7YhTwL7Korv"
      },
      "outputs": [],
      "source": [
        "##D. Normalise the train and test data with appropriate method. [2 Marks]\n"
      ]
    },
    {
      "cell_type": "code",
      "execution_count": 117,
      "metadata": {
        "id": "3NpJGvbDKorv"
      },
      "outputs": [],
      "source": [
        "# Feature Scaling\n",
        "\n",
        "X_train = preprocessing.normalize(X_train)\n",
        "\n",
        "X_test = preprocessing.normalize(X_test)"
      ]
    },
    {
      "cell_type": "code",
      "source": [
        "y_train = np.array(y_train)\n",
        "y_test = np.array(y_test)"
      ],
      "metadata": {
        "id": "BSiez0VzRyve"
      },
      "execution_count": 119,
      "outputs": []
    },
    {
      "cell_type": "code",
      "execution_count": null,
      "metadata": {
        "id": "ImG-pKysKorv"
      },
      "outputs": [],
      "source": [
        "##E. Transform Labels into format acceptable by Neural Network [2 Marks]"
      ]
    },
    {
      "cell_type": "code",
      "source": [
        "y_train = to_categorical(y_train)\n",
        "y_test = to_categorical(y_test)"
      ],
      "metadata": {
        "id": "uqTTohf3iszh"
      },
      "execution_count": 120,
      "outputs": []
    },
    {
      "cell_type": "code",
      "source": [
        "y_test.shape"
      ],
      "metadata": {
        "colab": {
          "base_uri": "https://localhost:8080/"
        },
        "id": "0AVMBHAAjDN4",
        "outputId": "c2cac3cf-1782-4a47-af62-29c684bda80f"
      },
      "execution_count": 121,
      "outputs": [
        {
          "output_type": "execute_result",
          "data": {
            "text/plain": [
              "(408, 9)"
            ]
          },
          "metadata": {},
          "execution_count": 121
        }
      ]
    },
    {
      "cell_type": "code",
      "source": [
        "y_train.shape"
      ],
      "metadata": {
        "colab": {
          "base_uri": "https://localhost:8080/"
        },
        "id": "NY06XoRTi3r-",
        "outputId": "25ae501b-7166-4185-d454-1f1db6b54172"
      },
      "execution_count": 122,
      "outputs": [
        {
          "output_type": "execute_result",
          "data": {
            "text/plain": [
              "(951, 9)"
            ]
          },
          "metadata": {},
          "execution_count": 122
        }
      ]
    },
    {
      "cell_type": "code",
      "source": [
        ""
      ],
      "metadata": {
        "id": "kB0df_lrE9ss"
      },
      "execution_count": null,
      "outputs": []
    },
    {
      "cell_type": "code",
      "execution_count": null,
      "metadata": {
        "id": "X4eLkxx1Korw"
      },
      "outputs": [],
      "source": [
        "#3. Model Training & Evaluation using Neural Network [13 Marks]\n"
      ]
    },
    {
      "cell_type": "code",
      "execution_count": null,
      "metadata": {
        "id": "yxxjnC9mKorw"
      },
      "outputs": [],
      "source": [
        "## A. Design a Neural Network to train a classifier. [3 Marks]\n"
      ]
    },
    {
      "cell_type": "code",
      "execution_count": 123,
      "metadata": {
        "id": "ZAWVvL7UKorw"
      },
      "outputs": [],
      "source": [
        "from tensorflow.keras.models import Sequential\n",
        "from tensorflow.keras.layers import Dense\n",
        "# Initializing the ANN\n",
        "classifier = Sequential()"
      ]
    },
    {
      "cell_type": "code",
      "source": [
        " # Creating a `Sequential` model and adding a Dense layer as the first layer.\n",
        "classifier = tf.keras.models.Sequential()\n",
        "classifier.add(tf.keras.Input(shape=(11,)))\n",
        "classifier.add(tf.keras.layers.Dense(50, activation='relu'))\n",
        "\n",
        "#classifier.add(tf.keras.layers.Dense(32,activation='relu'))\n",
        "classifier.add(Dense(9, activation = 'softmax'))\n",
        "classifier.output_shape"
      ],
      "metadata": {
        "colab": {
          "base_uri": "https://localhost:8080/"
        },
        "id": "S1Vo-0IlQTLP",
        "outputId": "69d1ebc8-7783-4b5b-a143-78b850ef7170"
      },
      "execution_count": 124,
      "outputs": [
        {
          "output_type": "execute_result",
          "data": {
            "text/plain": [
              "(None, 9)"
            ]
          },
          "metadata": {},
          "execution_count": 124
        }
      ]
    },
    {
      "cell_type": "code",
      "execution_count": 125,
      "metadata": {
        "id": "0j4L9_8wKor1"
      },
      "outputs": [],
      "source": [
        "# Creating optimizer with default learning rate\n",
        "# sgd_optimizer = tf.keras.optimizers.SGD()\n",
        "# Compile the model\n",
        "classifier.compile(optimizer='SGD', loss='mse', metrics=['accuracy'])"
      ]
    },
    {
      "cell_type": "code",
      "source": [
        "classifier.summary()"
      ],
      "metadata": {
        "colab": {
          "base_uri": "https://localhost:8080/"
        },
        "id": "dIrpktYVYp26",
        "outputId": "35060c28-5778-4ee3-80e1-bf6e5ffd3352"
      },
      "execution_count": 126,
      "outputs": [
        {
          "output_type": "stream",
          "name": "stdout",
          "text": [
            "Model: \"sequential_6\"\n",
            "_________________________________________________________________\n",
            " Layer (type)                Output Shape              Param #   \n",
            "=================================================================\n",
            " dense_9 (Dense)             (None, 50)                600       \n",
            "                                                                 \n",
            " dense_10 (Dense)            (None, 9)                 459       \n",
            "                                                                 \n",
            "=================================================================\n",
            "Total params: 1,059\n",
            "Trainable params: 1,059\n",
            "Non-trainable params: 0\n",
            "_________________________________________________________________\n"
          ]
        }
      ]
    },
    {
      "cell_type": "code",
      "execution_count": null,
      "metadata": {
        "id": "Wj1dAJi_Kor2"
      },
      "outputs": [],
      "source": [
        "## B. Train the classifier using previously designed Architecture [2 Marks]\n"
      ]
    },
    {
      "cell_type": "code",
      "execution_count": 127,
      "metadata": {
        "colab": {
          "base_uri": "https://localhost:8080/"
        },
        "id": "eKkWW4G5Kor2",
        "outputId": "88550a3a-36bb-4df6-dafc-d4c515d1aa2d"
      },
      "outputs": [
        {
          "output_type": "stream",
          "name": "stdout",
          "text": [
            "Epoch 1/100\n",
            "30/30 [==============================] - 1s 8ms/step - loss: 0.0950 - accuracy: 0.4311 - val_loss: 0.0950 - val_accuracy: 0.4093\n",
            "Epoch 2/100\n",
            "30/30 [==============================] - 0s 4ms/step - loss: 0.0949 - accuracy: 0.4311 - val_loss: 0.0948 - val_accuracy: 0.4093\n",
            "Epoch 3/100\n",
            "30/30 [==============================] - 0s 4ms/step - loss: 0.0947 - accuracy: 0.4311 - val_loss: 0.0947 - val_accuracy: 0.4093\n",
            "Epoch 4/100\n",
            "30/30 [==============================] - 0s 5ms/step - loss: 0.0945 - accuracy: 0.4311 - val_loss: 0.0945 - val_accuracy: 0.4093\n",
            "Epoch 5/100\n",
            "30/30 [==============================] - 0s 3ms/step - loss: 0.0944 - accuracy: 0.4311 - val_loss: 0.0943 - val_accuracy: 0.4093\n",
            "Epoch 6/100\n",
            "30/30 [==============================] - 0s 3ms/step - loss: 0.0942 - accuracy: 0.4311 - val_loss: 0.0942 - val_accuracy: 0.4093\n",
            "Epoch 7/100\n",
            "30/30 [==============================] - 0s 3ms/step - loss: 0.0940 - accuracy: 0.4311 - val_loss: 0.0940 - val_accuracy: 0.4093\n",
            "Epoch 8/100\n",
            "30/30 [==============================] - 0s 3ms/step - loss: 0.0939 - accuracy: 0.4311 - val_loss: 0.0938 - val_accuracy: 0.4093\n",
            "Epoch 9/100\n",
            "30/30 [==============================] - 0s 5ms/step - loss: 0.0937 - accuracy: 0.4311 - val_loss: 0.0936 - val_accuracy: 0.4093\n",
            "Epoch 10/100\n",
            "30/30 [==============================] - 0s 4ms/step - loss: 0.0935 - accuracy: 0.4311 - val_loss: 0.0935 - val_accuracy: 0.4093\n",
            "Epoch 11/100\n",
            "30/30 [==============================] - 0s 3ms/step - loss: 0.0934 - accuracy: 0.4311 - val_loss: 0.0933 - val_accuracy: 0.4093\n",
            "Epoch 12/100\n",
            "30/30 [==============================] - 0s 4ms/step - loss: 0.0932 - accuracy: 0.4311 - val_loss: 0.0931 - val_accuracy: 0.4093\n",
            "Epoch 13/100\n",
            "30/30 [==============================] - 0s 4ms/step - loss: 0.0930 - accuracy: 0.4311 - val_loss: 0.0930 - val_accuracy: 0.4093\n",
            "Epoch 14/100\n",
            "30/30 [==============================] - 0s 3ms/step - loss: 0.0929 - accuracy: 0.4311 - val_loss: 0.0928 - val_accuracy: 0.4093\n",
            "Epoch 15/100\n",
            "30/30 [==============================] - 0s 3ms/step - loss: 0.0927 - accuracy: 0.4311 - val_loss: 0.0926 - val_accuracy: 0.4093\n",
            "Epoch 16/100\n",
            "30/30 [==============================] - 0s 4ms/step - loss: 0.0925 - accuracy: 0.4311 - val_loss: 0.0924 - val_accuracy: 0.4093\n",
            "Epoch 17/100\n",
            "30/30 [==============================] - 0s 3ms/step - loss: 0.0924 - accuracy: 0.4311 - val_loss: 0.0923 - val_accuracy: 0.4093\n",
            "Epoch 18/100\n",
            "30/30 [==============================] - 0s 4ms/step - loss: 0.0922 - accuracy: 0.4311 - val_loss: 0.0921 - val_accuracy: 0.4093\n",
            "Epoch 19/100\n",
            "30/30 [==============================] - 0s 3ms/step - loss: 0.0920 - accuracy: 0.4311 - val_loss: 0.0919 - val_accuracy: 0.4093\n",
            "Epoch 20/100\n",
            "30/30 [==============================] - 0s 4ms/step - loss: 0.0918 - accuracy: 0.4311 - val_loss: 0.0917 - val_accuracy: 0.4093\n",
            "Epoch 21/100\n",
            "30/30 [==============================] - 0s 4ms/step - loss: 0.0917 - accuracy: 0.4311 - val_loss: 0.0916 - val_accuracy: 0.4093\n",
            "Epoch 22/100\n",
            "30/30 [==============================] - 0s 3ms/step - loss: 0.0915 - accuracy: 0.4311 - val_loss: 0.0914 - val_accuracy: 0.4093\n",
            "Epoch 23/100\n",
            "30/30 [==============================] - 0s 4ms/step - loss: 0.0913 - accuracy: 0.4311 - val_loss: 0.0912 - val_accuracy: 0.4093\n",
            "Epoch 24/100\n",
            "30/30 [==============================] - 0s 3ms/step - loss: 0.0912 - accuracy: 0.4311 - val_loss: 0.0910 - val_accuracy: 0.4093\n",
            "Epoch 25/100\n",
            "30/30 [==============================] - 0s 3ms/step - loss: 0.0910 - accuracy: 0.4311 - val_loss: 0.0909 - val_accuracy: 0.4093\n",
            "Epoch 26/100\n",
            "30/30 [==============================] - 0s 3ms/step - loss: 0.0908 - accuracy: 0.4311 - val_loss: 0.0907 - val_accuracy: 0.4093\n",
            "Epoch 27/100\n",
            "30/30 [==============================] - 0s 3ms/step - loss: 0.0906 - accuracy: 0.4311 - val_loss: 0.0905 - val_accuracy: 0.4093\n",
            "Epoch 28/100\n",
            "30/30 [==============================] - 0s 3ms/step - loss: 0.0905 - accuracy: 0.4311 - val_loss: 0.0903 - val_accuracy: 0.4093\n",
            "Epoch 29/100\n",
            "30/30 [==============================] - 0s 3ms/step - loss: 0.0903 - accuracy: 0.4311 - val_loss: 0.0902 - val_accuracy: 0.4093\n",
            "Epoch 30/100\n",
            "30/30 [==============================] - 0s 4ms/step - loss: 0.0901 - accuracy: 0.4311 - val_loss: 0.0900 - val_accuracy: 0.4093\n",
            "Epoch 31/100\n",
            "30/30 [==============================] - 0s 3ms/step - loss: 0.0900 - accuracy: 0.4311 - val_loss: 0.0898 - val_accuracy: 0.4093\n",
            "Epoch 32/100\n",
            "30/30 [==============================] - 0s 3ms/step - loss: 0.0898 - accuracy: 0.4311 - val_loss: 0.0896 - val_accuracy: 0.4093\n",
            "Epoch 33/100\n",
            "30/30 [==============================] - 0s 3ms/step - loss: 0.0896 - accuracy: 0.4311 - val_loss: 0.0895 - val_accuracy: 0.4093\n",
            "Epoch 34/100\n",
            "30/30 [==============================] - 0s 4ms/step - loss: 0.0894 - accuracy: 0.4311 - val_loss: 0.0893 - val_accuracy: 0.4093\n",
            "Epoch 35/100\n",
            "30/30 [==============================] - 0s 3ms/step - loss: 0.0893 - accuracy: 0.4311 - val_loss: 0.0891 - val_accuracy: 0.4093\n",
            "Epoch 36/100\n",
            "30/30 [==============================] - 0s 3ms/step - loss: 0.0891 - accuracy: 0.4311 - val_loss: 0.0889 - val_accuracy: 0.4093\n",
            "Epoch 37/100\n",
            "30/30 [==============================] - 0s 3ms/step - loss: 0.0889 - accuracy: 0.4311 - val_loss: 0.0888 - val_accuracy: 0.4093\n",
            "Epoch 38/100\n",
            "30/30 [==============================] - 0s 3ms/step - loss: 0.0888 - accuracy: 0.4311 - val_loss: 0.0886 - val_accuracy: 0.4093\n",
            "Epoch 39/100\n",
            "30/30 [==============================] - 0s 3ms/step - loss: 0.0886 - accuracy: 0.4311 - val_loss: 0.0884 - val_accuracy: 0.4093\n",
            "Epoch 40/100\n",
            "30/30 [==============================] - 0s 4ms/step - loss: 0.0884 - accuracy: 0.4311 - val_loss: 0.0883 - val_accuracy: 0.4093\n",
            "Epoch 41/100\n",
            "30/30 [==============================] - 0s 3ms/step - loss: 0.0883 - accuracy: 0.4311 - val_loss: 0.0881 - val_accuracy: 0.4093\n",
            "Epoch 42/100\n",
            "30/30 [==============================] - 0s 3ms/step - loss: 0.0881 - accuracy: 0.4311 - val_loss: 0.0879 - val_accuracy: 0.4093\n",
            "Epoch 43/100\n",
            "30/30 [==============================] - 0s 3ms/step - loss: 0.0879 - accuracy: 0.4311 - val_loss: 0.0877 - val_accuracy: 0.4093\n",
            "Epoch 44/100\n",
            "30/30 [==============================] - 0s 3ms/step - loss: 0.0878 - accuracy: 0.4311 - val_loss: 0.0876 - val_accuracy: 0.4093\n",
            "Epoch 45/100\n",
            "30/30 [==============================] - 0s 3ms/step - loss: 0.0876 - accuracy: 0.4311 - val_loss: 0.0874 - val_accuracy: 0.4093\n",
            "Epoch 46/100\n",
            "30/30 [==============================] - 0s 3ms/step - loss: 0.0874 - accuracy: 0.4311 - val_loss: 0.0872 - val_accuracy: 0.4093\n",
            "Epoch 47/100\n",
            "30/30 [==============================] - 0s 3ms/step - loss: 0.0873 - accuracy: 0.4311 - val_loss: 0.0871 - val_accuracy: 0.4093\n",
            "Epoch 48/100\n",
            "30/30 [==============================] - 0s 3ms/step - loss: 0.0871 - accuracy: 0.4311 - val_loss: 0.0869 - val_accuracy: 0.4093\n",
            "Epoch 49/100\n",
            "30/30 [==============================] - 0s 5ms/step - loss: 0.0869 - accuracy: 0.4311 - val_loss: 0.0867 - val_accuracy: 0.4093\n",
            "Epoch 50/100\n",
            "30/30 [==============================] - 0s 3ms/step - loss: 0.0868 - accuracy: 0.4311 - val_loss: 0.0866 - val_accuracy: 0.4093\n",
            "Epoch 51/100\n",
            "30/30 [==============================] - 0s 3ms/step - loss: 0.0866 - accuracy: 0.4311 - val_loss: 0.0864 - val_accuracy: 0.4093\n",
            "Epoch 52/100\n",
            "30/30 [==============================] - 0s 3ms/step - loss: 0.0864 - accuracy: 0.4311 - val_loss: 0.0862 - val_accuracy: 0.4093\n",
            "Epoch 53/100\n",
            "30/30 [==============================] - 0s 3ms/step - loss: 0.0863 - accuracy: 0.4311 - val_loss: 0.0860 - val_accuracy: 0.4093\n",
            "Epoch 54/100\n",
            "30/30 [==============================] - 0s 3ms/step - loss: 0.0861 - accuracy: 0.4311 - val_loss: 0.0859 - val_accuracy: 0.4093\n",
            "Epoch 55/100\n",
            "30/30 [==============================] - 0s 3ms/step - loss: 0.0859 - accuracy: 0.4311 - val_loss: 0.0857 - val_accuracy: 0.4093\n",
            "Epoch 56/100\n",
            "30/30 [==============================] - 0s 3ms/step - loss: 0.0858 - accuracy: 0.4311 - val_loss: 0.0855 - val_accuracy: 0.4093\n",
            "Epoch 57/100\n",
            "30/30 [==============================] - 0s 3ms/step - loss: 0.0856 - accuracy: 0.4311 - val_loss: 0.0854 - val_accuracy: 0.4093\n",
            "Epoch 58/100\n",
            "30/30 [==============================] - 0s 3ms/step - loss: 0.0854 - accuracy: 0.4311 - val_loss: 0.0852 - val_accuracy: 0.4093\n",
            "Epoch 59/100\n",
            "30/30 [==============================] - 0s 3ms/step - loss: 0.0853 - accuracy: 0.4311 - val_loss: 0.0851 - val_accuracy: 0.4093\n",
            "Epoch 60/100\n",
            "30/30 [==============================] - 0s 3ms/step - loss: 0.0851 - accuracy: 0.4311 - val_loss: 0.0849 - val_accuracy: 0.4093\n",
            "Epoch 61/100\n",
            "30/30 [==============================] - 0s 3ms/step - loss: 0.0850 - accuracy: 0.4311 - val_loss: 0.0847 - val_accuracy: 0.4093\n",
            "Epoch 62/100\n",
            "30/30 [==============================] - 0s 3ms/step - loss: 0.0848 - accuracy: 0.4311 - val_loss: 0.0846 - val_accuracy: 0.4093\n",
            "Epoch 63/100\n",
            "30/30 [==============================] - 0s 3ms/step - loss: 0.0846 - accuracy: 0.4311 - val_loss: 0.0844 - val_accuracy: 0.4093\n",
            "Epoch 64/100\n",
            "30/30 [==============================] - 0s 3ms/step - loss: 0.0845 - accuracy: 0.4311 - val_loss: 0.0842 - val_accuracy: 0.4093\n",
            "Epoch 65/100\n",
            "30/30 [==============================] - 0s 3ms/step - loss: 0.0843 - accuracy: 0.4311 - val_loss: 0.0841 - val_accuracy: 0.4093\n",
            "Epoch 66/100\n",
            "30/30 [==============================] - 0s 4ms/step - loss: 0.0842 - accuracy: 0.4311 - val_loss: 0.0839 - val_accuracy: 0.4093\n",
            "Epoch 67/100\n",
            "30/30 [==============================] - 0s 3ms/step - loss: 0.0840 - accuracy: 0.4311 - val_loss: 0.0838 - val_accuracy: 0.4093\n",
            "Epoch 68/100\n",
            "30/30 [==============================] - 0s 3ms/step - loss: 0.0839 - accuracy: 0.4311 - val_loss: 0.0836 - val_accuracy: 0.4093\n",
            "Epoch 69/100\n",
            "30/30 [==============================] - 0s 4ms/step - loss: 0.0837 - accuracy: 0.4311 - val_loss: 0.0835 - val_accuracy: 0.4093\n",
            "Epoch 70/100\n",
            "30/30 [==============================] - 0s 4ms/step - loss: 0.0836 - accuracy: 0.4311 - val_loss: 0.0833 - val_accuracy: 0.4093\n",
            "Epoch 71/100\n",
            "30/30 [==============================] - 0s 4ms/step - loss: 0.0834 - accuracy: 0.4311 - val_loss: 0.0832 - val_accuracy: 0.4093\n",
            "Epoch 72/100\n",
            "30/30 [==============================] - 0s 3ms/step - loss: 0.0833 - accuracy: 0.4311 - val_loss: 0.0830 - val_accuracy: 0.4093\n",
            "Epoch 73/100\n",
            "30/30 [==============================] - 0s 3ms/step - loss: 0.0831 - accuracy: 0.4311 - val_loss: 0.0829 - val_accuracy: 0.4093\n",
            "Epoch 74/100\n",
            "30/30 [==============================] - 0s 3ms/step - loss: 0.0830 - accuracy: 0.4311 - val_loss: 0.0827 - val_accuracy: 0.4093\n",
            "Epoch 75/100\n",
            "30/30 [==============================] - 0s 3ms/step - loss: 0.0828 - accuracy: 0.4311 - val_loss: 0.0826 - val_accuracy: 0.4093\n",
            "Epoch 76/100\n",
            "30/30 [==============================] - 0s 3ms/step - loss: 0.0827 - accuracy: 0.4311 - val_loss: 0.0824 - val_accuracy: 0.4093\n",
            "Epoch 77/100\n",
            "30/30 [==============================] - 0s 3ms/step - loss: 0.0825 - accuracy: 0.4311 - val_loss: 0.0823 - val_accuracy: 0.4093\n",
            "Epoch 78/100\n",
            "30/30 [==============================] - 0s 3ms/step - loss: 0.0824 - accuracy: 0.4311 - val_loss: 0.0821 - val_accuracy: 0.4093\n",
            "Epoch 79/100\n",
            "30/30 [==============================] - 0s 3ms/step - loss: 0.0823 - accuracy: 0.4311 - val_loss: 0.0820 - val_accuracy: 0.4093\n",
            "Epoch 80/100\n",
            "30/30 [==============================] - 0s 4ms/step - loss: 0.0821 - accuracy: 0.4311 - val_loss: 0.0818 - val_accuracy: 0.4093\n",
            "Epoch 81/100\n",
            "30/30 [==============================] - 0s 3ms/step - loss: 0.0820 - accuracy: 0.4311 - val_loss: 0.0817 - val_accuracy: 0.4093\n",
            "Epoch 82/100\n",
            "30/30 [==============================] - 0s 3ms/step - loss: 0.0818 - accuracy: 0.4311 - val_loss: 0.0816 - val_accuracy: 0.4093\n",
            "Epoch 83/100\n",
            "30/30 [==============================] - 0s 3ms/step - loss: 0.0817 - accuracy: 0.4311 - val_loss: 0.0814 - val_accuracy: 0.4093\n",
            "Epoch 84/100\n",
            "30/30 [==============================] - 0s 3ms/step - loss: 0.0816 - accuracy: 0.4311 - val_loss: 0.0813 - val_accuracy: 0.4093\n",
            "Epoch 85/100\n",
            "30/30 [==============================] - 0s 3ms/step - loss: 0.0814 - accuracy: 0.4311 - val_loss: 0.0811 - val_accuracy: 0.4093\n",
            "Epoch 86/100\n",
            "30/30 [==============================] - 0s 3ms/step - loss: 0.0813 - accuracy: 0.4311 - val_loss: 0.0810 - val_accuracy: 0.4093\n",
            "Epoch 87/100\n",
            "30/30 [==============================] - 0s 3ms/step - loss: 0.0812 - accuracy: 0.4311 - val_loss: 0.0809 - val_accuracy: 0.4093\n",
            "Epoch 88/100\n",
            "30/30 [==============================] - 0s 3ms/step - loss: 0.0810 - accuracy: 0.4311 - val_loss: 0.0807 - val_accuracy: 0.4093\n",
            "Epoch 89/100\n",
            "30/30 [==============================] - 0s 4ms/step - loss: 0.0809 - accuracy: 0.4311 - val_loss: 0.0806 - val_accuracy: 0.4093\n",
            "Epoch 90/100\n",
            "30/30 [==============================] - 0s 4ms/step - loss: 0.0808 - accuracy: 0.4311 - val_loss: 0.0805 - val_accuracy: 0.4093\n",
            "Epoch 91/100\n",
            "30/30 [==============================] - 0s 3ms/step - loss: 0.0807 - accuracy: 0.4311 - val_loss: 0.0803 - val_accuracy: 0.4093\n",
            "Epoch 92/100\n",
            "30/30 [==============================] - 0s 3ms/step - loss: 0.0805 - accuracy: 0.4311 - val_loss: 0.0802 - val_accuracy: 0.4093\n",
            "Epoch 93/100\n",
            "30/30 [==============================] - 0s 4ms/step - loss: 0.0804 - accuracy: 0.4311 - val_loss: 0.0801 - val_accuracy: 0.4093\n",
            "Epoch 94/100\n",
            "30/30 [==============================] - 0s 3ms/step - loss: 0.0803 - accuracy: 0.4311 - val_loss: 0.0800 - val_accuracy: 0.4093\n",
            "Epoch 95/100\n",
            "30/30 [==============================] - 0s 3ms/step - loss: 0.0802 - accuracy: 0.4311 - val_loss: 0.0798 - val_accuracy: 0.4093\n",
            "Epoch 96/100\n",
            "30/30 [==============================] - 0s 3ms/step - loss: 0.0800 - accuracy: 0.4311 - val_loss: 0.0797 - val_accuracy: 0.4093\n",
            "Epoch 97/100\n",
            "30/30 [==============================] - 0s 3ms/step - loss: 0.0799 - accuracy: 0.4311 - val_loss: 0.0796 - val_accuracy: 0.4093\n",
            "Epoch 98/100\n",
            "30/30 [==============================] - 0s 4ms/step - loss: 0.0798 - accuracy: 0.4311 - val_loss: 0.0795 - val_accuracy: 0.4093\n",
            "Epoch 99/100\n",
            "30/30 [==============================] - 0s 3ms/step - loss: 0.0797 - accuracy: 0.4311 - val_loss: 0.0794 - val_accuracy: 0.4093\n",
            "Epoch 100/100\n",
            "30/30 [==============================] - 0s 4ms/step - loss: 0.0796 - accuracy: 0.4311 - val_loss: 0.0793 - val_accuracy: 0.4093\n"
          ]
        }
      ],
      "source": [
        "history= classifier.fit(X_train, y_train,           \n",
        "          validation_data=(X_test,y_test),\n",
        "          epochs=100,\n",
        "          batch_size=32)"
      ]
    },
    {
      "cell_type": "code",
      "execution_count": 128,
      "metadata": {
        "colab": {
          "base_uri": "https://localhost:8080/"
        },
        "id": "w-imPf1CKor3",
        "outputId": "9d790cf3-526a-41a7-d882-4724de52d151"
      },
      "outputs": [
        {
          "output_type": "stream",
          "name": "stdout",
          "text": [
            "13/13 [==============================] - 0s 2ms/step - loss: 0.0793 - accuracy: 0.4093\n"
          ]
        }
      ],
      "source": [
        "results = classifier.evaluate(X_test, y_test)"
      ]
    },
    {
      "cell_type": "code",
      "execution_count": null,
      "metadata": {
        "id": "kiOObFaZKor3"
      },
      "outputs": [],
      "source": [
        "## C. Plot 2 separate visuals. [3 Marks]\n"
      ]
    },
    {
      "cell_type": "code",
      "execution_count": 129,
      "metadata": {
        "id": "Oob0oxbVKor4"
      },
      "outputs": [],
      "source": [
        "## i. Training Loss and Validation Loss\n"
      ]
    },
    {
      "cell_type": "code",
      "execution_count": 130,
      "metadata": {
        "colab": {
          "base_uri": "https://localhost:8080/",
          "height": 295
        },
        "id": "l0dh6JuMKor5",
        "outputId": "7fa9b9f1-3de0-4720-b36e-d587a574e525"
      },
      "outputs": [
        {
          "output_type": "display_data",
          "data": {
            "text/plain": [
              "<Figure size 432x288 with 1 Axes>"
            ],
            "image/png": "[encoded data removed]"
          },
          "metadata": {
            "needs_background": "light"
          }
        }
      ],
      "source": [
        "loss_train = history.history['loss']\n",
        "loss_val = history.history['val_loss']\n",
        "epochs = range(1,101)\n",
        "plt.plot(epochs, loss_train, 'g', label='Training loss')\n",
        "plt.plot(epochs, loss_val, 'b', label='validation loss')\n",
        "plt.title('Training and Validation loss')\n",
        "plt.xlabel('Epochs')\n",
        "plt.ylabel('Loss')\n",
        "plt.legend()\n",
        "plt.show()"
      ]
    },
    {
      "cell_type": "code",
      "execution_count": null,
      "metadata": {
        "id": "fpe4OpBBKor5"
      },
      "outputs": [],
      "source": [
        "## ii. Training Accuracy and Validation Accuracy"
      ]
    },
    {
      "cell_type": "code",
      "execution_count": 131,
      "metadata": {
        "colab": {
          "base_uri": "https://localhost:8080/",
          "height": 295
        },
        "id": "q9rdGB6qKor6",
        "outputId": "ae8ab9ee-0dae-453c-b5ab-fe4b2502fd92"
      },
      "outputs": [
        {
          "output_type": "display_data",
          "data": {
            "text/plain": [
              "<Figure size 432x288 with 1 Axes>"
            ],
            "image/png": "[encoded data removed]"
          },
          "metadata": {
            "needs_background": "light"
          }
        }
      ],
      "source": [
        "loss_train = history.history['accuracy']\n",
        "loss_val = history.history['val_accuracy']\n",
        "epochs = range(1,101)\n",
        "plt.plot(epochs, loss_train, 'g', label='Training accuracy')\n",
        "plt.plot(epochs, loss_val, 'b', label='validation accuracy')\n",
        "plt.title('Training and Validation accuracy')\n",
        "plt.xlabel('Epochs')\n",
        "plt.ylabel('Accuracy')\n",
        "plt.legend()\n",
        "plt.show()"
      ]
    },
    {
      "cell_type": "code",
      "execution_count": 44,
      "metadata": {
        "id": "BI1g6nrRKor6"
      },
      "outputs": [],
      "source": [
        "## D. Design new architecture/update existing architecture in attempt to improve the performance of the model. [2 Marks]\n"
      ]
    },
    {
      "cell_type": "code",
      "source": [
        " # Creating a `Sequential` model and add a Dense layer as the first layer.\n",
        "classifier2 = tf.keras.models.Sequential()\n",
        "classifier2.add(tf.keras.Input(shape=(11,)))\n",
        "classifier2.add(tf.keras.layers.Dense(50, activation='relu'))\n",
        "\n",
        "#classifier.add(tf.keras.layers.Dense(32,activation='relu'))\n",
        "classifier2.add(Dense(9, activation = 'softmax'))\n",
        "classifier2.output_shape"
      ],
      "metadata": {
        "colab": {
          "base_uri": "https://localhost:8080/"
        },
        "id": "fAwkyh9xhzJn",
        "outputId": "62f9d465-6f8d-406f-806c-e3db8351edbb"
      },
      "execution_count": 132,
      "outputs": [
        {
          "output_type": "execute_result",
          "data": {
            "text/plain": [
              "(None, 9)"
            ]
          },
          "metadata": {},
          "execution_count": 132
        }
      ]
    },
    {
      "cell_type": "code",
      "execution_count": 133,
      "metadata": {
        "id": "LVcr70VRKor7"
      },
      "outputs": [],
      "source": [
        "classifier2.compile(optimizer='adam', loss = 'categorical_crossentropy', metrics=['accuracy'])"
      ]
    },
    {
      "cell_type": "code",
      "execution_count": 134,
      "metadata": {
        "colab": {
          "base_uri": "https://localhost:8080/"
        },
        "id": "ivi8VhDiKor8",
        "outputId": "3f27d903-32e7-4a06-e1bc-11685e9e066d"
      },
      "outputs": [
        {
          "output_type": "stream",
          "name": "stdout",
          "text": [
            "Epoch 1/100\n",
            "30/30 [==============================] - 1s 9ms/step - loss: 2.1058 - accuracy: 0.3523 - val_loss: 1.9590 - val_accuracy: 0.4093\n",
            "Epoch 2/100\n",
            "30/30 [==============================] - 0s 4ms/step - loss: 1.8280 - accuracy: 0.4311 - val_loss: 1.6615 - val_accuracy: 0.4093\n",
            "Epoch 3/100\n",
            "30/30 [==============================] - 0s 3ms/step - loss: 1.5421 - accuracy: 0.4416 - val_loss: 1.3957 - val_accuracy: 0.4191\n",
            "Epoch 4/100\n",
            "30/30 [==============================] - 0s 4ms/step - loss: 1.3514 - accuracy: 0.4532 - val_loss: 1.2728 - val_accuracy: 0.4363\n",
            "Epoch 5/100\n",
            "30/30 [==============================] - 0s 4ms/step - loss: 1.2793 - accuracy: 0.4427 - val_loss: 1.2343 - val_accuracy: 0.4387\n",
            "Epoch 6/100\n",
            "30/30 [==============================] - 0s 4ms/step - loss: 1.2508 - accuracy: 0.4448 - val_loss: 1.2181 - val_accuracy: 0.4191\n",
            "Epoch 7/100\n",
            "30/30 [==============================] - 0s 4ms/step - loss: 1.2365 - accuracy: 0.4574 - val_loss: 1.2063 - val_accuracy: 0.4510\n",
            "Epoch 8/100\n",
            "30/30 [==============================] - 0s 3ms/step - loss: 1.2258 - accuracy: 0.4469 - val_loss: 1.2014 - val_accuracy: 0.4142\n",
            "Epoch 9/100\n",
            "30/30 [==============================] - 0s 4ms/step - loss: 1.2170 - accuracy: 0.4532 - val_loss: 1.1926 - val_accuracy: 0.4387\n",
            "Epoch 10/100\n",
            "30/30 [==============================] - 0s 4ms/step - loss: 1.2099 - accuracy: 0.4501 - val_loss: 1.1884 - val_accuracy: 0.4436\n",
            "Epoch 11/100\n",
            "30/30 [==============================] - 0s 3ms/step - loss: 1.2032 - accuracy: 0.4627 - val_loss: 1.1858 - val_accuracy: 0.4436\n",
            "Epoch 12/100\n",
            "30/30 [==============================] - 0s 3ms/step - loss: 1.1968 - accuracy: 0.4553 - val_loss: 1.1783 - val_accuracy: 0.4559\n",
            "Epoch 13/100\n",
            "30/30 [==============================] - 0s 3ms/step - loss: 1.1920 - accuracy: 0.4564 - val_loss: 1.1762 - val_accuracy: 0.4485\n",
            "Epoch 14/100\n",
            "30/30 [==============================] - 0s 3ms/step - loss: 1.1876 - accuracy: 0.4511 - val_loss: 1.1744 - val_accuracy: 0.4510\n",
            "Epoch 15/100\n",
            "30/30 [==============================] - 0s 3ms/step - loss: 1.1820 - accuracy: 0.4553 - val_loss: 1.1711 - val_accuracy: 0.4534\n",
            "Epoch 16/100\n",
            "30/30 [==============================] - 0s 3ms/step - loss: 1.1787 - accuracy: 0.4574 - val_loss: 1.1696 - val_accuracy: 0.4485\n",
            "Epoch 17/100\n",
            "30/30 [==============================] - 0s 4ms/step - loss: 1.1743 - accuracy: 0.4658 - val_loss: 1.1681 - val_accuracy: 0.4608\n",
            "Epoch 18/100\n",
            "30/30 [==============================] - 0s 3ms/step - loss: 1.1712 - accuracy: 0.4543 - val_loss: 1.1687 - val_accuracy: 0.4461\n",
            "Epoch 19/100\n",
            "30/30 [==============================] - 0s 5ms/step - loss: 1.1679 - accuracy: 0.4637 - val_loss: 1.1660 - val_accuracy: 0.4681\n",
            "Epoch 20/100\n",
            "30/30 [==============================] - 0s 3ms/step - loss: 1.1656 - accuracy: 0.4616 - val_loss: 1.1647 - val_accuracy: 0.4632\n",
            "Epoch 21/100\n",
            "30/30 [==============================] - 0s 5ms/step - loss: 1.1620 - accuracy: 0.4784 - val_loss: 1.1627 - val_accuracy: 0.4730\n",
            "Epoch 22/100\n",
            "30/30 [==============================] - 0s 3ms/step - loss: 1.1612 - accuracy: 0.4553 - val_loss: 1.1618 - val_accuracy: 0.4951\n",
            "Epoch 23/100\n",
            "30/30 [==============================] - 0s 4ms/step - loss: 1.1580 - accuracy: 0.4690 - val_loss: 1.1608 - val_accuracy: 0.4828\n",
            "Epoch 24/100\n",
            "30/30 [==============================] - 0s 3ms/step - loss: 1.1539 - accuracy: 0.4721 - val_loss: 1.1600 - val_accuracy: 0.4902\n",
            "Epoch 25/100\n",
            "30/30 [==============================] - 0s 4ms/step - loss: 1.1526 - accuracy: 0.4763 - val_loss: 1.1618 - val_accuracy: 0.4853\n",
            "Epoch 26/100\n",
            "30/30 [==============================] - 0s 5ms/step - loss: 1.1501 - accuracy: 0.4753 - val_loss: 1.1603 - val_accuracy: 0.4926\n",
            "Epoch 27/100\n",
            "30/30 [==============================] - 0s 3ms/step - loss: 1.1475 - accuracy: 0.4837 - val_loss: 1.1594 - val_accuracy: 0.4975\n",
            "Epoch 28/100\n",
            "30/30 [==============================] - 0s 3ms/step - loss: 1.1459 - accuracy: 0.4816 - val_loss: 1.1591 - val_accuracy: 0.4926\n",
            "Epoch 29/100\n",
            "30/30 [==============================] - 0s 3ms/step - loss: 1.1451 - accuracy: 0.4742 - val_loss: 1.1597 - val_accuracy: 0.4902\n",
            "Epoch 30/100\n",
            "30/30 [==============================] - 0s 3ms/step - loss: 1.1421 - accuracy: 0.4848 - val_loss: 1.1585 - val_accuracy: 0.4853\n",
            "Epoch 31/100\n",
            "30/30 [==============================] - 0s 5ms/step - loss: 1.1409 - accuracy: 0.4869 - val_loss: 1.1601 - val_accuracy: 0.4975\n",
            "Epoch 32/100\n",
            "30/30 [==============================] - 0s 4ms/step - loss: 1.1392 - accuracy: 0.4774 - val_loss: 1.1578 - val_accuracy: 0.4828\n",
            "Epoch 33/100\n",
            "30/30 [==============================] - 0s 3ms/step - loss: 1.1382 - accuracy: 0.4858 - val_loss: 1.1588 - val_accuracy: 0.4926\n",
            "Epoch 34/100\n",
            "30/30 [==============================] - 0s 3ms/step - loss: 1.1367 - accuracy: 0.4795 - val_loss: 1.1630 - val_accuracy: 0.5000\n",
            "Epoch 35/100\n",
            "30/30 [==============================] - 0s 4ms/step - loss: 1.1349 - accuracy: 0.4963 - val_loss: 1.1591 - val_accuracy: 0.4951\n",
            "Epoch 36/100\n",
            "30/30 [==============================] - 0s 5ms/step - loss: 1.1345 - accuracy: 0.5005 - val_loss: 1.1570 - val_accuracy: 0.4877\n",
            "Epoch 37/100\n",
            "30/30 [==============================] - 0s 7ms/step - loss: 1.1316 - accuracy: 0.4890 - val_loss: 1.1622 - val_accuracy: 0.5025\n",
            "Epoch 38/100\n",
            "30/30 [==============================] - 0s 7ms/step - loss: 1.1311 - accuracy: 0.4837 - val_loss: 1.1594 - val_accuracy: 0.4853\n",
            "Epoch 39/100\n",
            "30/30 [==============================] - 0s 6ms/step - loss: 1.1300 - accuracy: 0.4942 - val_loss: 1.1579 - val_accuracy: 0.4926\n",
            "Epoch 40/100\n",
            "30/30 [==============================] - 0s 6ms/step - loss: 1.1284 - accuracy: 0.5121 - val_loss: 1.1588 - val_accuracy: 0.4853\n",
            "Epoch 41/100\n",
            "30/30 [==============================] - 0s 7ms/step - loss: 1.1285 - accuracy: 0.4932 - val_loss: 1.1576 - val_accuracy: 0.4926\n",
            "Epoch 42/100\n",
            "30/30 [==============================] - 0s 7ms/step - loss: 1.1255 - accuracy: 0.5089 - val_loss: 1.1596 - val_accuracy: 0.4877\n",
            "Epoch 43/100\n",
            "30/30 [==============================] - 0s 6ms/step - loss: 1.1251 - accuracy: 0.4848 - val_loss: 1.1578 - val_accuracy: 0.4975\n",
            "Epoch 44/100\n",
            "30/30 [==============================] - 0s 7ms/step - loss: 1.1241 - accuracy: 0.5068 - val_loss: 1.1594 - val_accuracy: 0.4975\n",
            "Epoch 45/100\n",
            "30/30 [==============================] - 0s 6ms/step - loss: 1.1228 - accuracy: 0.5131 - val_loss: 1.1606 - val_accuracy: 0.4853\n",
            "Epoch 46/100\n",
            "30/30 [==============================] - 0s 6ms/step - loss: 1.1215 - accuracy: 0.5142 - val_loss: 1.1570 - val_accuracy: 0.4951\n",
            "Epoch 47/100\n",
            "30/30 [==============================] - 0s 6ms/step - loss: 1.1205 - accuracy: 0.5163 - val_loss: 1.1595 - val_accuracy: 0.4926\n",
            "Epoch 48/100\n",
            "30/30 [==============================] - 0s 6ms/step - loss: 1.1193 - accuracy: 0.4932 - val_loss: 1.1595 - val_accuracy: 0.4902\n",
            "Epoch 49/100\n",
            "30/30 [==============================] - 0s 6ms/step - loss: 1.1187 - accuracy: 0.5026 - val_loss: 1.1572 - val_accuracy: 0.5025\n",
            "Epoch 50/100\n",
            "30/30 [==============================] - 0s 6ms/step - loss: 1.1178 - accuracy: 0.5226 - val_loss: 1.1598 - val_accuracy: 0.4877\n",
            "Epoch 51/100\n",
            "30/30 [==============================] - 0s 9ms/step - loss: 1.1264 - accuracy: 0.4974 - val_loss: 1.1574 - val_accuracy: 0.4877\n",
            "Epoch 52/100\n",
            "30/30 [==============================] - 0s 11ms/step - loss: 1.1157 - accuracy: 0.5089 - val_loss: 1.1621 - val_accuracy: 0.4804\n",
            "Epoch 53/100\n",
            "30/30 [==============================] - 0s 10ms/step - loss: 1.1171 - accuracy: 0.5089 - val_loss: 1.1612 - val_accuracy: 0.4902\n",
            "Epoch 54/100\n",
            "30/30 [==============================] - 0s 8ms/step - loss: 1.1138 - accuracy: 0.5068 - val_loss: 1.1580 - val_accuracy: 0.4975\n",
            "Epoch 55/100\n",
            "30/30 [==============================] - 0s 9ms/step - loss: 1.1136 - accuracy: 0.5100 - val_loss: 1.1600 - val_accuracy: 0.4902\n",
            "Epoch 56/100\n",
            "30/30 [==============================] - 0s 7ms/step - loss: 1.1135 - accuracy: 0.5058 - val_loss: 1.1587 - val_accuracy: 0.4926\n",
            "Epoch 57/100\n",
            "30/30 [==============================] - 0s 7ms/step - loss: 1.1123 - accuracy: 0.5152 - val_loss: 1.1571 - val_accuracy: 0.5000\n",
            "Epoch 58/100\n",
            "30/30 [==============================] - 0s 7ms/step - loss: 1.1111 - accuracy: 0.5089 - val_loss: 1.1579 - val_accuracy: 0.5049\n",
            "Epoch 59/100\n",
            "30/30 [==============================] - 0s 11ms/step - loss: 1.1106 - accuracy: 0.5152 - val_loss: 1.1597 - val_accuracy: 0.4926\n",
            "Epoch 60/100\n",
            "30/30 [==============================] - 0s 6ms/step - loss: 1.1094 - accuracy: 0.5237 - val_loss: 1.1598 - val_accuracy: 0.4853\n",
            "Epoch 61/100\n",
            "30/30 [==============================] - 0s 7ms/step - loss: 1.1094 - accuracy: 0.5226 - val_loss: 1.1592 - val_accuracy: 0.4902\n",
            "Epoch 62/100\n",
            "30/30 [==============================] - 0s 6ms/step - loss: 1.1086 - accuracy: 0.5047 - val_loss: 1.1568 - val_accuracy: 0.4926\n",
            "Epoch 63/100\n",
            "30/30 [==============================] - 0s 9ms/step - loss: 1.1082 - accuracy: 0.5142 - val_loss: 1.1606 - val_accuracy: 0.4926\n",
            "Epoch 64/100\n",
            "30/30 [==============================] - 0s 8ms/step - loss: 1.1073 - accuracy: 0.5237 - val_loss: 1.1610 - val_accuracy: 0.4926\n",
            "Epoch 65/100\n",
            "30/30 [==============================] - 0s 8ms/step - loss: 1.1058 - accuracy: 0.5142 - val_loss: 1.1565 - val_accuracy: 0.4975\n",
            "Epoch 66/100\n",
            "30/30 [==============================] - 1s 18ms/step - loss: 1.1062 - accuracy: 0.5226 - val_loss: 1.1596 - val_accuracy: 0.4926\n",
            "Epoch 67/100\n",
            "30/30 [==============================] - 0s 14ms/step - loss: 1.1046 - accuracy: 0.5268 - val_loss: 1.1599 - val_accuracy: 0.4975\n",
            "Epoch 68/100\n",
            "30/30 [==============================] - 0s 13ms/step - loss: 1.1047 - accuracy: 0.5174 - val_loss: 1.1600 - val_accuracy: 0.4877\n",
            "Epoch 69/100\n",
            "30/30 [==============================] - 0s 10ms/step - loss: 1.1031 - accuracy: 0.5247 - val_loss: 1.1580 - val_accuracy: 0.4902\n",
            "Epoch 70/100\n",
            "30/30 [==============================] - 0s 7ms/step - loss: 1.1018 - accuracy: 0.5237 - val_loss: 1.1584 - val_accuracy: 0.4975\n",
            "Epoch 71/100\n",
            "30/30 [==============================] - 0s 6ms/step - loss: 1.1024 - accuracy: 0.5131 - val_loss: 1.1560 - val_accuracy: 0.4877\n",
            "Epoch 72/100\n",
            "30/30 [==============================] - 0s 6ms/step - loss: 1.1027 - accuracy: 0.5195 - val_loss: 1.1570 - val_accuracy: 0.4902\n",
            "Epoch 73/100\n",
            "30/30 [==============================] - 0s 6ms/step - loss: 1.1025 - accuracy: 0.5247 - val_loss: 1.1593 - val_accuracy: 0.4926\n",
            "Epoch 74/100\n",
            "30/30 [==============================] - 0s 9ms/step - loss: 1.0998 - accuracy: 0.5152 - val_loss: 1.1550 - val_accuracy: 0.4902\n",
            "Epoch 75/100\n",
            "30/30 [==============================] - 0s 6ms/step - loss: 1.0988 - accuracy: 0.5216 - val_loss: 1.1570 - val_accuracy: 0.4877\n",
            "Epoch 76/100\n",
            "30/30 [==============================] - 0s 3ms/step - loss: 1.0978 - accuracy: 0.5268 - val_loss: 1.1599 - val_accuracy: 0.4951\n",
            "Epoch 77/100\n",
            "30/30 [==============================] - 0s 3ms/step - loss: 1.1010 - accuracy: 0.5174 - val_loss: 1.1550 - val_accuracy: 0.4902\n",
            "Epoch 78/100\n",
            "30/30 [==============================] - 0s 3ms/step - loss: 1.0970 - accuracy: 0.5258 - val_loss: 1.1560 - val_accuracy: 0.4926\n",
            "Epoch 79/100\n",
            "30/30 [==============================] - 0s 3ms/step - loss: 1.0963 - accuracy: 0.5226 - val_loss: 1.1595 - val_accuracy: 0.4975\n",
            "Epoch 80/100\n",
            "30/30 [==============================] - 0s 3ms/step - loss: 1.0960 - accuracy: 0.5237 - val_loss: 1.1558 - val_accuracy: 0.4877\n",
            "Epoch 81/100\n",
            "30/30 [==============================] - 0s 4ms/step - loss: 1.0945 - accuracy: 0.5247 - val_loss: 1.1558 - val_accuracy: 0.4877\n",
            "Epoch 82/100\n",
            "30/30 [==============================] - 0s 4ms/step - loss: 1.0934 - accuracy: 0.5300 - val_loss: 1.1579 - val_accuracy: 0.4975\n",
            "Epoch 83/100\n",
            "30/30 [==============================] - 0s 3ms/step - loss: 1.0945 - accuracy: 0.5321 - val_loss: 1.1548 - val_accuracy: 0.4902\n",
            "Epoch 84/100\n",
            "30/30 [==============================] - 0s 3ms/step - loss: 1.0925 - accuracy: 0.5268 - val_loss: 1.1545 - val_accuracy: 0.4926\n",
            "Epoch 85/100\n",
            "30/30 [==============================] - 0s 4ms/step - loss: 1.0921 - accuracy: 0.5300 - val_loss: 1.1552 - val_accuracy: 0.4902\n",
            "Epoch 86/100\n",
            "30/30 [==============================] - 0s 4ms/step - loss: 1.0919 - accuracy: 0.5268 - val_loss: 1.1531 - val_accuracy: 0.4926\n",
            "Epoch 87/100\n",
            "30/30 [==============================] - 0s 3ms/step - loss: 1.0909 - accuracy: 0.5279 - val_loss: 1.1564 - val_accuracy: 0.5049\n",
            "Epoch 88/100\n",
            "30/30 [==============================] - 0s 4ms/step - loss: 1.0897 - accuracy: 0.5300 - val_loss: 1.1534 - val_accuracy: 0.4951\n",
            "Epoch 89/100\n",
            "30/30 [==============================] - 0s 4ms/step - loss: 1.0896 - accuracy: 0.5310 - val_loss: 1.1551 - val_accuracy: 0.4902\n",
            "Epoch 90/100\n",
            "30/30 [==============================] - 0s 4ms/step - loss: 1.0892 - accuracy: 0.5310 - val_loss: 1.1529 - val_accuracy: 0.4951\n",
            "Epoch 91/100\n",
            "30/30 [==============================] - 0s 3ms/step - loss: 1.0888 - accuracy: 0.5321 - val_loss: 1.1580 - val_accuracy: 0.5074\n",
            "Epoch 92/100\n",
            "30/30 [==============================] - 0s 3ms/step - loss: 1.0884 - accuracy: 0.5363 - val_loss: 1.1550 - val_accuracy: 0.5074\n",
            "Epoch 93/100\n",
            "30/30 [==============================] - 0s 4ms/step - loss: 1.0872 - accuracy: 0.5310 - val_loss: 1.1534 - val_accuracy: 0.4975\n",
            "Epoch 94/100\n",
            "30/30 [==============================] - 0s 3ms/step - loss: 1.0892 - accuracy: 0.5342 - val_loss: 1.1540 - val_accuracy: 0.5049\n",
            "Epoch 95/100\n",
            "30/30 [==============================] - 0s 4ms/step - loss: 1.0856 - accuracy: 0.5373 - val_loss: 1.1509 - val_accuracy: 0.5000\n",
            "Epoch 96/100\n",
            "30/30 [==============================] - 0s 4ms/step - loss: 1.0860 - accuracy: 0.5384 - val_loss: 1.1509 - val_accuracy: 0.5025\n",
            "Epoch 97/100\n",
            "30/30 [==============================] - 0s 3ms/step - loss: 1.0871 - accuracy: 0.5352 - val_loss: 1.1558 - val_accuracy: 0.5049\n",
            "Epoch 98/100\n",
            "30/30 [==============================] - 0s 3ms/step - loss: 1.0849 - accuracy: 0.5268 - val_loss: 1.1502 - val_accuracy: 0.5025\n",
            "Epoch 99/100\n",
            "30/30 [==============================] - 0s 4ms/step - loss: 1.0848 - accuracy: 0.5415 - val_loss: 1.1519 - val_accuracy: 0.5000\n",
            "Epoch 100/100\n",
            "30/30 [==============================] - 0s 3ms/step - loss: 1.0848 - accuracy: 0.5237 - val_loss: 1.1529 - val_accuracy: 0.5049\n"
          ]
        }
      ],
      "source": [
        "history2=classifier2.fit(X_train, y_train,           \n",
        "          validation_data=(X_test,y_test),\n",
        "          epochs=100,\n",
        "          batch_size=32)"
      ]
    },
    {
      "cell_type": "code",
      "source": [
        "results2 = classifier2.evaluate(X_test, y_test)"
      ],
      "metadata": {
        "colab": {
          "base_uri": "https://localhost:8080/"
        },
        "id": "3ej8fuvGjkRb",
        "outputId": "ee99c4ac-5870-4130-eac1-2b463f02528c"
      },
      "execution_count": 135,
      "outputs": [
        {
          "output_type": "stream",
          "name": "stdout",
          "text": [
            "13/13 [==============================] - 0s 2ms/step - loss: 1.1529 - accuracy: 0.5049\n"
          ]
        }
      ]
    },
    {
      "cell_type": "markdown",
      "source": [
        "Accuracy proved by over  10% in classifier2."
      ],
      "metadata": {
        "id": "-eMyVqf9NyCu"
      }
    },
    {
      "cell_type": "code",
      "execution_count": null,
      "metadata": {
        "id": "n0Gmoz0rKor7"
      },
      "outputs": [],
      "source": [
        "## E. Plot visuals as in Q3.C and share insights about difference observed in both the models. [3 Marks]"
      ]
    },
    {
      "cell_type": "code",
      "source": [
        "## i. Training Loss and Validation Loss"
      ],
      "metadata": {
        "id": "UvH74Pltlk8-"
      },
      "execution_count": null,
      "outputs": []
    },
    {
      "cell_type": "code",
      "source": [
        "loss_train = history2.history['loss']\n",
        "loss_val = history2.history['val_loss']\n",
        "epochs = range(1,101)\n",
        "plt.plot(epochs, loss_train, 'g', label='Training loss')\n",
        "plt.plot(epochs, loss_val, 'b', label='validation loss')\n",
        "plt.title('Training and Validation loss')\n",
        "plt.xlabel('Epochs')\n",
        "plt.ylabel('Loss')\n",
        "plt.legend()\n",
        "plt.show()"
      ],
      "metadata": {
        "colab": {
          "base_uri": "https://localhost:8080/",
          "height": 295
        },
        "id": "Nw6VRqpYlH4r",
        "outputId": "12fc0c8d-f341-426a-a731-f9059f5def0d"
      },
      "execution_count": 136,
      "outputs": [
        {
          "output_type": "display_data",
          "data": {
            "text/plain": [
              "<Figure size 432x288 with 1 Axes>"
            ],
            "image/png": "[encoded data removed]"
          },
          "metadata": {
            "needs_background": "light"
          }
        }
      ]
    },
    {
      "cell_type": "code",
      "execution_count": null,
      "metadata": {
        "id": "UM0AJ5p6Kor9"
      },
      "outputs": [],
      "source": [
        "## ii. Training Accuracy and Validation Accuracy"
      ]
    },
    {
      "cell_type": "code",
      "execution_count": 137,
      "metadata": {
        "id": "wLw_E7hVKor9",
        "colab": {
          "base_uri": "https://localhost:8080/",
          "height": 295
        },
        "outputId": "52ece4f1-10c1-43c6-a4c5-9e128740e6ea"
      },
      "outputs": [
        {
          "output_type": "display_data",
          "data": {
            "text/plain": [
              "<Figure size 432x288 with 1 Axes>"
            ],
            "image/png": "[encoded data removed]"
          },
          "metadata": {
            "needs_background": "light"
          }
        }
      ],
      "source": [
        "loss_train = history2.history['accuracy']\n",
        "loss_val = history2.history['val_accuracy']\n",
        "epochs = range(1,101)\n",
        "plt.plot(epochs, loss_train, 'g', label='Training accuracy')\n",
        "plt.plot(epochs, loss_val, 'b', label='validation accuracy')\n",
        "plt.title('Training and Validation accuracy')\n",
        "plt.xlabel('Epochs')\n",
        "plt.ylabel('Accuracy')\n",
        "plt.legend()\n",
        "plt.show()"
      ]
    },
    {
      "cell_type": "markdown",
      "source": [
        "Observations: \n",
        "1)Classifier2 has improved accuracy over classfier1. \n",
        "2)Both the models validation loss is decreasing with each epoch.\n",
        "3)Both the models validation accuracy is increasing with each epoch.\n",
        "4)We used adam optimiser and loss as categorical_crossentropy for the classifier2 which performed better than SGD based classifier \n",
        "5)accuracy improved by 10% in Classifier2."
      ],
      "metadata": {
        "id": "0wuijIR_YCRU"
      }
    },
    {
      "cell_type": "code",
      "source": [
        ""
      ],
      "metadata": {
        "id": "hTPcBDuxlxuG"
      },
      "execution_count": null,
      "outputs": []
    },
    {
      "cell_type": "code",
      "source": [
        ""
      ],
      "metadata": {
        "id": "_AHBYUfOGWke"
      },
      "execution_count": null,
      "outputs": []
    },
    {
      "cell_type": "code",
      "source": [
        ""
      ],
      "metadata": {
        "id": "8dorocXSGWp3"
      },
      "execution_count": null,
      "outputs": []
    },
    {
      "cell_type": "code",
      "execution_count": null,
      "metadata": {
        "id": "AkI4m22fKor9"
      },
      "outputs": [],
      "source": [
        "##Part B -PROJECT OBJECTIVE: To build a digit classifier on the SVHN (Street View Housing Number) dataset."
      ]
    },
    {
      "cell_type": "code",
      "execution_count": null,
      "metadata": {
        "id": "twEbKb6GKor-"
      },
      "outputs": [],
      "source": [
        "##1. Data Import and Exploration [5 Marks]\n"
      ]
    },
    {
      "cell_type": "code",
      "execution_count": null,
      "metadata": {
        "id": "ot_3wqJsKor-"
      },
      "outputs": [],
      "source": [
        "#A. Read the .h5 file and assign to a variable. [2 Marks]\n"
      ]
    },
    {
      "cell_type": "code",
      "execution_count": 138,
      "metadata": {
        "id": "lu-FQ_KJKor-"
      },
      "outputs": [],
      "source": [
        "import numpy as np\n",
        "import h5py"
      ]
    },
    {
      "cell_type": "code",
      "execution_count": 166,
      "metadata": {
        "id": "hbr_Efu8Kor-"
      },
      "outputs": [],
      "source": [
        "\n",
        "hf = h5py.File('/content/drive/My Drive/Colab Notebooks/Autonomous_Vehicles_SVHN_single_grey1.h5', 'r')"
      ]
    },
    {
      "cell_type": "code",
      "execution_count": null,
      "metadata": {
        "id": "TTRuH6b8Kor-"
      },
      "outputs": [],
      "source": [
        "#B. Print all the keys from the .h5 file. [1 Marks]\n"
      ]
    },
    {
      "cell_type": "code",
      "execution_count": 167,
      "metadata": {
        "colab": {
          "base_uri": "https://localhost:8080/"
        },
        "id": "obvZWVwjKor-",
        "outputId": "cf5564af-338d-41c9-f4fb-18bb80a85c95"
      },
      "outputs": [
        {
          "output_type": "execute_result",
          "data": {
            "text/plain": [
              "<KeysViewHDF5 ['X_test', 'X_train', 'X_val', 'y_test', 'y_train', 'y_val']>"
            ]
          },
          "metadata": {},
          "execution_count": 167
        }
      ],
      "source": [
        "hf.keys()"
      ]
    },
    {
      "cell_type": "code",
      "execution_count": 83,
      "metadata": {
        "id": "KzR2mNxmKor_"
      },
      "outputs": [],
      "source": [
        "#C. Split the data into X_train, X_test, Y_train, Y_test [2 Marks]\n"
      ]
    },
    {
      "cell_type": "code",
      "execution_count": 168,
      "metadata": {
        "id": "g0T1_JL8Kor_"
      },
      "outputs": [],
      "source": [
        "X_test_df = hf.get('X_test')\n",
        "X_train_df = hf.get('X_train')\n",
        "y_test_df = hf.get('y_test')\n",
        "y_train_df = hf.get('y_train')"
      ]
    },
    {
      "cell_type": "code",
      "source": [
        "X_test_df.shape"
      ],
      "metadata": {
        "colab": {
          "base_uri": "https://localhost:8080/"
        },
        "id": "B_jYMbdveYVp",
        "outputId": "df22a484-9ca5-4555-8020-e55dc5353f75"
      },
      "execution_count": 169,
      "outputs": [
        {
          "output_type": "execute_result",
          "data": {
            "text/plain": [
              "(18000, 32, 32)"
            ]
          },
          "metadata": {},
          "execution_count": 169
        }
      ]
    },
    {
      "cell_type": "code",
      "source": [
        ""
      ],
      "metadata": {
        "id": "4MGuPlZAFzIz"
      },
      "execution_count": null,
      "outputs": []
    },
    {
      "cell_type": "code",
      "source": [
        ""
      ],
      "metadata": {
        "id": "o-UztjcOGVJ9"
      },
      "execution_count": null,
      "outputs": []
    },
    {
      "cell_type": "code",
      "execution_count": 64,
      "metadata": {
        "id": "nE4iYCB1Kor_"
      },
      "outputs": [],
      "source": [
        "##2. Data Visualisation and preprocessing [13 Marks]\n"
      ]
    },
    {
      "cell_type": "code",
      "execution_count": null,
      "metadata": {
        "id": "UuD8vjpDKor_"
      },
      "outputs": [],
      "source": [
        "#A. Print shape of all the 4 data split into x, y, train, test to verify if x & y is in sync. [1 Marks]\n"
      ]
    },
    {
      "cell_type": "code",
      "execution_count": 170,
      "metadata": {
        "colab": {
          "base_uri": "https://localhost:8080/"
        },
        "id": "AlUAi0uHKosA",
        "outputId": "069113fb-9d15-4f8a-9d3b-77813d1d21dc"
      },
      "outputs": [
        {
          "output_type": "stream",
          "name": "stdout",
          "text": [
            "(18000, 32, 32)\n",
            "(42000, 32, 32)\n",
            "(18000,)\n",
            "(42000,)\n"
          ]
        }
      ],
      "source": [
        "print(X_test_df.shape)\n",
        "print(X_train_df.shape)\n",
        "print(y_test_df.shape)\n",
        "print(y_train_df.shape)"
      ]
    },
    {
      "cell_type": "code",
      "source": [
        "X_test_df"
      ],
      "metadata": {
        "colab": {
          "base_uri": "https://localhost:8080/"
        },
        "id": "CWrYWPFkasxo",
        "outputId": "6ee99376-334c-47aa-d0c6-918052f9bdd7"
      },
      "execution_count": 171,
      "outputs": [
        {
          "output_type": "execute_result",
          "data": {
            "text/plain": [
              "<HDF5 dataset \"X_test\": shape (18000, 32, 32), type \"<f4\">"
            ]
          },
          "metadata": {},
          "execution_count": 171
        }
      ]
    },
    {
      "cell_type": "code",
      "execution_count": 144,
      "metadata": {
        "id": "CtauLR8eKosA"
      },
      "outputs": [],
      "source": [
        "#B. Visualise first 10 images in train data and print its corresponding labels. [4 Marks]\n"
      ]
    },
    {
      "cell_type": "code",
      "execution_count": 172,
      "metadata": {
        "colab": {
          "base_uri": "https://localhost:8080/",
          "height": 1000
        },
        "id": "XS6JhDLuKosA",
        "outputId": "7a694ad7-eb02-4851-891a-2fb1ec95bd7a"
      },
      "outputs": [
        {
          "output_type": "display_data",
          "data": {
            "text/plain": [
              "<Figure size 432x288 with 1 Axes>"
            ],
            "image/png": "[encoded data removed]"
          },
          "metadata": {
            "needs_background": "light"
          }
        },
        {
          "output_type": "display_data",
          "data": {
            "text/plain": [
              "<Figure size 432x288 with 1 Axes>"
            ],
            "image/png": "[encoded data removed]"
          },
          "metadata": {
            "needs_background": "light"
          }
        },
        {
          "output_type": "display_data",
          "data": {
            "text/plain": [
              "<Figure size 432x288 with 1 Axes>"
            ],
            "image/png": "[encoded data removed]"
          },
          "metadata": {
            "needs_background": "light"
          }
        },
        {
          "output_type": "display_data",
          "data": {
            "text/plain": [
              "<Figure size 432x288 with 1 Axes>"
            ],
            "image/png": "[encoded data removed]"
          },
          "metadata": {
            "needs_background": "light"
          }
        },
        {
          "output_type": "display_data",
          "data": {
            "text/plain": [
              "<Figure size 432x288 with 1 Axes>"
            ],
            "image/png": "[encoded data removed]"
          },
          "metadata": {
            "needs_background": "light"
          }
        },
        {
          "output_type": "display_data",
          "data": {
            "text/plain": [
              "<Figure size 432x288 with 1 Axes>"
            ],
            "image/png": "[encoded data removed]"
          },
          "metadata": {
            "needs_background": "light"
          }
        },
        {
          "output_type": "display_data",
          "data": {
            "text/plain": [
              "<Figure size 432x288 with 1 Axes>"
            ],
            "image/png": "[encoded data removed]"
          },
          "metadata": {
            "needs_background": "light"
          }
        },
        {
          "output_type": "display_data",
          "data": {
            "text/plain": [
              "<Figure size 432x288 with 1 Axes>"
            ],
            "image/png": "[encoded data removed]"
          },
          "metadata": {
            "needs_background": "light"
          }
        },
        {
          "output_type": "display_data",
          "data": {
            "text/plain": [
              "<Figure size 432x288 with 1 Axes>"
            ],
            "image/png": "[encoded data removed]"
          },
          "metadata": {
            "needs_background": "light"
          }
        },
        {
          "output_type": "display_data",
          "data": {
            "text/plain": [
              "<Figure size 432x288 with 1 Axes>"
            ],
            "image/png": "[encoded data removed]"
          },
          "metadata": {
            "needs_background": "light"
          }
        }
      ],
      "source": [
        "for x in range(10):\n",
        "    plt.imshow(X_train_df[x])    # show first number in the dataset\n",
        "    plt.show()\n"
      ]
    },
    {
      "cell_type": "code",
      "execution_count": null,
      "metadata": {
        "id": "uwwk1snjKosB"
      },
      "outputs": [],
      "source": [
        "#C. Reshape all the images with appropriate shape update the data in same variable. [3 Marks]\n"
      ]
    },
    {
      "cell_type": "code",
      "execution_count": 173,
      "metadata": {
        "id": "a8z77O_RKosC"
      },
      "outputs": [],
      "source": [
        "# reshaping X data: (n, 32, 32) => (n, 1024)\n",
        "\n",
        "X_train_df = tf.reshape(X_train_df,[42000,1024])\n",
        "\n",
        "X_test_df = tf.reshape(X_test_df,[18000,1024])"
      ]
    },
    {
      "cell_type": "code",
      "source": [
        "print(X_train_df.shape, X_test_df.shape, y_train_df.shape, y_test_df.shape)"
      ],
      "metadata": {
        "colab": {
          "base_uri": "https://localhost:8080/"
        },
        "id": "1FmrYVEWcn2Y",
        "outputId": "8f87a732-9db2-49fa-f286-05073b5cb103"
      },
      "execution_count": 174,
      "outputs": [
        {
          "output_type": "stream",
          "name": "stdout",
          "text": [
            "(42000, 1024) (18000, 1024) (42000,) (18000,)\n"
          ]
        }
      ]
    },
    {
      "cell_type": "code",
      "execution_count": null,
      "metadata": {
        "id": "qaA6RVxCKosC"
      },
      "outputs": [],
      "source": [
        "#D. Normalise the images i.e. Normalise the pixel values. [2 Marks]\n"
      ]
    },
    {
      "cell_type": "code",
      "execution_count": 175,
      "metadata": {
        "id": "oGsbfWQMKosD"
      },
      "outputs": [],
      "source": [
        "# Feature Scaling\n",
        "\n",
        "X_train_nm = preprocessing.normalize(X_train_df)\n",
        "\n",
        "X_test_nm = preprocessing.normalize(X_test_df)"
      ]
    },
    {
      "cell_type": "code",
      "execution_count": null,
      "metadata": {
        "id": "UCZ7x8D0KosD"
      },
      "outputs": [],
      "source": [
        "#E. Transform Labels into format acceptable by Neural Network [2 Marks]\n"
      ]
    },
    {
      "cell_type": "code",
      "source": [
        "y_train_df = np.array(y_train_df)\n",
        "y_test_df = np.array(y_test_df)"
      ],
      "metadata": {
        "id": "1Vkwex2tF-SO"
      },
      "execution_count": 176,
      "outputs": []
    },
    {
      "cell_type": "code",
      "execution_count": 177,
      "metadata": {
        "id": "EuG2876bKosD"
      },
      "outputs": [],
      "source": [
        "# converting y data into categorical (one-hot encoding)\n",
        "y_train_df = to_categorical(y_train_df)\n",
        "y_test_df = to_categorical(y_test_df)"
      ]
    },
    {
      "cell_type": "code",
      "execution_count": null,
      "metadata": {
        "id": "H6bEwAD_KosD"
      },
      "outputs": [],
      "source": [
        "#F. Print total Number of classes in the Dataset. [1 Marks]"
      ]
    },
    {
      "cell_type": "code",
      "execution_count": 178,
      "metadata": {
        "id": "D4PLB2rLKosD",
        "colab": {
          "base_uri": "https://localhost:8080/"
        },
        "outputId": "e5713866-e02d-49d8-9f0b-79288584c904"
      },
      "outputs": [
        {
          "output_type": "stream",
          "name": "stdout",
          "text": [
            "(42000, 10) (18000, 10)\n"
          ]
        }
      ],
      "source": [
        "print( y_train_df.shape, y_test_df.shape)"
      ]
    },
    {
      "cell_type": "markdown",
      "source": [
        "Observation: Number of classes in dataset is 10."
      ],
      "metadata": {
        "id": "cyAEzymAGJk2"
      }
    },
    {
      "cell_type": "code",
      "source": [
        ""
      ],
      "metadata": {
        "id": "JsvYoe9BGREh"
      },
      "execution_count": null,
      "outputs": []
    },
    {
      "cell_type": "code",
      "source": [
        ""
      ],
      "metadata": {
        "id": "ztmtw8F4GRRT"
      },
      "execution_count": null,
      "outputs": []
    },
    {
      "cell_type": "code",
      "execution_count": 155,
      "metadata": {
        "id": "HrLhCfqeKosE"
      },
      "outputs": [],
      "source": [
        "##3. Model Training & Evaluation using Neural Network [12 Marks]\n"
      ]
    },
    {
      "cell_type": "code",
      "execution_count": 179,
      "metadata": {
        "id": "ecPbGIk_KosF"
      },
      "outputs": [],
      "source": [
        "from tensorflow.keras.models import Sequential\n",
        "from tensorflow.keras.layers import Activation, Dense\n",
        "from tensorflow.keras import optimizers"
      ]
    },
    {
      "cell_type": "code",
      "execution_count": null,
      "metadata": {
        "id": "wekU3wWdKosG"
      },
      "outputs": [],
      "source": [
        "#A. Design a Neural Network to train a classifier. [3 Marks]"
      ]
    },
    {
      "cell_type": "code",
      "execution_count": 180,
      "metadata": {
        "id": "ug0BqeZ2KosG"
      },
      "outputs": [],
      "source": [
        "model = Sequential()"
      ]
    },
    {
      "cell_type": "code",
      "execution_count": 181,
      "metadata": {
        "id": "4GNdIf0RKosG"
      },
      "outputs": [],
      "source": [
        "model.add(Dense(50, input_shape = (1024, )))\n",
        "model.add(Activation('sigmoid'))\n",
        "model.add(Dense(50))\n",
        "model.add(Activation('sigmoid'))\n",
        "model.add(Dense(50))\n",
        "model.add(Activation('sigmoid'))\n",
        "model.add(Dense(50))\n",
        "model.add(Activation('sigmoid'))\n",
        "model.add(Dense(10))\n",
        "model.add(Activation('softmax'))"
      ]
    },
    {
      "cell_type": "code",
      "source": [
        ""
      ],
      "metadata": {
        "id": "q4eE0SS1OkyR"
      },
      "execution_count": null,
      "outputs": []
    },
    {
      "cell_type": "code",
      "execution_count": null,
      "metadata": {
        "id": "pL4ez3bbKosG"
      },
      "outputs": [],
      "source": [
        "\n",
        "#B. Train the classifier using previously designed Architecture (Use best suitable parameters). [3 Marks]\n"
      ]
    },
    {
      "cell_type": "code",
      "execution_count": 182,
      "metadata": {
        "id": "2_OwnIu0KosG"
      },
      "outputs": [],
      "source": [
        "\n",
        "model.compile(optimizer = 'adam', loss = 'categorical_crossentropy', metrics = ['accuracy'])"
      ]
    },
    {
      "cell_type": "code",
      "execution_count": 183,
      "metadata": {
        "id": "YVg7MYrjKosG",
        "colab": {
          "base_uri": "https://localhost:8080/"
        },
        "outputId": "3527794e-633f-48d4-e7f0-2f4116354767"
      },
      "outputs": [
        {
          "output_type": "stream",
          "name": "stdout",
          "text": [
            "Epoch 1/50\n",
            "210/210 [==============================] - 2s 8ms/step - loss: 2.3084 - accuracy: 0.0987 - val_loss: 2.3052 - val_accuracy: 0.0955\n",
            "Epoch 2/50\n",
            "210/210 [==============================] - 2s 7ms/step - loss: 2.3043 - accuracy: 0.0989 - val_loss: 2.3060 - val_accuracy: 0.1019\n",
            "Epoch 3/50\n",
            "210/210 [==============================] - 1s 7ms/step - loss: 2.3046 - accuracy: 0.0993 - val_loss: 2.3041 - val_accuracy: 0.1016\n",
            "Epoch 4/50\n",
            "210/210 [==============================] - 1s 7ms/step - loss: 2.3045 - accuracy: 0.0996 - val_loss: 2.3041 - val_accuracy: 0.1002\n",
            "Epoch 5/50\n",
            "210/210 [==============================] - 2s 7ms/step - loss: 2.3041 - accuracy: 0.0989 - val_loss: 2.3039 - val_accuracy: 0.1008\n",
            "Epoch 6/50\n",
            "210/210 [==============================] - 1s 7ms/step - loss: 2.3040 - accuracy: 0.1003 - val_loss: 2.3034 - val_accuracy: 0.1049\n",
            "Epoch 7/50\n",
            "210/210 [==============================] - 1s 7ms/step - loss: 2.3038 - accuracy: 0.1040 - val_loss: 2.3042 - val_accuracy: 0.1044\n",
            "Epoch 8/50\n",
            "210/210 [==============================] - 2s 7ms/step - loss: 2.3035 - accuracy: 0.1026 - val_loss: 2.3028 - val_accuracy: 0.0955\n",
            "Epoch 9/50\n",
            "210/210 [==============================] - 1s 7ms/step - loss: 2.3016 - accuracy: 0.1082 - val_loss: 2.2974 - val_accuracy: 0.1202\n",
            "Epoch 10/50\n",
            "210/210 [==============================] - 2s 7ms/step - loss: 2.2804 - accuracy: 0.1192 - val_loss: 2.2529 - val_accuracy: 0.1343\n",
            "Epoch 11/50\n",
            "210/210 [==============================] - 1s 7ms/step - loss: 2.2355 - accuracy: 0.1371 - val_loss: 2.2319 - val_accuracy: 0.1407\n",
            "Epoch 12/50\n",
            "210/210 [==============================] - 2s 7ms/step - loss: 2.2126 - accuracy: 0.1428 - val_loss: 2.1975 - val_accuracy: 0.1416\n",
            "Epoch 13/50\n",
            "210/210 [==============================] - 2s 7ms/step - loss: 2.1203 - accuracy: 0.1783 - val_loss: 2.0751 - val_accuracy: 0.2019\n",
            "Epoch 14/50\n",
            "210/210 [==============================] - 1s 7ms/step - loss: 2.0579 - accuracy: 0.1976 - val_loss: 2.0660 - val_accuracy: 0.2089\n",
            "Epoch 15/50\n",
            "210/210 [==============================] - 2s 7ms/step - loss: 2.0329 - accuracy: 0.2107 - val_loss: 2.0244 - val_accuracy: 0.1960\n",
            "Epoch 16/50\n",
            "210/210 [==============================] - 1s 7ms/step - loss: 2.0072 - accuracy: 0.2165 - val_loss: 2.0095 - val_accuracy: 0.2261\n",
            "Epoch 17/50\n",
            "210/210 [==============================] - 2s 7ms/step - loss: 1.9818 - accuracy: 0.2268 - val_loss: 1.9716 - val_accuracy: 0.2218\n",
            "Epoch 18/50\n",
            "210/210 [==============================] - 2s 7ms/step - loss: 1.9500 - accuracy: 0.2371 - val_loss: 1.9371 - val_accuracy: 0.2378\n",
            "Epoch 19/50\n",
            "210/210 [==============================] - 1s 7ms/step - loss: 1.9189 - accuracy: 0.2510 - val_loss: 1.9056 - val_accuracy: 0.2533\n",
            "Epoch 20/50\n",
            "210/210 [==============================] - 1s 7ms/step - loss: 1.8958 - accuracy: 0.2621 - val_loss: 1.8847 - val_accuracy: 0.2714\n",
            "Epoch 21/50\n",
            "210/210 [==============================] - 1s 7ms/step - loss: 1.8750 - accuracy: 0.2764 - val_loss: 1.8818 - val_accuracy: 0.2718\n",
            "Epoch 22/50\n",
            "210/210 [==============================] - 2s 10ms/step - loss: 1.8549 - accuracy: 0.2901 - val_loss: 1.8524 - val_accuracy: 0.3046\n",
            "Epoch 23/50\n",
            "210/210 [==============================] - 2s 7ms/step - loss: 1.8307 - accuracy: 0.3119 - val_loss: 1.8139 - val_accuracy: 0.3218\n",
            "Epoch 24/50\n",
            "210/210 [==============================] - 1s 7ms/step - loss: 1.8016 - accuracy: 0.3322 - val_loss: 1.7827 - val_accuracy: 0.3421\n",
            "Epoch 25/50\n",
            "210/210 [==============================] - 1s 7ms/step - loss: 1.7671 - accuracy: 0.3508 - val_loss: 1.7541 - val_accuracy: 0.3585\n",
            "Epoch 26/50\n",
            "210/210 [==============================] - 2s 7ms/step - loss: 1.7420 - accuracy: 0.3675 - val_loss: 1.7243 - val_accuracy: 0.3793\n",
            "Epoch 27/50\n",
            "210/210 [==============================] - 2s 7ms/step - loss: 1.7129 - accuracy: 0.3805 - val_loss: 1.6988 - val_accuracy: 0.3897\n",
            "Epoch 28/50\n",
            "210/210 [==============================] - 2s 7ms/step - loss: 1.6897 - accuracy: 0.3929 - val_loss: 1.6856 - val_accuracy: 0.3951\n",
            "Epoch 29/50\n",
            "210/210 [==============================] - 2s 7ms/step - loss: 1.6713 - accuracy: 0.4065 - val_loss: 1.6545 - val_accuracy: 0.4079\n",
            "Epoch 30/50\n",
            "210/210 [==============================] - 2s 7ms/step - loss: 1.6528 - accuracy: 0.4133 - val_loss: 1.6431 - val_accuracy: 0.4260\n",
            "Epoch 31/50\n",
            "210/210 [==============================] - 2s 7ms/step - loss: 1.6333 - accuracy: 0.4233 - val_loss: 1.6179 - val_accuracy: 0.4348\n",
            "Epoch 32/50\n",
            "210/210 [==============================] - 2s 7ms/step - loss: 1.6150 - accuracy: 0.4338 - val_loss: 1.6058 - val_accuracy: 0.4426\n",
            "Epoch 33/50\n",
            "210/210 [==============================] - 2s 7ms/step - loss: 1.5980 - accuracy: 0.4427 - val_loss: 1.5893 - val_accuracy: 0.4528\n",
            "Epoch 34/50\n",
            "210/210 [==============================] - 2s 7ms/step - loss: 1.5854 - accuracy: 0.4502 - val_loss: 1.5739 - val_accuracy: 0.4581\n",
            "Epoch 35/50\n",
            "210/210 [==============================] - 1s 7ms/step - loss: 1.5713 - accuracy: 0.4568 - val_loss: 1.5603 - val_accuracy: 0.4576\n",
            "Epoch 36/50\n",
            "210/210 [==============================] - 2s 7ms/step - loss: 1.5593 - accuracy: 0.4617 - val_loss: 1.5492 - val_accuracy: 0.4724\n",
            "Epoch 37/50\n",
            "210/210 [==============================] - 2s 11ms/step - loss: 1.5455 - accuracy: 0.4682 - val_loss: 1.5394 - val_accuracy: 0.4750\n",
            "Epoch 38/50\n",
            "210/210 [==============================] - 2s 11ms/step - loss: 1.5335 - accuracy: 0.4728 - val_loss: 1.5269 - val_accuracy: 0.4819\n",
            "Epoch 39/50\n",
            "210/210 [==============================] - 1s 7ms/step - loss: 1.5227 - accuracy: 0.4787 - val_loss: 1.5461 - val_accuracy: 0.4669\n",
            "Epoch 40/50\n",
            "210/210 [==============================] - 2s 7ms/step - loss: 1.5100 - accuracy: 0.4841 - val_loss: 1.5049 - val_accuracy: 0.4822\n",
            "Epoch 41/50\n",
            "210/210 [==============================] - 1s 7ms/step - loss: 1.4984 - accuracy: 0.4917 - val_loss: 1.4927 - val_accuracy: 0.4947\n",
            "Epoch 42/50\n",
            "210/210 [==============================] - 1s 7ms/step - loss: 1.4884 - accuracy: 0.4945 - val_loss: 1.4849 - val_accuracy: 0.4958\n",
            "Epoch 43/50\n",
            "210/210 [==============================] - 1s 7ms/step - loss: 1.4753 - accuracy: 0.4996 - val_loss: 1.4784 - val_accuracy: 0.4977\n",
            "Epoch 44/50\n",
            "210/210 [==============================] - 1s 7ms/step - loss: 1.4680 - accuracy: 0.5042 - val_loss: 1.4654 - val_accuracy: 0.5068\n",
            "Epoch 45/50\n",
            "210/210 [==============================] - 2s 7ms/step - loss: 1.4521 - accuracy: 0.5098 - val_loss: 1.4462 - val_accuracy: 0.5159\n",
            "Epoch 46/50\n",
            "210/210 [==============================] - 2s 7ms/step - loss: 1.4432 - accuracy: 0.5135 - val_loss: 1.4457 - val_accuracy: 0.5106\n",
            "Epoch 47/50\n",
            "210/210 [==============================] - 2s 7ms/step - loss: 1.4312 - accuracy: 0.5170 - val_loss: 1.4296 - val_accuracy: 0.5192\n",
            "Epoch 48/50\n",
            "210/210 [==============================] - 2s 7ms/step - loss: 1.4218 - accuracy: 0.5229 - val_loss: 1.4161 - val_accuracy: 0.5296\n",
            "Epoch 49/50\n",
            "210/210 [==============================] - 1s 7ms/step - loss: 1.4108 - accuracy: 0.5266 - val_loss: 1.4049 - val_accuracy: 0.5297\n",
            "Epoch 50/50\n",
            "210/210 [==============================] - 1s 7ms/step - loss: 1.4001 - accuracy: 0.5316 - val_loss: 1.4030 - val_accuracy: 0.5304\n"
          ]
        }
      ],
      "source": [
        "history_imgs = model.fit(X_train_nm, y_train_df, validation_data=(X_test_nm,y_test_df),batch_size = 200, epochs = 50, verbose = 1)\n"
      ]
    },
    {
      "cell_type": "code",
      "execution_count": null,
      "metadata": {
        "id": "iFL8tpHcKosH"
      },
      "outputs": [],
      "source": [
        "#C. Evaluate performance of the model with appropriate metrics. [2 Marks]\n"
      ]
    },
    {
      "cell_type": "code",
      "execution_count": 184,
      "metadata": {
        "id": "BdkIO_4TKosH",
        "colab": {
          "base_uri": "https://localhost:8080/"
        },
        "outputId": "b61f01b5-f4e2-499b-f5ab-3c7166d7f4ca"
      },
      "outputs": [
        {
          "output_type": "stream",
          "name": "stdout",
          "text": [
            "563/563 [==============================] - 2s 3ms/step - loss: 1.4030 - accuracy: 0.5304\n"
          ]
        }
      ],
      "source": [
        "results = model.evaluate(X_test_nm, y_test_df)\n"
      ]
    },
    {
      "cell_type": "code",
      "execution_count": null,
      "metadata": {
        "id": "UFVrcFppKosH"
      },
      "outputs": [],
      "source": [
        "#D. Plot the training loss, validation loss vs number of epochs and training accuracy, validation accuracy vs number of epochs plot and write your\n",
        "#observations on the same. [4 Marks]"
      ]
    },
    {
      "cell_type": "code",
      "execution_count": 185,
      "metadata": {
        "id": "fk_M6zB7KosH",
        "colab": {
          "base_uri": "https://localhost:8080/",
          "height": 295
        },
        "outputId": "49aeec48-11d0-43e7-e74f-3e92de667387"
      },
      "outputs": [
        {
          "output_type": "display_data",
          "data": {
            "text/plain": [
              "<Figure size 432x288 with 1 Axes>"
            ],
            "image/png": "[encoded data removed]"
          },
          "metadata": {
            "needs_background": "light"
          }
        }
      ],
      "source": [
        "loss_train = history_imgs.history['loss']\n",
        "loss_val = history_imgs.history['val_loss']\n",
        "epochs = range(0,50)\n",
        "plt.plot(epochs, loss_train, 'g', label='Training loss')\n",
        "plt.plot(epochs, loss_val, 'b', label='validation loss')\n",
        "plt.title('Training and Validation loss')\n",
        "plt.xlabel('Epochs')\n",
        "plt.ylabel('Loss')\n",
        "plt.legend()\n",
        "plt.show()"
      ]
    },
    {
      "cell_type": "code",
      "execution_count": 186,
      "metadata": {
        "id": "9zGinNryKosH",
        "colab": {
          "base_uri": "https://localhost:8080/",
          "height": 295
        },
        "outputId": "930788c3-198f-4eaa-a0f8-7303995111f1"
      },
      "outputs": [
        {
          "output_type": "display_data",
          "data": {
            "text/plain": [
              "<Figure size 432x288 with 1 Axes>"
            ],
            "image/png": "[encoded data removed]"
          },
          "metadata": {
            "needs_background": "light"
          }
        }
      ],
      "source": [
        "loss_train = history_imgs.history['accuracy']\n",
        "loss_val = history_imgs.history['val_accuracy']\n",
        "epochs = range(0,50)\n",
        "plt.plot(epochs, loss_train, 'g', label='Training accuracy')\n",
        "plt.plot(epochs, loss_val, 'b', label='validation accuracy')\n",
        "plt.title('Training and Validation accuracy')\n",
        "plt.xlabel('Epochs')\n",
        "plt.ylabel('Accuracy')\n",
        "plt.legend()\n",
        "plt.show()"
      ]
    },
    {
      "cell_type": "markdown",
      "source": [
        "Observations:\n",
        "1) Validation accuracy and training accuracy is mostly increasing for the model with each epoch.\n",
        "2) Loss and validation loss is decreasing for each epoch for the model.\n"
      ],
      "metadata": {
        "id": "Bk9Z37mVMdPz"
      }
    },
    {
      "cell_type": "code",
      "execution_count": null,
      "metadata": {
        "id": "VUxnLYjRKosH"
      },
      "outputs": [],
      "source": [
        ""
      ]
    }
  ],
  "metadata": {
    "kernelspec": {
      "display_name": "Python 3 (ipykernel)",
      "language": "python",
      "name": "python3"
    },
    "language_info": {
      "codemirror_mode": {
        "name": "ipython",
        "version": 3
      },
      "file_extension": ".py",
      "mimetype": "text/x-python",
      "name": "python",
      "nbconvert_exporter": "python",
      "pygments_lexer": "ipython3",
      "version": "3.9.7"
    },
    "colab": {
      "name": "Assignment7_Madhuri.ipynb",
      "provenance": [],
      "collapsed_sections": []
    }
  },
  "nbformat": 4,
  "nbformat_minor": 0
}